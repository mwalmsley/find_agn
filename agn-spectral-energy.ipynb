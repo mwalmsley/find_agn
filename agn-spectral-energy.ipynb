{
 "cells": [
  {
   "cell_type": "markdown",
   "metadata": {},
   "source": [
    "### Spectral Energy Distributions"
   ]
  },
  {
   "cell_type": "code",
   "execution_count": 7,
   "metadata": {},
   "outputs": [],
   "source": [
    "%load_ext autoreload\n",
    "%autoreload 2\n",
    "%matplotlib inline"
   ]
  },
  {
   "cell_type": "code",
   "execution_count": 52,
   "metadata": {},
   "outputs": [],
   "source": [
    "import os\n",
    "\n",
    "import pandas as pd\n",
    "import numpy as np\n",
    "import matplotlib.pyplot as plt\n",
    "import seaborn as sns\n",
    "sns.set_context('notebook')\n",
    "from scipy import optimize\n",
    "from astropy.cosmology import WMAP9 as cosmo\n",
    "from astropy.cosmology import z_at_value\n",
    "from astropy import units"
   ]
  },
  {
   "cell_type": "code",
   "execution_count": 22,
   "metadata": {
    "scrolled": true
   },
   "outputs": [
    {
     "name": "stderr",
     "output_type": "stream",
     "text": [
      "/Data/repos/find_agn/star_formation.py:10: UserWarning: \n",
      "This call to matplotlib.use() has no effect because the backend has already\n",
      "been chosen; matplotlib.use() must be called *before* pylab, matplotlib.pyplot,\n",
      "or matplotlib.backends is imported for the first time.\n",
      "\n",
      "The backend was *originally* set to 'module://ipykernel.pylab.backend_inline' by the following code:\n",
      "  File \"/data/miniconda3/envs/find_agn/lib/python3.6/runpy.py\", line 193, in _run_module_as_main\n",
      "    \"__main__\", mod_spec)\n",
      "  File \"/data/miniconda3/envs/find_agn/lib/python3.6/runpy.py\", line 85, in _run_code\n",
      "    exec(code, run_globals)\n",
      "  File \"/data/miniconda3/envs/find_agn/lib/python3.6/site-packages/ipykernel_launcher.py\", line 16, in <module>\n",
      "    app.launch_new_instance()\n",
      "  File \"/data/miniconda3/envs/find_agn/lib/python3.6/site-packages/traitlets/config/application.py\", line 658, in launch_instance\n",
      "    app.start()\n",
      "  File \"/data/miniconda3/envs/find_agn/lib/python3.6/site-packages/ipykernel/kernelapp.py\", line 486, in start\n",
      "    self.io_loop.start()\n",
      "  File \"/data/miniconda3/envs/find_agn/lib/python3.6/site-packages/tornado/platform/asyncio.py\", line 127, in start\n",
      "    self.asyncio_loop.run_forever()\n",
      "  File \"/data/miniconda3/envs/find_agn/lib/python3.6/asyncio/base_events.py\", line 422, in run_forever\n",
      "    self._run_once()\n",
      "  File \"/data/miniconda3/envs/find_agn/lib/python3.6/asyncio/base_events.py\", line 1434, in _run_once\n",
      "    handle._run()\n",
      "  File \"/data/miniconda3/envs/find_agn/lib/python3.6/asyncio/events.py\", line 145, in _run\n",
      "    self._callback(*self._args)\n",
      "  File \"/data/miniconda3/envs/find_agn/lib/python3.6/site-packages/tornado/platform/asyncio.py\", line 117, in _handle_events\n",
      "    handler_func(fileobj, events)\n",
      "  File \"/data/miniconda3/envs/find_agn/lib/python3.6/site-packages/tornado/stack_context.py\", line 276, in null_wrapper\n",
      "    return fn(*args, **kwargs)\n",
      "  File \"/data/miniconda3/envs/find_agn/lib/python3.6/site-packages/zmq/eventloop/zmqstream.py\", line 450, in _handle_events\n",
      "    self._handle_recv()\n",
      "  File \"/data/miniconda3/envs/find_agn/lib/python3.6/site-packages/zmq/eventloop/zmqstream.py\", line 480, in _handle_recv\n",
      "    self._run_callback(callback, msg)\n",
      "  File \"/data/miniconda3/envs/find_agn/lib/python3.6/site-packages/zmq/eventloop/zmqstream.py\", line 432, in _run_callback\n",
      "    callback(*args, **kwargs)\n",
      "  File \"/data/miniconda3/envs/find_agn/lib/python3.6/site-packages/tornado/stack_context.py\", line 276, in null_wrapper\n",
      "    return fn(*args, **kwargs)\n",
      "  File \"/data/miniconda3/envs/find_agn/lib/python3.6/site-packages/ipykernel/kernelbase.py\", line 283, in dispatcher\n",
      "    return self.dispatch_shell(stream, msg)\n",
      "  File \"/data/miniconda3/envs/find_agn/lib/python3.6/site-packages/ipykernel/kernelbase.py\", line 233, in dispatch_shell\n",
      "    handler(stream, idents, msg)\n",
      "  File \"/data/miniconda3/envs/find_agn/lib/python3.6/site-packages/ipykernel/kernelbase.py\", line 399, in execute_request\n",
      "    user_expressions, allow_stdin)\n",
      "  File \"/data/miniconda3/envs/find_agn/lib/python3.6/site-packages/ipykernel/ipkernel.py\", line 208, in do_execute\n",
      "    res = shell.run_cell(code, store_history=store_history, silent=silent)\n",
      "  File \"/data/miniconda3/envs/find_agn/lib/python3.6/site-packages/ipykernel/zmqshell.py\", line 537, in run_cell\n",
      "    return super(ZMQInteractiveShell, self).run_cell(*args, **kwargs)\n",
      "  File \"/data/miniconda3/envs/find_agn/lib/python3.6/site-packages/IPython/core/interactiveshell.py\", line 2666, in run_cell\n",
      "    self.events.trigger('post_run_cell', result)\n",
      "  File \"/data/miniconda3/envs/find_agn/lib/python3.6/site-packages/IPython/core/events.py\", line 88, in trigger\n",
      "    func(*args, **kwargs)\n",
      "  File \"/data/miniconda3/envs/find_agn/lib/python3.6/site-packages/ipykernel/pylab/backend_inline.py\", line 160, in configure_once\n",
      "    activate_matplotlib(backend)\n",
      "  File \"/data/miniconda3/envs/find_agn/lib/python3.6/site-packages/IPython/core/pylabtools.py\", line 311, in activate_matplotlib\n",
      "    matplotlib.pyplot.switch_backend(backend)\n",
      "  File \"/data/miniconda3/envs/find_agn/lib/python3.6/site-packages/matplotlib/pyplot.py\", line 231, in switch_backend\n",
      "    matplotlib.use(newbackend, warn=False, force=True)\n",
      "  File \"/data/miniconda3/envs/find_agn/lib/python3.6/site-packages/matplotlib/__init__.py\", line 1410, in use\n",
      "    reload(sys.modules['matplotlib.backends'])\n",
      "  File \"/data/miniconda3/envs/find_agn/lib/python3.6/importlib/__init__.py\", line 166, in reload\n",
      "    _bootstrap._exec(spec, module)\n",
      "  File \"/data/miniconda3/envs/find_agn/lib/python3.6/site-packages/matplotlib/backends/__init__.py\", line 16, in <module>\n",
      "    line for line in traceback.format_stack()\n",
      "\n",
      "\n",
      "  matplotlib.use('Agg')\n"
     ]
    }
   ],
   "source": [
    "import notebook_utils\n",
    "import fit_agn_sed\n",
    "import ezgal_wrapper\n",
    "import star_formation"
   ]
  },
  {
   "cell_type": "code",
   "execution_count": 15,
   "metadata": {},
   "outputs": [],
   "source": [
    "new_model_download = False\n",
    "if new_model_download:\n",
    "    !wget -r http://www.baryons.org/ezgal/models/index.html\n",
    "    # OR for single models:\n",
    "    # !wget http://www.baryons.org/ezgal/models/$target_model -O $target_loc"
   ]
  },
  {
   "cell_type": "code",
   "execution_count": 11,
   "metadata": {},
   "outputs": [],
   "source": [
    "bpt_df = pd.read_csv('bpt_df.csv')"
   ]
  },
  {
   "cell_type": "markdown",
   "metadata": {},
   "source": [
    "The goal is to make a probabilistic estimate the AGN and host SEDs, assuming that most galaxies are truly composite.\n",
    "\n",
    "If the models are simple, or can be made simple, I can fit them to photometry directly.\n",
    "\n",
    "If not, I might need to use a template catalog."
   ]
  },
  {
   "cell_type": "code",
   "execution_count": 13,
   "metadata": {},
   "outputs": [],
   "source": [
    "seyferts = bpt_df[bpt_df['seyfert']]\n",
    "starforming = bpt_df[bpt_df['starforming']]"
   ]
  },
  {
   "cell_type": "code",
   "execution_count": null,
   "metadata": {},
   "outputs": [],
   "source": []
  },
  {
   "cell_type": "markdown",
   "metadata": {},
   "source": [
    "###  What SED do we observe?"
   ]
  },
  {
   "cell_type": "code",
   "execution_count": 20,
   "metadata": {},
   "outputs": [
    {
     "data": {
      "image/png": "[encoded data removed]",
      "text/plain": [
       "<Figure size 864x288 with 2 Axes>"
      ]
     },
     "metadata": {},
     "output_type": "display_data"
    }
   ],
   "source": [
    "fig, (ax0, ax1) = plt.subplots(ncols=2, figsize=(12, 4), sharex=True, sharey=True)\n",
    "for n in range(5):\n",
    "    starforming_data = notebook_utils.get_spectral_energy(starforming.iloc[n])\n",
    "    notebook_utils.plot_spectral_energy(starforming_data, ax0)\n",
    "    \n",
    "    seyfert_data = notebook_utils.get_spectral_energy(seyferts.iloc[n])\n",
    "    notebook_utils.plot_spectral_energy(seyfert_data, ax1)\n",
    "                         \n",
    "notebook_utils.add_band_labels(starforming_data, ax0)\n",
    "notebook_utils.add_band_labels(seyfert_data, ax1)\n",
    "ax0.set_title('Starforming')\n",
    "ax1.set_title('Seyfert')\n",
    "fig.tight_layout()"
   ]
  },
  {
   "cell_type": "markdown",
   "metadata": {},
   "source": [
    "TODO crucially important to add error bars\n",
    "\n",
    "TODO can ultimately use the optical spectra, not just photometry"
   ]
  },
  {
   "cell_type": "markdown",
   "metadata": {},
   "source": [
    "### What contribution do AGN make to the SED?"
   ]
  },
  {
   "cell_type": "markdown",
   "metadata": {},
   "source": [
    "![agn sed](figures/agn_sed_schematic.png)"
   ]
  },
  {
   "cell_type": "markdown",
   "metadata": {},
   "source": [
    "I'm probing the tail of the accretion disk (optical) and the dusty torus (MIR), overlapping in NIR\n",
    "\n",
    "Figure in Annual Review, adapted from Harrison, C. M. (2016). Introduction (pp. 1–35). https://doi.org/10.1007/978-3-319-28454-5_1\n",
    "\n",
    "> it should be noted that the relative contribution of these components can vary dramatically for different types of AGN\n",
    "\n",
    ">  high-accretion rate AGN that emit most of their energy radiatively (sometimes called “radiatively efficient”, “radiative mode” or, when referring to radio galaxies, “high excitation”; see review in Heckman and Best 2014) and that are radio quiet.4 This thesis does not focus on radiatively-inefficient AGN (sometimes called “low excitation”, “radio mode” or “jet mode”) that emit the majority of their energy mechanically through radio jets \n",
    "\n",
    "With BPT, I am selecting radiative mode AGN.\n",
    "\n",
    "From Best and Heckman 2014 Review:\n",
    "\n",
    "> {Two AGN types. The first is powered by] efficient conversion of the potential energy of the gas accreted by the SMBH...radiative-mode AGNs. The second category consists of objects that produce relatively little radiation and whose primary energetic output takes the form of the bulk kinetic energy transported in two-sided collimated outflows (jets).\n",
    "\n",
    "> The ionizing radiation from the disk and corona heats and photoionizes a population of dense gas clouds located on scales of light-days to light-years from the SMBH leading to the production of UV-, optical-, and near-IR-permitted emission lines [Ed: BPT is NOT looking for these lines]\n",
    "\n",
    "> On larger scales, the SMBH and accretion disk are surrounded by a region of dusty molecular gas...Its inner radius is set by the sublimation temperature of the most refractory dust grains and is hence larger in more luminous AGNs. In this region some of the incident UV/visible photons from the accretion disk and the soft X-rays from the corona are absorbed by the dust, and this absorbed energy emerges as thermal IR emission...As ionizing radiation escapes along the polar axis of the obscuring structure, it photoionizes gas on circumnuclear scales (a few hundred to a few thousand parsecs). This more quiescent and lower-density population of clouds produces UV-, optical-, and IR-forbidden and -permitted emission lines, Doppler-broadened by several hundred kilometers per second, and is hence called the narrow-line region (NLR).\n",
    "\n",
    "> When observing an AGN from a sight line nearer the equatorial plane of the obscuring structure, this central region is hidden and these are called Type 2 (or obscured) AGNs"
   ]
  },
  {
   "cell_type": "markdown",
   "metadata": {},
   "source": [
    "This paper has recently done, properly, what I'm hoping to do with SED decomposition: Zhuang, M.-Y., Ho, L. C., & Shangguan, J. (2018). The Infrared Emission and Opening Angle of the Torus in Quasars. Retrieved from http://arxiv.org/abs/1806.03783. They're interested in careful modelling to investigate the torus.\n",
    "\n",
    "> the bulk of\n",
    "the mid-IR emission of AGNs actually arises from a polar-extended component, which dominates the energy output in that band, while the near-IR emission still emanates from a classical, small-scale disk-like compo- nent. This discovery radically alters the traditional view of a single torus structure\n",
    "\n",
    "> We apply these newly developed models to investigate\n",
    "the physical properties of the torus...We use our recently developed Bayesian Markov Chain Monte Carlo (MCMC) method to decompose the SEDs into their main constituent components, paying special em- phasis on evaluating the performance of the latest spec- tral templates for the AGN torus\n",
    "\n",
    "Much of the work that they've done is based on:  Shangguan, J., Ho, L. C., & Xie, Y. (2018). On the Gas Content and Efficiency of AGN Feedback in Low-redshift Quasars. The Astrophysical Journal, 854(2), 158. https://doi.org/10.3847/1538-4357/aaa9be\n",
    "\n",
    "> With a newly developed Bayesian Markov Chain Monte Carlo fitting method, we decompose various overlapping contributions to the integrated spectral energy distribution, including starlight, warm dust from the torus, and cooler dust on galaxy scales. \n",
    "\n",
    "Both papers use pretty much the same models for the various AGN and host components..."
   ]
  },
  {
   "cell_type": "markdown",
   "metadata": {},
   "source": [
    "**CLUMPY**\n",
    "\n",
    "> For the dust torus emission, we incorporate the templates generated by the radiative transfer model CLUMPY (Nenkova et al. 2008a, 2008b).\n",
    "\n",
    "[CLUMPY](https://www.clumpy.org/) provides an extensive library of templates for dusty torus emission. \n",
    "\n",
    "> The CLUMPY model has seven free parameters: the optical depth of the individual cloud τV, the power-law index q of the cloud radial distribution, the ratio Y of outer and inner radii of the dust torus,14 the average number of clouds on the equatorial ray N0, the standard deviation σ of the Gaussian distribution of the number of clouds in the polar direction, the observer’s viewing angle i from the torus axis, and the luminosity L normalization factor. \n",
    "\n",
    "**BB**\n",
    "\n",
    "Shangguan and others add a hot blackbody to the MIR to get a good fit - see Shangguan equation 1.\n",
    "\n",
    "**EzGal**\n",
    "\n",
    "> The stellar emission is represented by a simple stellar population model from **Bruzual & Charlot (2003, hereafter BC03)** with a Chabrier (2003) stellar IMF. We use the Python package **EzGal (Mancone & Gonzalez 2012)** to generate the template spectra. \n",
    "\n",
    "**DL07**\n",
    "\n",
    "> The galactic dust emission is described by the widely used\n",
    "DL07 model. The model is based on the dust composition and size distribution observed in the Milky Way (MW)...DL07 [provide](https://www.astro.princeton.edu/~draine/dust/irem.html) the precalculated pq U,\n",
    "n ()() 0 PAH min and pν?(qPAH, Umin, Umax, α) as model\n",
    "templates.\n",
    "\n",
    "> By studying the SEDs of normal star-forming galaxies, Draine et al. (2007) found that, for all situations, we can fix α?=?2 and Umax?=?106. We adopt this simplification\n",
    "\n",
    "I do not include a radio synchrotron component."
   ]
  },
  {
   "cell_type": "markdown",
   "metadata": {},
   "source": [
    "The templates provide the forward model: given some parameters, what SED (components) do I get. With templates, this step is completely deterministic - they're simply a grid of pre-calculated values."
   ]
  },
  {
   "cell_type": "code",
   "execution_count": 16,
   "metadata": {},
   "outputs": [],
   "source": [
    "sample_galaxy = bpt_df.iloc[0]"
   ]
  },
  {
   "cell_type": "code",
   "execution_count": null,
   "metadata": {},
   "outputs": [],
   "source": [
    "ref_exponential = lambda x: star_formation.exponential_sfh(x, tau=1.)"
   ]
  },
  {
   "cell_type": "code",
   "execution_count": 24,
   "metadata": {},
   "outputs": [
    {
     "name": "stdout",
     "output_type": "stream",
     "text": [
      "catalogs/bc03_ssp_z_0.02_salp.model\n"
     ]
    },
    {
     "name": "stderr",
     "output_type": "stream",
     "text": [
      "/data/miniconda3/envs/find_agn/lib/python3.6/site-packages/scipy/integrate/quadrature.py:326: RuntimeWarning: divide by zero encountered in true_divide\n",
      "  h0divh1 = h0 / h1\n",
      "/data/miniconda3/envs/find_agn/lib/python3.6/site-packages/scipy/integrate/quadrature.py:328: RuntimeWarning: divide by zero encountered in true_divide\n",
      "  y[slice1]*hsum*hsum/hprod +\n",
      "/data/miniconda3/envs/find_agn/lib/python3.6/site-packages/scipy/integrate/quadrature.py:329: RuntimeWarning: invalid value encountered in add\n",
      "  y[slice2]*(2-h0divh1))\n",
      "/data/repos/find_agn/easyGalaxy/ezgal/cosmology.py:185: RuntimeWarning: divide by zero encountered in log10\n",
      "  return 5. * num.log10(self.Dl(z) / self.pc / 10)\n"
     ]
    }
   ],
   "source": [
    "target_model = '{}_{}_z_{}_{}.model'.format('bc03', 'ssp', '0.02', 'salp')\n",
    "model_download_loc = 'catalogs/' + target_model\n",
    "model = ezgal_wrapper.get_model(model_download_loc, ref_exponential)\n",
    "formation_z = 3.0\n",
    "# current_z = sample_galaxy['z'] TODO add\n",
    "current_z = 0.05\n",
    "mass = sample_galaxy['ELPETRO_MASS']\n",
    "fake_galaxy = ezgal_wrapper.get_fake_galaxy(model, formation_z, current_z, mass)"
   ]
  },
  {
   "cell_type": "code",
   "execution_count": 25,
   "metadata": {},
   "outputs": [],
   "source": [
    "fake_data = notebook_utils.get_spectral_energy(fake_galaxy)"
   ]
  },
  {
   "cell_type": "code",
   "execution_count": 36,
   "metadata": {},
   "outputs": [],
   "source": [
    "model_continuum = ezgal_wrapper.get_normalised_model_continuum(model, fake_galaxy)"
   ]
  },
  {
   "cell_type": "code",
   "execution_count": 37,
   "metadata": {},
   "outputs": [
    {
     "data": {
      "text/plain": [
       "[<matplotlib.lines.Line2D at 0x117cd5f98>]"
      ]
     },
     "execution_count": 37,
     "metadata": {},
     "output_type": "execute_result"
    },
    {
     "data": {
      "image/png": "[encoded data removed]",
      "text/plain": [
       "<Figure size 432x288 with 1 Axes>"
      ]
     },
     "metadata": {},
     "output_type": "display_data"
    }
   ],
   "source": [
    "plt.loglog(model_continuum['frequency'], model_continuum['energy'])"
   ]
  },
  {
   "cell_type": "code",
   "execution_count": 38,
   "metadata": {},
   "outputs": [
    {
     "data": {
      "image/png": "[encoded data removed]",
      "text/plain": [
       "<Figure size 1008x288 with 2 Axes>"
      ]
     },
     "metadata": {},
     "output_type": "display_data"
    }
   ],
   "source": [
    "fig, axes = plt.subplots(ncols=2, figsize=(14, 4), sharex=True, sharey=True)\n",
    "axes[0].plot(np.log10(model_continuum['frequency']), np.log10(model_continuum['energy']))  # shifted way down for some reason\n",
    "axes[0].set_title('Fake SED')\n",
    "axes[0].set_xlabel('Log $ \\nu $')\n",
    "axes[0].set_ylabel('Log $\\nu F_{\\nu} $')\n",
    "\n",
    "axes[1].scatter(np.log10(fake_data['frequency']), np.log10(fake_data['energy']), marker='+')\n",
    "axes[0].set_title('Fake Observed Flux')\n",
    "notebook_utils.plot_spectral_energy(fake_data, ax=axes[1])\n",
    "\n",
    "notebook_utils.add_band_labels(fake_data, ax=axes[1], y=16.5)\n",
    "\n",
    "fig.tight_layout()"
   ]
  },
  {
   "cell_type": "code",
   "execution_count": 39,
   "metadata": {},
   "outputs": [
    {
     "data": {
      "image/png": "[encoded data removed]",
      "text/plain": [
       "<Figure size 576x288 with 1 Axes>"
      ]
     },
     "metadata": {},
     "output_type": "display_data"
    }
   ],
   "source": [
    "fig, ax = plt.subplots(figsize=(8, 4), sharex=True, sharey=True)\n",
    "\n",
    "ax.plot(np.log10(model_continuum['frequency']),  np.log10(model_continuum['energy']), 'r', alpha=0.3)  # shifted way down for some reason\n",
    "notebook_utils.plot_spectral_energy(fake_data, ax=ax)\n",
    "\n",
    "ax.legend(['Fake SED', 'Fake Observed Flux'])\n",
    "notebook_utils.add_band_labels(fake_data, ax=ax, y=17)\n",
    "fig.tight_layout()"
   ]
  },
  {
   "cell_type": "code",
   "execution_count": 40,
   "metadata": {},
   "outputs": [
    {
     "data": {
      "text/plain": [
       "<matplotlib.legend.Legend at 0x11ce716d8>"
      ]
     },
     "execution_count": 40,
     "metadata": {},
     "output_type": "execute_result"
    },
    {
     "data": {
      "image/png": "[encoded data removed]",
      "text/plain": [
       "<Figure size 432x288 with 1 Axes>"
      ]
     },
     "metadata": {},
     "output_type": "display_data"
    }
   ],
   "source": [
    "real_data = notebook_utils.get_spectral_energy(seyferts.iloc[0])\n",
    "\n",
    "fig, ax = plt.subplots()\n",
    "notebook_utils.plot_spectral_energy(real_data, ax)\n",
    "notebook_utils.plot_spectral_energy(fake_data, ax)\n",
    "ax.legend(['Real', 'Fake'])"
   ]
  },
  {
   "cell_type": "code",
   "execution_count": 41,
   "metadata": {},
   "outputs": [
    {
     "name": "stdout",
     "output_type": "stream",
     "text": [
      "gaussian_scale_a: 0.3821934434704673\n",
      "gaussian_skew_a: 1.4424939475724414\n",
      "shift_for_gaussian_a: 5.610172578050789\n",
      "gaussian_scale_b: 0.2894916400026148\n",
      "gaussian_skew_b: 1.0559615197987908\n",
      "shift_for_gaussian_b: 5.026627159817576\n"
     ]
    },
    {
     "data": {
      "image/png": "[encoded data removed]",
      "text/plain": [
       "<Figure size 432x288 with 1 Axes>"
      ]
     },
     "metadata": {},
     "output_type": "display_data"
    }
   ],
   "source": [
    "# data to fit\n",
    "# sed = notebook_utils.get_spectral_energy(starforming.iloc[0])\n",
    "sed = notebook_utils.get_spectral_energy(seyferts.iloc[3])\n",
    "\n",
    "freq = np.log10(sed['frequency'])\n",
    "energy = np.log10(sed['energy']) - 20\n",
    "\n",
    "best_fit = fit_agn_sed.fit_agn_model_to_spectral_data(freq, energy)"
   ]
  },
  {
   "cell_type": "code",
   "execution_count": 42,
   "metadata": {},
   "outputs": [
    {
     "name": "stdout",
     "output_type": "stream",
     "text": [
      "shift_for_host: -8.273830974658996\n"
     ]
    },
    {
     "data": {
      "image/png": "[encoded data removed]",
      "text/plain": [
       "<Figure size 432x288 with 1 Axes>"
      ]
     },
     "metadata": {},
     "output_type": "display_data"
    }
   ],
   "source": [
    "# data to fit\n",
    "# sed = notebook_utils.get_spectral_energy(starforming.iloc[0])\n",
    "sed = notebook_utils.get_spectral_energy(seyferts.iloc[3])\n",
    "\n",
    "log_freq = np.log10(sed['frequency'])\n",
    "log_energy = np.log10(sed['energy']) - 20\n",
    "\n",
    "_ = fit_agn_sed.fit_host_model_to_spectral_data(log_freq, log_energy)"
   ]
  },
  {
   "cell_type": "code",
   "execution_count": 43,
   "metadata": {},
   "outputs": [
    {
     "name": "stdout",
     "output_type": "stream",
     "text": [
      "gaussian_scale_a: 0.3822534885747911\n",
      "gaussian_skew_a: 1.442681329909489\n",
      "shift_for_gaussian_a: 5.610274510036825\n",
      "gaussian_scale_b: 0.28949559684041243\n",
      "gaussian_skew_b: 1.0569520524879976\n",
      "shift_for_gaussian_b: 5.026108379732726\n",
      "shift_for_host: -12.316004751387803\n"
     ]
    },
    {
     "name": "stderr",
     "output_type": "stream",
     "text": [
      "/data/miniconda3/envs/find_agn/lib/python3.6/site-packages/scipy/optimize/minpack.py:436: RuntimeWarning: Number of calls to function has reached maxfev = 1600.\n",
      "  warnings.warn(errors[info][0], RuntimeWarning)\n"
     ]
    },
    {
     "data": {
      "image/png": "[encoded data removed]",
      "text/plain": [
       "<Figure size 432x288 with 1 Axes>"
      ]
     },
     "metadata": {},
     "output_type": "display_data"
    }
   ],
   "source": [
    "# data to fit\n",
    "# sed = notebook_utils.get_spectral_energy(starforming.iloc[0])\n",
    "sed = notebook_utils.get_spectral_energy(seyferts.iloc[3])\n",
    "\n",
    "log_freq = np.log10(sed['frequency'])\n",
    "log_energy = np.log10(sed['energy']) - 20  # keep the energy numbers reasonable\n",
    "\n",
    "_ = fit_agn_sed.fit_composite_model_to_spectral_data(log_freq, log_energy)"
   ]
  },
  {
   "cell_type": "markdown",
   "metadata": {},
   "source": [
    "\n",
    "Mullaney, J. R., Alexander, D. M., Goulding, A. D., & Hickox, R. C. (2011). Defining the intrinsic AGN infrared spectral energy distribution and measuring its contribution to the infrared output of composite galaxies. Monthly Notices of the Royal Astronomical Society, 414(2), 1082–1110. https://doi.org/10.1111/j.1365-2966.2011.18448.x\n",
    "\n",
    "> Looked at 11 moderate luminosity $L_{2−10 keV} ∼ 10^{42}–10^{44} erg s^{−1} $ AGN with minimal IR host contamination\n",
    "\n",
    "> Between 6–100 µm...the average infrared SED of typical AGNs is best described as a broken power law at ?40µm that falls steeply at ?40 µm (i.e. at far-infrared wavelengths).\n",
    "\n",
    "> to identify a sample of galaxies whose infrared out-\n",
    "put is dominated by a moderate-luminosity AGN, we cross-match the Swift-BAT samplewith the archive of low-resolution spectra ob- tained by the infrared spectrograph (hereafter IRS) on board Spitzer...we quantify the con- tribution of the host galaxy to theseMIRspectra using the equivalent\n",
    "widths of the 11.25-µm PAH feature\n",
    "\n",
    "Sadly, this requires IR spectroscopy - which is not available to me?\n",
    "\n",
    "> strongly AGN dominated systems have EW PAHλ11.25 < 0.03µm, corresponding to a <10 per cent host-galaxy contribution at 19 µm(see\n",
    "\n",
    "> infrared spectra...dominated by a featureless AGN continuum\n",
    "                                                                                                                               \n",
    "                                                                                                                               > ∼6–20 µm. At these wavelengths, all the 25 AGN- dominated SEDs show clear evidence of a continuous, underlying\n",
    "power-law continuum that is thought to be produced by multiple dust components spanning a range of temperatures (e.g. Buchanan et al. 2006). The spectral indices of the underlying AGN power-law continua\n",
    "span the range 0.7 ≤ α1 ≤ 2.7 (mean, α1 = 1.6)\n",
    "\n",
    ">In at least 20 of the 25 AGN-dominated MIR spectra there is a definite break in the power-law continuum at 15–20 µm; the\n",
    "mean break position is at ∼19 µm. In previous studies this has been attributed to a dominatingwarm (i.e.∼170 K) dust component that is heated by the AGN...where we see a break in the continuum power law, the AGN SED longward of λBrk has a lower spectral\n",
    "index (i.e. power-law index, 0 ≤ α2 ≤ 1.5, mean = 0.7"
   ]
  },
  {
   "cell_type": "markdown",
   "metadata": {},
   "source": [
    "I should put the AGN models aside for now and just like at how much star formation can be going on.\n",
    "\n",
    "I should review the Ellison 2016 paper that gets Lir from Ellison NN and aim to replicate the plot of star formation (from Lir) vs num galaxies hist, for different AGN selection - but in my case, for plausible AGN LOIII as well. Slider!\n",
    "\n",
    "I should use an EZGAL BC03 or derivative model (M is wrong), with an old (>5Gyr) population and a current burst. BPT measures current SF, remember.\n",
    "\n",
    "\n",
    "I need a link between L[OIII] and star formation. There are empirical scaling relations for star formation -> L[OIIII], and there might also be extractable lines from the SED models.\n",
    "\n",
    "For later, it might be really interesting to look at independent SF probes. Look at ALFAFA - radio survey of HI in many sloan galaxies."
   ]
  },
  {
   "cell_type": "markdown",
   "metadata": {},
   "source": [
    "### EZGAL models of old population + new bursty population"
   ]
  },
  {
   "cell_type": "code",
   "execution_count": null,
   "metadata": {},
   "outputs": [],
   "source": [
    "sample_galaxy = starforming.iloc[0]"
   ]
  },
  {
   "cell_type": "code",
   "execution_count": 46,
   "metadata": {},
   "outputs": [],
   "source": [
    "ezgal_model_dir = 'models/ezgal_models'\n",
    "\n",
    "reference_model_loc = 'test_figures/bc03_ssp_z_0.02_salp.model'  # ssp will be overridden\n",
    "\n",
    "model_loc = reference_model_loc\n",
    "# model_loc = os.path.join(ezgal_model_dir, '{}_{}_z_{}_{}.fits'.format(modelset, sfh, met, imf))"
   ]
  },
  {
   "cell_type": "markdown",
   "metadata": {},
   "source": [
    "Define an arbitrary star formation history: See [here](http://www.baryons.org/ezgal/manual/modifying_models.html)"
   ]
  },
  {
   "cell_type": "code",
   "execution_count": 73,
   "metadata": {},
   "outputs": [],
   "source": [
    "def formation_redshift_for_fixed_age(current_z, current_galaxy_age):\n",
    "    universe_age_at_current_redshift = cosmo.age(current_z)\n",
    "    assert universe_age_at_current_redshift > 12 * units.Gyr\n",
    "    universe_age_at_formation_redshift = universe_age_at_current_redshift - current_galaxy_age\n",
    "    assert universe_age_at_formation_redshift < 6 * units.Gyr\n",
    "    formation_z = z_at_value(cosmo.age, universe_age_at_formation_redshift)\n",
    "    assert formation_z > 1\n",
    "    return formation_z"
   ]
  },
  {
   "cell_type": "code",
   "execution_count": 76,
   "metadata": {},
   "outputs": [],
   "source": [
    "# To minimise saved model grid dimensions, \n",
    "# make all galaxies the same age: 8 Gyr from formation\n",
    "current_galaxy_age = 8 * units.Gyr\n",
    "current_z = 0.05  # defined to be here, very small error introduced\n",
    "formation_z = formation_redshift_for_fixed_age(current_z, current_galaxy_age)"
   ]
  },
  {
   "cell_type": "code",
   "execution_count": 77,
   "metadata": {},
   "outputs": [],
   "source": [
    "first_duration = 1.  # Gyr\n",
    "second_duration = .5  # Gyr\n",
    "dual_burst = lambda x: starformation_history.dual_burst_sfh(\n",
    "        x,\n",
    "        current_z=current_z,\n",
    "        formation_z=formation_z, \n",
    "        first_duration=first_duration, \n",
    "        second_duration=second_duration, \n",
    "        )"
   ]
  },
  {
   "cell_type": "code",
   "execution_count": 78,
   "metadata": {},
   "outputs": [
    {
     "name": "stdout",
     "output_type": "stream",
     "text": [
      "test_figures/bc03_ssp_z_0.02_salp.model\n"
     ]
    },
    {
     "name": "stderr",
     "output_type": "stream",
     "text": [
      "/data/miniconda3/envs/find_agn/lib/python3.6/site-packages/scipy/integrate/quadpack.py:385: IntegrationWarning: The maximum number of subdivisions (50) has been achieved.\n",
      "  If increasing the limit yields no improvement it is advised to analyze \n",
      "  the integrand in order to determine the difficulties.  If the position of a \n",
      "  local difficulty can be determined (singularity, discontinuity) one will \n",
      "  probably gain from splitting up the interval and calling the integrator \n",
      "  on the subranges.  Perhaps a special-purpose integrator should be used.\n",
      "  warnings.warn(msg, IntegrationWarning)\n",
      "/data/miniconda3/envs/find_agn/lib/python3.6/site-packages/scipy/integrate/quadrature.py:326: RuntimeWarning: divide by zero encountered in true_divide\n",
      "  h0divh1 = h0 / h1\n",
      "/data/miniconda3/envs/find_agn/lib/python3.6/site-packages/scipy/integrate/quadrature.py:328: RuntimeWarning: divide by zero encountered in true_divide\n",
      "  y[slice1]*hsum*hsum/hprod +\n",
      "/data/miniconda3/envs/find_agn/lib/python3.6/site-packages/scipy/integrate/quadrature.py:329: RuntimeWarning: invalid value encountered in add\n",
      "  y[slice2]*(2-h0divh1))\n"
     ]
    }
   ],
   "source": [
    "model = ezgal_wrapper.get_model(model_loc, dual_burst)  # 15 mins to calculate"
   ]
  },
  {
   "cell_type": "markdown",
   "metadata": {},
   "source": [
    "#### Save outputs from reference model in lookup table"
   ]
  },
  {
   "cell_type": "code",
   "execution_count": 79,
   "metadata": {},
   "outputs": [
    {
     "name": "stderr",
     "output_type": "stream",
     "text": [
      "/Data/repos/find_agn/star_formation.py:10: UserWarning: \n",
      "This call to matplotlib.use() has no effect because the backend has already\n",
      "been chosen; matplotlib.use() must be called *before* pylab, matplotlib.pyplot,\n",
      "or matplotlib.backends is imported for the first time.\n",
      "\n",
      "The backend was *originally* set to 'module://ipykernel.pylab.backend_inline' by the following code:\n",
      "  File \"/data/miniconda3/envs/find_agn/lib/python3.6/runpy.py\", line 193, in _run_module_as_main\n",
      "    \"__main__\", mod_spec)\n",
      "  File \"/data/miniconda3/envs/find_agn/lib/python3.6/runpy.py\", line 85, in _run_code\n",
      "    exec(code, run_globals)\n",
      "  File \"/data/miniconda3/envs/find_agn/lib/python3.6/site-packages/ipykernel_launcher.py\", line 16, in <module>\n",
      "    app.launch_new_instance()\n",
      "  File \"/data/miniconda3/envs/find_agn/lib/python3.6/site-packages/traitlets/config/application.py\", line 658, in launch_instance\n",
      "    app.start()\n",
      "  File \"/data/miniconda3/envs/find_agn/lib/python3.6/site-packages/ipykernel/kernelapp.py\", line 486, in start\n",
      "    self.io_loop.start()\n",
      "  File \"/data/miniconda3/envs/find_agn/lib/python3.6/site-packages/tornado/platform/asyncio.py\", line 127, in start\n",
      "    self.asyncio_loop.run_forever()\n",
      "  File \"/data/miniconda3/envs/find_agn/lib/python3.6/asyncio/base_events.py\", line 422, in run_forever\n",
      "    self._run_once()\n",
      "  File \"/data/miniconda3/envs/find_agn/lib/python3.6/asyncio/base_events.py\", line 1434, in _run_once\n",
      "    handle._run()\n",
      "  File \"/data/miniconda3/envs/find_agn/lib/python3.6/asyncio/events.py\", line 145, in _run\n",
      "    self._callback(*self._args)\n",
      "  File \"/data/miniconda3/envs/find_agn/lib/python3.6/site-packages/tornado/platform/asyncio.py\", line 117, in _handle_events\n",
      "    handler_func(fileobj, events)\n",
      "  File \"/data/miniconda3/envs/find_agn/lib/python3.6/site-packages/tornado/stack_context.py\", line 276, in null_wrapper\n",
      "    return fn(*args, **kwargs)\n",
      "  File \"/data/miniconda3/envs/find_agn/lib/python3.6/site-packages/zmq/eventloop/zmqstream.py\", line 450, in _handle_events\n",
      "    self._handle_recv()\n",
      "  File \"/data/miniconda3/envs/find_agn/lib/python3.6/site-packages/zmq/eventloop/zmqstream.py\", line 480, in _handle_recv\n",
      "    self._run_callback(callback, msg)\n",
      "  File \"/data/miniconda3/envs/find_agn/lib/python3.6/site-packages/zmq/eventloop/zmqstream.py\", line 432, in _run_callback\n",
      "    callback(*args, **kwargs)\n",
      "  File \"/data/miniconda3/envs/find_agn/lib/python3.6/site-packages/tornado/stack_context.py\", line 276, in null_wrapper\n",
      "    return fn(*args, **kwargs)\n",
      "  File \"/data/miniconda3/envs/find_agn/lib/python3.6/site-packages/ipykernel/kernelbase.py\", line 283, in dispatcher\n",
      "    return self.dispatch_shell(stream, msg)\n",
      "  File \"/data/miniconda3/envs/find_agn/lib/python3.6/site-packages/ipykernel/kernelbase.py\", line 233, in dispatch_shell\n",
      "    handler(stream, idents, msg)\n",
      "  File \"/data/miniconda3/envs/find_agn/lib/python3.6/site-packages/ipykernel/kernelbase.py\", line 399, in execute_request\n",
      "    user_expressions, allow_stdin)\n",
      "  File \"/data/miniconda3/envs/find_agn/lib/python3.6/site-packages/ipykernel/ipkernel.py\", line 208, in do_execute\n",
      "    res = shell.run_cell(code, store_history=store_history, silent=silent)\n",
      "  File \"/data/miniconda3/envs/find_agn/lib/python3.6/site-packages/ipykernel/zmqshell.py\", line 537, in run_cell\n",
      "    return super(ZMQInteractiveShell, self).run_cell(*args, **kwargs)\n",
      "  File \"/data/miniconda3/envs/find_agn/lib/python3.6/site-packages/IPython/core/interactiveshell.py\", line 2666, in run_cell\n",
      "    self.events.trigger('post_run_cell', result)\n",
      "  File \"/data/miniconda3/envs/find_agn/lib/python3.6/site-packages/IPython/core/events.py\", line 88, in trigger\n",
      "    func(*args, **kwargs)\n",
      "  File \"/data/miniconda3/envs/find_agn/lib/python3.6/site-packages/ipykernel/pylab/backend_inline.py\", line 160, in configure_once\n",
      "    activate_matplotlib(backend)\n",
      "  File \"/data/miniconda3/envs/find_agn/lib/python3.6/site-packages/IPython/core/pylabtools.py\", line 311, in activate_matplotlib\n",
      "    matplotlib.pyplot.switch_backend(backend)\n",
      "  File \"/data/miniconda3/envs/find_agn/lib/python3.6/site-packages/matplotlib/pyplot.py\", line 231, in switch_backend\n",
      "    matplotlib.use(newbackend, warn=False, force=True)\n",
      "  File \"/data/miniconda3/envs/find_agn/lib/python3.6/site-packages/matplotlib/__init__.py\", line 1410, in use\n",
      "    reload(sys.modules['matplotlib.backends'])\n",
      "  File \"/data/miniconda3/envs/find_agn/lib/python3.6/importlib/__init__.py\", line 166, in reload\n",
      "    _bootstrap._exec(spec, module)\n",
      "  File \"/data/miniconda3/envs/find_agn/lib/python3.6/site-packages/matplotlib/backends/__init__.py\", line 16, in <module>\n",
      "    line for line in traceback.format_stack()\n",
      "\n",
      "\n",
      "  matplotlib.use('Agg')\n"
     ]
    },
    {
     "ename": "NameError",
     "evalue": "name 'save_dir' is not defined",
     "output_type": "error",
     "traceback": [
      "\u001b[0;31m---------------------------------------------------------------------------\u001b[0m",
      "\u001b[0;31mNameError\u001b[0m                                 Traceback (most recent call last)",
      "\u001b[0;32m<ipython-input-79-b0d3c7d63378>\u001b[0m in \u001b[0;36m<module>\u001b[0;34m()\u001b[0m\n\u001b[1;32m      1\u001b[0m \u001b[0mmass\u001b[0m \u001b[0;34m=\u001b[0m \u001b[0;36m1.\u001b[0m  \u001b[0;31m# do not rescale, leave as 1 Msun stellar population\u001b[0m\u001b[0;34m\u001b[0m\u001b[0m\n\u001b[1;32m      2\u001b[0m \u001b[0;31m# TODO refactor magnitude mass rescaling as separate notebook_utils method\u001b[0m\u001b[0;34m\u001b[0m\u001b[0;34m\u001b[0m\u001b[0m\n\u001b[0;32m----> 3\u001b[0;31m \u001b[0mezgal_wrapper\u001b[0m\u001b[0;34m.\u001b[0m\u001b[0msave_model\u001b[0m\u001b[0;34m(\u001b[0m\u001b[0mmodel\u001b[0m\u001b[0;34m,\u001b[0m \u001b[0msave_dir\u001b[0m\u001b[0;34m,\u001b[0m \u001b[0mformation_z\u001b[0m\u001b[0;34m,\u001b[0m \u001b[0mcurrent_z\u001b[0m\u001b[0;34m,\u001b[0m \u001b[0mmass\u001b[0m\u001b[0;34m)\u001b[0m\u001b[0;34m\u001b[0m\u001b[0m\n\u001b[0m",
      "\u001b[0;31mNameError\u001b[0m: name 'save_dir' is not defined"
     ]
    }
   ],
   "source": [
    "mass = 1.  # do not rescale, leave as 1 Msun stellar population\n",
    "# TODO refactor magnitude mass rescaling as separate notebook_utils method\n",
    "ezgal_wrapper.save_model(model, save_dir, formation_z, current_z, mass)"
   ]
  },
  {
   "cell_type": "markdown",
   "metadata": {},
   "source": [
    "#### Visualise to confirm"
   ]
  },
  {
   "cell_type": "markdown",
   "metadata": {},
   "source": [
    "### Fit model to real SED to derive max and min star formation"
   ]
  },
  {
   "cell_type": "markdown",
   "metadata": {},
   "source": [
    "### Convert max and min star formation to L[OIII]/Ha, either empirically or (ideally) direct from model"
   ]
  },
  {
   "cell_type": "code",
   "execution_count": null,
   "metadata": {},
   "outputs": [],
   "source": [
    "import json"
   ]
  },
  {
   "cell_type": "code",
   "execution_count": null,
   "metadata": {},
   "outputs": [],
   "source": [
    "sed_loc = 'fake_sed.txt'\n",
    "with open(sed_loc, 'r') as f:\n",
    "    sed = json.load(f)"
   ]
  },
  {
   "cell_type": "code",
   "execution_count": null,
   "metadata": {},
   "outputs": [],
   "source": []
  },
  {
   "cell_type": "code",
   "execution_count": null,
   "metadata": {},
   "outputs": [],
   "source": []
  }
 ],
 "metadata": {
  "kernelspec": {
   "display_name": "Python 3",
   "language": "python",
   "name": "python3"
  },
  "language_info": {
   "codemirror_mode": {
    "name": "ipython",
    "version": 3
   },
   "file_extension": ".py",
   "mimetype": "text/x-python",
   "name": "python",
   "nbconvert_exporter": "python",
   "pygments_lexer": "ipython3",
   "version": "3.6.6"
  }
 },
 "nbformat": 4,
 "nbformat_minor": 2
}
