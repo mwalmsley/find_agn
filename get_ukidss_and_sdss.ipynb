{
 "cells": [
  {
   "cell_type": "markdown",
   "metadata": {},
   "source": [
    "# Get UKIDSS and SDSS\n",
    "\n",
    "This notebook\n",
    "- records the data download process for UKIDSS and SDSS\n",
    "- plots the overall galaxy sample features"
   ]
  },
  {
   "cell_type": "markdown",
   "metadata": {},
   "source": [
    "### Data Download\n",
    "\n",
    "UKIDSS allows for [SQL access](http://wsa.roe.ac.uk/dbaccess.html). The most relevant table is LASsources. However, it's not obvious how to use the SQL form to search against **another** database. They do provide a [crossmatch form](http://wsa.roe.ac.uk/crossID_notes.html) that searches against a set of user-provided co-ordinates, but only up to a limit of 50,000. It seems easier to use a third party service.\n",
    "\n",
    "\n",
    "UKIDSS and SDSS were downloaded via the CDS X-Match service available from cdsxmatch.u-strasbg.fr/xmatch. \n",
    "\n",
    "The latest available catalogs on X-Match via Vizier were UKIDSS-DR9 LAS+GCS+DXS and SDSS DR12.\n",
    "\n",
    "\n",
    "#### UKIDSS-DR9 LAS\n",
    "\n",
    "LAS: Large Area Survey, 4000 sq degrees of extragalactic observations matched to the SDSS footprint\n",
    "See more here: http://www.ukidss.org/surveys/surveys.html\n",
    "\n",
    "\n",
    "The latest UKIDSS release is DR10. \n",
    "\n",
    "*TODO: is there anything significant missing/added?*\n",
    "\n",
    "#### SDSS DR12\n",
    "\n",
    "The latest SDSS release is DR14.\n",
    "\n",
    "*TODO: is there anything significant missing/added?*\n",
    "\n",
    "\n",
    "### Running the Download\n",
    "\n",
    "\n",
    "The download found 217,540,070 matching rows at a fixed seperation of 5 arcseconds. The combined file was 63.4GB. \n",
    "\n",
    "\n"
   ]
  },
  {
   "cell_type": "markdown",
   "metadata": {},
   "source": [
    "This is from Vizier direct table service: http://vizier.u-strasbg.fr/viz-bin/VizieR-3?-source=V/147"
   ]
  },
  {
   "cell_type": "code",
   "execution_count": 1,
   "metadata": {},
   "outputs": [],
   "source": [
    "%load_ext autoreload\n",
    "%autoreload 2\n",
    "%matplotlib inline"
   ]
  },
  {
   "cell_type": "code",
   "execution_count": 2,
   "metadata": {
    "collapsed": true
   },
   "outputs": [],
   "source": [
    "import pandas as pd\n",
    "import matplotlib.pyplot as plt"
   ]
  },
  {
   "cell_type": "code",
   "execution_count": 3,
   "metadata": {
    "collapsed": true
   },
   "outputs": [],
   "source": [
    "# sdss_loc = 'data/sdss_galaxies_zsph_max_0p5_1k.csv'  # test 1k\n",
    "sdss_loc = 'data/sdss_galaxies_zsph_max_0p5.csv'  # full catalog, a few seconds to laod"
   ]
  },
  {
   "cell_type": "code",
   "execution_count": 10,
   "metadata": {},
   "outputs": [
    {
     "name": "stderr",
     "output_type": "stream",
     "text": [
      "/anaconda3/lib/python3.6/site-packages/IPython/core/interactiveshell.py:2698: DtypeWarning: Columns (0,1,2,4,7,8,9,10,11,12,13,14,15,16,17,18,19,20,21,22) have mixed types. Specify dtype option on import or set low_memory=False.\n",
      "  interactivity=interactivity, compiler=compiler, result=result)\n"
     ]
    }
   ],
   "source": [
    "df = pd.read_csv(sdss_loc, sep='\\t')[2:].reset_index(drop=True)"
   ]
  },
  {
   "cell_type": "code",
   "execution_count": 5,
   "metadata": {},
   "outputs": [
    {
     "data": {
      "text/html": [
       "<div>\n",
       "<style scoped>\n",
       "    .dataframe tbody tr th:only-of-type {\n",
       "        vertical-align: middle;\n",
       "    }\n",
       "\n",
       "    .dataframe tbody tr th {\n",
       "        vertical-align: top;\n",
       "    }\n",
       "\n",
       "    .dataframe thead th {\n",
       "        text-align: right;\n",
       "    }\n",
       "</style>\n",
       "<table border=\"1\" class=\"dataframe\">\n",
       "  <thead>\n",
       "    <tr style=\"text-align: right;\">\n",
       "      <th></th>\n",
       "      <th>RA_ICRS</th>\n",
       "      <th>DE_ICRS</th>\n",
       "      <th>mode</th>\n",
       "      <th>q_mode</th>\n",
       "      <th>class</th>\n",
       "      <th>SDSS12</th>\n",
       "      <th>m_SDSS12</th>\n",
       "      <th>ObsDate</th>\n",
       "      <th>Q</th>\n",
       "      <th>umag</th>\n",
       "      <th>...</th>\n",
       "      <th>rmag</th>\n",
       "      <th>e_rmag</th>\n",
       "      <th>imag</th>\n",
       "      <th>e_imag</th>\n",
       "      <th>zmag</th>\n",
       "      <th>e_zmag</th>\n",
       "      <th>zsp</th>\n",
       "      <th>zph</th>\n",
       "      <th>e_zph</th>\n",
       "      <th>&lt;zph&gt;</th>\n",
       "    </tr>\n",
       "  </thead>\n",
       "  <tbody>\n",
       "    <tr>\n",
       "      <th>0</th>\n",
       "      <td>044.991889</td>\n",
       "      <td>+00.040779</td>\n",
       "      <td>1</td>\n",
       "      <td>+</td>\n",
       "      <td>3</td>\n",
       "      <td>J025958.05+000226.8</td>\n",
       "      <td>*</td>\n",
       "      <td>2003.8858</td>\n",
       "      <td>3</td>\n",
       "      <td>23.206</td>\n",
       "      <td>...</td>\n",
       "      <td>20.132</td>\n",
       "      <td>0.042</td>\n",
       "      <td>19.491</td>\n",
       "      <td>0.034</td>\n",
       "      <td>18.978</td>\n",
       "      <td>0.094</td>\n",
       "      <td>0.46846</td>\n",
       "      <td>0.3671</td>\n",
       "      <td>0.0447</td>\n",
       "      <td>0.3701</td>\n",
       "    </tr>\n",
       "    <tr>\n",
       "      <th>1</th>\n",
       "      <td>044.997801</td>\n",
       "      <td>+00.063080</td>\n",
       "      <td>1</td>\n",
       "      <td>+</td>\n",
       "      <td>3</td>\n",
       "      <td>J025959.47+000347.0</td>\n",
       "      <td>*</td>\n",
       "      <td>2003.8858</td>\n",
       "      <td>3</td>\n",
       "      <td>21.740</td>\n",
       "      <td>...</td>\n",
       "      <td>20.272</td>\n",
       "      <td>0.024</td>\n",
       "      <td>19.966</td>\n",
       "      <td>0.026</td>\n",
       "      <td>19.630</td>\n",
       "      <td>0.079</td>\n",
       "      <td>0.37803</td>\n",
       "      <td>0.2365</td>\n",
       "      <td>0.0735</td>\n",
       "      <td>0.2493</td>\n",
       "    </tr>\n",
       "    <tr>\n",
       "      <th>2</th>\n",
       "      <td>044.955188</td>\n",
       "      <td>+00.054225</td>\n",
       "      <td>1</td>\n",
       "      <td></td>\n",
       "      <td>3</td>\n",
       "      <td>J025949.24+000315.2</td>\n",
       "      <td>*</td>\n",
       "      <td>2003.8858</td>\n",
       "      <td>3</td>\n",
       "      <td>21.723</td>\n",
       "      <td>...</td>\n",
       "      <td>19.729</td>\n",
       "      <td>0.033</td>\n",
       "      <td>19.415</td>\n",
       "      <td>0.038</td>\n",
       "      <td>19.264</td>\n",
       "      <td>0.133</td>\n",
       "      <td>0.37611</td>\n",
       "      <td>0.3736</td>\n",
       "      <td>0.0729</td>\n",
       "      <td>0.3343</td>\n",
       "    </tr>\n",
       "    <tr>\n",
       "      <th>3</th>\n",
       "      <td>044.961076</td>\n",
       "      <td>+00.077095</td>\n",
       "      <td>1</td>\n",
       "      <td>+</td>\n",
       "      <td>3</td>\n",
       "      <td>J025950.65+000437.5</td>\n",
       "      <td>*</td>\n",
       "      <td>2003.8858</td>\n",
       "      <td>3</td>\n",
       "      <td>21.148</td>\n",
       "      <td>...</td>\n",
       "      <td>19.501</td>\n",
       "      <td>0.020</td>\n",
       "      <td>19.053</td>\n",
       "      <td>0.020</td>\n",
       "      <td>19.014</td>\n",
       "      <td>0.073</td>\n",
       "      <td>0.13947</td>\n",
       "      <td>0.1349</td>\n",
       "      <td>0.0347</td>\n",
       "      <td>0.1377</td>\n",
       "    </tr>\n",
       "    <tr>\n",
       "      <th>4</th>\n",
       "      <td>044.931939</td>\n",
       "      <td>+00.077110</td>\n",
       "      <td>1</td>\n",
       "      <td>+</td>\n",
       "      <td>3</td>\n",
       "      <td>J025943.66+000437.5</td>\n",
       "      <td>*</td>\n",
       "      <td>2003.8858</td>\n",
       "      <td>3</td>\n",
       "      <td>19.892</td>\n",
       "      <td>...</td>\n",
       "      <td>18.604</td>\n",
       "      <td>0.014</td>\n",
       "      <td>18.386</td>\n",
       "      <td>0.016</td>\n",
       "      <td>18.351</td>\n",
       "      <td>0.062</td>\n",
       "      <td>0.12753</td>\n",
       "      <td>0.1043</td>\n",
       "      <td>0.0391</td>\n",
       "      <td>0.1085</td>\n",
       "    </tr>\n",
       "  </tbody>\n",
       "</table>\n",
       "<p>5 rows × 23 columns</p>\n",
       "</div>"
      ],
      "text/plain": [
       "      RA_ICRS     DE_ICRS mode q_mode class               SDSS12 m_SDSS12  \\\n",
       "0  044.991889  +00.040779    1      +     3  J025958.05+000226.8        *   \n",
       "1  044.997801  +00.063080    1      +     3  J025959.47+000347.0        *   \n",
       "2  044.955188  +00.054225    1            3  J025949.24+000315.2        *   \n",
       "3  044.961076  +00.077095    1      +     3  J025950.65+000437.5        *   \n",
       "4  044.931939  +00.077110    1      +     3  J025943.66+000437.5        *   \n",
       "\n",
       "     ObsDate  Q    umag   ...       rmag  e_rmag    imag  e_imag    zmag  \\\n",
       "0  2003.8858  3  23.206   ...     20.132   0.042  19.491   0.034  18.978   \n",
       "1  2003.8858  3  21.740   ...     20.272   0.024  19.966   0.026  19.630   \n",
       "2  2003.8858  3  21.723   ...     19.729   0.033  19.415   0.038  19.264   \n",
       "3  2003.8858  3  21.148   ...     19.501   0.020  19.053   0.020  19.014   \n",
       "4  2003.8858  3  19.892   ...     18.604   0.014  18.386   0.016  18.351   \n",
       "\n",
       "   e_zmag       zsp         zph       e_zph    <zph>  \n",
       "0   0.094   0.46846      0.3671      0.0447   0.3701  \n",
       "1   0.079   0.37803      0.2365      0.0735   0.2493  \n",
       "2   0.133   0.37611      0.3736      0.0729   0.3343  \n",
       "3   0.073   0.13947      0.1349      0.0347   0.1377  \n",
       "4   0.062   0.12753      0.1043      0.0391   0.1085  \n",
       "\n",
       "[5 rows x 23 columns]"
      ]
     },
     "execution_count": 5,
     "metadata": {},
     "output_type": "execute_result"
    }
   ],
   "source": [
    "df.head()"
   ]
  },
  {
   "cell_type": "code",
   "execution_count": 11,
   "metadata": {},
   "outputs": [],
   "source": [
    "df = df.sample(10000)  # keep things manageable"
   ]
  },
  {
   "cell_type": "code",
   "execution_count": 15,
   "metadata": {},
   "outputs": [],
   "source": [
    "df['zsp'] = pd.to_numeric(df['zsp'], errors='coerce')"
   ]
  },
  {
   "cell_type": "code",
   "execution_count": 16,
   "metadata": {},
   "outputs": [
    {
     "data": {
      "text/plain": [
       "10000"
      ]
     },
     "execution_count": 16,
     "metadata": {},
     "output_type": "execute_result"
    }
   ],
   "source": [
    "len(df)"
   ]
  },
  {
   "cell_type": "code",
   "execution_count": 17,
   "metadata": {},
   "outputs": [
    {
     "data": {
      "text/plain": [
       "<matplotlib.axes._subplots.AxesSubplot at 0x12d5ab6a0>"
      ]
     },
     "execution_count": 17,
     "metadata": {},
     "output_type": "execute_result"
    },
    {
     "data": {
      "image/png": "[encoded data removed]",
      "text/plain": [
       "<matplotlib.figure.Figure at 0x12d5ab0b8>"
      ]
     },
     "metadata": {},
     "output_type": "display_data"
    }
   ],
   "source": [
    "df['zsp'].hist()"
   ]
  },
  {
   "cell_type": "code",
   "execution_count": null,
   "metadata": {
    "collapsed": true
   },
   "outputs": [],
   "source": []
  }
 ],
 "metadata": {
  "kernelspec": {
   "display_name": "Python 3",
   "language": "python",
   "name": "python3"
  },
  "language_info": {
   "codemirror_mode": {
    "name": "ipython",
    "version": 3
   },
   "file_extension": ".py",
   "mimetype": "text/x-python",
   "name": "python",
   "nbconvert_exporter": "python",
   "pygments_lexer": "ipython3",
   "version": "3.6.3"
  }
 },
 "nbformat": 4,
 "nbformat_minor": 2
}
