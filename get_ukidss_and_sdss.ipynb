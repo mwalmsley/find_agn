{
 "cells": [
  {
   "cell_type": "markdown",
   "metadata": {},
   "source": [
    "# Get UKIDSS and SDSS\n",
    "\n",
    "This notebook\n",
    "- records the data download process for UKIDSS and SDSS\n",
    "- plots the overall galaxy sample features"
   ]
  },
  {
   "cell_type": "markdown",
   "metadata": {},
   "source": [
    "### UKIDSS-DR9 \n",
    "\n",
    "Survey Overview paper (Lawrence 2007):\n",
    "\n",
    "> The survey uses the Wide Field Camera (WFCAM) on the 3.8-m United Kingdom Infra-red Telescope (UKIRT).WFCAM\n",
    "has an instantaneous field of view of 0.21 deg2, considerably larger than any previous IR camera on a 4-m class telescope, along with a pixel size of 0.4 arcsec. The tip-tilt system on UKIRT delivers close to natural seeing (median size 0.6 arcsec)\n",
    "\n",
    "> filters ZYJHK covering the wavelength range 0.83–2.37 µm\n",
    "\n",
    "Band |λeff (µm) | Range (µm) | Width (µm)\n",
    "---| --- | --- | ---\n",
    "Z |0.8817 | 0.836−0.929 | 0.093\n",
    "Y |1.0305 | 0.979−1.081 | 0.102\n",
    "J |1.2483 | 1.169−1.328 | 0.159\n",
    "H |1.6313 | 1.492−1.784 | 0.292\n",
    "K|2.2010 | 2.029−2.380 | 0.351\n",
    "\n",
    "> The wavelength limits are set by the total system transmission, and defined as 50 per cent transmission relative to the peak. Complete transmission functions are shown in Hewett et al. (2006)\n",
    "\n",
    "> The JHK passbands are as close as possible to theMKOsystem; the Z passband is similar to the SDSS z? passband, but has a cleaner red tail. The Y passband is a new one centred at 0.97µm, which bridges the gap between Z and J. *The exact passband was designed with the aim of discriminating between high-redshift quasars and brown dwarfs (Ed: sadly, this is aimed at z = 7 quasars).*\n",
    "\n",
    "5 - 10 second exposures. Four spaced detectors, tiled over four pointings for complete coverage. Pixel size 0.4 arcsecs. Field of view 0.207deg2 per exposure. Allowing for pointings and jittering, standard shallow images have an exposure time of 40 secs.\n",
    "    \n",
    "UKIDSS survey goal 9 (Lawrence):\n",
    "\n",
    "> (ix) to clarify the relationship between quasars, ULIRGs, and\n",
    "galaxy formation\n",
    "\n",
    "\n",
    "DR2 paper:\n",
    "> All magnitudes quoted in this paper use the Vega system described by Hewett et al. (2006). Depths, where not explicitly specified, are the total brightness of a point source for which the flux integrated in a 2′′ diameter aperture is detected at 5σ.\n",
    "\n",
    "Tables have quality control flags under the columns ppErrBits. See the DR2 paper:\n",
    "> ppErrBits and in the source tables the appro- priate filter name is appended, e.g. yppErrBits, j 1ppErrBits. The attribute is a 32-bit integer where each bit can be set to 1 to flag up to 32 dif- ferent quality issues. The quality issues are ranked in severity, with the more severe issues assigned to higher bits. Currently only five bits are set as follows: Bit 4 = the source is the offspring of deblending, Bit 6 = a bad pixel exists in the de- fault aperture (1′′ radius), Bit 16 = the source is likely to contain saturated pixels, Bit 19 = the source is likely to be either cross-talk or a real source affected by cross-talk (see D06 and W07 for details on cross-talk), Bit 22 = the source is likely to include incomplete data as a consequence of lying close to the frame boundary.\n",
    "\n"
   ]
  },
  {
   "cell_type": "markdown",
   "metadata": {},
   "source": [
    "\n",
    "#### Large Area Survey (LAS)\n",
    "\n",
    "\n",
    "LAS: Large Area Survey, 4000 sq degrees of extragalactic observations matched to the SDSS footprint\n",
    "See more here: http://www.ukidss.org/surveys/surveys.html\n",
    "\n",
    "\n",
    "LAS has depths of: Y=20.2, J=19.6, H=18.8, K=18.2 [source](http://wsa.roe.ac.uk/dr2plus_release.html) [paper](https://academic.oup.com/mnras/article/379/4/1599/999542#17561427) (paper quotes Y = 20.3)\n",
    "\n",
    "UKIDSS has various cross-matching already one in DR2 (e.g. SDSS) and more later (e.g. WISE). Perhaps I can use this directly?\n",
    "\n",
    "Lawrence:\n",
    "\n",
    "> The LAS, when combined with the matching SDSS data, will\n",
    "produce a catalogue of half a million galaxies with colours and spectra, and several million galaxies with photometric redshifts\n",
    "\n",
    "> Field selection for the LAS was designed to have a good spread\n",
    "in RA, to have a reasonable amount of sky coverage at lower decli- nations, for follow-up on ESO telescopes, to keep below the UKIRT declination limit (+60◦), all while lying with the SDSS footprint. There are three subareas.\n",
    "\n",
    "1. The LAS equatorial block: 1908 deg2. This includes most of\n",
    "SDSS stripes from 9 to 16. \n",
    "2. The LAS northern block: 1908 deg2. This includes most of\n",
    "SDSS stripes from 26 to 33. \n",
    "3. The LAS southern stripe: 212 deg2. This is a section of SDSS\n",
    "stripe 82, extending over −25◦ < RA < +60◦,−1.◦25 < Dec.<\n",
    "+1.◦25. \n",
    "\n",
    "An interesting note on color: \n",
    "> Because LAS uses a large fraction of the UKIDSS time, it would obviously not demand the best seeing. Colours are very important, and some objects are variable, which argues for do- ing all four bands when each sky position is visited; on the other hand, the Y and J observations require darker sky than the H and K observations. MSBs (hour-long observation blocks) were then grouped so that H and K would be done together, and Y and J done separately. However, the queue is monitored and adjusted to try to make sure that the YJ and HK observations are not too far apart. Our current plan is to prioritize uniformity and achieve the limits given in Section 2. Thus, in poorer seeing conditions the integration times are increased to compensate.\n",
    "\n",
    "*TODO: completeness in terms of luminosity?*\n"
   ]
  },
  {
   "cell_type": "markdown",
   "metadata": {},
   "source": [
    "\n",
    "\n",
    "#### Data Releases \n",
    "\n",
    "The latest UKIDSS release is DR11. \n",
    "\n",
    "Only the data releases up to DR2 have an attached 'official' summary paper. \n",
    "\n",
    "Each data release adds sky coverage up to (at least) DR9. Ongoing coverage is shown against the final 'ideal' coverage (matched to SDSS) at the url dr{n}_last.html.\n",
    "\n",
    "http://wsa.roe.ac.uk/dr10_las.html\n",
    "http://wsa.roe.ac.uk/dr9_las.html\n",
    "http://wsa.roe.ac.uk/dr8_las.html\n",
    "\n",
    "\n",
    "The contents of each release are cumulative and described here: http://wsa.roe.ac.uk/releasehistory.html\n",
    "\n",
    "\n",
    "DR9 appears to be the last significant data release, in 2011. \n",
    "\n",
    "DR10 is very similar to DR9. The only relevant change from DR9 is the inclusion of WISE all-sky neighbour tables (previously used WISE_prelim) [source](http://wsa.roe.ac.uk/dr10plus_release.html). The DR10 [url](http://wsa.roe.ac.uk/dr10_las.html) gives no coverage table and, by eye, coverage seems close to equivalent (except in J-2). DR11 only adds UDS (ultra-deep survey) data [source](http://wsa.roe.ac.uk/dr11plus_release.html).\n",
    "\n",
    "As of DR9 (last reported table at the URL system above) the coverage was:\n",
    "\n",
    "Filter | Area (sq deg)\n",
    "---| ---\n",
    "Y | 3387.8\n",
    "J1 |3404.5\n",
    "J2 | 260.1\n",
    "H | 3495.1\n",
    "K | 3518.5\n",
    "Y+J+H+K | 3176.7\n",
    "Y/J/H/K | 3597.9\n",
    "\n",
    "\n",
    "> For standard UKIDSS products...a relatively simple spatial pairing algorithm is used. A pairing radius of roughly 1 arcsec (varying between sub- surveys) is used, several times larger than the astrometric accuracy (0.1 arcsec), in order to allow merging of moving objects between epochs. \n",
    "\n",
    "> ...follows SDSS practice in storing a neighbour table for every source, so that much more flexible source matching algorithms can be applied later."
   ]
  },
  {
   "cell_type": "markdown",
   "metadata": {},
   "source": [
    "#### Galaxy Zoo\n",
    "\n",
    "70,000 UKIDSS galaxy images have been classified for morphology by Galaxy Zoo - [finishing blog post](https://blog.galaxyzoo.org/2014/05/29/finished-with-galaxy-zoo-ukidss/). As far as I can see (Google Scholar), these morphologies were never released. **If they're in a decent state, this could be an excellent resource - IR morphology!**"
   ]
  },
  {
   "cell_type": "markdown",
   "metadata": {},
   "source": [
    "#### Data access\n",
    "\n",
    "A brilliant quote from Lawrence: \n",
    "\n",
    "> Raw data are shipped by tape on\n",
    "a weekly basis from Hawaii to Cambridge\n",
    "\n",
    "UKIDSS allows for [SQL access](http://wsa.roe.ac.uk/dbaccess.html). The most relevant table is LASsources. For extended sources, the [recommended view](http://wsa.roe.ac.uk/www/wsa_browser.html)/views/lasExtendedSource) is: \n",
    "\n",
    "\n",
    "`SELECT *\n",
    "FROM   lasSource\n",
    "/*     Seamless selection of unique sources: */\n",
    "WHERE  (priOrSec <= 0 or priOrSec = frameSetID)\n",
    "/*     Good quality, extended detection in J1, H and K: */\n",
    "AND    (j_1Class = +1 OR j_1Class = -3) AND j_1ppErrBits < 256\n",
    "AND    (hClass   = +1 OR hClass = -3) AND hppErrBits < 256\n",
    "AND    (kClass   = +1 OR kClass = -3) AND kppErrBits < 256\n",
    "/*     Good quality, extended detection, or no detection, in Y and J2: */\n",
    "AND    (yClass   = +1 OR yClass = -3 OR yClass = -9999) AND yppErrBits < 256\n",
    "AND    (j_2Class = +1 OR j_2Class = -3 OR j_2Class = -9999) AND j_2ppErrBits < 256`\n",
    "\n",
    "\n",
    "The table ExternalSurvey table describes the external surveys (e.g. SDSS) held within the UKIDSS database. \n",
    "\n",
    "The table ExternalSurveyTable lists sources from external surveys, but documentation is poor.\n",
    "\n",
    "SDSS DR8 has been cross-matched into LAS - the table is `lasSourceXDR8PhotoObj`. This gives the angular separation of the sources and the DR8 ObjID. This can be filtered for galaxies (i.e. not stars) and primary/secondary.\n",
    "\n",
    "Also cross-matched: FIRST, GALEX,IRAS, NVSS, ROSAT, WISE (but perhaps only point sources?).\n",
    "\n",
    "However, it's not obvious how to use the SQL form to search against **another** database. They do provide a [crossmatch form](http://wsa.roe.ac.uk/crossID_notes.html) that searches against a set of user-provided co-ordinates, but only up to a limit of 50,000. It seems easier to use a third party service.\n"
   ]
  },
  {
   "cell_type": "code",
   "execution_count": null,
   "metadata": {},
   "outputs": [],
   "source": []
  },
  {
   "cell_type": "markdown",
   "metadata": {},
   "source": [
    "## OSSY - improved SDSS spectral lines"
   ]
  },
  {
   "cell_type": "markdown",
   "metadata": {},
   "source": [
    "OSSY improves on the DR7 absorbtion and emission line measurements vs. the original DR7 and the JHU-MPA re-release.\n",
    "\n",
    "OSSY is available as several large FITS tables from [here](http://gem.yonsei.ac.kr/~ksoh/wordpress/).\n",
    "\n",
    "OSSY includes \n",
    "- the stellar redshift and velocity dispersion found as part of the fitting process\n",
    "- The quality of the spectra and the continuum fit, measured by S/sN and rN/sN (see Sec. 3)\n",
    "- For each emission line:\n",
    "    - Observed and de-reddened fluxes and equiv. widths\n",
    "    - A/N ratio describing how well the line is detected (see Sec. 2.2)\n",
    "    - Nsig (?)\n",
    "    - Redshift and EW, for recombination and forbidden lines\n",
    "    - Instellar redenning Av, including nebular component Av,neb\n",
    "    - Flag for broad line region Y/N\n",
    "- Absorbtion line measurements for specific indices. \"Only useful for S/sN > 30\"\n",
    "\n",
    "> All the previously listed redshift, velocity dispersion, flux,\n",
    "equivalent width, and reddening values are **also accompanied by their corresponding formal uncertainties**\n",
    "\n",
    "\n"
   ]
  },
  {
   "cell_type": "markdown",
   "metadata": {},
   "source": [
    "#### Data Access\n",
    "\n",
    "OSSY is a manageable size - around 1GB total. OSSY is provided as several FITS tables."
   ]
  },
  {
   "cell_type": "code",
   "execution_count": 2,
   "metadata": {},
   "outputs": [],
   "source": [
    "import os\n",
    "\n",
    "from astropy.io import fits\n",
    "from astropy.table import Table, join\n",
    "import pandas as pd"
   ]
  },
  {
   "cell_type": "code",
   "execution_count": 3,
   "metadata": {},
   "outputs": [],
   "source": [
    "ossy_dir = 'catalogs/ossy/raw'"
   ]
  },
  {
   "cell_type": "code",
   "execution_count": 4,
   "metadata": {},
   "outputs": [],
   "source": [
    "emission_flux = Table.read(os.path.join(ossy_dir, 'OSSY_emission_flux_errors.fits'))"
   ]
  },
  {
   "cell_type": "markdown",
   "metadata": {},
   "source": [
    "Emission flux contains \n",
    "- intrinsic (i.e. after accounting for reddenning) emission line measurements \n",
    "- 'formal' errors on those intrinsic measurements"
   ]
  },
  {
   "cell_type": "code",
   "execution_count": 11,
   "metadata": {
    "scrolled": true
   },
   "outputs": [
    {
     "data": {
      "text/plain": [
       "['SDSS_ID',\n",
       " 'VEL_BALMER',\n",
       " 'VEL_BALMER_E',\n",
       " 'VEL_FORBIDDEN',\n",
       " 'VEL_FORBIDDEN_E',\n",
       " 'SIG_BALMER',\n",
       " 'SIG_BALMER_E',\n",
       " 'SIG_FORBIDDEN',\n",
       " 'SIG_FORBIDDEN_E',\n",
       " 'EBV_STAR',\n",
       " 'EBV_GAS',\n",
       " 'E_EBV_STAR',\n",
       " 'E_EBV_GAS',\n",
       " 'VEL_STARS',\n",
       " 'VEL_STARS_E',\n",
       " 'SIGMA_STARS',\n",
       " 'SIGMA_STARS_E',\n",
       " 'HEII_3203',\n",
       " 'NEV_3345',\n",
       " 'NEV_3425',\n",
       " 'OII_3726',\n",
       " 'OII_3728',\n",
       " 'NEIII_3868',\n",
       " 'NEIII_3967',\n",
       " 'H5_3889',\n",
       " 'HE_3970',\n",
       " 'HD_4101',\n",
       " 'HG_4340',\n",
       " 'OIII_4363',\n",
       " 'HEII_4685',\n",
       " 'ARIV_4711',\n",
       " 'ARIV_4740',\n",
       " 'HB_4861',\n",
       " 'OIII_4958',\n",
       " 'OIII_5006',\n",
       " 'NI_5197',\n",
       " 'NI_5200',\n",
       " 'HEI_5875',\n",
       " 'OI_6300',\n",
       " 'OI_6363',\n",
       " 'NII_6547',\n",
       " 'HA_6562',\n",
       " 'NII_6583',\n",
       " 'SII_6716',\n",
       " 'SII_6730',\n",
       " 'ARIII_7135',\n",
       " 'HEII_3203_ERROR',\n",
       " 'NEV_3345_ERROR',\n",
       " 'NEV_3425_ERROR',\n",
       " 'OII_3726_ERROR',\n",
       " 'OII_3728_ERROR',\n",
       " 'NEIII_3868_ERROR',\n",
       " 'NEIII_3967_ERROR',\n",
       " 'H5_3889_ERROR',\n",
       " 'HE_3970_ERROR',\n",
       " 'HD_4101_ERROR',\n",
       " 'HG_4340_ERROR',\n",
       " 'OIII_4363_ERROR',\n",
       " 'HEII_4685_ERROR',\n",
       " 'ARIV_4711_ERROR',\n",
       " 'ARIV_4740_ERROR',\n",
       " 'HB_4861_ERROR',\n",
       " 'OIII_4958_ERROR',\n",
       " 'OIII_5006_ERROR',\n",
       " 'NI_5197_ERROR',\n",
       " 'NI_5200_ERROR',\n",
       " 'HEI_5875_ERROR',\n",
       " 'OI_6300_ERROR',\n",
       " 'OI_6363_ERROR',\n",
       " 'NII_6547_ERROR',\n",
       " 'HA_6562_ERROR',\n",
       " 'NII_6583_ERROR',\n",
       " 'SII_6716_ERROR',\n",
       " 'SII_6730_ERROR',\n",
       " 'ARIII_7135_ERROR']"
      ]
     },
     "execution_count": 11,
     "metadata": {},
     "output_type": "execute_result"
    }
   ],
   "source": [
    "emission_flux.colnames  "
   ]
  },
  {
   "cell_type": "code",
   "execution_count": 6,
   "metadata": {},
   "outputs": [],
   "source": [
    "emission_ew = Table.read(os.path.join(ossy_dir, 'OSSY_emission_aon_ew_sky.fits'))"
   ]
  },
  {
   "cell_type": "markdown",
   "metadata": {},
   "source": [
    "Emission EW contains, for each emission line:\n",
    "- equivalent width\n",
    "- A over N: not actually described in the paper?"
   ]
  },
  {
   "cell_type": "code",
   "execution_count": 10,
   "metadata": {
    "scrolled": true
   },
   "outputs": [
    {
     "data": {
      "text/plain": [
       "['SDSS_ID',\n",
       " 'AON_HEII_3203',\n",
       " 'AON_NEV_3345',\n",
       " 'AON_NEV_3425',\n",
       " 'AON_OII_3726',\n",
       " 'AON_OII_3728',\n",
       " 'AON_NEIII_3868',\n",
       " 'AON_NEIII_3967',\n",
       " 'AON_H5_3889',\n",
       " 'AON_HE_3970',\n",
       " 'AON_HD_4101',\n",
       " 'AON_HG_4340',\n",
       " 'AON_OIII_4363',\n",
       " 'AON_HEII_4685',\n",
       " 'AON_ARIV_4711',\n",
       " 'AON_ARIV_4740',\n",
       " 'AON_HB_4861',\n",
       " 'AON_OIII_4958',\n",
       " 'AON_OIII_5006',\n",
       " 'AON_NI_5197',\n",
       " 'AON_NI_5200',\n",
       " 'AON_HEI_5875',\n",
       " 'AON_OI_6300',\n",
       " 'AON_OI_6363',\n",
       " 'AON_NII_6547',\n",
       " 'AON_HA_6562',\n",
       " 'AON_NII_6583',\n",
       " 'AON_SII_6716',\n",
       " 'AON_SII_6730',\n",
       " 'AON_ARIII_7135',\n",
       " 'EW_HEII_3203',\n",
       " 'EW_NEV_3345',\n",
       " 'EW_NEV_3425',\n",
       " 'EW_OII_3726',\n",
       " 'EW_OII_3728',\n",
       " 'EW_NEIII_3868',\n",
       " 'EW_NEIII_3967',\n",
       " 'EW_H5_3889',\n",
       " 'EW_HE_3970',\n",
       " 'EW_HD_4101',\n",
       " 'EW_HG_4340',\n",
       " 'EW_OIII_4363',\n",
       " 'EW_HEII_4685',\n",
       " 'EW_ARIV_4711',\n",
       " 'EW_ARIV_4740',\n",
       " 'EW_HB_4861',\n",
       " 'EW_OIII_4958',\n",
       " 'EW_OIII_5006',\n",
       " 'EW_NI_5197',\n",
       " 'EW_NI_5200',\n",
       " 'EW_HEI_5875',\n",
       " 'EW_OI_6300',\n",
       " 'EW_OI_6363',\n",
       " 'EW_NII_6547',\n",
       " 'EW_HA_6562',\n",
       " 'EW_NII_6583',\n",
       " 'EW_SII_6716',\n",
       " 'EW_SII_6730',\n",
       " 'EW_ARIII_7135',\n",
       " 'FLAG_HEII_3203',\n",
       " 'FLAG_NEV_3345',\n",
       " 'FLAG_NEV_3425',\n",
       " 'FLAG_OII_3726',\n",
       " 'FLAG_OII_3728',\n",
       " 'FLAG_NEIII_3868',\n",
       " 'FLAG_NEIII_3967',\n",
       " 'FLAG_H5_3889',\n",
       " 'FLAG_HE_3970',\n",
       " 'FLAG_HD_4101',\n",
       " 'FLAG_HG_4340',\n",
       " 'FLAG_OIII_4363',\n",
       " 'FLAG_HEII_4685',\n",
       " 'FLAG_ARIV_4711',\n",
       " 'FLAG_ARIV_4740',\n",
       " 'FLAG_HB_4861',\n",
       " 'FLAG_OIII_4958',\n",
       " 'FLAG_OIII_5006',\n",
       " 'FLAG_NI_5197',\n",
       " 'FLAG_NI_5200',\n",
       " 'FLAG_HEI_5875',\n",
       " 'FLAG_OI_6300',\n",
       " 'FLAG_OI_6363',\n",
       " 'FLAG_NII_6547',\n",
       " 'FLAG_HA_6562',\n",
       " 'FLAG_NII_6583',\n",
       " 'FLAG_SII_6716',\n",
       " 'FLAG_SII_6730',\n",
       " 'FLAG_ARIII_7135']"
      ]
     },
     "execution_count": 10,
     "metadata": {},
     "output_type": "execute_result"
    }
   ],
   "source": [
    "emission_ew.colnames"
   ]
  },
  {
   "cell_type": "code",
   "execution_count": 13,
   "metadata": {},
   "outputs": [
    {
     "data": {
      "text/plain": [
       "['SDSS_ID', 'RN_SN', 'S_SN', 'NSIGMA']"
      ]
     },
     "execution_count": 13,
     "metadata": {},
     "output_type": "execute_result"
    }
   ],
   "source": [
    "continuum_qa = Table.read(os.path.join(ossy_dir, 'OSSY_quality_assessment_continuum.fits'))\n",
    "continuum_qa.colnames"
   ]
  },
  {
   "cell_type": "markdown",
   "metadata": {},
   "source": [
    "S_Sn is the typical measure: signal over the formal statistical noise. \n",
    "\n",
    "Rn measures the residual noise, and so Rn / Sn measures if the size of the actual residuals matches the expected residuals from statistical noise. Rn / Sn of around 1 indicates a good continuum fit.\n",
    "\n",
    "N sigma measures whether a galaxy is an outlier (i.e. has been poorly matched to a continuum template) or is merely well-matched yet somewhat different due to random fluctuations."
   ]
  },
  {
   "cell_type": "code",
   "execution_count": 14,
   "metadata": {},
   "outputs": [
    {
     "data": {
      "text/plain": [
       "['SDSS_ID',\n",
       " 'NSIGMA_OII_3726_3729',\n",
       " 'NSIGMA_HB_4861',\n",
       " 'NSIGMA_OIII_5007',\n",
       " 'NSIGMA_OI_6300',\n",
       " 'NSIGMA_OI_6363',\n",
       " 'NSIGMA_HA_NII_6547_6583',\n",
       " 'NSIGMA_SII_6716_6730']"
      ]
     },
     "execution_count": 14,
     "metadata": {},
     "output_type": "execute_result"
    }
   ],
   "source": [
    "emission_qa = Table.read(os.path.join(ossy_dir, 'OSSY_quality_assessment_emission.fits'))\n",
    "emission_qa.colnames"
   ]
  },
  {
   "cell_type": "markdown",
   "metadata": {},
   "source": [
    "N sigma for emission lines is analagous to the N sigma for continuum lines. rN/sN is computed in a small region around the line, carefully sized according to the line width. Given a width, there is a typical distribution of rN/sN for good fits. N sigma measures deviation from this typical rN/sN distribution. \n",
    "\n",
    "Interpretation: is the line unusual but the fit is probably good, or is it truly an outlier versus the measured fit? "
   ]
  },
  {
   "cell_type": "code",
   "execution_count": 15,
   "metadata": {},
   "outputs": [
    {
     "data": {
      "text/plain": [
       "['SDSS_ID', 'RA', 'DEC', 'REDSHIFT', 'PLATE', 'MJD', 'FIBERID']"
      ]
     },
     "execution_count": 15,
     "metadata": {},
     "output_type": "execute_result"
    }
   ],
   "source": [
    "ossy_sdss = Table.read(os.path.join(ossy_dir, 'OSSY_SDSS_parameters.fits'))\n",
    "ossy_sdss.colnames"
   ]
  },
  {
   "cell_type": "markdown",
   "metadata": {},
   "source": [
    "This table includes the basic sdss info and fibre id for the spectra. Note that it's not required to match into SDSS: the SDSS ID is sufficient and included as the primary key for each table."
   ]
  },
  {
   "cell_type": "code",
   "execution_count": 16,
   "metadata": {},
   "outputs": [],
   "source": [
    "ossy = join(emission_flux, emission_ew, keys='SDSS_ID', join_type='inner')\n",
    "ossy = join(ossy, continuum_qa, keys='SDSS_ID', join_type='inner')\n",
    "ossy = join(ossy, emission_qa, keys='SDSS_ID', join_type='inner')\n",
    "ossy = join(ossy, ossy_sdss, keys='SDSS_ID', join_type='inner')"
   ]
  },
  {
   "cell_type": "code",
   "execution_count": 17,
   "metadata": {},
   "outputs": [],
   "source": [
    "assert len(ossy) == len(emission_flux) == len(emission_ew) == len(continuum_qa) == len(emission_qa) == len(ossy_sdss)"
   ]
  },
  {
   "cell_type": "code",
   "execution_count": null,
   "metadata": {},
   "outputs": [],
   "source": [
    "# make everything lowercase\n",
    "# ossy = ossy.rename(columns=dict(zip(ossy.columns.values, list(map(lambda x: x.lower(), ossy.columns.values)))))"
   ]
  },
  {
   "cell_type": "code",
   "execution_count": 18,
   "metadata": {},
   "outputs": [
    {
     "data": {
      "text/plain": [
       "['SDSS_ID',\n",
       " 'VEL_BALMER',\n",
       " 'VEL_BALMER_E',\n",
       " 'VEL_FORBIDDEN',\n",
       " 'VEL_FORBIDDEN_E',\n",
       " 'SIG_BALMER',\n",
       " 'SIG_BALMER_E',\n",
       " 'SIG_FORBIDDEN',\n",
       " 'SIG_FORBIDDEN_E',\n",
       " 'EBV_STAR',\n",
       " 'EBV_GAS',\n",
       " 'E_EBV_STAR',\n",
       " 'E_EBV_GAS',\n",
       " 'VEL_STARS',\n",
       " 'VEL_STARS_E',\n",
       " 'SIGMA_STARS',\n",
       " 'SIGMA_STARS_E',\n",
       " 'HEII_3203',\n",
       " 'NEV_3345',\n",
       " 'NEV_3425',\n",
       " 'OII_3726',\n",
       " 'OII_3728',\n",
       " 'NEIII_3868',\n",
       " 'NEIII_3967',\n",
       " 'H5_3889',\n",
       " 'HE_3970',\n",
       " 'HD_4101',\n",
       " 'HG_4340',\n",
       " 'OIII_4363',\n",
       " 'HEII_4685',\n",
       " 'ARIV_4711',\n",
       " 'ARIV_4740',\n",
       " 'HB_4861',\n",
       " 'OIII_4958',\n",
       " 'OIII_5006',\n",
       " 'NI_5197',\n",
       " 'NI_5200',\n",
       " 'HEI_5875',\n",
       " 'OI_6300',\n",
       " 'OI_6363',\n",
       " 'NII_6547',\n",
       " 'HA_6562',\n",
       " 'NII_6583',\n",
       " 'SII_6716',\n",
       " 'SII_6730',\n",
       " 'ARIII_7135',\n",
       " 'HEII_3203_ERROR',\n",
       " 'NEV_3345_ERROR',\n",
       " 'NEV_3425_ERROR',\n",
       " 'OII_3726_ERROR',\n",
       " 'OII_3728_ERROR',\n",
       " 'NEIII_3868_ERROR',\n",
       " 'NEIII_3967_ERROR',\n",
       " 'H5_3889_ERROR',\n",
       " 'HE_3970_ERROR',\n",
       " 'HD_4101_ERROR',\n",
       " 'HG_4340_ERROR',\n",
       " 'OIII_4363_ERROR',\n",
       " 'HEII_4685_ERROR',\n",
       " 'ARIV_4711_ERROR',\n",
       " 'ARIV_4740_ERROR',\n",
       " 'HB_4861_ERROR',\n",
       " 'OIII_4958_ERROR',\n",
       " 'OIII_5006_ERROR',\n",
       " 'NI_5197_ERROR',\n",
       " 'NI_5200_ERROR',\n",
       " 'HEI_5875_ERROR',\n",
       " 'OI_6300_ERROR',\n",
       " 'OI_6363_ERROR',\n",
       " 'NII_6547_ERROR',\n",
       " 'HA_6562_ERROR',\n",
       " 'NII_6583_ERROR',\n",
       " 'SII_6716_ERROR',\n",
       " 'SII_6730_ERROR',\n",
       " 'ARIII_7135_ERROR',\n",
       " 'AON_HEII_3203',\n",
       " 'AON_NEV_3345',\n",
       " 'AON_NEV_3425',\n",
       " 'AON_OII_3726',\n",
       " 'AON_OII_3728',\n",
       " 'AON_NEIII_3868',\n",
       " 'AON_NEIII_3967',\n",
       " 'AON_H5_3889',\n",
       " 'AON_HE_3970',\n",
       " 'AON_HD_4101',\n",
       " 'AON_HG_4340',\n",
       " 'AON_OIII_4363',\n",
       " 'AON_HEII_4685',\n",
       " 'AON_ARIV_4711',\n",
       " 'AON_ARIV_4740',\n",
       " 'AON_HB_4861',\n",
       " 'AON_OIII_4958',\n",
       " 'AON_OIII_5006',\n",
       " 'AON_NI_5197',\n",
       " 'AON_NI_5200',\n",
       " 'AON_HEI_5875',\n",
       " 'AON_OI_6300',\n",
       " 'AON_OI_6363',\n",
       " 'AON_NII_6547',\n",
       " 'AON_HA_6562',\n",
       " 'AON_NII_6583',\n",
       " 'AON_SII_6716',\n",
       " 'AON_SII_6730',\n",
       " 'AON_ARIII_7135',\n",
       " 'EW_HEII_3203',\n",
       " 'EW_NEV_3345',\n",
       " 'EW_NEV_3425',\n",
       " 'EW_OII_3726',\n",
       " 'EW_OII_3728',\n",
       " 'EW_NEIII_3868',\n",
       " 'EW_NEIII_3967',\n",
       " 'EW_H5_3889',\n",
       " 'EW_HE_3970',\n",
       " 'EW_HD_4101',\n",
       " 'EW_HG_4340',\n",
       " 'EW_OIII_4363',\n",
       " 'EW_HEII_4685',\n",
       " 'EW_ARIV_4711',\n",
       " 'EW_ARIV_4740',\n",
       " 'EW_HB_4861',\n",
       " 'EW_OIII_4958',\n",
       " 'EW_OIII_5006',\n",
       " 'EW_NI_5197',\n",
       " 'EW_NI_5200',\n",
       " 'EW_HEI_5875',\n",
       " 'EW_OI_6300',\n",
       " 'EW_OI_6363',\n",
       " 'EW_NII_6547',\n",
       " 'EW_HA_6562',\n",
       " 'EW_NII_6583',\n",
       " 'EW_SII_6716',\n",
       " 'EW_SII_6730',\n",
       " 'EW_ARIII_7135',\n",
       " 'FLAG_HEII_3203',\n",
       " 'FLAG_NEV_3345',\n",
       " 'FLAG_NEV_3425',\n",
       " 'FLAG_OII_3726',\n",
       " 'FLAG_OII_3728',\n",
       " 'FLAG_NEIII_3868',\n",
       " 'FLAG_NEIII_3967',\n",
       " 'FLAG_H5_3889',\n",
       " 'FLAG_HE_3970',\n",
       " 'FLAG_HD_4101',\n",
       " 'FLAG_HG_4340',\n",
       " 'FLAG_OIII_4363',\n",
       " 'FLAG_HEII_4685',\n",
       " 'FLAG_ARIV_4711',\n",
       " 'FLAG_ARIV_4740',\n",
       " 'FLAG_HB_4861',\n",
       " 'FLAG_OIII_4958',\n",
       " 'FLAG_OIII_5006',\n",
       " 'FLAG_NI_5197',\n",
       " 'FLAG_NI_5200',\n",
       " 'FLAG_HEI_5875',\n",
       " 'FLAG_OI_6300',\n",
       " 'FLAG_OI_6363',\n",
       " 'FLAG_NII_6547',\n",
       " 'FLAG_HA_6562',\n",
       " 'FLAG_NII_6583',\n",
       " 'FLAG_SII_6716',\n",
       " 'FLAG_SII_6730',\n",
       " 'FLAG_ARIII_7135',\n",
       " 'RN_SN',\n",
       " 'S_SN',\n",
       " 'NSIGMA',\n",
       " 'NSIGMA_OII_3726_3729',\n",
       " 'NSIGMA_HB_4861',\n",
       " 'NSIGMA_OIII_5007',\n",
       " 'NSIGMA_OI_6300',\n",
       " 'NSIGMA_OI_6363',\n",
       " 'NSIGMA_HA_NII_6547_6583',\n",
       " 'NSIGMA_SII_6716_6730',\n",
       " 'RA',\n",
       " 'DEC',\n",
       " 'REDSHIFT',\n",
       " 'PLATE',\n",
       " 'MJD',\n",
       " 'FIBERID']"
      ]
     },
     "execution_count": 18,
     "metadata": {},
     "output_type": "execute_result"
    }
   ],
   "source": [
    "ossy.colnames"
   ]
  },
  {
   "cell_type": "code",
   "execution_count": 19,
   "metadata": {},
   "outputs": [
    {
     "data": {
      "text/html": [
       "<i>Row index=0</i>\n",
       "<table id=\"table90428966448\">\n",
       "<thead><tr><th>SDSS_ID</th><th>VEL_BALMER</th><th>VEL_BALMER_E</th><th>VEL_FORBIDDEN</th><th>VEL_FORBIDDEN_E</th><th>SIG_BALMER</th><th>SIG_BALMER_E</th><th>SIG_FORBIDDEN</th><th>SIG_FORBIDDEN_E</th><th>EBV_STAR</th><th>EBV_GAS</th><th>E_EBV_STAR</th><th>E_EBV_GAS</th><th>VEL_STARS</th><th>VEL_STARS_E</th><th>SIGMA_STARS</th><th>SIGMA_STARS_E</th><th>HEII_3203</th><th>NEV_3345</th><th>NEV_3425</th><th>OII_3726</th><th>OII_3728</th><th>NEIII_3868</th><th>NEIII_3967</th><th>H5_3889</th><th>HE_3970</th><th>HD_4101</th><th>HG_4340</th><th>OIII_4363</th><th>HEII_4685</th><th>ARIV_4711</th><th>ARIV_4740</th><th>HB_4861</th><th>OIII_4958</th><th>OIII_5006</th><th>NI_5197</th><th>NI_5200</th><th>HEI_5875</th><th>OI_6300</th><th>OI_6363</th><th>NII_6547</th><th>HA_6562</th><th>NII_6583</th><th>SII_6716</th><th>SII_6730</th><th>ARIII_7135</th><th>HEII_3203_ERROR</th><th>NEV_3345_ERROR</th><th>NEV_3425_ERROR</th><th>OII_3726_ERROR</th><th>OII_3728_ERROR</th><th>NEIII_3868_ERROR</th><th>NEIII_3967_ERROR</th><th>H5_3889_ERROR</th><th>HE_3970_ERROR</th><th>HD_4101_ERROR</th><th>HG_4340_ERROR</th><th>OIII_4363_ERROR</th><th>HEII_4685_ERROR</th><th>ARIV_4711_ERROR</th><th>ARIV_4740_ERROR</th><th>HB_4861_ERROR</th><th>OIII_4958_ERROR</th><th>OIII_5006_ERROR</th><th>NI_5197_ERROR</th><th>NI_5200_ERROR</th><th>HEI_5875_ERROR</th><th>OI_6300_ERROR</th><th>OI_6363_ERROR</th><th>NII_6547_ERROR</th><th>HA_6562_ERROR</th><th>NII_6583_ERROR</th><th>SII_6716_ERROR</th><th>SII_6730_ERROR</th><th>ARIII_7135_ERROR</th><th>AON_HEII_3203</th><th>AON_NEV_3345</th><th>AON_NEV_3425</th><th>AON_OII_3726</th><th>AON_OII_3728</th><th>AON_NEIII_3868</th><th>AON_NEIII_3967</th><th>AON_H5_3889</th><th>AON_HE_3970</th><th>AON_HD_4101</th><th>AON_HG_4340</th><th>AON_OIII_4363</th><th>AON_HEII_4685</th><th>AON_ARIV_4711</th><th>AON_ARIV_4740</th><th>AON_HB_4861</th><th>AON_OIII_4958</th><th>AON_OIII_5006</th><th>AON_NI_5197</th><th>AON_NI_5200</th><th>AON_HEI_5875</th><th>AON_OI_6300</th><th>AON_OI_6363</th><th>AON_NII_6547</th><th>AON_HA_6562</th><th>AON_NII_6583</th><th>AON_SII_6716</th><th>AON_SII_6730</th><th>AON_ARIII_7135</th><th>EW_HEII_3203</th><th>EW_NEV_3345</th><th>EW_NEV_3425</th><th>EW_OII_3726</th><th>EW_OII_3728</th><th>EW_NEIII_3868</th><th>EW_NEIII_3967</th><th>EW_H5_3889</th><th>EW_HE_3970</th><th>EW_HD_4101</th><th>EW_HG_4340</th><th>EW_OIII_4363</th><th>EW_HEII_4685</th><th>EW_ARIV_4711</th><th>EW_ARIV_4740</th><th>EW_HB_4861</th><th>EW_OIII_4958</th><th>EW_OIII_5006</th><th>EW_NI_5197</th><th>EW_NI_5200</th><th>EW_HEI_5875</th><th>EW_OI_6300</th><th>EW_OI_6363</th><th>EW_NII_6547</th><th>EW_HA_6562</th><th>EW_NII_6583</th><th>EW_SII_6716</th><th>EW_SII_6730</th><th>EW_ARIII_7135</th><th>FLAG_HEII_3203</th><th>FLAG_NEV_3345</th><th>FLAG_NEV_3425</th><th>FLAG_OII_3726</th><th>FLAG_OII_3728</th><th>FLAG_NEIII_3868</th><th>FLAG_NEIII_3967</th><th>FLAG_H5_3889</th><th>FLAG_HE_3970</th><th>FLAG_HD_4101</th><th>FLAG_HG_4340</th><th>FLAG_OIII_4363</th><th>FLAG_HEII_4685</th><th>FLAG_ARIV_4711</th><th>FLAG_ARIV_4740</th><th>FLAG_HB_4861</th><th>FLAG_OIII_4958</th><th>FLAG_OIII_5006</th><th>FLAG_NI_5197</th><th>FLAG_NI_5200</th><th>FLAG_HEI_5875</th><th>FLAG_OI_6300</th><th>FLAG_OI_6363</th><th>FLAG_NII_6547</th><th>FLAG_HA_6562</th><th>FLAG_NII_6583</th><th>FLAG_SII_6716</th><th>FLAG_SII_6730</th><th>FLAG_ARIII_7135</th><th>RN_SN</th><th>S_SN</th><th>NSIGMA</th><th>NSIGMA_OII_3726_3729</th><th>NSIGMA_HB_4861</th><th>NSIGMA_OIII_5007</th><th>NSIGMA_OI_6300</th><th>NSIGMA_OI_6363</th><th>NSIGMA_HA_NII_6547_6583</th><th>NSIGMA_SII_6716_6730</th><th>RA</th><th>DEC</th><th>REDSHIFT</th><th>PLATE</th><th>MJD</th><th>FIBERID</th></tr></thead>\n",
       "<thead><tr><th>bytes18</th><th>float64</th><th>float64</th><th>float64</th><th>float64</th><th>float64</th><th>float64</th><th>float64</th><th>float64</th><th>float64</th><th>float64</th><th>float64</th><th>float64</th><th>float64</th><th>float64</th><th>float64</th><th>float64</th><th>float64</th><th>float64</th><th>float64</th><th>float64</th><th>float64</th><th>float64</th><th>float64</th><th>float64</th><th>float64</th><th>float64</th><th>float64</th><th>float64</th><th>float64</th><th>float64</th><th>float64</th><th>float64</th><th>float64</th><th>float64</th><th>float64</th><th>float64</th><th>float64</th><th>float64</th><th>float64</th><th>float64</th><th>float64</th><th>float64</th><th>float64</th><th>float64</th><th>float64</th><th>float64</th><th>float64</th><th>float64</th><th>float64</th><th>float64</th><th>float64</th><th>float64</th><th>float64</th><th>float64</th><th>float64</th><th>float64</th><th>float64</th><th>float64</th><th>float64</th><th>float64</th><th>float64</th><th>float64</th><th>float64</th><th>float64</th><th>float64</th><th>float64</th><th>float64</th><th>float64</th><th>float64</th><th>float64</th><th>float64</th><th>float64</th><th>float64</th><th>float64</th><th>float64</th><th>float64</th><th>float64</th><th>float64</th><th>float64</th><th>float64</th><th>float64</th><th>float64</th><th>float64</th><th>float64</th><th>float64</th><th>float64</th><th>float64</th><th>float64</th><th>float64</th><th>float64</th><th>float64</th><th>float64</th><th>float64</th><th>float64</th><th>float64</th><th>float64</th><th>float64</th><th>float64</th><th>float64</th><th>float64</th><th>float64</th><th>float64</th><th>float64</th><th>float64</th><th>float64</th><th>float64</th><th>float64</th><th>float64</th><th>float64</th><th>float64</th><th>float64</th><th>float64</th><th>float64</th><th>float64</th><th>float64</th><th>float64</th><th>float64</th><th>float64</th><th>float64</th><th>float64</th><th>float64</th><th>float64</th><th>float64</th><th>float64</th><th>float64</th><th>float64</th><th>float64</th><th>float64</th><th>float64</th><th>float64</th><th>float64</th><th>float64</th><th>int16</th><th>int16</th><th>int16</th><th>int16</th><th>int16</th><th>int16</th><th>int16</th><th>int16</th><th>int16</th><th>int16</th><th>int16</th><th>int16</th><th>int16</th><th>int16</th><th>int16</th><th>int16</th><th>int16</th><th>int16</th><th>int16</th><th>int16</th><th>int16</th><th>int16</th><th>int16</th><th>int16</th><th>int16</th><th>int16</th><th>int16</th><th>int16</th><th>int16</th><th>float64</th><th>float64</th><th>float64</th><th>float64</th><th>float64</th><th>float64</th><th>float64</th><th>float64</th><th>float64</th><th>float64</th><th>float64</th><th>float64</th><th>float64</th><th>bytes4</th><th>bytes5</th><th>bytes3</th></tr></thead>\n",
       "<tr><td>587722952230174996</td><td>9020.345703125</td><td>0.9532999992370605</td><td>9026.228515625</td><td>1.5326000452041626</td><td>69.67520141601562</td><td>0.9873999953269958</td><td>63.18539810180664</td><td>1.7511999607086182</td><td>0.038600001484155655</td><td>0.10499999672174454</td><td>0.006800000090152025</td><td>0.022700000554323196</td><td>9001.296875</td><td>7.100399971008301</td><td>50.06489944458008</td><td>12.072699546813965</td><td>-9999.0</td><td>-9999.0</td><td>-9999.0</td><td>295.1846008300781</td><td>328.1108093261719</td><td>42.97520065307617</td><td>22.75950050354004</td><td>18.424400329589844</td><td>27.88559913635254</td><td>45.3140983581543</td><td>81.66500091552734</td><td>2.3125998973846436</td><td>15.383399963378906</td><td>7.383200168609619</td><td>2.3763999938964844</td><td>174.28500366210938</td><td>91.43170166015625</td><td>261.2336120605469</td><td>5.220600128173828</td><td>0.0</td><td>22.02239990234375</td><td>13.454299926757812</td><td>4.480299949645996</td><td>28.337299346923828</td><td>497.95721435546875</td><td>83.34490203857422</td><td>117.86029815673828</td><td>73.48750305175781</td><td>8.469599723815918</td><td>-9999.0</td><td>-9999.0</td><td>-9999.0</td><td>51.39870071411133</td><td>58.87070083618164</td><td>10.423299789428711</td><td>7.796199798583984</td><td>1.795300006866455</td><td>2.7172999382019043</td><td>4.415599822998047</td><td>7.957699775695801</td><td>4.39139986038208</td><td>4.7307000160217285</td><td>5.131899833679199</td><td>4.306700229644775</td><td>16.982900619506836</td><td>12.633899688720703</td><td>36.096900939941406</td><td>3.6782000064849854</td><td>-9999.0</td><td>4.08489990234375</td><td>2.7269999980926514</td><td>0.9081000089645386</td><td>3.0367000102996826</td><td>48.52259826660156</td><td>8.931400299072266</td><td>12.10509967803955</td><td>7.480599880218506</td><td>0.5810999870300293</td><td>-9999.0</td><td>-9999.0</td><td>-9999.0</td><td>36.12120056152344</td><td>40.13999938964844</td><td>5.188799858093262</td><td>2.7232000827789307</td><td>2.1066999435424805</td><td>3.164900064468384</td><td>5.082300186157227</td><td>8.969400405883789</td><td>0.2671999931335449</td><td>1.7295000553131104</td><td>0.8282999992370605</td><td>0.26600000262260437</td><td>18.324100494384766</td><td>10.051899909973145</td><td>28.608800888061523</td><td>0.5630999803543091</td><td>0.0</td><td>2.2541000843048096</td><td>1.3301000595092773</td><td>0.44110000133514404</td><td>2.7548000812530518</td><td>45.8838005065918</td><td>8.083000183105469</td><td>11.32800006866455</td><td>7.056300163269043</td><td>0.791100025177002</td><td>-9999.0</td><td>-9999.0</td><td>-9999.0</td><td>14.453499794006348</td><td>16.906200408935547</td><td>1.5719000101089478</td><td>0.8695999979972839</td><td>0.7211999893188477</td><td>1.0478999614715576</td><td>1.559000015258789</td><td>2.8817999362945557</td><td>0.07970000058412552</td><td>0.5228999853134155</td><td>0.24979999661445618</td><td>0.08229999989271164</td><td>6.685400009155273</td><td>3.261399984359741</td><td>9.815099716186523</td><td>0.22609999775886536</td><td>0.0</td><td>1.0089000463485718</td><td>0.682200014591217</td><td>0.22679999470710754</td><td>1.51419997215271</td><td>27.342100143432617</td><td>4.637599945068359</td><td>6.584199905395508</td><td>4.166299819946289</td><td>0.5293999910354614</td><td>0</td><td>0</td><td>0</td><td>0</td><td>0</td><td>0</td><td>0</td><td>0</td><td>0</td><td>0</td><td>0</td><td>0</td><td>0</td><td>0</td><td>0</td><td>0</td><td>0</td><td>0</td><td>0</td><td>0</td><td>0</td><td>0</td><td>0</td><td>0</td><td>0</td><td>0</td><td>0</td><td>0</td><td>0</td><td>0.9012</td><td>12.8855</td><td>-0.8687</td><td>-0.0819</td><td>0.6187</td><td>0.3086</td><td>-0.5788</td><td>1.8112</td><td>-0.9315</td><td>-1.241</td><td>236.24709547</td><td>-0.4752636</td><td>0.03028430044651</td><td>342</td><td>51691</td><td>261</td></tr>\n",
       "</table>"
      ],
      "text/plain": [
       "<Row index=0>\n",
       "     SDSS_ID         VEL_BALMER      VEL_BALMER_E    VEL_FORBIDDEN   VEL_FORBIDDEN_E       SIG_BALMER       SIG_BALMER_E      SIG_FORBIDDEN    SIG_FORBIDDEN_E         EBV_STAR             EBV_GAS            E_EBV_STAR           E_EBV_GAS        VEL_STARS     VEL_STARS_E       SIGMA_STARS      SIGMA_STARS_E    HEII_3203 NEV_3345 NEV_3425      OII_3726          OII_3728         NEIII_3868        NEIII_3967         H5_3889            HE_3970          HD_4101           HG_4340          OIII_4363          HEII_4685          ARIV_4711         ARIV_4740           HB_4861           OIII_4958         OIII_5006          NI_5197      NI_5200      HEI_5875          OI_6300            OI_6363           NII_6547           HA_6562            NII_6583          SII_6716           SII_6730         ARIII_7135    HEII_3203_ERROR NEV_3345_ERROR NEV_3425_ERROR   OII_3726_ERROR    OII_3728_ERROR   NEIII_3868_ERROR   NEIII_3967_ERROR   H5_3889_ERROR     HE_3970_ERROR      HD_4101_ERROR     HG_4340_ERROR   OIII_4363_ERROR   HEII_4685_ERROR    ARIV_4711_ERROR   ARIV_4740_ERROR    HB_4861_ERROR     OIII_4958_ERROR    OIII_5006_ERROR     NI_5197_ERROR    NI_5200_ERROR  HEI_5875_ERROR    OI_6300_ERROR      OI_6363_ERROR      NII_6547_ERROR     HA_6562_ERROR     NII_6583_ERROR    SII_6716_ERROR    SII_6730_ERROR   ARIII_7135_ERROR  AON_HEII_3203 AON_NEV_3345 AON_NEV_3425    AON_OII_3726      AON_OII_3728     AON_NEIII_3868    AON_NEIII_3967      AON_H5_3889        AON_HE_3970       AON_HD_4101       AON_HG_4340      AON_OIII_4363      AON_HEII_4685      AON_ARIV_4711       AON_ARIV_4740       AON_HB_4861       AON_OIII_4958      AON_OIII_5006       AON_NI_5197     AON_NI_5200    AON_HEI_5875       AON_OI_6300         AON_OI_6363        AON_NII_6547      AON_HA_6562       AON_NII_6583      AON_SII_6716      AON_SII_6730     AON_ARIII_7135  EW_HEII_3203 EW_NEV_3345 EW_NEV_3425    EW_OII_3726        EW_OII_3728       EW_NEIII_3868      EW_NEIII_3967        EW_H5_3889         EW_HE_3970         EW_HD_4101        EW_HG_4340         EW_OIII_4363       EW_HEII_4685        EW_ARIV_4711        EW_ARIV_4740        EW_HB_4861       EW_OIII_4958      EW_OIII_5006        EW_NI_5197     EW_NI_5200    EW_HEI_5875         EW_OI_6300         EW_OI_6363       EW_NII_6547        EW_HA_6562        EW_NII_6583       EW_SII_6716       EW_SII_6730      EW_ARIII_7135    FLAG_HEII_3203 FLAG_NEV_3345 FLAG_NEV_3425 FLAG_OII_3726 FLAG_OII_3728 FLAG_NEIII_3868 FLAG_NEIII_3967 FLAG_H5_3889 FLAG_HE_3970 FLAG_HD_4101 FLAG_HG_4340 FLAG_OIII_4363 FLAG_HEII_4685 FLAG_ARIV_4711 FLAG_ARIV_4740 FLAG_HB_4861 FLAG_OIII_4958 FLAG_OIII_5006 FLAG_NI_5197 FLAG_NI_5200 FLAG_HEI_5875 FLAG_OI_6300 FLAG_OI_6363 FLAG_NII_6547 FLAG_HA_6562 FLAG_NII_6583 FLAG_SII_6716 FLAG_SII_6730 FLAG_ARIII_7135  RN_SN    S_SN   NSIGMA NSIGMA_OII_3726_3729 NSIGMA_HB_4861 NSIGMA_OIII_5007 NSIGMA_OI_6300 NSIGMA_OI_6363 NSIGMA_HA_NII_6547_6583 NSIGMA_SII_6716_6730      RA         DEC         REDSHIFT     PLATE   MJD   FIBERID\n",
       "     bytes18          float64          float64          float64          float64            float64           float64            float64           float64             float64              float64             float64              float64          float64        float64           float64           float64        float64  float64  float64       float64           float64           float64           float64           float64            float64          float64           float64           float64            float64            float64           float64            float64            float64           float64           float64      float64      float64           float64            float64           float64            float64            float64           float64            float64           float64          float64        float64        float64          float64           float64           float64            float64           float64           float64            float64           float64          float64           float64            float64           float64           float64            float64            float64            float64          float64        float64           float64            float64            float64            float64           float64           float64           float64           float64          float64      float64      float64         float64           float64           float64           float64            float64            float64           float64           float64           float64            float64            float64             float64            float64            float64            float64            float64         float64        float64            float64             float64            float64           float64           float64           float64           float64           float64        float64      float64     float64        float64            float64            float64            float64            float64            float64            float64           float64             float64            float64             float64             float64            float64           float64           float64            float64        float64        float64            float64            float64           float64           float64            float64           float64           float64           float64           int16          int16         int16         int16         int16          int16           int16         int16        int16        int16        int16         int16          int16          int16          int16         int16         int16          int16         int16        int16         int16        int16        int16         int16        int16         int16         int16         int16          int16      float64 float64 float64       float64           float64         float64         float64        float64             float64               float64          float64     float64       float64      bytes4 bytes5  bytes3\n",
       "------------------ -------------- ------------------ -------------- ------------------ ----------------- ------------------ ----------------- ------------------ -------------------- ------------------- -------------------- -------------------- ----------- ----------------- ----------------- ------------------ --------- -------- -------- ----------------- ----------------- ----------------- ----------------- ------------------ ----------------- ---------------- ----------------- ------------------ ------------------ ----------------- ------------------ ------------------ ----------------- ----------------- ----------------- ------- ----------------- ------------------ ----------------- ------------------ ------------------ ----------------- ------------------ ----------------- ----------------- --------------- -------------- -------------- ----------------- ----------------- ------------------ ----------------- ----------------- ------------------ ----------------- ----------------- ---------------- ------------------ ----------------- ----------------- ------------------ ------------------ ------------------ ------------------ ------------- ---------------- ------------------ ------------------ ------------------ ----------------- ----------------- ----------------- ----------------- ------------------ ------------- ------------ ------------ ----------------- ----------------- ----------------- ------------------ ------------------ ----------------- ----------------- ----------------- ------------------ ------------------ ------------------ ------------------- ------------------ ------------------ ------------------ ------------------ ----------- ------------------ ------------------ ------------------- ------------------ ---------------- ----------------- ----------------- ----------------- ----------------- ------------ ----------- ----------- ------------------ ------------------ ------------------ ------------------ ------------------ ------------------ ----------------- ------------------ ------------------- ------------------ ------------------- ------------------- ----------------- ----------------- ----------------- ------------------- ---------- ------------------ ----------------- ------------------- ---------------- ------------------ ----------------- ----------------- ----------------- ------------------ -------------- ------------- ------------- ------------- ------------- --------------- --------------- ------------ ------------ ------------ ------------ -------------- -------------- -------------- -------------- ------------ -------------- -------------- ------------ ------------ ------------- ------------ ------------ ------------- ------------ ------------- ------------- ------------- --------------- ------- ------- ------- -------------------- -------------- ---------------- -------------- -------------- ----------------------- -------------------- ------------ ---------- ---------------- ------ ------ -------\n",
       "587722952230174996 9020.345703125 0.9532999992370605 9026.228515625 1.5326000452041626 69.67520141601562 0.9873999953269958 63.18539810180664 1.7511999607086182 0.038600001484155655 0.10499999672174454 0.006800000090152025 0.022700000554323196 9001.296875 7.100399971008301 50.06489944458008 12.072699546813965   -9999.0  -9999.0  -9999.0 295.1846008300781 328.1108093261719 42.97520065307617 22.75950050354004 18.424400329589844 27.88559913635254 45.3140983581543 81.66500091552734 2.3125998973846436 15.383399963378906 7.383200168609619 2.3763999938964844 174.28500366210938 91.43170166015625 261.2336120605469 5.220600128173828     0.0 22.02239990234375 13.454299926757812 4.480299949645996 28.337299346923828 497.95721435546875 83.34490203857422 117.86029815673828 73.48750305175781 8.469599723815918         -9999.0        -9999.0        -9999.0 51.39870071411133 58.87070083618164 10.423299789428711 7.796199798583984 1.795300006866455 2.7172999382019043 4.415599822998047 7.957699775695801 4.39139986038208 4.7307000160217285 5.131899833679199 4.306700229644775 16.982900619506836 12.633899688720703 36.096900939941406 3.6782000064849854       -9999.0 4.08489990234375 2.7269999980926514 0.9081000089645386 3.0367000102996826 48.52259826660156 8.931400299072266 12.10509967803955 7.480599880218506 0.5810999870300293       -9999.0      -9999.0      -9999.0 36.12120056152344 40.13999938964844 5.188799858093262 2.7232000827789307 2.1066999435424805 3.164900064468384 5.082300186157227 8.969400405883789 0.2671999931335449 1.7295000553131104 0.8282999992370605 0.26600000262260437 18.324100494384766 10.051899909973145 28.608800888061523 0.5630999803543091         0.0 2.2541000843048096 1.3301000595092773 0.44110000133514404 2.7548000812530518 45.8838005065918 8.083000183105469 11.32800006866455 7.056300163269043 0.791100025177002      -9999.0     -9999.0     -9999.0 14.453499794006348 16.906200408935547 1.5719000101089478 0.8695999979972839 0.7211999893188477 1.0478999614715576 1.559000015258789 2.8817999362945557 0.07970000058412552 0.5228999853134155 0.24979999661445618 0.08229999989271164 6.685400009155273 3.261399984359741 9.815099716186523 0.22609999775886536        0.0 1.0089000463485718 0.682200014591217 0.22679999470710754 1.51419997215271 27.342100143432617 4.637599945068359 6.584199905395508 4.166299819946289 0.5293999910354614              0             0             0             0             0               0               0            0            0            0            0              0              0              0              0            0              0              0            0            0             0            0            0             0            0             0             0             0               0  0.9012 12.8855 -0.8687              -0.0819         0.6187           0.3086        -0.5788         1.8112                 -0.9315               -1.241 236.24709547 -0.4752636 0.03028430044651   342   51691     261"
      ]
     },
     "execution_count": 19,
     "metadata": {},
     "output_type": "execute_result"
    }
   ],
   "source": [
    "ossy[0]"
   ]
  },
  {
   "cell_type": "code",
   "execution_count": 21,
   "metadata": {},
   "outputs": [],
   "source": [
    "joined_dir = 'catalogs/ossy/joined'\n",
    "if not os.path.isdir(joined_dir):\n",
    "    os.mkdir(joined_dir)\n",
    "# ossy.to_csv(os.path.join(joined_dir, 'ossy_joined.csv'), index=False)  # takes a minute, large csv\n",
    "ossy.write(os.path.join(joined_dir, 'ossy_joined.fits'), overwrite=True)"
   ]
  },
  {
   "cell_type": "code",
   "execution_count": null,
   "metadata": {},
   "outputs": [],
   "source": [
    "ossy['fiberid']"
   ]
  },
  {
   "cell_type": "markdown",
   "metadata": {},
   "source": [
    "The OSSY creators + Kevin Schawinski have a 2015 [catalog](http://gem.yonsei.ac.kr/~ksoh/wordpress/?page_id=138) of Type 1 (broad line) AGN, selected using OSSY and other surveys. This might be a great starting place and test case for forward modelling."
   ]
  },
  {
   "cell_type": "markdown",
   "metadata": {},
   "source": [
    "## SDSS Derived Galaxy Properties\n",
    "\n",
    "OSSY gives excellent spectral lines. However, we'd also like to know some basic properties - color, mass, etc.\n",
    "\n",
    "The NSA Atlas (v1_0_1, latest) is used as the definitive local galaxy list for Galaxy Zoo (SDSS) and has a wealth of interesting derived data products. The schema is [here](http://skyserver.sdss.org/dr13/en/help/browser/browser.aspx#&&history=description+nsatlas+U). \n",
    "\n",
    "v1_0_1 is part of DR13, while OSSY is part of DR7. However, we can still match on fibre_id - the id of the plate hole used to take the spectrum.\n",
    "\n",
    "\n",
    "*[MPA-JHU](https://wwwmpa.mpa-garching.mpg.de/SDSS/DR7/) includes some derived data, but not to the same extent as the NSA.*\n",
    "\n",
    "*SDSS DR7 has fundamental imaging properties listed [here](http://classic.sdss.org/dr7/).*\n"
   ]
  },
  {
   "cell_type": "markdown",
   "metadata": {},
   "source": [
    "## Download Approach"
   ]
  },
  {
   "cell_type": "markdown",
   "metadata": {},
   "source": [
    "Neither SDSS nor UKIDSS has a complete copy of the other on their servers. Therefore, I need to use remote access to BOTH services and then perform a join.\n",
    "\n",
    "\n",
    "I tried downloading UKIDSS and SDSS via the CDS X-Match service available from cdsxmatch.u-strasbg.fr/xmatch. The latest available catalogs on X-Match via Vizier were UKIDSS-DR9 LAS+GCS+DXS and SDSS DR12. However, the download fell over above a handful of rows.\n"
   ]
  },
  {
   "cell_type": "markdown",
   "metadata": {},
   "source": [
    "**Current approach:**\n",
    "1. Load the NSA into Topcat from FITS (with useful columns only?)\n",
    "2. Get UKIDSS cross-matched (5 arcsecs) with NSA via Topcat remote Vizier crossmatch (X button)\n",
    "3. Locally match (matchsticks button) NSA/UKIDSS and OSSY_joined (5 arcsecs)\n",
    "\n",
    "The UKIDSS table used was `UKIDSS-DR9 LAS` on Vizier, available from [here](http://vizier.u-strasbg.fr/viz-bin/VizieR-3?-source=II/319/las9) with a schema."
   ]
  },
  {
   "cell_type": "markdown",
   "metadata": {},
   "source": [
    "There's 185,000 galaxies and 305 columns - let's narrow down to the interesting ones\n",
    "\n",
    "### NSA"
   ]
  },
  {
   "cell_type": "code",
   "execution_count": 44,
   "metadata": {},
   "outputs": [],
   "source": [
    "general = ['fibreid', 'iauname', 'ra', 'dec', 'plug_ra', 'plug_dec', 'z', 'survey', 'programname']\n",
    "\n",
    "\n",
    "\n",
    "bands = ['f', 'n', 'u', 'g', 'r', 'i', 'z']\n",
    "petro_mags =  ['elpetro_absmag_{}' for band in bands]\n",
    "\n",
    "geometry = [\n",
    "    'elpetro_ba',  # Axis ratio used for elliptical apertures\n",
    "    'elpetro_phi',  # Position angle (east of north) used for elliptical apertures \n",
    "    'elpetro_theta',  # Elliptical SDSS-style Petrosian radius (r-band, with correction)\n",
    "    'petro_theta',  # Azimuthally averaged SDSS-style Petrosian radius (derived from r band)\n",
    "    'petro_th50',  # Azimuthally averaged SDSS-style Petrosian 50% light radius (derived from r band)\n",
    "    'petro_th90',\n",
    "    'petro_phi50',  # Angle (E of N) from Stokes parameters at 50% light radius(based on r-band)\n",
    "    'petro_phi90',\n",
    "    'petro_ba50',  # Axis ratio b/a from Stokes parameters at 50% light radius (based on r-band)\n",
    "    'petro_ba90'\n",
    "] \n",
    "\n",
    "derived = [\n",
    "    'elpetro_mass',  # Stellar mass from K-correction fit (use with caution) for elliptical Petrosian fluxes\n",
    "    'elpetro_b300',  # Star-formation rate b-parameter (current over past average) for last 300 Myrs (from K-correction fit, use with caution) for elliptical Petrosian fluxes\n",
    "    'elpetro_b1000',  # Star-formation rate b-parameter (current over past average) for last 1 Gyrs (from K-correction fit, use with caution) for elliptical Petrosian fluxes\n",
    "    'elpetro_mets'  # Metallicity from K-correction fit (use with caution) for elliptical Petrosian fluxes\n",
    "]\n",
    "\n",
    "fiber_flux = ['fiber_flux_{}' for band in bands]\n",
    "\n",
    "useful_nsa_cols = general + petro_mags + geometry + derived"
   ]
  },
  {
   "cell_type": "markdown",
   "metadata": {},
   "source": [
    "### UKIDSS"
   ]
  },
  {
   "cell_type": "code",
   "execution_count": 48,
   "metadata": {},
   "outputs": [],
   "source": [
    "identity = [\n",
    "    'ULAS',\n",
    "    'RAJ2000',\n",
    "    'DEJ2000',\n",
    "    'ID',  # Unique ID of this merged detection (sourceID) ,\n",
    "    'mergedClass',  # Source class: -3 = probable (70-90%) galaxy, -2 = probable (70-90%) star, -1 = star, 0 = noise, 1 = galaxy. Renamed from cl on schema?\n",
    "    'pG'  # probability of being a galaxy\n",
    "]\n",
    "\n",
    "magnitudes = [\n",
    "    'Ymag',\n",
    "    'Jmag1',\n",
    "    'Jmag2',\n",
    "    'Hmag',\n",
    "    'Kmag'\n",
    "]\n",
    "\n",
    "magnitude_errors  = list(map(lambda x: 'e_' + x, magnitudes))\n",
    "\n",
    "useful_ukidss_cols = identity + magnitudes + magnitude_errors"
   ]
  },
  {
   "cell_type": "markdown",
   "metadata": {},
   "source": [
    "### OSSY\n",
    "\n",
    "We want everything from OSSY."
   ]
  },
  {
   "cell_type": "code",
   "execution_count": 28,
   "metadata": {},
   "outputs": [],
   "source": [
    "temp_ossy = Table.read('catalogs/ossy/joined/ossy_joined.fits')\n",
    "useful_ossy_cols = ossy.colnames\n",
    "del temp_ossy"
   ]
  },
  {
   "cell_type": "code",
   "execution_count": 45,
   "metadata": {},
   "outputs": [],
   "source": [
    "all_useful_cols = list(map(lambda x: x.upper(), useful_nsa_cols + useful_ukidss_cols + useful_ossy_cols))"
   ]
  },
  {
   "cell_type": "code",
   "execution_count": 39,
   "metadata": {},
   "outputs": [
    {
     "name": "stdout",
     "output_type": "stream",
     "text": [
      "['FIBREID', 'IAUNAME', 'RA', 'DEC', 'PLUG_RA', 'PLUG_DEC', 'Z', 'SURVEY', 'PROGRAMNAME', 'ELPETRO_ABSMAG_{}', 'ELPETRO_ABSMAG_{}', 'ELPETRO_ABSMAG_{}', 'ELPETRO_ABSMAG_{}', 'ELPETRO_ABSMAG_{}', 'ELPETRO_ABSMAG_{}', 'ELPETRO_ABSMAG_{}', 'ELPETRO_BA', 'ELPETRO_PHI', 'ELPETRO_THETA', 'PETRO_THETA', 'PETRO_TH50', 'PETRO_TH90', 'PETRO_PHI50', 'PETRO_PHI90PETRO_BA50', 'PETRO_BA90', 'ELPETRO_MASS', 'ELPETRO_B300', 'ELPETRO_B1000', 'ELPETRO_METS', 'ULAS', 'RAJ2000', 'DEJ2000', 'ID', 'CL', 'PG', 'YMAG', 'JMAG1', 'JMAG2', 'HMAG', 'KMAG', 'E_YMAG', 'E_JMAG1', 'E_JMAG2', 'E_HMAG', 'E_KMAG', 'SDSS_ID', 'VEL_BALMER', 'VEL_BALMER_E', 'VEL_FORBIDDEN', 'VEL_FORBIDDEN_E', 'SIG_BALMER', 'SIG_BALMER_E', 'SIG_FORBIDDEN', 'SIG_FORBIDDEN_E', 'EBV_STAR', 'EBV_GAS', 'E_EBV_STAR', 'E_EBV_GAS', 'VEL_STARS', 'VEL_STARS_E', 'SIGMA_STARS', 'SIGMA_STARS_E', 'HEII_3203', 'NEV_3345', 'NEV_3425', 'OII_3726', 'OII_3728', 'NEIII_3868', 'NEIII_3967', 'H5_3889', 'HE_3970', 'HD_4101', 'HG_4340', 'OIII_4363', 'HEII_4685', 'ARIV_4711', 'ARIV_4740', 'HB_4861', 'OIII_4958', 'OIII_5006', 'NI_5197', 'NI_5200', 'HEI_5875', 'OI_6300', 'OI_6363', 'NII_6547', 'HA_6562', 'NII_6583', 'SII_6716', 'SII_6730', 'ARIII_7135', 'HEII_3203_ERROR', 'NEV_3345_ERROR', 'NEV_3425_ERROR', 'OII_3726_ERROR', 'OII_3728_ERROR', 'NEIII_3868_ERROR', 'NEIII_3967_ERROR', 'H5_3889_ERROR', 'HE_3970_ERROR', 'HD_4101_ERROR', 'HG_4340_ERROR', 'OIII_4363_ERROR', 'HEII_4685_ERROR', 'ARIV_4711_ERROR', 'ARIV_4740_ERROR', 'HB_4861_ERROR', 'OIII_4958_ERROR', 'OIII_5006_ERROR', 'NI_5197_ERROR', 'NI_5200_ERROR', 'HEI_5875_ERROR', 'OI_6300_ERROR', 'OI_6363_ERROR', 'NII_6547_ERROR', 'HA_6562_ERROR', 'NII_6583_ERROR', 'SII_6716_ERROR', 'SII_6730_ERROR', 'ARIII_7135_ERROR', 'AON_HEII_3203', 'AON_NEV_3345', 'AON_NEV_3425', 'AON_OII_3726', 'AON_OII_3728', 'AON_NEIII_3868', 'AON_NEIII_3967', 'AON_H5_3889', 'AON_HE_3970', 'AON_HD_4101', 'AON_HG_4340', 'AON_OIII_4363', 'AON_HEII_4685', 'AON_ARIV_4711', 'AON_ARIV_4740', 'AON_HB_4861', 'AON_OIII_4958', 'AON_OIII_5006', 'AON_NI_5197', 'AON_NI_5200', 'AON_HEI_5875', 'AON_OI_6300', 'AON_OI_6363', 'AON_NII_6547', 'AON_HA_6562', 'AON_NII_6583', 'AON_SII_6716', 'AON_SII_6730', 'AON_ARIII_7135', 'EW_HEII_3203', 'EW_NEV_3345', 'EW_NEV_3425', 'EW_OII_3726', 'EW_OII_3728', 'EW_NEIII_3868', 'EW_NEIII_3967', 'EW_H5_3889', 'EW_HE_3970', 'EW_HD_4101', 'EW_HG_4340', 'EW_OIII_4363', 'EW_HEII_4685', 'EW_ARIV_4711', 'EW_ARIV_4740', 'EW_HB_4861', 'EW_OIII_4958', 'EW_OIII_5006', 'EW_NI_5197', 'EW_NI_5200', 'EW_HEI_5875', 'EW_OI_6300', 'EW_OI_6363', 'EW_NII_6547', 'EW_HA_6562', 'EW_NII_6583', 'EW_SII_6716', 'EW_SII_6730', 'EW_ARIII_7135', 'FLAG_HEII_3203', 'FLAG_NEV_3345', 'FLAG_NEV_3425', 'FLAG_OII_3726', 'FLAG_OII_3728', 'FLAG_NEIII_3868', 'FLAG_NEIII_3967', 'FLAG_H5_3889', 'FLAG_HE_3970', 'FLAG_HD_4101', 'FLAG_HG_4340', 'FLAG_OIII_4363', 'FLAG_HEII_4685', 'FLAG_ARIV_4711', 'FLAG_ARIV_4740', 'FLAG_HB_4861', 'FLAG_OIII_4958', 'FLAG_OIII_5006', 'FLAG_NI_5197', 'FLAG_NI_5200', 'FLAG_HEI_5875', 'FLAG_OI_6300', 'FLAG_OI_6363', 'FLAG_NII_6547', 'FLAG_HA_6562', 'FLAG_NII_6583', 'FLAG_SII_6716', 'FLAG_SII_6730', 'FLAG_ARIII_7135', 'RN_SN', 'S_SN', 'NSIGMA', 'NSIGMA_OII_3726_3729', 'NSIGMA_HB_4861', 'NSIGMA_OIII_5007', 'NSIGMA_OI_6300', 'NSIGMA_OI_6363', 'NSIGMA_HA_NII_6547_6583', 'NSIGMA_SII_6716_6730', 'RA', 'DEC', 'REDSHIFT', 'PLATE', 'MJD', 'FIBERID']\n"
     ]
    }
   ],
   "source": [
    "print(all_useful_cols)"
   ]
  },
  {
   "cell_type": "code",
   "execution_count": null,
   "metadata": {},
   "outputs": [],
   "source": []
  },
  {
   "cell_type": "markdown",
   "metadata": {},
   "source": [
    "## Access the Downloaded Data"
   ]
  },
  {
   "cell_type": "code",
   "execution_count": 34,
   "metadata": {},
   "outputs": [],
   "source": [
    "data = Table.read('catalogs/nsa_v1_0_1_ossy_ukidss_dr9_las.fits')"
   ]
  },
  {
   "cell_type": "code",
   "execution_count": 37,
   "metadata": {},
   "outputs": [
    {
     "data": {
      "text/plain": [
       "['IAUNAME',\n",
       " 'SUBDIR',\n",
       " 'RA_1',\n",
       " 'DEC_1',\n",
       " 'ISDSS',\n",
       " 'INED',\n",
       " 'ISIXDF',\n",
       " 'IALFALFA',\n",
       " 'IZCAT',\n",
       " 'ITWODF',\n",
       " 'MAG',\n",
       " 'Z',\n",
       " 'ZSRC',\n",
       " 'SIZE',\n",
       " 'RUN',\n",
       " 'CAMCOL',\n",
       " 'FIELD',\n",
       " 'RERUN',\n",
       " 'XPOS',\n",
       " 'YPOS',\n",
       " 'NSAID',\n",
       " 'ZDIST',\n",
       " 'SERSIC_NMGY',\n",
       " 'SERSIC_NMGY_IVAR',\n",
       " 'SERSIC_OK',\n",
       " 'SERSIC_RNMGY',\n",
       " 'SERSIC_ABSMAG',\n",
       " 'SERSIC_AMIVAR',\n",
       " 'EXTINCTION',\n",
       " 'SERSIC_KCORRECT',\n",
       " 'SERSIC_KCOEFF',\n",
       " 'SERSIC_MTOL',\n",
       " 'SERSIC_B300',\n",
       " 'SERSIC_B1000',\n",
       " 'SERSIC_METS',\n",
       " 'SERSIC_MASS',\n",
       " 'XCEN',\n",
       " 'YCEN',\n",
       " 'NPROF',\n",
       " 'PROFMEAN',\n",
       " 'PROFMEAN_IVAR',\n",
       " 'QSTOKES',\n",
       " 'USTOKES',\n",
       " 'BASTOKES',\n",
       " 'PHISTOKES',\n",
       " 'PETRO_FLUX',\n",
       " 'PETRO_FLUX_IVAR',\n",
       " 'FIBER_FLUX',\n",
       " 'FIBER_FLUX_IVAR',\n",
       " 'PETRO_BA50',\n",
       " 'PETRO_PHI50',\n",
       " 'PETRO_BA90',\n",
       " 'PETRO_PHI90',\n",
       " 'SERSIC_FLUX',\n",
       " 'SERSIC_FLUX_IVAR',\n",
       " 'SERSIC_N',\n",
       " 'SERSIC_BA',\n",
       " 'SERSIC_PHI',\n",
       " 'ASYMMETRY',\n",
       " 'CLUMPY',\n",
       " 'DFLAGS',\n",
       " 'AID',\n",
       " 'PID',\n",
       " 'DVERSION',\n",
       " 'PROFTHETA',\n",
       " 'PETRO_THETA',\n",
       " 'PETRO_TH50',\n",
       " 'PETRO_TH90',\n",
       " 'SERSIC_TH50',\n",
       " 'PLATE_1',\n",
       " 'FIBERID_1',\n",
       " 'MJD_1',\n",
       " 'RACAT',\n",
       " 'DECCAT',\n",
       " 'ZSDSSLINE',\n",
       " 'SURVEY',\n",
       " 'PROGRAMNAME',\n",
       " 'PLATEQUALITY',\n",
       " 'TILE',\n",
       " 'PLUG_RA',\n",
       " 'PLUG_DEC',\n",
       " 'ELPETRO_BA',\n",
       " 'ELPETRO_PHI',\n",
       " 'ELPETRO_FLUX_R',\n",
       " 'ELPETRO_FLUX_IVAR_R',\n",
       " 'ELPETRO_THETA_R',\n",
       " 'ELPETRO_TH50_R',\n",
       " 'ELPETRO_TH90_R',\n",
       " 'ELPETRO_THETA',\n",
       " 'ELPETRO_FLUX',\n",
       " 'ELPETRO_FLUX_IVAR',\n",
       " 'ELPETRO_TH50',\n",
       " 'ELPETRO_TH90',\n",
       " 'ELPETRO_APCORR_R',\n",
       " 'ELPETRO_APCORR',\n",
       " 'ELPETRO_APCORR_SELF',\n",
       " 'ELPETRO_NMGY',\n",
       " 'ELPETRO_NMGY_IVAR',\n",
       " 'ELPETRO_OK',\n",
       " 'ELPETRO_RNMGY',\n",
       " 'ELPETRO_ABSMAG',\n",
       " 'ELPETRO_AMIVAR',\n",
       " 'ELPETRO_KCORRECT',\n",
       " 'ELPETRO_KCOEFF',\n",
       " 'ELPETRO_MASS',\n",
       " 'ELPETRO_MTOL',\n",
       " 'ELPETRO_B300',\n",
       " 'ELPETRO_B1000',\n",
       " 'ELPETRO_METS',\n",
       " 'IN_DR7_LSS',\n",
       " 'JName',\n",
       " 'ra_xmatch',\n",
       " 'dec_xmatch',\n",
       " 'yAperMag3',\n",
       " 'j_1AperMag3',\n",
       " 'hAperMag3',\n",
       " 'kAperMag3',\n",
       " 'yAperMag3Err',\n",
       " 'j_1AperMag3Err',\n",
       " 'hAperMag3Err',\n",
       " 'kAperMag3Err',\n",
       " 'sourceID',\n",
       " 'mode',\n",
       " 'epoch',\n",
       " 'mergedClass',\n",
       " 'angDist',\n",
       " 'SDSS_ID',\n",
       " 'VEL_BALMER',\n",
       " 'VEL_BALMER_E',\n",
       " 'VEL_FORBIDDEN',\n",
       " 'VEL_FORBIDDEN_E',\n",
       " 'SIG_BALMER',\n",
       " 'SIG_BALMER_E',\n",
       " 'SIG_FORBIDDEN',\n",
       " 'SIG_FORBIDDEN_E',\n",
       " 'EBV_STAR',\n",
       " 'EBV_GAS',\n",
       " 'E_EBV_STAR',\n",
       " 'E_EBV_GAS',\n",
       " 'VEL_STARS',\n",
       " 'VEL_STARS_E',\n",
       " 'SIGMA_STARS',\n",
       " 'SIGMA_STARS_E',\n",
       " 'HEII_3203',\n",
       " 'NEV_3345',\n",
       " 'NEV_3425',\n",
       " 'OII_3726',\n",
       " 'OII_3728',\n",
       " 'NEIII_3868',\n",
       " 'NEIII_3967',\n",
       " 'H5_3889',\n",
       " 'HE_3970',\n",
       " 'HD_4101',\n",
       " 'HG_4340',\n",
       " 'OIII_4363',\n",
       " 'HEII_4685',\n",
       " 'ARIV_4711',\n",
       " 'ARIV_4740',\n",
       " 'HB_4861',\n",
       " 'OIII_4958',\n",
       " 'OIII_5006',\n",
       " 'NI_5197',\n",
       " 'NI_5200',\n",
       " 'HEI_5875',\n",
       " 'OI_6300',\n",
       " 'OI_6363',\n",
       " 'NII_6547',\n",
       " 'HA_6562',\n",
       " 'NII_6583',\n",
       " 'SII_6716',\n",
       " 'SII_6730',\n",
       " 'ARIII_7135',\n",
       " 'HEII_3203_ERROR',\n",
       " 'NEV_3345_ERROR',\n",
       " 'NEV_3425_ERROR',\n",
       " 'OII_3726_ERROR',\n",
       " 'OII_3728_ERROR',\n",
       " 'NEIII_3868_ERROR',\n",
       " 'NEIII_3967_ERROR',\n",
       " 'H5_3889_ERROR',\n",
       " 'HE_3970_ERROR',\n",
       " 'HD_4101_ERROR',\n",
       " 'HG_4340_ERROR',\n",
       " 'OIII_4363_ERROR',\n",
       " 'HEII_4685_ERROR',\n",
       " 'ARIV_4711_ERROR',\n",
       " 'ARIV_4740_ERROR',\n",
       " 'HB_4861_ERROR',\n",
       " 'OIII_4958_ERROR',\n",
       " 'OIII_5006_ERROR',\n",
       " 'NI_5197_ERROR',\n",
       " 'NI_5200_ERROR',\n",
       " 'HEI_5875_ERROR',\n",
       " 'OI_6300_ERROR',\n",
       " 'OI_6363_ERROR',\n",
       " 'NII_6547_ERROR',\n",
       " 'HA_6562_ERROR',\n",
       " 'NII_6583_ERROR',\n",
       " 'SII_6716_ERROR',\n",
       " 'SII_6730_ERROR',\n",
       " 'ARIII_7135_ERROR',\n",
       " 'AON_HEII_3203',\n",
       " 'AON_NEV_3345',\n",
       " 'AON_NEV_3425',\n",
       " 'AON_OII_3726',\n",
       " 'AON_OII_3728',\n",
       " 'AON_NEIII_3868',\n",
       " 'AON_NEIII_3967',\n",
       " 'AON_H5_3889',\n",
       " 'AON_HE_3970',\n",
       " 'AON_HD_4101',\n",
       " 'AON_HG_4340',\n",
       " 'AON_OIII_4363',\n",
       " 'AON_HEII_4685',\n",
       " 'AON_ARIV_4711',\n",
       " 'AON_ARIV_4740',\n",
       " 'AON_HB_4861',\n",
       " 'AON_OIII_4958',\n",
       " 'AON_OIII_5006',\n",
       " 'AON_NI_5197',\n",
       " 'AON_NI_5200',\n",
       " 'AON_HEI_5875',\n",
       " 'AON_OI_6300',\n",
       " 'AON_OI_6363',\n",
       " 'AON_NII_6547',\n",
       " 'AON_HA_6562',\n",
       " 'AON_NII_6583',\n",
       " 'AON_SII_6716',\n",
       " 'AON_SII_6730',\n",
       " 'AON_ARIII_7135',\n",
       " 'EW_HEII_3203',\n",
       " 'EW_NEV_3345',\n",
       " 'EW_NEV_3425',\n",
       " 'EW_OII_3726',\n",
       " 'EW_OII_3728',\n",
       " 'EW_NEIII_3868',\n",
       " 'EW_NEIII_3967',\n",
       " 'EW_H5_3889',\n",
       " 'EW_HE_3970',\n",
       " 'EW_HD_4101',\n",
       " 'EW_HG_4340',\n",
       " 'EW_OIII_4363',\n",
       " 'EW_HEII_4685',\n",
       " 'EW_ARIV_4711',\n",
       " 'EW_ARIV_4740',\n",
       " 'EW_HB_4861',\n",
       " 'EW_OIII_4958',\n",
       " 'EW_OIII_5006',\n",
       " 'EW_NI_5197',\n",
       " 'EW_NI_5200',\n",
       " 'EW_HEI_5875',\n",
       " 'EW_OI_6300',\n",
       " 'EW_OI_6363',\n",
       " 'EW_NII_6547',\n",
       " 'EW_HA_6562',\n",
       " 'EW_NII_6583',\n",
       " 'EW_SII_6716',\n",
       " 'EW_SII_6730',\n",
       " 'EW_ARIII_7135',\n",
       " 'FLAG_HEII_3203',\n",
       " 'FLAG_NEV_3345',\n",
       " 'FLAG_NEV_3425',\n",
       " 'FLAG_OII_3726',\n",
       " 'FLAG_OII_3728',\n",
       " 'FLAG_NEIII_3868',\n",
       " 'FLAG_NEIII_3967',\n",
       " 'FLAG_H5_3889',\n",
       " 'FLAG_HE_3970',\n",
       " 'FLAG_HD_4101',\n",
       " 'FLAG_HG_4340',\n",
       " 'FLAG_OIII_4363',\n",
       " 'FLAG_HEII_4685',\n",
       " 'FLAG_ARIV_4711',\n",
       " 'FLAG_ARIV_4740',\n",
       " 'FLAG_HB_4861',\n",
       " 'FLAG_OIII_4958',\n",
       " 'FLAG_OIII_5006',\n",
       " 'FLAG_NI_5197',\n",
       " 'FLAG_NI_5200',\n",
       " 'FLAG_HEI_5875',\n",
       " 'FLAG_OI_6300',\n",
       " 'FLAG_OI_6363',\n",
       " 'FLAG_NII_6547',\n",
       " 'FLAG_HA_6562',\n",
       " 'FLAG_NII_6583',\n",
       " 'FLAG_SII_6716',\n",
       " 'FLAG_SII_6730',\n",
       " 'FLAG_ARIII_7135',\n",
       " 'RN_SN',\n",
       " 'S_SN',\n",
       " 'NSIGMA',\n",
       " 'NSIGMA_OII_3726_3729',\n",
       " 'NSIGMA_HB_4861',\n",
       " 'NSIGMA_OIII_5007',\n",
       " 'NSIGMA_OI_6300',\n",
       " 'NSIGMA_OI_6363',\n",
       " 'NSIGMA_HA_NII_6547_6583',\n",
       " 'NSIGMA_SII_6716_6730',\n",
       " 'RA_2',\n",
       " 'DEC_2',\n",
       " 'REDSHIFT',\n",
       " 'PLATE_2',\n",
       " 'MJD_2',\n",
       " 'FIBERID_2',\n",
       " 'Separation']"
      ]
     },
     "execution_count": 37,
     "metadata": {},
     "output_type": "execute_result"
    }
   ],
   "source": [
    "data.colnames"
   ]
  },
  {
   "cell_type": "code",
   "execution_count": 52,
   "metadata": {},
   "outputs": [
    {
     "data": {
      "text/plain": [
       "['IAUNAME',\n",
       " 'SUBDIR',\n",
       " 'RA',\n",
       " 'DEC',\n",
       " 'ISDSS',\n",
       " 'INED',\n",
       " 'ISIXDF',\n",
       " 'IALFALFA',\n",
       " 'IZCAT',\n",
       " 'ITWODF',\n",
       " 'MAG',\n",
       " 'Z',\n",
       " 'ZSRC',\n",
       " 'SIZE',\n",
       " 'RUN',\n",
       " 'CAMCOL',\n",
       " 'FIELD',\n",
       " 'RERUN',\n",
       " 'XPOS',\n",
       " 'YPOS',\n",
       " 'NSAID',\n",
       " 'ZDIST',\n",
       " 'SERSIC_NMGY',\n",
       " 'SERSIC_NMGY_IVAR',\n",
       " 'SERSIC_OK',\n",
       " 'SERSIC_RNMGY',\n",
       " 'SERSIC_ABSMAG',\n",
       " 'SERSIC_AMIVAR',\n",
       " 'EXTINCTION',\n",
       " 'SERSIC_KCORRECT',\n",
       " 'SERSIC_KCOEFF',\n",
       " 'SERSIC_MTOL',\n",
       " 'SERSIC_B300',\n",
       " 'SERSIC_B1000',\n",
       " 'SERSIC_METS',\n",
       " 'SERSIC_MASS',\n",
       " 'XCEN',\n",
       " 'YCEN',\n",
       " 'NPROF',\n",
       " 'PROFMEAN',\n",
       " 'PROFMEAN_IVAR',\n",
       " 'QSTOKES',\n",
       " 'USTOKES',\n",
       " 'BASTOKES',\n",
       " 'PHISTOKES',\n",
       " 'PETRO_FLUX',\n",
       " 'PETRO_FLUX_IVAR',\n",
       " 'FIBER_FLUX',\n",
       " 'FIBER_FLUX_IVAR',\n",
       " 'PETRO_BA50',\n",
       " 'PETRO_PHI50',\n",
       " 'PETRO_BA90',\n",
       " 'PETRO_PHI90',\n",
       " 'SERSIC_FLUX',\n",
       " 'SERSIC_FLUX_IVAR',\n",
       " 'SERSIC_N',\n",
       " 'SERSIC_BA',\n",
       " 'SERSIC_PHI',\n",
       " 'ASYMMETRY',\n",
       " 'CLUMPY',\n",
       " 'DFLAGS',\n",
       " 'AID',\n",
       " 'PID',\n",
       " 'DVERSION',\n",
       " 'PROFTHETA',\n",
       " 'PETRO_THETA',\n",
       " 'PETRO_TH50',\n",
       " 'PETRO_TH90',\n",
       " 'SERSIC_TH50',\n",
       " 'PLATE',\n",
       " 'FIBERID',\n",
       " 'MJD',\n",
       " 'RACAT',\n",
       " 'DECCAT',\n",
       " 'ZSDSSLINE',\n",
       " 'SURVEY',\n",
       " 'PROGRAMNAME',\n",
       " 'PLATEQUALITY',\n",
       " 'TILE',\n",
       " 'PLUG_RA',\n",
       " 'PLUG_DEC',\n",
       " 'ELPETRO_BA',\n",
       " 'ELPETRO_PHI',\n",
       " 'ELPETRO_FLUX_R',\n",
       " 'ELPETRO_FLUX_IVAR_R',\n",
       " 'ELPETRO_THETA_R',\n",
       " 'ELPETRO_TH50_R',\n",
       " 'ELPETRO_TH90_R',\n",
       " 'ELPETRO_THETA',\n",
       " 'ELPETRO_FLUX',\n",
       " 'ELPETRO_FLUX_IVAR',\n",
       " 'ELPETRO_TH50',\n",
       " 'ELPETRO_TH90',\n",
       " 'ELPETRO_APCORR_R',\n",
       " 'ELPETRO_APCORR',\n",
       " 'ELPETRO_APCORR_SELF',\n",
       " 'ELPETRO_NMGY',\n",
       " 'ELPETRO_NMGY_IVAR',\n",
       " 'ELPETRO_OK',\n",
       " 'ELPETRO_RNMGY',\n",
       " 'ELPETRO_ABSMAG',\n",
       " 'ELPETRO_AMIVAR',\n",
       " 'ELPETRO_KCORRECT',\n",
       " 'ELPETRO_KCOEFF',\n",
       " 'ELPETRO_MASS',\n",
       " 'ELPETRO_MTOL',\n",
       " 'ELPETRO_B300',\n",
       " 'ELPETRO_B1000',\n",
       " 'ELPETRO_METS',\n",
       " 'IN_DR7_LSS',\n",
       " 'JName',\n",
       " 'ra_xmatch',\n",
       " 'dec_xmatch',\n",
       " 'yAperMag3',\n",
       " 'j_1AperMag3',\n",
       " 'hAperMag3',\n",
       " 'kAperMag3',\n",
       " 'yAperMag3Err',\n",
       " 'j_1AperMag3Err',\n",
       " 'hAperMag3Err',\n",
       " 'kAperMag3Err',\n",
       " 'sourceID',\n",
       " 'mode',\n",
       " 'epoch',\n",
       " 'mergedClass',\n",
       " 'angDist',\n",
       " 'SDSS_ID',\n",
       " 'VEL_BALMER',\n",
       " 'VEL_BALMER_E',\n",
       " 'VEL_FORBIDDEN',\n",
       " 'VEL_FORBIDDEN_E',\n",
       " 'SIG_BALMER',\n",
       " 'SIG_BALMER_E',\n",
       " 'SIG_FORBIDDEN',\n",
       " 'SIG_FORBIDDEN_E',\n",
       " 'EBV_STAR',\n",
       " 'EBV_GAS',\n",
       " 'E_EBV_STAR',\n",
       " 'E_EBV_GAS',\n",
       " 'VEL_STARS',\n",
       " 'VEL_STARS_E',\n",
       " 'SIGMA_STARS',\n",
       " 'SIGMA_STARS_E',\n",
       " 'HEII_3203',\n",
       " 'NEV_3345',\n",
       " 'NEV_3425',\n",
       " 'OII_3726',\n",
       " 'OII_3728',\n",
       " 'NEIII_3868',\n",
       " 'NEIII_3967',\n",
       " 'H5_3889',\n",
       " 'HE_3970',\n",
       " 'HD_410',\n",
       " 'HG_4340',\n",
       " 'OIII_4363',\n",
       " 'HEII_4685',\n",
       " 'ARIV_47',\n",
       " 'ARIV_4740',\n",
       " 'HB_486',\n",
       " 'OIII_4958',\n",
       " 'OIII_5006',\n",
       " 'NI_5197',\n",
       " 'NI_5200',\n",
       " 'HEI_5875',\n",
       " 'OI_6300',\n",
       " 'OI_6363',\n",
       " 'NII_6547',\n",
       " 'HA_6562',\n",
       " 'NII_6583',\n",
       " 'SII_6716',\n",
       " 'SII_6730',\n",
       " 'ARIII_7135',\n",
       " 'HEII_3203_ERROR',\n",
       " 'NEV_3345_ERROR',\n",
       " 'NEV_3425_ERROR',\n",
       " 'OII_3726_ERROR',\n",
       " 'OII_3728_ERROR',\n",
       " 'NEIII_3868_ERROR',\n",
       " 'NEIII_3967_ERROR',\n",
       " 'H5_3889_ERROR',\n",
       " 'HE_3970_ERROR',\n",
       " 'HD_4101_ERROR',\n",
       " 'HG_4340_ERROR',\n",
       " 'OIII_4363_ERROR',\n",
       " 'HEII_4685_ERROR',\n",
       " 'ARIV_4711_ERROR',\n",
       " 'ARIV_4740_ERROR',\n",
       " 'HB_4861_ERROR',\n",
       " 'OIII_4958_ERROR',\n",
       " 'OIII_5006_ERROR',\n",
       " 'NI_5197_ERROR',\n",
       " 'NI_5200_ERROR',\n",
       " 'HEI_5875_ERROR',\n",
       " 'OI_6300_ERROR',\n",
       " 'OI_6363_ERROR',\n",
       " 'NII_6547_ERROR',\n",
       " 'HA_6562_ERROR',\n",
       " 'NII_6583_ERROR',\n",
       " 'SII_6716_ERROR',\n",
       " 'SII_6730_ERROR',\n",
       " 'ARIII_7135_ERROR',\n",
       " 'AON_HEII_3203',\n",
       " 'AON_NEV_3345',\n",
       " 'AON_NEV_3425',\n",
       " 'AON_OII_3726',\n",
       " 'AON_OII_3728',\n",
       " 'AON_NEIII_3868',\n",
       " 'AON_NEIII_3967',\n",
       " 'AON_H5_3889',\n",
       " 'AON_HE_3970',\n",
       " 'AON_HD_410',\n",
       " 'AON_HG_4340',\n",
       " 'AON_OIII_4363',\n",
       " 'AON_HEII_4685',\n",
       " 'AON_ARIV_47',\n",
       " 'AON_ARIV_4740',\n",
       " 'AON_HB_486',\n",
       " 'AON_OIII_4958',\n",
       " 'AON_OIII_5006',\n",
       " 'AON_NI_5197',\n",
       " 'AON_NI_5200',\n",
       " 'AON_HEI_5875',\n",
       " 'AON_OI_6300',\n",
       " 'AON_OI_6363',\n",
       " 'AON_NII_6547',\n",
       " 'AON_HA_6562',\n",
       " 'AON_NII_6583',\n",
       " 'AON_SII_6716',\n",
       " 'AON_SII_6730',\n",
       " 'AON_ARIII_7135',\n",
       " 'EW_HEII_3203',\n",
       " 'EW_NEV_3345',\n",
       " 'EW_NEV_3425',\n",
       " 'EW_OII_3726',\n",
       " 'EW_OII_3728',\n",
       " 'EW_NEIII_3868',\n",
       " 'EW_NEIII_3967',\n",
       " 'EW_H5_3889',\n",
       " 'EW_HE_3970',\n",
       " 'EW_HD_410',\n",
       " 'EW_HG_4340',\n",
       " 'EW_OIII_4363',\n",
       " 'EW_HEII_4685',\n",
       " 'EW_ARIV_47',\n",
       " 'EW_ARIV_4740',\n",
       " 'EW_HB_486',\n",
       " 'EW_OIII_4958',\n",
       " 'EW_OIII_5006',\n",
       " 'EW_NI_5197',\n",
       " 'EW_NI_5200',\n",
       " 'EW_HEI_5875',\n",
       " 'EW_OI_6300',\n",
       " 'EW_OI_6363',\n",
       " 'EW_NII_6547',\n",
       " 'EW_HA_6562',\n",
       " 'EW_NII_6583',\n",
       " 'EW_SII_6716',\n",
       " 'EW_SII_6730',\n",
       " 'EW_ARIII_7135',\n",
       " 'FLAG_HEII_3203',\n",
       " 'FLAG_NEV_3345',\n",
       " 'FLAG_NEV_3425',\n",
       " 'FLAG_OII_3726',\n",
       " 'FLAG_OII_3728',\n",
       " 'FLAG_NEIII_3868',\n",
       " 'FLAG_NEIII_3967',\n",
       " 'FLAG_H5_3889',\n",
       " 'FLAG_HE_3970',\n",
       " 'FLAG_HD_410',\n",
       " 'FLAG_HG_4340',\n",
       " 'FLAG_OIII_4363',\n",
       " 'FLAG_HEII_4685',\n",
       " 'FLAG_ARIV_47',\n",
       " 'FLAG_ARIV_4740',\n",
       " 'FLAG_HB_486',\n",
       " 'FLAG_OIII_4958',\n",
       " 'FLAG_OIII_5006',\n",
       " 'FLAG_NI_5197',\n",
       " 'FLAG_NI_5200',\n",
       " 'FLAG_HEI_5875',\n",
       " 'FLAG_OI_6300',\n",
       " 'FLAG_OI_6363',\n",
       " 'FLAG_NII_6547',\n",
       " 'FLAG_HA_6562',\n",
       " 'FLAG_NII_6583',\n",
       " 'FLAG_SII_6716',\n",
       " 'FLAG_SII_6730',\n",
       " 'FLAG_ARIII_7135',\n",
       " 'RN_SN',\n",
       " 'S_SN',\n",
       " 'NSIGMA',\n",
       " 'NSIGMA_OII_3726_3729',\n",
       " 'NSIGMA_HB_486',\n",
       " 'NSIGMA_OIII_5007',\n",
       " 'NSIGMA_OI_6300',\n",
       " 'NSIGMA_OI_6363',\n",
       " 'NSIGMA_HA_NII_6547_6583',\n",
       " 'NSIGMA_SII_6716_6730',\n",
       " 'RA_2',\n",
       " 'DEC_2',\n",
       " 'REDSHIFT',\n",
       " 'PLATE_2',\n",
       " 'MJD_2',\n",
       " 'FIBERID_2',\n",
       " 'Separation']"
      ]
     },
     "execution_count": 52,
     "metadata": {},
     "output_type": "execute_result"
    }
   ],
   "source": [
    "original = data.colnames\n",
    "new = list(map(lambda x: x.rstrip('_1'), original))\n",
    "new"
   ]
  },
  {
   "cell_type": "code",
   "execution_count": 51,
   "metadata": {},
   "outputs": [
    {
     "data": {
      "text/plain": [
       "{'CL',\n",
       " 'DEC',\n",
       " 'DEJ2000',\n",
       " 'ELPETRO_ABSMAG_{}',\n",
       " 'E_HMAG',\n",
       " 'E_JMAG1',\n",
       " 'E_JMAG2',\n",
       " 'E_KMAG',\n",
       " 'E_YMAG',\n",
       " 'FIBERID',\n",
       " 'FIBREID',\n",
       " 'HMAG',\n",
       " 'ID',\n",
       " 'JMAG1',\n",
       " 'JMAG2',\n",
       " 'KMAG',\n",
       " 'MJD',\n",
       " 'PG',\n",
       " 'PLATE',\n",
       " 'RA',\n",
       " 'RAJ2000',\n",
       " 'ULAS',\n",
       " 'YMAG'}"
      ]
     },
     "execution_count": 51,
     "metadata": {},
     "output_type": "execute_result"
    }
   ],
   "source": [
    "set(all_useful_cols) - set(original)"
   ]
  },
  {
   "cell_type": "code",
   "execution_count": 50,
   "metadata": {},
   "outputs": [
    {
     "data": {
      "text/plain": [
       "{'AON_ARIV_4711',\n",
       " 'AON_HB_4861',\n",
       " 'AON_HD_4101',\n",
       " 'ARIV_4711',\n",
       " 'CL',\n",
       " 'DEJ2000',\n",
       " 'ELPETRO_ABSMAG_{}',\n",
       " 'EW_ARIV_4711',\n",
       " 'EW_HB_4861',\n",
       " 'EW_HD_4101',\n",
       " 'E_HMAG',\n",
       " 'E_JMAG1',\n",
       " 'E_JMAG2',\n",
       " 'E_KMAG',\n",
       " 'E_YMAG',\n",
       " 'FIBREID',\n",
       " 'FLAG_ARIV_4711',\n",
       " 'FLAG_HB_4861',\n",
       " 'FLAG_HD_4101',\n",
       " 'HB_4861',\n",
       " 'HD_4101',\n",
       " 'HMAG',\n",
       " 'ID',\n",
       " 'JMAG1',\n",
       " 'JMAG2',\n",
       " 'KMAG',\n",
       " 'NSIGMA_HB_4861',\n",
       " 'PG',\n",
       " 'RAJ2000',\n",
       " 'ULAS',\n",
       " 'YMAG'}"
      ]
     },
     "execution_count": 50,
     "metadata": {},
     "output_type": "execute_result"
    }
   ],
   "source": [
    "set(all_useful_cols) - set(new)"
   ]
  },
  {
   "cell_type": "code",
   "execution_count": 35,
   "metadata": {},
   "outputs": [
    {
     "ename": "KeyError",
     "evalue": "'fibreid'",
     "output_type": "error",
     "traceback": [
      "\u001b[0;31m---------------------------------------------------------------------------\u001b[0m",
      "\u001b[0;31mKeyError\u001b[0m                                  Traceback (most recent call last)",
      "\u001b[0;32m<ipython-input-35-bfe7f712f6c7>\u001b[0m in \u001b[0;36m<module>\u001b[0;34m()\u001b[0m\n\u001b[0;32m----> 1\u001b[0;31m \u001b[0mdata\u001b[0m \u001b[0;34m=\u001b[0m \u001b[0mdata\u001b[0m\u001b[0;34m[\u001b[0m\u001b[0mall_useful_cols\u001b[0m\u001b[0;34m]\u001b[0m\u001b[0;34m\u001b[0m\u001b[0m\n\u001b[0m",
      "\u001b[0;32m/data/anaconda3/envs/py36/lib/python3.6/site-packages/astropy/table/table.py\u001b[0m in \u001b[0;36m__getitem__\u001b[0;34m(self, item)\u001b[0m\n\u001b[1;32m   1226\u001b[0m             \u001b[0;32mreturn\u001b[0m \u001b[0mself\u001b[0m\u001b[0;34m.\u001b[0m\u001b[0mRow\u001b[0m\u001b[0;34m(\u001b[0m\u001b[0mself\u001b[0m\u001b[0;34m,\u001b[0m \u001b[0mitem\u001b[0m\u001b[0;34m.\u001b[0m\u001b[0mitem\u001b[0m\u001b[0;34m(\u001b[0m\u001b[0;34m)\u001b[0m\u001b[0;34m)\u001b[0m\u001b[0;34m\u001b[0m\u001b[0m\n\u001b[1;32m   1227\u001b[0m         \u001b[0;32melif\u001b[0m \u001b[0mself\u001b[0m\u001b[0;34m.\u001b[0m\u001b[0m_is_list_or_tuple_of_str\u001b[0m\u001b[0;34m(\u001b[0m\u001b[0mitem\u001b[0m\u001b[0;34m)\u001b[0m\u001b[0;34m:\u001b[0m\u001b[0;34m\u001b[0m\u001b[0m\n\u001b[0;32m-> 1228\u001b[0;31m             out = self.__class__([self[x] for x in item],\n\u001b[0m\u001b[1;32m   1229\u001b[0m                                  \u001b[0mmeta\u001b[0m\u001b[0;34m=\u001b[0m\u001b[0mdeepcopy\u001b[0m\u001b[0;34m(\u001b[0m\u001b[0mself\u001b[0m\u001b[0;34m.\u001b[0m\u001b[0mmeta\u001b[0m\u001b[0;34m)\u001b[0m\u001b[0;34m,\u001b[0m\u001b[0;34m\u001b[0m\u001b[0m\n\u001b[1;32m   1230\u001b[0m                                  copy_indices=self._copy_indices)\n",
      "\u001b[0;32m/data/anaconda3/envs/py36/lib/python3.6/site-packages/astropy/table/table.py\u001b[0m in \u001b[0;36m<listcomp>\u001b[0;34m(.0)\u001b[0m\n\u001b[1;32m   1226\u001b[0m             \u001b[0;32mreturn\u001b[0m \u001b[0mself\u001b[0m\u001b[0;34m.\u001b[0m\u001b[0mRow\u001b[0m\u001b[0;34m(\u001b[0m\u001b[0mself\u001b[0m\u001b[0;34m,\u001b[0m \u001b[0mitem\u001b[0m\u001b[0;34m.\u001b[0m\u001b[0mitem\u001b[0m\u001b[0;34m(\u001b[0m\u001b[0;34m)\u001b[0m\u001b[0;34m)\u001b[0m\u001b[0;34m\u001b[0m\u001b[0m\n\u001b[1;32m   1227\u001b[0m         \u001b[0;32melif\u001b[0m \u001b[0mself\u001b[0m\u001b[0;34m.\u001b[0m\u001b[0m_is_list_or_tuple_of_str\u001b[0m\u001b[0;34m(\u001b[0m\u001b[0mitem\u001b[0m\u001b[0;34m)\u001b[0m\u001b[0;34m:\u001b[0m\u001b[0;34m\u001b[0m\u001b[0m\n\u001b[0;32m-> 1228\u001b[0;31m             out = self.__class__([self[x] for x in item],\n\u001b[0m\u001b[1;32m   1229\u001b[0m                                  \u001b[0mmeta\u001b[0m\u001b[0;34m=\u001b[0m\u001b[0mdeepcopy\u001b[0m\u001b[0;34m(\u001b[0m\u001b[0mself\u001b[0m\u001b[0;34m.\u001b[0m\u001b[0mmeta\u001b[0m\u001b[0;34m)\u001b[0m\u001b[0;34m,\u001b[0m\u001b[0;34m\u001b[0m\u001b[0m\n\u001b[1;32m   1230\u001b[0m                                  copy_indices=self._copy_indices)\n",
      "\u001b[0;32m/data/anaconda3/envs/py36/lib/python3.6/site-packages/astropy/table/table.py\u001b[0m in \u001b[0;36m__getitem__\u001b[0;34m(self, item)\u001b[0m\n\u001b[1;32m   1220\u001b[0m     \u001b[0;32mdef\u001b[0m \u001b[0m__getitem__\u001b[0m\u001b[0;34m(\u001b[0m\u001b[0mself\u001b[0m\u001b[0;34m,\u001b[0m \u001b[0mitem\u001b[0m\u001b[0;34m)\u001b[0m\u001b[0;34m:\u001b[0m\u001b[0;34m\u001b[0m\u001b[0m\n\u001b[1;32m   1221\u001b[0m         \u001b[0;32mif\u001b[0m \u001b[0misinstance\u001b[0m\u001b[0;34m(\u001b[0m\u001b[0mitem\u001b[0m\u001b[0;34m,\u001b[0m \u001b[0mstr\u001b[0m\u001b[0;34m)\u001b[0m\u001b[0;34m:\u001b[0m\u001b[0;34m\u001b[0m\u001b[0m\n\u001b[0;32m-> 1222\u001b[0;31m             \u001b[0;32mreturn\u001b[0m \u001b[0mself\u001b[0m\u001b[0;34m.\u001b[0m\u001b[0mcolumns\u001b[0m\u001b[0;34m[\u001b[0m\u001b[0mitem\u001b[0m\u001b[0;34m]\u001b[0m\u001b[0;34m\u001b[0m\u001b[0m\n\u001b[0m\u001b[1;32m   1223\u001b[0m         \u001b[0;32melif\u001b[0m \u001b[0misinstance\u001b[0m\u001b[0;34m(\u001b[0m\u001b[0mitem\u001b[0m\u001b[0;34m,\u001b[0m \u001b[0;34m(\u001b[0m\u001b[0mint\u001b[0m\u001b[0;34m,\u001b[0m \u001b[0mnp\u001b[0m\u001b[0;34m.\u001b[0m\u001b[0minteger\u001b[0m\u001b[0;34m)\u001b[0m\u001b[0;34m)\u001b[0m\u001b[0;34m:\u001b[0m\u001b[0;34m\u001b[0m\u001b[0m\n\u001b[1;32m   1224\u001b[0m             \u001b[0;32mreturn\u001b[0m \u001b[0mself\u001b[0m\u001b[0;34m.\u001b[0m\u001b[0mRow\u001b[0m\u001b[0;34m(\u001b[0m\u001b[0mself\u001b[0m\u001b[0;34m,\u001b[0m \u001b[0mitem\u001b[0m\u001b[0;34m)\u001b[0m\u001b[0;34m\u001b[0m\u001b[0m\n",
      "\u001b[0;32m/data/anaconda3/envs/py36/lib/python3.6/site-packages/astropy/table/table.py\u001b[0m in \u001b[0;36m__getitem__\u001b[0;34m(self, item)\u001b[0m\n\u001b[1;32m    104\u001b[0m         \"\"\"\n\u001b[1;32m    105\u001b[0m         \u001b[0;32mif\u001b[0m \u001b[0misinstance\u001b[0m\u001b[0;34m(\u001b[0m\u001b[0mitem\u001b[0m\u001b[0;34m,\u001b[0m \u001b[0mstr\u001b[0m\u001b[0;34m)\u001b[0m\u001b[0;34m:\u001b[0m\u001b[0;34m\u001b[0m\u001b[0m\n\u001b[0;32m--> 106\u001b[0;31m             \u001b[0;32mreturn\u001b[0m \u001b[0mOrderedDict\u001b[0m\u001b[0;34m.\u001b[0m\u001b[0m__getitem__\u001b[0m\u001b[0;34m(\u001b[0m\u001b[0mself\u001b[0m\u001b[0;34m,\u001b[0m \u001b[0mitem\u001b[0m\u001b[0;34m)\u001b[0m\u001b[0;34m\u001b[0m\u001b[0m\n\u001b[0m\u001b[1;32m    107\u001b[0m         \u001b[0;32melif\u001b[0m \u001b[0misinstance\u001b[0m\u001b[0;34m(\u001b[0m\u001b[0mitem\u001b[0m\u001b[0;34m,\u001b[0m \u001b[0;34m(\u001b[0m\u001b[0mint\u001b[0m\u001b[0;34m,\u001b[0m \u001b[0mnp\u001b[0m\u001b[0;34m.\u001b[0m\u001b[0minteger\u001b[0m\u001b[0;34m)\u001b[0m\u001b[0;34m)\u001b[0m\u001b[0;34m:\u001b[0m\u001b[0;34m\u001b[0m\u001b[0m\n\u001b[1;32m    108\u001b[0m             \u001b[0;32mreturn\u001b[0m \u001b[0mself\u001b[0m\u001b[0;34m.\u001b[0m\u001b[0mvalues\u001b[0m\u001b[0;34m(\u001b[0m\u001b[0;34m)\u001b[0m\u001b[0;34m[\u001b[0m\u001b[0mitem\u001b[0m\u001b[0;34m]\u001b[0m\u001b[0;34m\u001b[0m\u001b[0m\n",
      "\u001b[0;31mKeyError\u001b[0m: 'fibreid'"
     ]
    }
   ],
   "source": [
    "data = data[all_useful_cols + 'Seperation']"
   ]
  },
  {
   "cell_type": "code",
   "execution_count": 54,
   "metadata": {},
   "outputs": [],
   "source": [
    "%load_ext autoreload\n",
    "%autoreload 2\n",
    "%matplotlib inline"
   ]
  },
  {
   "cell_type": "code",
   "execution_count": 85,
   "metadata": {},
   "outputs": [],
   "source": [
    "import pandas as pd\n",
    "import matplotlib.pyplot as plt\n",
    "import seaborn as sns\n",
    "sns.set_context('notebook')\n",
    "import numpy as np"
   ]
  },
  {
   "cell_type": "code",
   "execution_count": 67,
   "metadata": {},
   "outputs": [],
   "source": [
    "n_bins = 50"
   ]
  },
  {
   "cell_type": "code",
   "execution_count": 64,
   "metadata": {},
   "outputs": [
    {
     "data": {
      "text/plain": [
       "Text(0,0.5,'Galaxy Count')"
      ]
     },
     "execution_count": 64,
     "metadata": {},
     "output_type": "execute_result"
    },
    {
     "data": {
      "image/png": "[encoded data removed]",
      "text/plain": [
       "<matplotlib.figure.Figure at 0x1545413358>"
      ]
     },
     "metadata": {},
     "output_type": "display_data"
    }
   ],
   "source": [
    "plt.hist(data['Z'], bins=n_bins)\n",
    "plt.xlabel('z')\n",
    "plt.ylabel('Galaxy Count')"
   ]
  },
  {
   "cell_type": "code",
   "execution_count": null,
   "metadata": {},
   "outputs": [],
   "source": [
    "# TODO curious bump? Perhaps an artifact of spectroscopic selection."
   ]
  },
  {
   "cell_type": "code",
   "execution_count": 62,
   "metadata": {},
   "outputs": [
    {
     "data": {
      "text/plain": [
       "b'legacy                     '    181104\n",
       "b'                           '       952\n",
       "b'southern                   '       477\n",
       "b'boss                       '       271\n",
       "b'commissioning              '        46\n",
       "b'lowz                       '        34\n",
       "b'preboss                    '        33\n",
       "b'lowz_lrg                   '        32\n",
       "b'lowz_loveday               '         2\n",
       "b'seguefaint                 '         2\n",
       "b'segue2                     '         2\n",
       "b'photoz                     '         1\n",
       "dtype: int64"
      ]
     },
     "execution_count": 62,
     "metadata": {},
     "output_type": "execute_result"
    }
   ],
   "source": [
    "pd.Series(data['PROGRAMNAME']).value_counts()"
   ]
  },
  {
   "cell_type": "code",
   "execution_count": null,
   "metadata": {},
   "outputs": [],
   "source": [
    "# TODO filter to only 'legacy' galaxies for simplicity"
   ]
  },
  {
   "cell_type": "code",
   "execution_count": 110,
   "metadata": {},
   "outputs": [],
   "source": [
    "def remove_bad_values(x):\n",
    "    return x[(~np.isnan(x)) & (np.isfinite(x))]"
   ]
  },
  {
   "cell_type": "code",
   "execution_count": 149,
   "metadata": {
    "scrolled": true
   },
   "outputs": [
    {
     "data": {
      "image/png": "[encoded data removed]",
      "text/plain": [
       "<matplotlib.figure.Figure at 0x1b570667b8>"
      ]
     },
     "metadata": {},
     "output_type": "display_data"
    }
   ],
   "source": [
    "fig, axes = plt.subplots(ncols=2, figsize=(8, 3))\n",
    "\n",
    "ukidss_mag = data['MAG']\n",
    "ukidss_mag = ukidss_mag[(ukidss_mag > 14) & (ukidss_mag < 20)]  # remove crazy tails\n",
    "\n",
    "g_band_mags = - np.array(data['ELPETRO_ABSMAG'])[:, 0] # TODO g is NSA 0 index?\n",
    "g_band_mags = remove_bad_values(g_band_mags)\n",
    "g_band_mags = g_band_mags[(g_band_mags > 9) & (g_band_mags < 20)]  # remove crazy tails\n",
    "\n",
    "axes[0].hist(ukidss_mag, bins=n_bins)\n",
    "axes[0].set_xlabel('UKIDSS Mag')\n",
    "axes[0].set_ylabel('Galaxies')\n",
    "\n",
    "axes[1].hist(g_band_mags, bins=n_bins)\n",
    "axes[1].set_xlabel('SDSS g Mag')\n",
    "\n",
    "fig.tight_layout()"
   ]
  },
  {
   "cell_type": "code",
   "execution_count": 151,
   "metadata": {},
   "outputs": [
    {
     "name": "stderr",
     "output_type": "stream",
     "text": [
      "/data/anaconda3/envs/py36/lib/python3.6/site-packages/ipykernel_launcher.py:1: RuntimeWarning: divide by zero encountered in log\n",
      "  \"\"\"Entry point for launching an IPython kernel.\n"
     ]
    },
    {
     "data": {
      "text/plain": [
       "<matplotlib.figure.Figure at 0x1b56efeba8>"
      ]
     },
     "metadata": {},
     "output_type": "display_data"
    },
    {
     "data": {
      "image/png": "[encoded data removed]",
      "text/plain": [
       "<matplotlib.figure.Figure at 0x1b83881f28>"
      ]
     },
     "metadata": {},
     "output_type": "display_data"
    }
   ],
   "source": [
    "log_mass = np.log(remove_bad_values(data['ELPETRO_MASS']))\n",
    "log_mass = log_mass[(log_mass > 17) & (log_mass < 26)]  # remove crazy tails\n",
    "\n",
    "plt.clf()\n",
    "fig, axes = plt.subplots(ncols=1, figsize=(4, 3))\n",
    "axes.hist(log_mass, bins=n_bins)\n",
    "axes.set_xlabel('log mass (SDSS)')\n",
    "# axes[0].set_ylabel('Galaxies')\n",
    "fig.tight_layout()"
   ]
  },
  {
   "cell_type": "code",
   "execution_count": 174,
   "metadata": {},
   "outputs": [
    {
     "name": "stderr",
     "output_type": "stream",
     "text": [
      "/data/anaconda3/envs/py36/lib/python3.6/site-packages/ipykernel_launcher.py:3: RuntimeWarning: invalid value encountered in subtract\n",
      "  This is separate from the ipykernel package so we can avoid doing imports until\n"
     ]
    }
   ],
   "source": [
    "g_mag = - np.array(data['ELPETRO_ABSMAG'])[:, 0]\n",
    "r_mag = - np.array(data['ELPETRO_ABSMAG'])[:, 1]\n",
    "g_r_color = pd.Series(g_mag - r_mag)\n",
    "\n",
    "color_mag_df = pd.DataFrame(data={'g_r_color': g_r_color, 'g_mag': g_mag})\n",
    "color_mag_df = color_mag_df.dropna(how='any')\n",
    "color_mag_df = color_mag_df[(color_mag_df['g_mag'] > 9) & (color_mag_df['g_mag'] < 20)]\n",
    "color_mag_df = color_mag_df[(color_mag_df['g_r_color'] > -3) & (color_mag_df['g_r_color'] < 1)]"
   ]
  },
  {
   "cell_type": "code",
   "execution_count": 177,
   "metadata": {},
   "outputs": [
    {
     "data": {
      "image/png": "[encoded data removed]",
      "text/plain": [
       "<matplotlib.figure.Figure at 0x1b56f04b70>"
      ]
     },
     "metadata": {},
     "output_type": "display_data"
    }
   ],
   "source": [
    "plt.hist2d(color_mag_df['g_r_color'], color_mag_df['g_mag'], bins=300)\n",
    "plt.xlabel('g - r color')\n",
    "plt.ylabel('g magnitude')\n",
    "plt.title('Color-magnitude diagram')\n",
    "plt.tight_layout()"
   ]
  },
  {
   "cell_type": "markdown",
   "metadata": {},
   "source": [
    "\n",
    "\n",
    "### Running the Download\n",
    "\n",
    "\n",
    "The download found 217,540,070 matching rows at a fixed seperation of 5 arcseconds. The combined file was 63.4GB. \n",
    "\n",
    "\n"
   ]
  },
  {
   "cell_type": "markdown",
   "metadata": {},
   "source": [
    "\n",
    "Next, I tried using Topcat.\n",
    "\n",
    "From UKIDSS, for the lasExtendedSource view:\n",
    "`\n",
    "SELECT *\n",
    "FROM   lasSource\n",
    "WHERE  (priOrSec <= 0 or priOrSec = frameSetID)\n",
    "AND    (j_1Class = +1 OR j_1Class = -3) AND j_1ppErrBits < 256\n",
    "AND    (hClass   = +1 OR hClass = -3) AND hppErrBits < 256\n",
    "AND    (kClass   = +1 OR kClass = -3) AND kppErrBits < 256\n",
    "AND    (yClass   = +1 OR yClass = -3 OR yClass = -9999) AND yppErrBits < 256\n",
    "AND    (j_2Class = +1 OR j_2Class = -3 OR j_2Class = -9999) AND j_2ppErrBits < 256`\n",
    "Hits 2 million rows and maxes out. One column, full of 10's...\n",
    "\n",
    "From SDSS:\n",
    "`\n",
    "SELECT *\n",
    "FROM   SpecPhotoAll\n",
    "WHERE  (z <= 0.15)\n",
    "and (class = 'GALAXY')`\n",
    "Returns 674,300 spectroscopic sources - and looks good!\n",
    "\n",
    "Workaround: skymatch the SpecPhotoAll table with the remote lasSources table via Topcat XMATCH. See desktop screenshot # TODO\n",
    "\n",
    "SpecPhotoAll doesn't have the basic galaxy properties I'm used to - I should review Oh (OSSY) for info on which basic table they used. I should also ask Chris about where to find SDSS galaxy properties. \n",
    "\n",
    "OSSY uses SDSS DR7."
   ]
  },
  {
   "cell_type": "code",
   "execution_count": null,
   "metadata": {},
   "outputs": [],
   "source": []
  },
  {
   "cell_type": "markdown",
   "metadata": {},
   "source": [
    "This is from Vizier direct table service: http://vizier.u-strasbg.fr/viz-bin/VizieR-3?-source=V/147"
   ]
  },
  {
   "cell_type": "code",
   "execution_count": 3,
   "metadata": {
    "collapsed": true
   },
   "outputs": [],
   "source": [
    "# sdss_loc = 'data/sdss_galaxies_zsph_max_0p5_1k.csv'  # test 1k\n",
    "sdss_loc = 'data/sdss_galaxies_zsph_max_0p5.csv'  # full catalog, a few seconds to laod"
   ]
  },
  {
   "cell_type": "code",
   "execution_count": 10,
   "metadata": {},
   "outputs": [
    {
     "name": "stderr",
     "output_type": "stream",
     "text": [
      "/anaconda3/lib/python3.6/site-packages/IPython/core/interactiveshell.py:2698: DtypeWarning: Columns (0,1,2,4,7,8,9,10,11,12,13,14,15,16,17,18,19,20,21,22) have mixed types. Specify dtype option on import or set low_memory=False.\n",
      "  interactivity=interactivity, compiler=compiler, result=result)\n"
     ]
    }
   ],
   "source": [
    "df = pd.read_csv(sdss_loc, sep='\\t')[2:].reset_index(drop=True)"
   ]
  },
  {
   "cell_type": "code",
   "execution_count": 5,
   "metadata": {},
   "outputs": [
    {
     "data": {
      "text/html": [
       "<div>\n",
       "<style scoped>\n",
       "    .dataframe tbody tr th:only-of-type {\n",
       "        vertical-align: middle;\n",
       "    }\n",
       "\n",
       "    .dataframe tbody tr th {\n",
       "        vertical-align: top;\n",
       "    }\n",
       "\n",
       "    .dataframe thead th {\n",
       "        text-align: right;\n",
       "    }\n",
       "</style>\n",
       "<table border=\"1\" class=\"dataframe\">\n",
       "  <thead>\n",
       "    <tr style=\"text-align: right;\">\n",
       "      <th></th>\n",
       "      <th>RA_ICRS</th>\n",
       "      <th>DE_ICRS</th>\n",
       "      <th>mode</th>\n",
       "      <th>q_mode</th>\n",
       "      <th>class</th>\n",
       "      <th>SDSS12</th>\n",
       "      <th>m_SDSS12</th>\n",
       "      <th>ObsDate</th>\n",
       "      <th>Q</th>\n",
       "      <th>umag</th>\n",
       "      <th>...</th>\n",
       "      <th>rmag</th>\n",
       "      <th>e_rmag</th>\n",
       "      <th>imag</th>\n",
       "      <th>e_imag</th>\n",
       "      <th>zmag</th>\n",
       "      <th>e_zmag</th>\n",
       "      <th>zsp</th>\n",
       "      <th>zph</th>\n",
       "      <th>e_zph</th>\n",
       "      <th>&lt;zph&gt;</th>\n",
       "    </tr>\n",
       "  </thead>\n",
       "  <tbody>\n",
       "    <tr>\n",
       "      <th>0</th>\n",
       "      <td>044.991889</td>\n",
       "      <td>+00.040779</td>\n",
       "      <td>1</td>\n",
       "      <td>+</td>\n",
       "      <td>3</td>\n",
       "      <td>J025958.05+000226.8</td>\n",
       "      <td>*</td>\n",
       "      <td>2003.8858</td>\n",
       "      <td>3</td>\n",
       "      <td>23.206</td>\n",
       "      <td>...</td>\n",
       "      <td>20.132</td>\n",
       "      <td>0.042</td>\n",
       "      <td>19.491</td>\n",
       "      <td>0.034</td>\n",
       "      <td>18.978</td>\n",
       "      <td>0.094</td>\n",
       "      <td>0.46846</td>\n",
       "      <td>0.3671</td>\n",
       "      <td>0.0447</td>\n",
       "      <td>0.3701</td>\n",
       "    </tr>\n",
       "    <tr>\n",
       "      <th>1</th>\n",
       "      <td>044.997801</td>\n",
       "      <td>+00.063080</td>\n",
       "      <td>1</td>\n",
       "      <td>+</td>\n",
       "      <td>3</td>\n",
       "      <td>J025959.47+000347.0</td>\n",
       "      <td>*</td>\n",
       "      <td>2003.8858</td>\n",
       "      <td>3</td>\n",
       "      <td>21.740</td>\n",
       "      <td>...</td>\n",
       "      <td>20.272</td>\n",
       "      <td>0.024</td>\n",
       "      <td>19.966</td>\n",
       "      <td>0.026</td>\n",
       "      <td>19.630</td>\n",
       "      <td>0.079</td>\n",
       "      <td>0.37803</td>\n",
       "      <td>0.2365</td>\n",
       "      <td>0.0735</td>\n",
       "      <td>0.2493</td>\n",
       "    </tr>\n",
       "    <tr>\n",
       "      <th>2</th>\n",
       "      <td>044.955188</td>\n",
       "      <td>+00.054225</td>\n",
       "      <td>1</td>\n",
       "      <td></td>\n",
       "      <td>3</td>\n",
       "      <td>J025949.24+000315.2</td>\n",
       "      <td>*</td>\n",
       "      <td>2003.8858</td>\n",
       "      <td>3</td>\n",
       "      <td>21.723</td>\n",
       "      <td>...</td>\n",
       "      <td>19.729</td>\n",
       "      <td>0.033</td>\n",
       "      <td>19.415</td>\n",
       "      <td>0.038</td>\n",
       "      <td>19.264</td>\n",
       "      <td>0.133</td>\n",
       "      <td>0.37611</td>\n",
       "      <td>0.3736</td>\n",
       "      <td>0.0729</td>\n",
       "      <td>0.3343</td>\n",
       "    </tr>\n",
       "    <tr>\n",
       "      <th>3</th>\n",
       "      <td>044.961076</td>\n",
       "      <td>+00.077095</td>\n",
       "      <td>1</td>\n",
       "      <td>+</td>\n",
       "      <td>3</td>\n",
       "      <td>J025950.65+000437.5</td>\n",
       "      <td>*</td>\n",
       "      <td>2003.8858</td>\n",
       "      <td>3</td>\n",
       "      <td>21.148</td>\n",
       "      <td>...</td>\n",
       "      <td>19.501</td>\n",
       "      <td>0.020</td>\n",
       "      <td>19.053</td>\n",
       "      <td>0.020</td>\n",
       "      <td>19.014</td>\n",
       "      <td>0.073</td>\n",
       "      <td>0.13947</td>\n",
       "      <td>0.1349</td>\n",
       "      <td>0.0347</td>\n",
       "      <td>0.1377</td>\n",
       "    </tr>\n",
       "    <tr>\n",
       "      <th>4</th>\n",
       "      <td>044.931939</td>\n",
       "      <td>+00.077110</td>\n",
       "      <td>1</td>\n",
       "      <td>+</td>\n",
       "      <td>3</td>\n",
       "      <td>J025943.66+000437.5</td>\n",
       "      <td>*</td>\n",
       "      <td>2003.8858</td>\n",
       "      <td>3</td>\n",
       "      <td>19.892</td>\n",
       "      <td>...</td>\n",
       "      <td>18.604</td>\n",
       "      <td>0.014</td>\n",
       "      <td>18.386</td>\n",
       "      <td>0.016</td>\n",
       "      <td>18.351</td>\n",
       "      <td>0.062</td>\n",
       "      <td>0.12753</td>\n",
       "      <td>0.1043</td>\n",
       "      <td>0.0391</td>\n",
       "      <td>0.1085</td>\n",
       "    </tr>\n",
       "  </tbody>\n",
       "</table>\n",
       "<p>5 rows × 23 columns</p>\n",
       "</div>"
      ],
      "text/plain": [
       "      RA_ICRS     DE_ICRS mode q_mode class               SDSS12 m_SDSS12  \\\n",
       "0  044.991889  +00.040779    1      +     3  J025958.05+000226.8        *   \n",
       "1  044.997801  +00.063080    1      +     3  J025959.47+000347.0        *   \n",
       "2  044.955188  +00.054225    1            3  J025949.24+000315.2        *   \n",
       "3  044.961076  +00.077095    1      +     3  J025950.65+000437.5        *   \n",
       "4  044.931939  +00.077110    1      +     3  J025943.66+000437.5        *   \n",
       "\n",
       "     ObsDate  Q    umag   ...       rmag  e_rmag    imag  e_imag    zmag  \\\n",
       "0  2003.8858  3  23.206   ...     20.132   0.042  19.491   0.034  18.978   \n",
       "1  2003.8858  3  21.740   ...     20.272   0.024  19.966   0.026  19.630   \n",
       "2  2003.8858  3  21.723   ...     19.729   0.033  19.415   0.038  19.264   \n",
       "3  2003.8858  3  21.148   ...     19.501   0.020  19.053   0.020  19.014   \n",
       "4  2003.8858  3  19.892   ...     18.604   0.014  18.386   0.016  18.351   \n",
       "\n",
       "   e_zmag       zsp         zph       e_zph    <zph>  \n",
       "0   0.094   0.46846      0.3671      0.0447   0.3701  \n",
       "1   0.079   0.37803      0.2365      0.0735   0.2493  \n",
       "2   0.133   0.37611      0.3736      0.0729   0.3343  \n",
       "3   0.073   0.13947      0.1349      0.0347   0.1377  \n",
       "4   0.062   0.12753      0.1043      0.0391   0.1085  \n",
       "\n",
       "[5 rows x 23 columns]"
      ]
     },
     "execution_count": 5,
     "metadata": {},
     "output_type": "execute_result"
    }
   ],
   "source": [
    "df.head()"
   ]
  },
  {
   "cell_type": "code",
   "execution_count": 11,
   "metadata": {},
   "outputs": [],
   "source": [
    "df = df.sample(10000)  # keep things manageable"
   ]
  },
  {
   "cell_type": "code",
   "execution_count": 15,
   "metadata": {},
   "outputs": [],
   "source": [
    "df['zsp'] = pd.to_numeric(df['zsp'], errors='coerce')"
   ]
  },
  {
   "cell_type": "code",
   "execution_count": 16,
   "metadata": {},
   "outputs": [
    {
     "data": {
      "text/plain": [
       "10000"
      ]
     },
     "execution_count": 16,
     "metadata": {},
     "output_type": "execute_result"
    }
   ],
   "source": [
    "len(df)"
   ]
  },
  {
   "cell_type": "code",
   "execution_count": 17,
   "metadata": {},
   "outputs": [
    {
     "data": {
      "text/plain": [
       "<matplotlib.axes._subplots.AxesSubplot at 0x12d5ab6a0>"
      ]
     },
     "execution_count": 17,
     "metadata": {},
     "output_type": "execute_result"
    },
    {
     "data": {
      "image/png": "[encoded data removed]",
      "text/plain": [
       "<matplotlib.figure.Figure at 0x12d5ab0b8>"
      ]
     },
     "metadata": {},
     "output_type": "display_data"
    }
   ],
   "source": [
    "df['zsp'].hist()"
   ]
  },
  {
   "cell_type": "markdown",
   "metadata": {},
   "source": [
    "### SQL query run on [TAP Vizier](http://tapvizier.u-strasbg.fr/adql/?%20V/147/sdss12)\n"
   ]
  },
  {
   "cell_type": "markdown",
   "metadata": {},
   "source": [
    " -- output format : csv\n",
    " \n",
    "SELECT TOP 100000 \"V/147/sdss12\".RA_ICRS, \"V/147/sdss12\".DE_ICRS, \"V/147/sdss12\".mode, \"V/147/sdss12\".q_mode, \"V/147/sdss12\".class, \"V/147/sdss12\".SDSS12, \"V/147/sdss12\".m_SDSS12,\n",
    "\"V/147/sdss12\".objID, \"V/147/sdss12\".\"Sp-ID\", \"V/147/sdss12\".ObsDate, \"V/147/sdss12\".Q, \"V/147/sdss12\".umag, \"V/147/sdss12\".e_umag, \"V/147/sdss12\".gmag, \"V/147/sdss12\".e_gmag,\n",
    "\"V/147/sdss12\".rmag, \"V/147/sdss12\".e_rmag, \"V/147/sdss12\".imag, \"V/147/sdss12\".e_imag, \"V/147/sdss12\".zmag, \"V/147/sdss12\".e_zmag, \"V/147/sdss12\".zsp, \"V/147/sdss12\".pmRA,\n",
    "\"V/147/sdss12\".pmDE, \"V/147/sdss12\".zph, \"V/147/sdss12\".e_zph, \"V/147/sdss12\".\"<zph>\", \"II/319/las9\".recno, \"II/319/las9\".ULAS, \"II/319/las9\".m, \"II/319/las9\".RAJ2000,\n",
    "\"II/319/las9\".DEJ2000, \"II/319/las9\".Ymag, \"II/319/las9\".e_Ymag, \"II/319/las9\".Jmag1, \"II/319/las9\".e_Jmag1, \"II/319/las9\".Jmag2, \"II/319/las9\".e_Jmag2, \"II/319/las9\".Hmag,\n",
    "\"II/319/las9\".e_Hmag, \"II/319/las9\".Kmag, \"II/319/las9\".e_Kmag, \"II/319/las9\".Epoch, \"II/319/las9\".pmRA, \"II/319/las9\".pmDE, \"II/319/las9\".chi2, \"II/319/las9\".cl,\n",
    "\"II/319/las9\".\"p*\"\n",
    "\n",
    "FROM \"V/147/sdss12\",\"II/319/las9\"\n",
    "WHERE 1=CONTAINS(POINT('ICRS',\"II/319/las9\".RAJ2000,\"II/319/las9\".DEJ2000),CIRCLE('ICRS',\"V/147/sdss12\".RA_ICRS,\"V/147/sdss12\".DE_ICRS, 5/3600.))\n",
    "\n",
    "AND \"V/147/sdss12\".class=3\n",
    "AND \"V/147/sdss12\".SpObjID>0\n",
    "AND \"V/147/sdss12\".zsp<0.15\n",
    "AND \"II/319/las9\".\"p*\"<0.5\n",
    "AND \"II/319/las9\".mStat=1\n",
    "AND \"II/319/las9\".cl=1\n",
    "AND \"V/147/sdss12\".mode=1"
   ]
  },
  {
   "cell_type": "code",
   "execution_count": 7,
   "metadata": {},
   "outputs": [],
   "source": [
    "merged_loc = 'catalogs/sdss_las_filtered_sample_10.csv'"
   ]
  },
  {
   "cell_type": "code",
   "execution_count": 8,
   "metadata": {},
   "outputs": [
    {
     "data": {
      "text/html": [
       "<div>\n",
       "<style>\n",
       "    .dataframe thead tr:only-child th {\n",
       "        text-align: right;\n",
       "    }\n",
       "\n",
       "    .dataframe thead th {\n",
       "        text-align: left;\n",
       "    }\n",
       "\n",
       "    .dataframe tbody tr th {\n",
       "        vertical-align: top;\n",
       "    }\n",
       "</style>\n",
       "<table border=\"1\" class=\"dataframe\">\n",
       "  <thead>\n",
       "    <tr style=\"text-align: right;\">\n",
       "      <th></th>\n",
       "      <th>RA_ICRS</th>\n",
       "      <th>DE_ICRS</th>\n",
       "      <th>mode</th>\n",
       "      <th>q_mode</th>\n",
       "      <th>class</th>\n",
       "      <th>SDSS12</th>\n",
       "      <th>m_SDSS12</th>\n",
       "      <th>objID</th>\n",
       "      <th>Sp-ID</th>\n",
       "      <th>ObsDate</th>\n",
       "      <th>...</th>\n",
       "      <th>Hmag</th>\n",
       "      <th>e_Hmag</th>\n",
       "      <th>Kmag</th>\n",
       "      <th>e_Kmag</th>\n",
       "      <th>Epoch</th>\n",
       "      <th>pmRA.1</th>\n",
       "      <th>pmDE.1</th>\n",
       "      <th>chi2</th>\n",
       "      <th>cl</th>\n",
       "      <th>p*</th>\n",
       "    </tr>\n",
       "  </thead>\n",
       "  <tbody>\n",
       "    <tr>\n",
       "      <th>0</th>\n",
       "      <td>8.188932</td>\n",
       "      <td>13.358238</td>\n",
       "      <td>1</td>\n",
       "      <td>+</td>\n",
       "      <td>3</td>\n",
       "      <td>J003245.34+132129.6</td>\n",
       "      <td>NaN</td>\n",
       "      <td>1237678920745025976</td>\n",
       "      <td>6196-56189-0671</td>\n",
       "      <td>2008.8388</td>\n",
       "      <td>...</td>\n",
       "      <td>17.797</td>\n",
       "      <td>0.077</td>\n",
       "      <td>NaN</td>\n",
       "      <td>NaN</td>\n",
       "      <td>2010.6312</td>\n",
       "      <td>NaN</td>\n",
       "      <td>NaN</td>\n",
       "      <td>NaN</td>\n",
       "      <td>1</td>\n",
       "      <td>0.05</td>\n",
       "    </tr>\n",
       "    <tr>\n",
       "      <th>1</th>\n",
       "      <td>6.024797</td>\n",
       "      <td>14.713147</td>\n",
       "      <td>1</td>\n",
       "      <td>+</td>\n",
       "      <td>3</td>\n",
       "      <td>J002405.95+144247.3</td>\n",
       "      <td>*</td>\n",
       "      <td>1237656495116189881</td>\n",
       "      <td>753-52233-0154</td>\n",
       "      <td>2001.7148</td>\n",
       "      <td>...</td>\n",
       "      <td>NaN</td>\n",
       "      <td>NaN</td>\n",
       "      <td>NaN</td>\n",
       "      <td>NaN</td>\n",
       "      <td>2007.7424</td>\n",
       "      <td>NaN</td>\n",
       "      <td>NaN</td>\n",
       "      <td>NaN</td>\n",
       "      <td>1</td>\n",
       "      <td>0.05</td>\n",
       "    </tr>\n",
       "    <tr>\n",
       "      <th>2</th>\n",
       "      <td>222.859482</td>\n",
       "      <td>0.879703</td>\n",
       "      <td>1</td>\n",
       "      <td>+</td>\n",
       "      <td>3</td>\n",
       "      <td>J145126.27+005246.9</td>\n",
       "      <td>*</td>\n",
       "      <td>1237648705668120893</td>\n",
       "      <td>309-51994-0369</td>\n",
       "      <td>1999.2182</td>\n",
       "      <td>...</td>\n",
       "      <td>18.885</td>\n",
       "      <td>0.195</td>\n",
       "      <td>NaN</td>\n",
       "      <td>NaN</td>\n",
       "      <td>2008.3477</td>\n",
       "      <td>NaN</td>\n",
       "      <td>NaN</td>\n",
       "      <td>NaN</td>\n",
       "      <td>1</td>\n",
       "      <td>0.05</td>\n",
       "    </tr>\n",
       "    <tr>\n",
       "      <th>3</th>\n",
       "      <td>216.732479</td>\n",
       "      <td>-0.702243</td>\n",
       "      <td>1</td>\n",
       "      <td>+</td>\n",
       "      <td>3</td>\n",
       "      <td>J142655.79-004208.0</td>\n",
       "      <td>NaN</td>\n",
       "      <td>1237648703517950128</td>\n",
       "      <td>305-51613-0065</td>\n",
       "      <td>1999.2181</td>\n",
       "      <td>...</td>\n",
       "      <td>NaN</td>\n",
       "      <td>NaN</td>\n",
       "      <td>NaN</td>\n",
       "      <td>NaN</td>\n",
       "      <td>2008.3531</td>\n",
       "      <td>NaN</td>\n",
       "      <td>NaN</td>\n",
       "      <td>NaN</td>\n",
       "      <td>1</td>\n",
       "      <td>0.05</td>\n",
       "    </tr>\n",
       "    <tr>\n",
       "      <th>4</th>\n",
       "      <td>212.249621</td>\n",
       "      <td>0.446863</td>\n",
       "      <td>1</td>\n",
       "      <td>NaN</td>\n",
       "      <td>3</td>\n",
       "      <td>J140859.90+002648.7</td>\n",
       "      <td>NaN</td>\n",
       "      <td>1237648705126596638</td>\n",
       "      <td>302-51688-0507</td>\n",
       "      <td>1999.2181</td>\n",
       "      <td>...</td>\n",
       "      <td>NaN</td>\n",
       "      <td>NaN</td>\n",
       "      <td>17.554</td>\n",
       "      <td>0.135</td>\n",
       "      <td>2005.4532</td>\n",
       "      <td>NaN</td>\n",
       "      <td>NaN</td>\n",
       "      <td>NaN</td>\n",
       "      <td>1</td>\n",
       "      <td>0.05</td>\n",
       "    </tr>\n",
       "  </tbody>\n",
       "</table>\n",
       "<p>5 rows × 48 columns</p>\n",
       "</div>"
      ],
      "text/plain": [
       "      RA_ICRS    DE_ICRS  mode q_mode  class               SDSS12 m_SDSS12  \\\n",
       "0    8.188932  13.358238     1      +      3  J003245.34+132129.6      NaN   \n",
       "1    6.024797  14.713147     1      +      3  J002405.95+144247.3        *   \n",
       "2  222.859482   0.879703     1      +      3  J145126.27+005246.9        *   \n",
       "3  216.732479  -0.702243     1      +      3  J142655.79-004208.0      NaN   \n",
       "4  212.249621   0.446863     1    NaN      3  J140859.90+002648.7      NaN   \n",
       "\n",
       "                 objID            Sp-ID    ObsDate  ...     Hmag  e_Hmag  \\\n",
       "0  1237678920745025976  6196-56189-0671  2008.8388  ...   17.797   0.077   \n",
       "1  1237656495116189881  753-52233-0154   2001.7148  ...      NaN     NaN   \n",
       "2  1237648705668120893  309-51994-0369   1999.2182  ...   18.885   0.195   \n",
       "3  1237648703517950128  305-51613-0065   1999.2181  ...      NaN     NaN   \n",
       "4  1237648705126596638  302-51688-0507   1999.2181  ...      NaN     NaN   \n",
       "\n",
       "     Kmag  e_Kmag      Epoch  pmRA.1  pmDE.1  chi2  cl    p*  \n",
       "0     NaN     NaN  2010.6312     NaN     NaN   NaN   1  0.05  \n",
       "1     NaN     NaN  2007.7424     NaN     NaN   NaN   1  0.05  \n",
       "2     NaN     NaN  2008.3477     NaN     NaN   NaN   1  0.05  \n",
       "3     NaN     NaN  2008.3531     NaN     NaN   NaN   1  0.05  \n",
       "4  17.554   0.135  2005.4532     NaN     NaN   NaN   1  0.05  \n",
       "\n",
       "[5 rows x 48 columns]"
      ]
     },
     "execution_count": 8,
     "metadata": {},
     "output_type": "execute_result"
    }
   ],
   "source": [
    "df = pd.read_csv(merged_loc)\n",
    "df.head()"
   ]
  },
  {
   "cell_type": "code",
   "execution_count": 9,
   "metadata": {},
   "outputs": [
    {
     "data": {
      "text/plain": [
       "array(['RA_ICRS', 'DE_ICRS', 'mode', 'q_mode', 'class', 'SDSS12',\n",
       "       'm_SDSS12', 'objID', 'Sp-ID', 'ObsDate', 'Q', 'umag', 'e_umag',\n",
       "       'gmag', 'e_gmag', 'rmag', 'e_rmag', 'imag', 'e_imag', 'zmag',\n",
       "       'e_zmag', 'zsp', 'pmRA', 'pmDE', 'zph', 'e_zph', '<zph>', 'recno',\n",
       "       'ULAS', 'm', 'RAJ2000', 'DEJ2000', 'Ymag', 'e_Ymag', 'Jmag1',\n",
       "       'e_Jmag1', 'Jmag2', 'e_Jmag2', 'Hmag', 'e_Hmag', 'Kmag', 'e_Kmag',\n",
       "       'Epoch', 'pmRA.1', 'pmDE.1', 'chi2', 'cl', 'p*'], dtype=object)"
      ]
     },
     "execution_count": 9,
     "metadata": {},
     "output_type": "execute_result"
    }
   ],
   "source": [
    "df.columns.values"
   ]
  },
  {
   "cell_type": "code",
   "execution_count": 15,
   "metadata": {},
   "outputs": [],
   "source": [
    "assert all(df['class'] == 3)\n",
    "assert all(df['zsp'] <= 0.15)\n",
    "# assert all(df['SpObjID'] > 0)\n",
    "assert all(df['mode'] == 1)\n",
    "\n",
    "assert all(df['p*'] < 0.5)\n",
    "# assert all(df['mStat'] == 1)\n",
    "assert all(df['cl'] == 1)\n",
    "\n",
    "# TODO make sure all constraint columns are downloaded"
   ]
  },
  {
   "cell_type": "markdown",
   "metadata": {},
   "source": [
    "\" The UKIDSS project is defined in Lawrence et al 2007. UKIDSS uses the UKIRT Wide Field Camera (WFCAM; Casali et al 2007) and a photometric system described in Hewett et al 2006. The pipeline processing and science archive are described in Irwin et al (2008) and Hambly et al (2008). We have used data from the Xnd data release, which is described in detail in XX et al (200X).\" \n",
    "\n",
    "Acknowledgement from http://wsa.roe.ac.uk/pubs.html"
   ]
  },
  {
   "cell_type": "markdown",
   "metadata": {},
   "source": [
    "## WISE\n",
    "\n",
    "WISE is already cross-matched into UKIDSS.\n",
    "\n",
    "The recommended data release is the all-sky release: http://wise2.ipac.caltech.edu/docs/release/allsky/. This includes the AllWISE Source Catalog, introduced [here](http://wise2.ipac.caltech.edu/docs/release/allwise/expsup/sec1_3.html#src_cat), described [here](http://wise2.ipac.caltech.edu/docs/release/allwise/expsup/sec2_1.html). AllWISE has general access instructions [here](http://wise2.ipac.caltech.edu/docs/release/allwise/expsup/sec1_5.html).\n",
    "\n",
    "I haven't looked into this yet."
   ]
  }
 ],
 "metadata": {
  "kernelspec": {
   "display_name": "Python 3",
   "language": "python",
   "name": "python3"
  },
  "language_info": {
   "codemirror_mode": {
    "name": "ipython",
    "version": 3
   },
   "file_extension": ".py",
   "mimetype": "text/x-python",
   "name": "python",
   "nbconvert_exporter": "python",
   "pygments_lexer": "ipython3",
   "version": "3.6.5"
  }
 },
 "nbformat": 4,
 "nbformat_minor": 2
}
