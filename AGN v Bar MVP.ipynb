{
 "cells": [
  {
   "cell_type": "code",
   "execution_count": 43,
   "metadata": {},
   "outputs": [
    {
     "name": "stdout",
     "output_type": "stream",
     "text": [
      "The autoreload extension is already loaded. To reload it, use:\n",
      "  %reload_ext autoreload\n"
     ]
    }
   ],
   "source": [
    "%load_ext autoreload\n",
    "%autoreload 2\n",
    "\n",
    "%matplotlib inline\n",
    "from overlap import *  # bad practice\n",
    "from IPython.display import display\n",
    "\n",
    "from astropy.io import fits\n",
    "from astropy.table import Table\n",
    "\n",
    "import seaborn as sns\n",
    "sns.set_context('poster')\n",
    "\n",
    "from axial_ratio_comparison import cache_nsa, get_agn_catalog\n",
    "from shared_utilities import plot_catalog, plot_catalog_overlap"
   ]
  },
  {
   "cell_type": "code",
   "execution_count": 6,
   "metadata": {},
   "outputs": [
    {
     "name": "stderr",
     "output_type": "stream",
     "text": [
      "/Data/repos/find_agn/overlap.py:11: ParserWarning: Falling back to the 'python' engine because the 'c' engine does not support regex separators (separators > 1 char and different from '\\s+' are interpreted as regex); you can avoid this warning by specifying engine='python'.\n",
      "  df = pd.read_table(heckman_loc, sep=r\"\\s*\")\n",
      "/data/anaconda3/envs/py36/lib/python3.6/site-packages/pandas/io/parsers.py:2138: FutureWarning: split() requires a non-empty pattern match.\n",
      "  yield pat.split(line.strip())\n",
      "/data/anaconda3/envs/py36/lib/python3.6/site-packages/pandas/io/parsers.py:2140: FutureWarning: split() requires a non-empty pattern match.\n",
      "  yield pat.split(line.strip())\n"
     ]
    }
   ],
   "source": [
    "joint_catalog = Table(fits.getdata('/Volumes/external/decals/catalogs/dr5_nsa1_0_0_to_upload.fits'))\n",
    "heckman = get_heckman_catalog(heckman_loc='/data/repos/find_agn/sdss_dr7_radiosources.cat')\n",
    "galaxy_zoo = pd.read_csv('/data/galaxy_zoo/gz2/subjects/gz2_hart16.csv')"
   ]
  },
  {
   "cell_type": "code",
   "execution_count": 61,
   "metadata": {},
   "outputs": [],
   "source": [
    "dr7 = Table(fits.getdata('/data/galaxy_zoo/decals/catalogs/gal_info_dr7_v5_2.fit'))\n",
    "for col in dr7.colnames:\n",
    "    dr7.rename_column(col, col.lower())\n",
    "bands = ['g', 'r', 'i']\n",
    "mag_cols = ['kcor_mag_{}'.format(band) for band in bands]\n",
    "for n in range(len(bands)):\n",
    "    mag_col = mag_cols[n]\n",
    "    dr7[mag_col] = [dr7[row]['kcor_mag'][n] for row in range(len(dr7))]\n",
    "useful_columns = ['ra','dec', 'z', 'release'] + mag_cols\n",
    "target_loc = '/data/galaxy_zoo/decals/catalogs/gal_info_dr7_v5_2_cache.csv'\n",
    "dr7[useful_columns].write(target_loc)"
   ]
  },
  {
   "cell_type": "code",
   "execution_count": 62,
   "metadata": {},
   "outputs": [],
   "source": [
    "dr7 = pd.read_csv(target_loc)"
   ]
  },
  {
   "cell_type": "code",
   "execution_count": 68,
   "metadata": {
    "scrolled": true
   },
   "outputs": [
    {
     "data": {
      "text/plain": [
       "array([ -1.04130435,  -0.99049175,  -0.80890167, ...,  32.02427673,\n",
       "        32.28562927,  32.09290314])"
      ]
     },
     "execution_count": 68,
     "metadata": {},
     "output_type": "execute_result"
    }
   ],
   "source": [
    "dr7['dec'].values"
   ]
  },
  {
   "cell_type": "code",
   "execution_count": 5,
   "metadata": {},
   "outputs": [
    {
     "data": {
      "text/plain": [
       "<matplotlib.figure.Figure at 0x1094c6048>"
      ]
     },
     "metadata": {},
     "output_type": "display_data"
    },
    {
     "data": {
      "text/plain": [
       "<matplotlib.figure.Figure at 0x10754c780>"
      ]
     },
     "metadata": {},
     "output_type": "display_data"
    }
   ],
   "source": [
    "# plot_overlaps(joint_catalog, heckman)"
   ]
  },
  {
   "cell_type": "code",
   "execution_count": 2,
   "metadata": {},
   "outputs": [
    {
     "name": "stdout",
     "output_type": "stream",
     "text": [
      "Begin caching at 14:53:46.977917\n",
      "Table loaded at 14:54:20.018480\n",
      "['RA', 'DEC', 'MAG', 'PETRO_BA50', 'PETRO_PHI50', 'PETRO_BA90', 'PETRO_PHI90', 'ELPETRO_MASS', 'ELPETRO_PHI', 'ELPETRO_FLUX_R', 'ELPETRO_THETA', 'elpetro_flux_f', 'elpetro_flux_n', 'elpetro_flux_u', 'elpetro_flux_g', 'elpetro_flux_r', 'elpetro_flux_i', 'elpetro_flux_z']\n",
      "      RA           DEC         MAG   PETRO_BA50 PETRO_PHI50 PETRO_BA90 PETRO_PHI90 ELPETRO_MASS ELPETRO_PHI ELPETRO_FLUX_R ELPETRO_THETA elpetro_flux_f elpetro_flux_n elpetro_flux_u elpetro_flux_g elpetro_flux_r elpetro_flux_i elpetro_flux_z\n",
      "------------- -------------- ------- ---------- ----------- ---------- ----------- ------------ ----------- -------------- ------------- -------------- -------------- -------------- -------------- -------------- -------------- --------------\n",
      "146.714215073 -1.04128002333 15.1788     0.8891     14.7775   0.804085     17.3676  6.83316e+09     17.3676        1144.07       7.39134        18.7879        30.7565        135.981        566.686        1144.07        1671.89        2225.01\n",
      "Saving Table at 14:55:51.241155\n",
      "Saved to csv at 14:56:07.187099\n"
     ]
    }
   ],
   "source": [
    "useful_nsa_columns = [\n",
    "    'ra',\n",
    "    'dec',\n",
    "    'mag',\n",
    "#     'bastokes',\n",
    "#     'phistokes',\n",
    "    'petro_ba50',\n",
    "    'petro_phi50',\n",
    "    'petro_ba90',\n",
    "    'petro_phi90',\n",
    "    'elpetro_mass',\n",
    "    'elpetro_phi',\n",
    "    'elpetro_flux_r',\n",
    "    'elpetro_theta',\n",
    "]\n",
    "useful_nsa_columns = list(map(lambda x: x.upper(), useful_nsa_columns))\n",
    "nsa_loc = '/data/galaxy_zoo/decals/catalogs/nsa_v1_0_1.fits'\n",
    "nsa_cache_loc = '/data/galaxy_zoo/decals/catalogs/nsa_v1_0_1_cached.csv'\n",
    "nsa = cache_nsa(nsa_loc, nsa_cache_loc, useful_nsa_columns)"
   ]
  },
  {
   "cell_type": "code",
   "execution_count": 3,
   "metadata": {},
   "outputs": [],
   "source": [
    "nsa = pd.read_csv(nsa_cache_loc)"
   ]
  },
  {
   "cell_type": "code",
   "execution_count": 5,
   "metadata": {},
   "outputs": [
    {
     "data": {
      "text/plain": [
       "ra                  1.467142e+02\n",
       "dec                -1.041280e+00\n",
       "mag                 1.517877e+01\n",
       "petro_ba50          8.891000e-01\n",
       "petro_phi50         1.477753e+01\n",
       "petro_ba90          8.040850e-01\n",
       "petro_phi90         1.736755e+01\n",
       "elpetro_mass        6.833158e+09\n",
       "elpetro_phi         1.736755e+01\n",
       "elpetro_flux_r      1.144071e+03\n",
       "elpetro_theta       7.391336e+00\n",
       "elpetro_flux_f      1.878792e+01\n",
       "elpetro_flux_n      3.075654e+01\n",
       "elpetro_flux_u      1.359807e+02\n",
       "elpetro_flux_g      5.666858e+02\n",
       "elpetro_flux_r.1    1.144071e+03\n",
       "elpetro_flux_i      1.671893e+03\n",
       "elpetro_flux_z      2.225009e+03\n",
       "Name: 0, dtype: float64"
      ]
     },
     "metadata": {},
     "output_type": "display_data"
    }
   ],
   "source": [
    "display(nsa.iloc[0])"
   ]
  },
  {
   "cell_type": "code",
   "execution_count": 47,
   "metadata": {},
   "outputs": [
    {
     "name": "stdout",
     "output_type": "stream",
     "text": [
      "LERG remaining: 3034 of 9863\n",
      "Galaxies remaining: 5989 of 18286\n"
     ]
    }
   ],
   "source": [
    "# heckman_nsa, heckman_only = match_galaxies_to_catalog_pandas(heckman, nsa)\n",
    "# print('LERG remaining: {} of {}'.format(heckman_nsa['lerg'].sum(), heckman['lerg'].sum()))\n",
    "# print('Galaxies remaining: {} of {}'.format(len(heckman_nsa), len(heckman['lerg'])))"
   ]
  },
  {
   "cell_type": "code",
   "execution_count": 79,
   "metadata": {
    "scrolled": false
   },
   "outputs": [
    {
     "name": "stdout",
     "output_type": "stream",
     "text": [
      "0    146.714203\n",
      "1    146.919449\n",
      "2    146.859833\n",
      "3    146.763397\n",
      "4    146.963898\n",
      "Name: ra, dtype: float64\n",
      "0    146.763398\n",
      "1    146.956070\n",
      "2    146.143585\n",
      "3    146.737122\n",
      "4    145.806381\n",
      "Name: ra, dtype: float64\n",
      "0    146.714215\n",
      "1    146.628585\n",
      "2    146.631706\n",
      "3    146.934129\n",
      "4    146.963500\n",
      "Name: ra, dtype: float64\n",
      "0   -1.041304\n",
      "1   -0.990492\n",
      "2   -0.808902\n",
      "3   -0.810433\n",
      "4   -0.545003\n",
      "Name: dec, dtype: float64\n",
      "0   -0.81043\n",
      "1   -0.34230\n",
      "2   -0.74164\n",
      "3   -0.25218\n",
      "4   -0.54706\n",
      "Name: dec, dtype: float64\n",
      "0   -1.041280\n",
      "1   -0.765162\n",
      "2   -0.988347\n",
      "3   -0.670405\n",
      "4   -0.544776\n",
      "Name: dec, dtype: float64\n",
      "359.997894287\n",
      "0.000685999984853\n",
      "359.997894287\n",
      "0.000685999984853\n"
     ]
    }
   ],
   "source": [
    "print(dr7['ra'][:5])\n",
    "print(heckman['ra'][:5])\n",
    "print(nsa['ra'][:5])\n",
    "print(dr7['dec'][:5])\n",
    "print(heckman['dec'][:5])\n",
    "print(nsa['dec'][:5])\n",
    "print(dr7['ra'].max())\n",
    "print(dr7['ra'].min())\n",
    "dr7 = dr7[(dr7['ra'] > 0.) & (dr7['ra'] < 360.)]\n",
    "print(dr7['ra'].max())\n",
    "print(dr7['ra'].min())"
   ]
  },
  {
   "cell_type": "code",
   "execution_count": 97,
   "metadata": {},
   "outputs": [
    {
     "name": "stdout",
     "output_type": "stream",
     "text": [
      "Galaxies remaining: 253432 of 674114\n"
     ]
    }
   ],
   "source": [
    "dr7_and_gz, dr7_no_gz = match_galaxies_to_catalog_pandas(dr7, galaxy_zoo)\n",
    "# print('LERG remaining: {} of {}'.format(dr7_and_gz['lerg'].sum(), dr7_no_gz['lerg'].sum()))\n",
    "print('Galaxies remaining: {} of {}'.format(len(dr7_and_gz), len(dr7_no_gz)))\n"
   ]
  },
  {
   "cell_type": "code",
   "execution_count": 101,
   "metadata": {},
   "outputs": [
    {
     "data": {
      "image/png": "[encoded data removed]",
      "text/plain": [
       "<matplotlib.figure.Figure at 0x1096007f0>"
      ]
     },
     "metadata": {},
     "output_type": "display_data"
    }
   ],
   "source": [
    "fig, axes = plt.subplots(2, sharex=True, sharey=True)\n",
    "dr7_and_gz.hist('z', bins=50, ax=axes[0])\n",
    "a = dr7_no_gz.hist('z', bins=50, ax=axes[1])"
   ]
  },
  {
   "cell_type": "markdown",
   "metadata": {},
   "source": [
    "Basic catalogs (DR7 MPA-JHU for Heckman, NSA for Galaxy Zoo) disagree where galaxies are.\n",
    "\n",
    "About (at most) half of this disagreement is because MPA_JHU is much deeper.\n",
    "\n",
    "About (at least) half of this disagreement is unexplained"
   ]
  },
  {
   "cell_type": "code",
   "execution_count": 104,
   "metadata": {},
   "outputs": [
    {
     "data": {
      "image/png": "[encoded data removed]",
      "text/plain": [
       "<matplotlib.figure.Figure at 0x11f208630>"
      ]
     },
     "metadata": {},
     "output_type": "display_data"
    }
   ],
   "source": [
    "fig, axes = plt.subplots(2, sharex=True, sharey=True)\n",
    "dr7_and_gz[dr7_and_gz['z'] < 0.1].hist('z', bins=50, ax=axes[0])\n",
    "a = dr7_no_gz[dr7_no_gz['z'] < 0.1].hist('z', bins=50, ax=axes[1])"
   ]
  },
  {
   "cell_type": "markdown",
   "metadata": {},
   "source": [
    "They disagree on galaxies which are very close (z < 0.012 or so). Otherwise, disagreement gradually increases with redshift - suggesting a centroid measurement error?  The matching radius I use is 10 arcseconds."
   ]
  },
  {
   "cell_type": "markdown",
   "metadata": {},
   "source": [
    "The DR13 tables here https://skyserver.sdss.org/dr13/en/help/docs/tabledesc.aspx include:\n",
    "\"SpecObjAll\" - hopefully a complete joined (where possible) catalog between MPA and later work\n",
    "\"SpecObjInfo\" - hopefully the MPA spectroscopic catalog, joinable to SpecObjAll with SpecObjID\n"
   ]
  },
  {
   "cell_type": "markdown",
   "metadata": {},
   "source": [
    "http://home.strw.leidenuniv.nl/~jarle/SDSS/\n",
    "https://wwwmpa.mpa-garching.mpg.de/SDSS/"
   ]
  },
  {
   "cell_type": "code",
   "execution_count": 81,
   "metadata": {},
   "outputs": [
    {
     "name": "stdout",
     "output_type": "stream",
     "text": [
      "LERG remaining: 9863 of 9863\n",
      "Galaxies remaining: 18286 of 18286\n"
     ]
    }
   ],
   "source": [
    "heckman_nsa, heckman_only = match_galaxies_to_catalog_pandas(heckman, dr7)\n",
    "print('LERG remaining: {} of {}'.format(heckman_nsa['lerg'].sum(), heckman['lerg'].sum()))\n",
    "print('Galaxies remaining: {} of {}'.format(len(heckman_nsa), len(heckman)))"
   ]
  },
  {
   "cell_type": "code",
   "execution_count": 82,
   "metadata": {},
   "outputs": [
    {
     "name": "stderr",
     "output_type": "stream",
     "text": [
      "/Data/repos/find_agn/shared_utilities.py:52: SettingWithCopyWarning: \n",
      "A value is trying to be set on a copy of a slice from a DataFrame.\n",
      "Try using .loc[row_indexer,col_indexer] = value instead\n",
      "\n",
      "See the caveats in the documentation: http://pandas.pydata.org/pandas-docs/stable/indexing.html#indexing-view-versus-copy\n",
      "  a_coords['catalog'] = legend[0]\n",
      "/Data/repos/find_agn/shared_utilities.py:54: SettingWithCopyWarning: \n",
      "A value is trying to be set on a copy of a slice from a DataFrame.\n",
      "Try using .loc[row_indexer,col_indexer] = value instead\n",
      "\n",
      "See the caveats in the documentation: http://pandas.pydata.org/pandas-docs/stable/indexing.html#indexing-view-versus-copy\n",
      "  b_coords['catalog'] = legend[1]\n"
     ]
    }
   ],
   "source": [
    "plot_catalog(heckman, filename='heckman_footprint')\n",
    "plot_catalog(nsa, filename='nsa_footprint')\n",
    "plot_catalog_overlap(heckman, nsa.sample(len(heckman)), legend=['heckman', 'nsa'], filename='nsa_heckman_overlap')\n",
    "plot_catalog_overlap(heckman_nsa, heckman_only, legend=['matched', 'missed'], filename='nsa_heckman_matches')\n",
    "# there are no heckman galaxies (red) outside the sdsss footprint(blue), as expected\n",
    "# the mismatch happens within the footprint on ra/dec"
   ]
  },
  {
   "cell_type": "code",
   "execution_count": 84,
   "metadata": {},
   "outputs": [],
   "source": [
    "# example_miss = heckman_only.iloc[5]\n",
    "# ra = example_miss['ra']\n",
    "# dec = example_miss['dec']\n",
    "# print(ra)\n",
    "# print(dec)\n",
    "# print('http://www.legacysurvey.org/viewer?ra={}&dec={}&zoom=14&layer=decals-dr5'.format(ra, dec))"
   ]
  },
  {
   "cell_type": "code",
   "execution_count": 94,
   "metadata": {},
   "outputs": [
    {
     "name": "stdout",
     "output_type": "stream",
     "text": [
      "LERG remaining: 3587 of 9863\n",
      "Galaxies remaining: 6407 of 18286\n"
     ]
    }
   ],
   "source": [
    "heckman_nsa_gz, no_gz = match_galaxies_to_catalog_pandas(heckman_nsa, galaxy_zoo)\n",
    "print('LERG remaining: {} of {}'.format(heckman_nsa_gz['lerg'].sum(), heckman['lerg'].sum()))\n",
    "print('Galaxies remaining: {} of {}'.format(len(heckman_nsa_gz), len(heckman['lerg'])))"
   ]
  },
  {
   "cell_type": "code",
   "execution_count": 93,
   "metadata": {},
   "outputs": [
    {
     "data": {
      "text/plain": [
       "array([<matplotlib.axes._subplots.AxesSubplot object at 0x11f2de630>], dtype=object)"
      ]
     },
     "execution_count": 93,
     "metadata": {},
     "output_type": "execute_result"
    },
    {
     "data": {
      "image/png": "[encoded data removed]",
      "text/plain": [
       "<matplotlib.figure.Figure at 0x1228f3c50>"
      ]
     },
     "metadata": {},
     "output_type": "display_data"
    }
   ],
   "source": [
    "fig, axes = plt.subplots(2, sharex=True)\n",
    "heckman_nsa.hist('z', bins=30, ax=axes[0])\n",
    "heckman_nsa_gz.hist('z', bins=30, ax=axes[1])"
   ]
  },
  {
   "cell_type": "code",
   "execution_count": null,
   "metadata": {},
   "outputs": [],
   "source": [
    "# heckman_decals, heckman_only = match_galaxies_to_catalog_pandas(heckman, joint_catalog[useful_nsa_columns].to_pandas())\n",
    "# # TODO plot heckman_only\n",
    "# print('LERG remaining: {} of {}'.format(heckman_decals['lerg'].sum(), heckman['lerg'].sum()))\n",
    "# print('Galaxies remaining: {} of {}'.format(len(heckman_decals), len(heckman['lerg'])))"
   ]
  },
  {
   "cell_type": "code",
   "execution_count": null,
   "metadata": {},
   "outputs": [],
   "source": [
    "# heckman_decals_gz, _ = match_galaxies_to_catalog_pandas(heckman_decals, galaxy_zoo)\n",
    "# print('LERG remaining: {} of {}'.format(heckman_decals_gz['lerg'].sum(), heckman['lerg'].sum()))\n",
    "# print('Galaxies remaining: {} of {}'.format(len(heckman_decals_gz), len(heckman['lerg'])))"
   ]
  },
  {
   "cell_type": "code",
   "execution_count": 11,
   "metadata": {},
   "outputs": [
    {
     "name": "stdout",
     "output_type": "stream",
     "text": [
      "['id1' 'id2' 'id3' 'ra_subject' 'dec_subject' 'z' 's_nvss' 'radclas'\n",
      " 's_first' 'off_first' 'rad_agn' 'main_sample' 'lerg' 'herg' 'best_match'\n",
      " 'sky_separation' 'ra_subject' 'dec_subject' 'mag' 'petro_ba50'\n",
      " 'petro_phi50' 'petro_ba90' 'petro_phi90' 'elpetro_mass' 'elpetro_phi'\n",
      " 'elpetro_flux_r' 'elpetro_theta' 'elpetro_flux_f' 'elpetro_flux_n'\n",
      " 'elpetro_flux_u' 'elpetro_flux_g' 'elpetro_flux_r.1' 'elpetro_flux_i'\n",
      " 'elpetro_flux_z' 'dr7objid' 'ra' 'dec' 'rastring' 'decstring' 'sample'\n",
      " 'gz2_class' 'total_classifications' 'total_votes'\n",
      " 't01_smooth_or_features_a01_smooth_count'\n",
      " 't01_smooth_or_features_a01_smooth_weight'\n",
      " 't01_smooth_or_features_a01_smooth_fraction'\n",
      " 't01_smooth_or_features_a01_smooth_weighted_fraction'\n",
      " 't01_smooth_or_features_a01_smooth_debiased'\n",
      " 't01_smooth_or_features_a01_smooth_flag'\n",
      " 't01_smooth_or_features_a02_features_or_disk_count'\n",
      " 't01_smooth_or_features_a02_features_or_disk_weight'\n",
      " 't01_smooth_or_features_a02_features_or_disk_fraction'\n",
      " 't01_smooth_or_features_a02_features_or_disk_weighted_fraction'\n",
      " 't01_smooth_or_features_a02_features_or_disk_debiased'\n",
      " 't01_smooth_or_features_a02_features_or_disk_flag'\n",
      " 't01_smooth_or_features_a03_star_or_artifact_count'\n",
      " 't01_smooth_or_features_a03_star_or_artifact_weight'\n",
      " 't01_smooth_or_features_a03_star_or_artifact_fraction'\n",
      " 't01_smooth_or_features_a03_star_or_artifact_weighted_fraction'\n",
      " 't01_smooth_or_features_a03_star_or_artifact_debiased'\n",
      " 't01_smooth_or_features_a03_star_or_artifact_flag'\n",
      " 't02_edgeon_a04_yes_count' 't02_edgeon_a04_yes_weight'\n",
      " 't02_edgeon_a04_yes_fraction' 't02_edgeon_a04_yes_weighted_fraction'\n",
      " 't02_edgeon_a04_yes_debiased' 't02_edgeon_a04_yes_flag'\n",
      " 't02_edgeon_a05_no_count' 't02_edgeon_a05_no_weight'\n",
      " 't02_edgeon_a05_no_fraction' 't02_edgeon_a05_no_weighted_fraction'\n",
      " 't02_edgeon_a05_no_debiased' 't02_edgeon_a05_no_flag'\n",
      " 't03_bar_a06_bar_count' 't03_bar_a06_bar_weight'\n",
      " 't03_bar_a06_bar_fraction' 't03_bar_a06_bar_weighted_fraction'\n",
      " 't03_bar_a06_bar_debiased' 't03_bar_a06_bar_flag'\n",
      " 't03_bar_a07_no_bar_count' 't03_bar_a07_no_bar_weight'\n",
      " 't03_bar_a07_no_bar_fraction' 't03_bar_a07_no_bar_weighted_fraction'\n",
      " 't03_bar_a07_no_bar_debiased' 't03_bar_a07_no_bar_flag'\n",
      " 't04_spiral_a08_spiral_count' 't04_spiral_a08_spiral_weight'\n",
      " 't04_spiral_a08_spiral_fraction' 't04_spiral_a08_spiral_weighted_fraction'\n",
      " 't04_spiral_a08_spiral_debiased' 't04_spiral_a08_spiral_flag'\n",
      " 't04_spiral_a09_no_spiral_count' 't04_spiral_a09_no_spiral_weight'\n",
      " 't04_spiral_a09_no_spiral_fraction'\n",
      " 't04_spiral_a09_no_spiral_weighted_fraction'\n",
      " 't04_spiral_a09_no_spiral_debiased' 't04_spiral_a09_no_spiral_flag'\n",
      " 't05_bulge_prominence_a10_no_bulge_count'\n",
      " 't05_bulge_prominence_a10_no_bulge_weight'\n",
      " 't05_bulge_prominence_a10_no_bulge_fraction'\n",
      " 't05_bulge_prominence_a10_no_bulge_weighted_fraction'\n",
      " 't05_bulge_prominence_a10_no_bulge_debiased'\n",
      " 't05_bulge_prominence_a10_no_bulge_flag'\n",
      " 't05_bulge_prominence_a11_just_noticeable_count'\n",
      " 't05_bulge_prominence_a11_just_noticeable_weight'\n",
      " 't05_bulge_prominence_a11_just_noticeable_fraction'\n",
      " 't05_bulge_prominence_a11_just_noticeable_weighted_fraction'\n",
      " 't05_bulge_prominence_a11_just_noticeable_debiased'\n",
      " 't05_bulge_prominence_a11_just_noticeable_flag'\n",
      " 't05_bulge_prominence_a12_obvious_count'\n",
      " 't05_bulge_prominence_a12_obvious_weight'\n",
      " 't05_bulge_prominence_a12_obvious_fraction'\n",
      " 't05_bulge_prominence_a12_obvious_weighted_fraction'\n",
      " 't05_bulge_prominence_a12_obvious_debiased'\n",
      " 't05_bulge_prominence_a12_obvious_flag'\n",
      " 't05_bulge_prominence_a13_dominant_count'\n",
      " 't05_bulge_prominence_a13_dominant_weight'\n",
      " 't05_bulge_prominence_a13_dominant_fraction'\n",
      " 't05_bulge_prominence_a13_dominant_weighted_fraction'\n",
      " 't05_bulge_prominence_a13_dominant_debiased'\n",
      " 't05_bulge_prominence_a13_dominant_flag' 't06_odd_a14_yes_count'\n",
      " 't06_odd_a14_yes_weight' 't06_odd_a14_yes_fraction'\n",
      " 't06_odd_a14_yes_weighted_fraction' 't06_odd_a14_yes_debiased'\n",
      " 't06_odd_a14_yes_flag' 't06_odd_a15_no_count' 't06_odd_a15_no_weight'\n",
      " 't06_odd_a15_no_fraction' 't06_odd_a15_no_weighted_fraction'\n",
      " 't06_odd_a15_no_debiased' 't06_odd_a15_no_flag'\n",
      " 't07_rounded_a16_completely_round_count'\n",
      " 't07_rounded_a16_completely_round_weight'\n",
      " 't07_rounded_a16_completely_round_fraction'\n",
      " 't07_rounded_a16_completely_round_weighted_fraction'\n",
      " 't07_rounded_a16_completely_round_debiased'\n",
      " 't07_rounded_a16_completely_round_flag' 't07_rounded_a17_in_between_count'\n",
      " 't07_rounded_a17_in_between_weight' 't07_rounded_a17_in_between_fraction'\n",
      " 't07_rounded_a17_in_between_weighted_fraction'\n",
      " 't07_rounded_a17_in_between_debiased' 't07_rounded_a17_in_between_flag'\n",
      " 't07_rounded_a18_cigar_shaped_count' 't07_rounded_a18_cigar_shaped_weight'\n",
      " 't07_rounded_a18_cigar_shaped_fraction'\n",
      " 't07_rounded_a18_cigar_shaped_weighted_fraction'\n",
      " 't07_rounded_a18_cigar_shaped_debiased'\n",
      " 't07_rounded_a18_cigar_shaped_flag' 't08_odd_feature_a19_ring_count'\n",
      " 't08_odd_feature_a19_ring_weight' 't08_odd_feature_a19_ring_fraction'\n",
      " 't08_odd_feature_a19_ring_weighted_fraction'\n",
      " 't08_odd_feature_a19_ring_debiased' 't08_odd_feature_a19_ring_flag'\n",
      " 't08_odd_feature_a20_lens_or_arc_count'\n",
      " 't08_odd_feature_a20_lens_or_arc_weight'\n",
      " 't08_odd_feature_a20_lens_or_arc_fraction'\n",
      " 't08_odd_feature_a20_lens_or_arc_weighted_fraction'\n",
      " 't08_odd_feature_a20_lens_or_arc_debiased'\n",
      " 't08_odd_feature_a20_lens_or_arc_flag'\n",
      " 't08_odd_feature_a21_disturbed_count'\n",
      " 't08_odd_feature_a21_disturbed_weight'\n",
      " 't08_odd_feature_a21_disturbed_fraction'\n",
      " 't08_odd_feature_a21_disturbed_weighted_fraction'\n",
      " 't08_odd_feature_a21_disturbed_debiased'\n",
      " 't08_odd_feature_a21_disturbed_flag' 't08_odd_feature_a22_irregular_count'\n",
      " 't08_odd_feature_a22_irregular_weight'\n",
      " 't08_odd_feature_a22_irregular_fraction'\n",
      " 't08_odd_feature_a22_irregular_weighted_fraction'\n",
      " 't08_odd_feature_a22_irregular_debiased'\n",
      " 't08_odd_feature_a22_irregular_flag' 't08_odd_feature_a23_other_count'\n",
      " 't08_odd_feature_a23_other_weight' 't08_odd_feature_a23_other_fraction'\n",
      " 't08_odd_feature_a23_other_weighted_fraction'\n",
      " 't08_odd_feature_a23_other_debiased' 't08_odd_feature_a23_other_flag'\n",
      " 't08_odd_feature_a24_merger_count' 't08_odd_feature_a24_merger_weight'\n",
      " 't08_odd_feature_a24_merger_fraction'\n",
      " 't08_odd_feature_a24_merger_weighted_fraction'\n",
      " 't08_odd_feature_a24_merger_debiased' 't08_odd_feature_a24_merger_flag'\n",
      " 't08_odd_feature_a38_dust_lane_count'\n",
      " 't08_odd_feature_a38_dust_lane_weight'\n",
      " 't08_odd_feature_a38_dust_lane_fraction'\n",
      " 't08_odd_feature_a38_dust_lane_weighted_fraction'\n",
      " 't08_odd_feature_a38_dust_lane_debiased'\n",
      " 't08_odd_feature_a38_dust_lane_flag' 't09_bulge_shape_a25_rounded_count'\n",
      " 't09_bulge_shape_a25_rounded_weight'\n",
      " 't09_bulge_shape_a25_rounded_fraction'\n",
      " 't09_bulge_shape_a25_rounded_weighted_fraction'\n",
      " 't09_bulge_shape_a25_rounded_debiased' 't09_bulge_shape_a25_rounded_flag'\n",
      " 't09_bulge_shape_a26_boxy_count' 't09_bulge_shape_a26_boxy_weight'\n",
      " 't09_bulge_shape_a26_boxy_fraction'\n",
      " 't09_bulge_shape_a26_boxy_weighted_fraction'\n",
      " 't09_bulge_shape_a26_boxy_debiased' 't09_bulge_shape_a26_boxy_flag'\n",
      " 't09_bulge_shape_a27_no_bulge_count' 't09_bulge_shape_a27_no_bulge_weight'\n",
      " 't09_bulge_shape_a27_no_bulge_fraction'\n",
      " 't09_bulge_shape_a27_no_bulge_weighted_fraction'\n",
      " 't09_bulge_shape_a27_no_bulge_debiased'\n",
      " 't09_bulge_shape_a27_no_bulge_flag' 't10_arms_winding_a28_tight_count'\n",
      " 't10_arms_winding_a28_tight_weight' 't10_arms_winding_a28_tight_fraction'\n",
      " 't10_arms_winding_a28_tight_weighted_fraction'\n",
      " 't10_arms_winding_a28_tight_debiased' 't10_arms_winding_a28_tight_flag'\n",
      " 't10_arms_winding_a29_medium_count' 't10_arms_winding_a29_medium_weight'\n",
      " 't10_arms_winding_a29_medium_fraction'\n",
      " 't10_arms_winding_a29_medium_weighted_fraction'\n",
      " 't10_arms_winding_a29_medium_debiased' 't10_arms_winding_a29_medium_flag'\n",
      " 't10_arms_winding_a30_loose_count' 't10_arms_winding_a30_loose_weight'\n",
      " 't10_arms_winding_a30_loose_fraction'\n",
      " 't10_arms_winding_a30_loose_weighted_fraction'\n",
      " 't10_arms_winding_a30_loose_debiased' 't10_arms_winding_a30_loose_flag'\n",
      " 't11_arms_number_a31_1_count' 't11_arms_number_a31_1_weight'\n",
      " 't11_arms_number_a31_1_fraction' 't11_arms_number_a31_1_weighted_fraction'\n",
      " 't11_arms_number_a31_1_debiased' 't11_arms_number_a31_1_flag'\n",
      " 't11_arms_number_a32_2_count' 't11_arms_number_a32_2_weight'\n",
      " 't11_arms_number_a32_2_fraction' 't11_arms_number_a32_2_weighted_fraction'\n",
      " 't11_arms_number_a32_2_debiased' 't11_arms_number_a32_2_flag'\n",
      " 't11_arms_number_a33_3_count' 't11_arms_number_a33_3_weight'\n",
      " 't11_arms_number_a33_3_fraction' 't11_arms_number_a33_3_weighted_fraction'\n",
      " 't11_arms_number_a33_3_debiased' 't11_arms_number_a33_3_flag'\n",
      " 't11_arms_number_a34_4_count' 't11_arms_number_a34_4_weight'\n",
      " 't11_arms_number_a34_4_fraction' 't11_arms_number_a34_4_weighted_fraction'\n",
      " 't11_arms_number_a34_4_debiased' 't11_arms_number_a34_4_flag'\n",
      " 't11_arms_number_a36_more_than_4_count'\n",
      " 't11_arms_number_a36_more_than_4_weight'\n",
      " 't11_arms_number_a36_more_than_4_fraction'\n",
      " 't11_arms_number_a36_more_than_4_weighted_fraction'\n",
      " 't11_arms_number_a36_more_than_4_debiased'\n",
      " 't11_arms_number_a36_more_than_4_flag'\n",
      " 't11_arms_number_a37_cant_tell_count'\n",
      " 't11_arms_number_a37_cant_tell_weight'\n",
      " 't11_arms_number_a37_cant_tell_fraction'\n",
      " 't11_arms_number_a37_cant_tell_weighted_fraction'\n",
      " 't11_arms_number_a37_cant_tell_debiased'\n",
      " 't11_arms_number_a37_cant_tell_flag']\n"
     ]
    }
   ],
   "source": [
    "print(heckman_nsa_gz.columns.values)"
   ]
  },
  {
   "cell_type": "code",
   "execution_count": 25,
   "metadata": {},
   "outputs": [],
   "source": [
    "def get_agn_type(series):\n",
    "    if series['herg'] == 1:\n",
    "        return 'herg'\n",
    "    elif series['lerg'] == 1:\n",
    "        return 'lerg'\n",
    "    else:\n",
    "        return 'star-forming'\n",
    "agn_types = ['herg', 'lerg', 'star-forming']"
   ]
  },
  {
   "cell_type": "code",
   "execution_count": 21,
   "metadata": {},
   "outputs": [],
   "source": [
    "galaxies = heckman_nsa_gz.copy()\n",
    "galaxies['p_bar'] = galaxies['t03_bar_a06_bar_debiased']\n",
    "galaxies = galaxies.dropna(subset=['p_bar', 'petro_ba90'])\n",
    "galaxies['agn_type'] = galaxies.apply(get_agn_type, axis=1)"
   ]
  },
  {
   "cell_type": "code",
   "execution_count": 23,
   "metadata": {},
   "outputs": [
    {
     "data": {
      "image/png": "[encoded data removed]",
      "text/plain": [
       "<matplotlib.figure.Figure at 0x116756160>"
      ]
     },
     "metadata": {},
     "output_type": "display_data"
    }
   ],
   "source": [
    "fig, ax = plt.subplots()\n",
    "ax = sns.kdeplot(data=galaxies['petro_ba90'], data2=galaxies['p_bar'], ax=ax, shade=True)\n",
    "fig.tight_layout()"
   ]
  },
  {
   "cell_type": "code",
   "execution_count": 29,
   "metadata": {
    "scrolled": false
   },
   "outputs": [
    {
     "name": "stdout",
     "output_type": "stream",
     "text": [
      "74\n"
     ]
    },
    {
     "name": "stderr",
     "output_type": "stream",
     "text": [
      "/data/anaconda3/envs/py36/lib/python3.6/site-packages/statsmodels/nonparametric/kernels.py:128: RuntimeWarning: divide by zero encountered in true_divide\n",
      "  return (1. / np.sqrt(2 * np.pi)) * np.exp(-(Xi - x)**2 / (h**2 * 2.))\n",
      "/data/anaconda3/envs/py36/lib/python3.6/site-packages/statsmodels/nonparametric/kernels.py:128: RuntimeWarning: invalid value encountered in true_divide\n",
      "  return (1. / np.sqrt(2 * np.pi)) * np.exp(-(Xi - x)**2 / (h**2 * 2.))\n",
      "/data/anaconda3/envs/py36/lib/python3.6/site-packages/statsmodels/nonparametric/_kernel_base.py:514: RuntimeWarning: invalid value encountered in true_divide\n",
      "  dens = Kval.prod(axis=1) / np.prod(bw[iscontinuous])\n",
      "/data/anaconda3/envs/py36/lib/python3.6/site-packages/matplotlib/contour.py:1534: UserWarning: Warning: converting a masked element to nan.\n",
      "  self.zmax = float(z.max())\n",
      "/data/anaconda3/envs/py36/lib/python3.6/site-packages/matplotlib/contour.py:1535: UserWarning: Warning: converting a masked element to nan.\n",
      "  self.zmin = float(z.min())\n"
     ]
    },
    {
     "name": "stdout",
     "output_type": "stream",
     "text": [
      "2564\n",
      "2412\n"
     ]
    },
    {
     "data": {
      "image/png": "[encoded data removed]",
      "text/plain": [
       "<matplotlib.figure.Figure at 0x117036c50>"
      ]
     },
     "metadata": {},
     "output_type": "display_data"
    }
   ],
   "source": [
    "fig, axes = plt.subplots(3, figsize=(8, 14))\n",
    "for n in range(3):\n",
    "    agn_type = agn_types[n]\n",
    "    selected_galaxies = galaxies[galaxies['agn_type'] == agn_type]\n",
    "    ax = sns.kdeplot(data=selected_galaxies['petro_ba90'], data2=selected_galaxies['p_bar'], ax=axes[n], shade=True)\n",
    "    ax.set_title(agn_type)\n",
    "    print(len(selected_galaxies))\n",
    "fig.tight_layout()"
   ]
  },
  {
   "cell_type": "code",
   "execution_count": 38,
   "metadata": {},
   "outputs": [
    {
     "name": "stdout",
     "output_type": "stream",
     "text": [
      "74\n",
      "2564\n",
      "2412\n"
     ]
    },
    {
     "data": {
      "image/png": "[encoded data removed]",
      "text/plain": [
       "<matplotlib.figure.Figure at 0x1166e47b8>"
      ]
     },
     "metadata": {},
     "output_type": "display_data"
    }
   ],
   "source": [
    "fig, axes = plt.subplots(3, figsize=(8, 14))\n",
    "for n in range(3):\n",
    "    ax = axes[n]\n",
    "    agn_type = agn_types[n]\n",
    "    selected_galaxies = galaxies[galaxies['agn_type'] == agn_type]\n",
    "    ax.set_title(agn_type)\n",
    "    ax.scatter(selected_galaxies['petro_ba90'], selected_galaxies['p_bar'], s=1.)\n",
    "    print(len(selected_galaxies))\n",
    "fig.tight_layout()"
   ]
  },
  {
   "cell_type": "code",
   "execution_count": null,
   "metadata": {},
   "outputs": [],
   "source": []
  }
 ],
 "metadata": {
  "kernelspec": {
   "display_name": "Python 3",
   "language": "python",
   "name": "python3"
  },
  "language_info": {
   "codemirror_mode": {
    "name": "ipython",
    "version": 3
   },
   "file_extension": ".py",
   "mimetype": "text/x-python",
   "name": "python",
   "nbconvert_exporter": "python",
   "pygments_lexer": "ipython3",
   "version": "3.6.4"
  }
 },
 "nbformat": 4,
 "nbformat_minor": 2
}
