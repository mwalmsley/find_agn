{
 "cells": [
  {
   "cell_type": "code",
   "execution_count": 2,
   "metadata": {},
   "outputs": [],
   "source": [
    "import pandas as pd\n",
    "from IPython.display import display\n"
   ]
  },
  {
   "cell_type": "code",
   "execution_count": 15,
   "metadata": {},
   "outputs": [],
   "source": [
    "def get_heckman_catalog(heckman_loc):\n",
    "    df = pd.read_table(heckman_loc, sep=r\"\\s*\")\n",
    "    old_columns = df.columns.values\n",
    "    new_columns = map(lambda x: x.lower().strip('#'), old_columns)\n",
    "    df = df.rename(columns=dict(zip(old_columns, new_columns)))\n",
    "    df = df.rename(\n",
    "        columns={'main_samp': 'main_sample'})\n",
    "    assert df[(df['herg']==1) & (df['lerg']==1)].empty\n",
    "    return df"
   ]
  },
  {
   "cell_type": "code",
   "execution_count": 20,
   "metadata": {},
   "outputs": [
    {
     "name": "stderr",
     "output_type": "stream",
     "text": [
      "/home/mike/anaconda3/envs/py36/lib/python3.6/site-packages/ipykernel_launcher.py:2: ParserWarning: Falling back to the 'python' engine because the 'c' engine does not support regex separators (separators > 1 char and different from '\\s+' are interpreted as regex); you can avoid this warning by specifying engine='python'.\n",
      "  \n",
      "/home/mike/anaconda3/envs/py36/lib/python3.6/site-packages/pandas/io/parsers.py:2138: FutureWarning: split() requires a non-empty pattern match.\n",
      "  yield pat.split(line.strip())\n",
      "/home/mike/anaconda3/envs/py36/lib/python3.6/site-packages/pandas/io/parsers.py:2140: FutureWarning: split() requires a non-empty pattern match.\n",
      "  yield pat.split(line.strip())\n"
     ]
    },
    {
     "data": {
      "text/html": [
       "<div>\n",
       "<style>\n",
       "    .dataframe thead tr:only-child th {\n",
       "        text-align: right;\n",
       "    }\n",
       "\n",
       "    .dataframe thead th {\n",
       "        text-align: left;\n",
       "    }\n",
       "\n",
       "    .dataframe tbody tr th {\n",
       "        vertical-align: top;\n",
       "    }\n",
       "</style>\n",
       "<table border=\"1\" class=\"dataframe\">\n",
       "  <thead>\n",
       "    <tr style=\"text-align: right;\">\n",
       "      <th></th>\n",
       "      <th>id1</th>\n",
       "      <th>id2</th>\n",
       "      <th>id3</th>\n",
       "      <th>ra</th>\n",
       "      <th>dec</th>\n",
       "      <th>z</th>\n",
       "      <th>s_nvss</th>\n",
       "      <th>radclas</th>\n",
       "      <th>s_first</th>\n",
       "      <th>off_first</th>\n",
       "      <th>rad_agn</th>\n",
       "      <th>main_sample</th>\n",
       "      <th>lerg</th>\n",
       "      <th>herg</th>\n",
       "    </tr>\n",
       "  </thead>\n",
       "  <tbody>\n",
       "    <tr>\n",
       "      <th>0</th>\n",
       "      <td>266</td>\n",
       "      <td>51602</td>\n",
       "      <td>5</td>\n",
       "      <td>9.784227</td>\n",
       "      <td>-0.81043</td>\n",
       "      <td>0.44864</td>\n",
       "      <td>0.0069</td>\n",
       "      <td>1</td>\n",
       "      <td>0.0042</td>\n",
       "      <td>1.76</td>\n",
       "      <td>1</td>\n",
       "      <td>0</td>\n",
       "      <td>0</td>\n",
       "      <td>0</td>\n",
       "    </tr>\n",
       "    <tr>\n",
       "      <th>1</th>\n",
       "      <td>266</td>\n",
       "      <td>51602</td>\n",
       "      <td>26</td>\n",
       "      <td>9.797071</td>\n",
       "      <td>-0.34230</td>\n",
       "      <td>0.13483</td>\n",
       "      <td>0.0963</td>\n",
       "      <td>1</td>\n",
       "      <td>0.1010</td>\n",
       "      <td>1.26</td>\n",
       "      <td>1</td>\n",
       "      <td>1</td>\n",
       "      <td>1</td>\n",
       "      <td>0</td>\n",
       "    </tr>\n",
       "    <tr>\n",
       "      <th>2</th>\n",
       "      <td>266</td>\n",
       "      <td>51602</td>\n",
       "      <td>100</td>\n",
       "      <td>9.742906</td>\n",
       "      <td>-0.74164</td>\n",
       "      <td>0.20389</td>\n",
       "      <td>0.0068</td>\n",
       "      <td>1</td>\n",
       "      <td>0.0025</td>\n",
       "      <td>0.46</td>\n",
       "      <td>1</td>\n",
       "      <td>1</td>\n",
       "      <td>1</td>\n",
       "      <td>0</td>\n",
       "    </tr>\n",
       "    <tr>\n",
       "      <th>3</th>\n",
       "      <td>266</td>\n",
       "      <td>51602</td>\n",
       "      <td>109</td>\n",
       "      <td>9.782475</td>\n",
       "      <td>-0.25218</td>\n",
       "      <td>0.13048</td>\n",
       "      <td>0.0075</td>\n",
       "      <td>1</td>\n",
       "      <td>0.0043</td>\n",
       "      <td>0.51</td>\n",
       "      <td>1</td>\n",
       "      <td>1</td>\n",
       "      <td>0</td>\n",
       "      <td>0</td>\n",
       "    </tr>\n",
       "    <tr>\n",
       "      <th>4</th>\n",
       "      <td>266</td>\n",
       "      <td>51602</td>\n",
       "      <td>134</td>\n",
       "      <td>9.720425</td>\n",
       "      <td>-0.54706</td>\n",
       "      <td>0.36795</td>\n",
       "      <td>0.0091</td>\n",
       "      <td>2</td>\n",
       "      <td>0.0000</td>\n",
       "      <td>-1.00</td>\n",
       "      <td>1</td>\n",
       "      <td>0</td>\n",
       "      <td>0</td>\n",
       "      <td>0</td>\n",
       "    </tr>\n",
       "  </tbody>\n",
       "</table>\n",
       "</div>"
      ],
      "text/plain": [
       "   id1    id2  id3        ra      dec        z  s_nvss  radclas  s_first  \\\n",
       "0  266  51602    5  9.784227 -0.81043  0.44864  0.0069        1   0.0042   \n",
       "1  266  51602   26  9.797071 -0.34230  0.13483  0.0963        1   0.1010   \n",
       "2  266  51602  100  9.742906 -0.74164  0.20389  0.0068        1   0.0025   \n",
       "3  266  51602  109  9.782475 -0.25218  0.13048  0.0075        1   0.0043   \n",
       "4  266  51602  134  9.720425 -0.54706  0.36795  0.0091        2   0.0000   \n",
       "\n",
       "   off_first  rad_agn  main_sample  lerg  herg  \n",
       "0       1.76        1            0     0     0  \n",
       "1       1.26        1            1     1     0  \n",
       "2       0.46        1            1     1     0  \n",
       "3       0.51        1            1     0     0  \n",
       "4      -1.00        1            0     0     0  "
      ]
     },
     "metadata": {},
     "output_type": "display_data"
    }
   ],
   "source": [
    "heckman_loc = 'sdss_dr7_radiosources.cat'\n",
    "df = get_heckman_catalog(heckman_loc)\n",
    "display(df.head())\n",
    "# display(df.describe())"
   ]
  },
  {
   "cell_type": "code",
   "execution_count": 21,
   "metadata": {},
   "outputs": [
    {
     "data": {
      "text/plain": [
       "1    9863\n",
       "0    8423\n",
       "Name: lerg, dtype: int64"
      ]
     },
     "metadata": {},
     "output_type": "display_data"
    }
   ],
   "source": [
    "display(df['lerg'].value_counts())"
   ]
  },
  {
   "cell_type": "code",
   "execution_count": 22,
   "metadata": {},
   "outputs": [
    {
     "data": {
      "text/plain": [
       "0    17805\n",
       "1      481\n",
       "Name: herg, dtype: int64"
      ]
     },
     "metadata": {},
     "output_type": "display_data"
    }
   ],
   "source": [
    "display(df['herg'].value_counts())"
   ]
  },
  {
   "cell_type": "code",
   "execution_count": 28,
   "metadata": {},
   "outputs": [],
   "source": [
    "df.to_csv('heckman_radio_sources.csv', index=False)"
   ]
  },
  {
   "cell_type": "code",
   "execution_count": null,
   "metadata": {},
   "outputs": [],
   "source": []
  }
 ],
 "metadata": {
  "kernelspec": {
   "display_name": "Python 3",
   "language": "python",
   "name": "python3"
  },
  "language_info": {
   "codemirror_mode": {
    "name": "ipython",
    "version": 3
   },
   "file_extension": ".py",
   "mimetype": "text/x-python",
   "name": "python",
   "nbconvert_exporter": "python",
   "pygments_lexer": "ipython3",
   "version": "3.6.3"
  }
 },
 "nbformat": 4,
 "nbformat_minor": 2
}
