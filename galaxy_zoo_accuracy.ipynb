{
 "cells": [
  {
   "cell_type": "markdown",
   "metadata": {},
   "source": [
    "Galaxy Zoo Accuracy"
   ]
  },
  {
   "cell_type": "markdown",
   "metadata": {},
   "source": [
    "What's the maximum accuracy that an automatic GZ classifier could have?\n",
    "\n",
    "The perfect classifier would always give the same answer as the recorded votes of the volunteers. So the maximum accuracy is limited by the noise in those votes. \n",
    "\n",
    "Let's consider truth as the vote fraction that an **infinite population** of volunteers would produce. We actually measure the vote fraction that a **finite sample** of volunteers produce. \n",
    "\n",
    "In the binary classification context, there's two ways our final label (based on the measured vote fraction $\\hat{\\mu}$) could be different to the 'true' label (based on the 'true' vote fraction $\\mu$): \n",
    "\n",
    "$$ p(\\textrm{wrong label}) = p( \\hat{\\mu} > 0.5 \\cap \\mu < 0.5) + p( \\hat{\\mu} < 0.5 \\cap \\mu > 0.5) $$\n",
    "\n",
    "For simplicity of notation, let's look only at the case of a false positive for now:\n",
    "\n",
    "$$ p(\\textrm{false positive}) = p( \\hat{\\mu} > 0.5 \\cap \\mu < 0.5) $$\n",
    "\n",
    "$$= p( \\hat{\\mu} > 0.5 \\mid \\mu < 0.5) * p( \\mu < 0.5) $$"
   ]
  },
  {
   "cell_type": "markdown",
   "metadata": {},
   "source": [
    "$\\hat{\\mu} = X / N $ for $X$ yes votes (successes) of $N$ votes \n",
    "\n",
    "$$= p( \\frac{X}{N} > 0.5 \\mid \\mu < 0.5) * p( \\mu < 0.5) $$\n",
    "\n",
    "$$= \\int_{0}^{0.5} p( \\frac{X}{N} > 0.5 \\mid \\mu) * p(\\mu) d\\mu $$\n",
    "\n"
   ]
  },
  {
   "cell_type": "markdown",
   "metadata": {},
   "source": [
    "For the left expression, if we assume that the votes can be modelled as a binomial distribution then\n",
    "\n",
    "$$= \\int_{0}^{0.5} \\textrm{Bin}(X > \\frac{N}{2} \\mid N, p=\\mu) * p(\\mu) d\\mu $$\n"
   ]
  },
  {
   "cell_type": "markdown",
   "metadata": {},
   "source": [
    "I suppose I could perhaps solve this analytically or with mathematica. For now, let's approximate true $mu$ as also being discrete - just like $\\hat{\\mu}$"
   ]
  },
  {
   "cell_type": "markdown",
   "metadata": {},
   "source": [
    "$$= \\sum_{i=0}^{\\frac{N}{2}} \\textrm{Bin}(X > \\frac{N}{2} \\mid N, p=\\mu_i) * p(\\mu_i) $$\n",
    "where $\\mu_i$ = 0 through 1\n"
   ]
  },
  {
   "cell_type": "code",
   "execution_count": 1,
   "metadata": {},
   "outputs": [],
   "source": [
    "from scipy.stats import binom\n",
    "# https://docs.scipy.org/doc/scipy/reference/generated/scipy.stats.binom.html\n",
    "import numpy as np\n",
    "%matplotlib inline\n",
    "import matplotlib.pyplot as plt"
   ]
  },
  {
   "cell_type": "code",
   "execution_count": 11,
   "metadata": {},
   "outputs": [],
   "source": [
    "def p_bin_under_half(n_volunteers, mu):\n",
    "    return 1 - binom.cdf(k=int(n/2), n=n_volunteers, p=mu)\n",
    "p_bin_under_half = np.vectorize(p_bin_under_half)\n",
    "\n",
    "def p_mu_uniform(n_mu, mu):\n",
    "    return 1 / n_mu  # approximage as discrete on a grid of size N\n",
    "p_mu_uniform = np.vectorize(p_mu_uniform)"
   ]
  },
  {
   "cell_type": "code",
   "execution_count": 12,
   "metadata": {},
   "outputs": [
    {
     "data": {
      "text/plain": [
       "array(0.56268534)"
      ]
     },
     "execution_count": 12,
     "metadata": {},
     "output_type": "execute_result"
    }
   ],
   "source": [
    "p_bin_under_half(40, 0.5)"
   ]
  },
  {
   "cell_type": "code",
   "execution_count": 13,
   "metadata": {},
   "outputs": [],
   "source": [
    "def false_positive_acc(n_volunteers, n_mu, visualise=False):\n",
    "    possible_mu = np.arange(0, n_mu)/(2*n_mu)\n",
    "    bin_under_half = p_bin_under_half(n_volunteers, possible_mu)\n",
    "    p_mu = p_mu_uniform(n_mu, possible_mu)\n",
    "\n",
    "    if visualise:\n",
    "        plt.plot(possible_mu, bin_under_half)\n",
    "        plt.plot(possible_mu, p_mu)\n",
    "        plt.legend(['Binomial p of mistake', 'p of mu'])\n",
    "        plt.tight_layout()\n",
    "    return np.sum(bin_under_half * p_mu)"
   ]
  },
  {
   "cell_type": "code",
   "execution_count": 14,
   "metadata": {},
   "outputs": [
    {
     "data": {
      "text/plain": [
       "0.07459933204038265"
      ]
     },
     "execution_count": 14,
     "metadata": {},
     "output_type": "execute_result"
    },
    {
     "data": {
      "image/png": "[encoded data removed]",
      "text/plain": [
       "<Figure size 432x288 with 1 Axes>"
      ]
     },
     "metadata": {},
     "output_type": "display_data"
    }
   ],
   "source": [
    "false_positive_acc(40, 1000, visualise=True)"
   ]
  },
  {
   "cell_type": "code",
   "execution_count": 17,
   "metadata": {},
   "outputs": [
    {
     "name": "stdout",
     "output_type": "stream",
     "text": [
      "0.0\n",
      "0.0\n",
      "0.0\n",
      "0.0\n",
      "0.0\n",
      "0.0\n",
      "0.0\n",
      "0.0\n",
      "0.0\n",
      "0.0\n",
      "0.0\n",
      "0.0\n",
      "0.0\n",
      "0.0\n",
      "0.0\n",
      "0.0\n",
      "4.493781501035965e-08\n",
      "5.149574712708383e-07\n",
      "3.1003522350786513e-06\n",
      "1.3050908047599561e-05\n",
      "4.31383973324746e-05\n",
      "0.00011924255844883758\n",
      "0.00028671851220239594\n",
      "0.0006160445259401222\n",
      "0.001205995041920679\n",
      "0.0021828833694041623\n",
      "0.003695196359251\n",
      "0.005903951471413049\n",
      "0.008970038297247315\n",
      "0.01304041272449553\n",
      "0.01823517176967885\n",
      "0.024637269666334418\n",
      "0.03228606452747173\n",
      "0.041175180609699415\n",
      "0.051254497420925506\n",
      "0.062435552761068\n"
     ]
    }
   ],
   "source": [
    "for n_vols in range(4, 40):\n",
    "    print(false_positive_acc(n_vols, 1000))"
   ]
  },
  {
   "cell_type": "code",
   "execution_count": null,
   "metadata": {},
   "outputs": [],
   "source": []
  }
 ],
 "metadata": {
  "kernelspec": {
   "display_name": "Python (py36)",
   "language": "python",
   "name": "py36"
  },
  "language_info": {
   "codemirror_mode": {
    "name": "ipython",
    "version": 3
   },
   "file_extension": ".py",
   "mimetype": "text/x-python",
   "name": "python",
   "nbconvert_exporter": "python",
   "pygments_lexer": "ipython3",
   "version": "3.6.5"
  }
 },
 "nbformat": 4,
 "nbformat_minor": 2
}
