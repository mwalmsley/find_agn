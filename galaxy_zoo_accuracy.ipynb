{
 "cells": [
  {
   "cell_type": "markdown",
   "metadata": {},
   "source": [
    "Galaxy Zoo Accuracy"
   ]
  },
  {
   "cell_type": "markdown",
   "metadata": {},
   "source": [
    "What's the maximum accuracy that an automatic GZ classifier could have?\n",
    "\n",
    "The perfect classifier would always give the same answer as the recorded votes of the volunteers. So the maximum accuracy is limited by the noise in those votes. \n",
    "\n",
    "Let's consider truth as the vote fraction that an **infinite population** of volunteers would produce. We actually measure the vote fraction that a **finite sample** of volunteers produce. \n",
    "\n",
    "In the binary classification context, there's two ways our final label (based on the measured vote fraction $\\hat{\\mu}$) could be different to the 'true' label (based on the 'true' vote fraction $\\mu$): \n",
    "\n",
    "$$ p(\\textrm{wrong label}) = p( \\hat{\\mu} > 0.5 \\cap \\mu < 0.5) + p( \\hat{\\mu} < 0.5 \\cap \\mu > 0.5) $$\n",
    "\n",
    "For simplicity of notation, let's look only at the case of a false positive for now:\n",
    "\n",
    "$$ p(\\textrm{false positive}) = p( \\hat{\\mu} > 0.5 \\cap \\mu < 0.5) $$\n",
    "\n",
    "$$= p( \\hat{\\mu} > 0.5 \\mid \\mu < 0.5) * p( \\mu < 0.5) $$"
   ]
  },
  {
   "cell_type": "markdown",
   "metadata": {},
   "source": [
    "$\\hat{\\mu} = X / N $ for $X$ yes votes (successes) of $N$ votes \n",
    "\n",
    "$$= p( \\frac{X}{N} > 0.5 \\mid \\mu < 0.5) * p( \\mu < 0.5) $$\n",
    "\n",
    "$$= \\int_{0}^{0.5} p( \\frac{X}{N} > 0.5 \\mid \\mu) * p(\\mu) d\\mu $$\n",
    "\n"
   ]
  },
  {
   "cell_type": "markdown",
   "metadata": {},
   "source": [
    "For the left expression, if we assume that the votes can be modelled as a binomial distribution then\n",
    "\n",
    "$$= \\int_{0}^{0.5} \\textrm{Bin}(X > \\frac{N}{2} \\mid N, p=\\mu) * p(\\mu) d\\mu $$\n"
   ]
  },
  {
   "cell_type": "markdown",
   "metadata": {},
   "source": [
    "I suppose I could perhaps solve this analytically or with mathematica. For now, let's approximate true $mu$ as also being discrete - just like $\\hat{\\mu}$"
   ]
  },
  {
   "cell_type": "markdown",
   "metadata": {},
   "source": [
    "TODO sum equation"
   ]
  },
  {
   "cell_type": "code",
   "execution_count": 1,
   "metadata": {},
   "outputs": [
    {
     "ename": "ModuleNotFoundError",
     "evalue": "No module named 'scipy'",
     "output_type": "error",
     "traceback": [
      "\u001b[0;31m---------------------------------------------------------------------------\u001b[0m",
      "\u001b[0;31mModuleNotFoundError\u001b[0m                       Traceback (most recent call last)",
      "\u001b[0;32m<ipython-input-1-4363d2be0702>\u001b[0m in \u001b[0;36m<module>\u001b[0;34m()\u001b[0m\n\u001b[0;32m----> 1\u001b[0;31m \u001b[0;32mimport\u001b[0m \u001b[0mscipy\u001b[0m\u001b[0;34m\u001b[0m\u001b[0m\n\u001b[0m",
      "\u001b[0;31mModuleNotFoundError\u001b[0m: No module named 'scipy'"
     ]
    }
   ],
   "source": [
    "import scipy"
   ]
  },
  {
   "cell_type": "code",
   "execution_count": null,
   "metadata": {},
   "outputs": [],
   "source": [
    "# https://docs.scipy.org/doc/scipy/reference/generated/scipy.stats.binom.html\n",
    "from scipy.stats import binomial\n",
    "\n",
    "N = 40\n",
    "\n",
    "def p_bin_under_half(mu):\n",
    "    return 1 - binomial.cdf(k=int(N/2), n=N, p=mu)\n",
    "\n",
    "def p_mu_uniform(mu):\n",
    "    return 1 / N  # treat as discrete on a grid of size N"
   ]
  }
 ],
 "metadata": {
  "kernelspec": {
   "display_name": "Python 3",
   "language": "python",
   "name": "python3"
  },
  "language_info": {
   "codemirror_mode": {
    "name": "ipython",
    "version": 3
   },
   "file_extension": ".py",
   "mimetype": "text/x-python",
   "name": "python",
   "nbconvert_exporter": "python",
   "pygments_lexer": "ipython3",
   "version": "3.6.5"
  }
 },
 "nbformat": 4,
 "nbformat_minor": 2
}
