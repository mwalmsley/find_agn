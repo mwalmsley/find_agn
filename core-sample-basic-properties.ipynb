{
 "cells": [
  {
   "cell_type": "markdown",
   "metadata": {},
   "source": [
    "## Access the Downloaded Data"
   ]
  },
  {
   "cell_type": "code",
   "execution_count": 62,
   "metadata": {},
   "outputs": [
    {
     "name": "stdout",
     "output_type": "stream",
     "text": [
      "The autoreload extension is already loaded. To reload it, use:\n",
      "  %reload_ext autoreload\n"
     ]
    }
   ],
   "source": [
    "%load_ext autoreload\n",
    "%autoreload 2\n",
    "%matplotlib inline"
   ]
  },
  {
   "cell_type": "code",
   "execution_count": 63,
   "metadata": {},
   "outputs": [],
   "source": [
    "from collections import Counter\n",
    "\n",
    "import pandas as pd\n",
    "import numpy as np\n",
    "import matplotlib.pyplot as plt\n",
    "import seaborn as sns\n",
    "sns.set_context('notebook')\n",
    "\n",
    "from astropy.table import Table\n",
    "from astropy.cosmology import WMAP9 as cosmo\n",
    "from astropy import units\n",
    "\n",
    "from shared_astro_utils import matching_utils  # personal PyPI package"
   ]
  },
  {
   "cell_type": "code",
   "execution_count": 21,
   "metadata": {},
   "outputs": [],
   "source": [
    "def remove_bad_values(x):\n",
    "    return x[(~np.isnan(x)) & (np.isfinite(x))]"
   ]
  },
  {
   "cell_type": "code",
   "execution_count": 22,
   "metadata": {},
   "outputs": [],
   "source": [
    "# data_loc = 'catalogs/nsa_v1_0_1_ossy_ukidss_dr9_las.fits'\n",
    "data_loc = 'catalogs/nsa_v1_0_1_ossy_ukidss_dr9_las_allwise.fits'"
   ]
  },
  {
   "cell_type": "markdown",
   "metadata": {},
   "source": [
    "Including AllWISE at 5 arcseconds, we have 182128 rows. This is down only a few hundred from 182956."
   ]
  },
  {
   "cell_type": "code",
   "execution_count": 23,
   "metadata": {},
   "outputs": [],
   "source": [
    "data = Table.read(data_loc)"
   ]
  },
  {
   "cell_type": "code",
   "execution_count": 24,
   "metadata": {},
   "outputs": [
    {
     "data": {
      "text/plain": [
       "b'legacy                     '    180318\n",
       "b'                           '       916\n",
       "b'southern                   '       474\n",
       "b'boss                       '       268\n",
       "b'commissioning              '        46\n",
       "b'lowz                       '        34\n",
       "b'preboss                    '        33\n",
       "b'lowz_lrg                   '        32\n",
       "b'segue2                     '         2\n",
       "b'seguefaint                 '         2\n",
       "b'lowz_loveday               '         2\n",
       "b'photoz                     '         1\n",
       "dtype: int64"
      ]
     },
     "execution_count": 24,
     "metadata": {},
     "output_type": "execute_result"
    }
   ],
   "source": [
    "pd.Series(data['PROGRAMNAME']).value_counts()"
   ]
  },
  {
   "cell_type": "code",
   "execution_count": 25,
   "metadata": {},
   "outputs": [],
   "source": [
    "data['PROGRAMNAME'] = list(map(lambda x: x.strip(), data['PROGRAMNAME']))\n",
    "data = data[data['PROGRAMNAME'] == 'legacy']"
   ]
  },
  {
   "cell_type": "code",
   "execution_count": 26,
   "metadata": {},
   "outputs": [],
   "source": [
    "assert len(data) == 180318"
   ]
  },
  {
   "cell_type": "markdown",
   "metadata": {},
   "source": [
    "#### Redshifts (from NSA)"
   ]
  },
  {
   "cell_type": "code",
   "execution_count": 27,
   "metadata": {},
   "outputs": [],
   "source": [
    "n_bins = 50"
   ]
  },
  {
   "cell_type": "code",
   "execution_count": 28,
   "metadata": {},
   "outputs": [
    {
     "data": {
      "text/plain": [
       "Text(0,0.5,'Galaxy Count')"
      ]
     },
     "execution_count": 28,
     "metadata": {},
     "output_type": "execute_result"
    },
    {
     "data": {
      "image/png": "[encoded data removed]",
      "text/plain": [
       "<Figure size 432x288 with 1 Axes>"
      ]
     },
     "metadata": {},
     "output_type": "display_data"
    }
   ],
   "source": [
    "plt.hist(data['Z'], bins=n_bins)\n",
    "plt.xlabel('z')\n",
    "plt.ylabel('Galaxy Count')"
   ]
  },
  {
   "cell_type": "markdown",
   "metadata": {},
   "source": [
    "We might expect a peak from the balance between completeness and volume probed. This does seem kinda sharp nonetheless."
   ]
  },
  {
   "cell_type": "markdown",
   "metadata": {},
   "source": [
    "#### Optical Absolute Magnitudes (from NSA)"
   ]
  },
  {
   "cell_type": "code",
   "execution_count": 29,
   "metadata": {},
   "outputs": [],
   "source": [
    "ordered_sdss_bands = ['F', 'N', 'U', 'G', 'R', 'I', 'Z']\n",
    "sdss_mags = list(map(lambda x: x + '_MAG_ABSOLUTE', ordered_sdss_bands))\n",
    "\n",
    "for n, abs_mag_name in enumerate(sdss_mags):\n",
    "    data[abs_mag_name] = data['ELPETRO_ABSMAG'][:, n]\n"
   ]
  },
  {
   "cell_type": "code",
   "execution_count": 30,
   "metadata": {},
   "outputs": [
    {
     "data": {
      "image/png": "[encoded data removed]",
      "text/plain": [
       "<Figure size 576x216 with 2 Axes>"
      ]
     },
     "metadata": {},
     "output_type": "display_data"
    }
   ],
   "source": [
    "fig, axes = plt.subplots(ncols=2, figsize=(8, 3))\n",
    "\n",
    "g_band_mags = np.array(data['G_MAG_ABSOLUTE'])\n",
    "g_band_mags = remove_bad_values(g_band_mags)\n",
    "g_band_mags = g_band_mags[(g_band_mags < -14) & (g_band_mags > -23)]  # remove crazy tails\n",
    "\n",
    "r_band_mags = np.array(data['R_MAG_ABSOLUTE'])\n",
    "r_band_mags = remove_bad_values(r_band_mags)\n",
    "r_band_mags = r_band_mags[(r_band_mags < -14) & (r_band_mags > -23)]  # remove crazy tails\n",
    "\n",
    "axes[0].set_ylabel('Galaxies')\n",
    "\n",
    "axes[0].hist(g_band_mags, bins=n_bins)\n",
    "axes[0].set_xlabel('SDSS g absolute mag')\n",
    "\n",
    "\n",
    "axes[1].hist(r_band_mags, bins=n_bins)\n",
    "axes[1].set_xlabel('SDSS r absolute mag')\n",
    "\n",
    "fig.tight_layout()"
   ]
  },
  {
   "cell_type": "markdown",
   "metadata": {},
   "source": [
    "#### Optical Apparent Magnitudes (from NSA)\n",
    "\n",
    "This is currently estimated from the NSA estimated absolute magnitudes - but this is obviously backwards. It would be better to get these direct from SDSS observations - they are surely recorded somewhere.\n",
    "\n",
    "Chris says the apparent magnitudes can be grabbed from a hidden casjobs table called 'galaxies'. I should go get these instead of working 'backwards' with cosmology."
   ]
  },
  {
   "cell_type": "code",
   "execution_count": 31,
   "metadata": {},
   "outputs": [],
   "source": [
    "data['DISTANCE_MODULUS'] = cosmo.distmod(data['Z'])\n",
    "data['DISTANCE_MODULUS_LIST'] = np.array(list(map(lambda x: [x for n in range(7)], data['DISTANCE_MODULUS'])))\n",
    "data['ELPETRO_APPARENT_MAG'] = data['ELPETRO_ABSMAG'] + data['DISTANCE_MODULUS_LIST']"
   ]
  },
  {
   "cell_type": "code",
   "execution_count": 32,
   "metadata": {},
   "outputs": [
    {
     "data": {
      "image/png": "[encoded data removed]",
      "text/plain": [
       "<Figure size 576x216 with 2 Axes>"
      ]
     },
     "metadata": {},
     "output_type": "display_data"
    }
   ],
   "source": [
    "fig, axes = plt.subplots(ncols=2, figsize=(8, 3))\n",
    "\n",
    "g_band_mags = np.array(data['ELPETRO_APPARENT_MAG'])[:, 3] # g is NSA 4th value: FNugriz\n",
    "g_band_mags = remove_bad_values(g_band_mags)\n",
    "g_band_mags = g_band_mags[(g_band_mags > 14) & (g_band_mags < 20)]  # remove crazy tails\n",
    "\n",
    "r_band_mags = np.array(data['ELPETRO_APPARENT_MAG'])[:, 4] # r is NSA 5th value: FNugriz\n",
    "r_band_mags = remove_bad_values(r_band_mags)\n",
    "r_band_mags = r_band_mags[(r_band_mags > 14) & (r_band_mags < 20)]  # remove crazy tails\n",
    "\n",
    "axes[0].set_ylabel('Galaxies')\n",
    "\n",
    "axes[0].hist(g_band_mags, bins=n_bins)\n",
    "axes[0].set_xlabel('SDSS g apparent mag')\n",
    "\n",
    "\n",
    "axes[1].hist(r_band_mags, bins=n_bins)\n",
    "axes[1].set_xlabel('SDSS r apparent mag')\n",
    "axes[1].axvline(17.77, c='r')\n",
    "\n",
    "fig.tight_layout()"
   ]
  },
  {
   "cell_type": "markdown",
   "metadata": {},
   "source": [
    "The sudden drop is (we think) due to the SDSS selection cut. It's slightly deeper than r = 17.77 because leftover fibres were used to image fainter galaxies (according to Chris). The simplest thing to do would be to artifically impose the r = 17.77 cut. It would be better to include the fainter galaxies, but I'm not sure where to look for the selection function.\n",
    "\n",
    "I still need to see how this matches up to GZ morphology selections. If the fainter ones would be excluded anyway, it's not useful."
   ]
  },
  {
   "cell_type": "markdown",
   "metadata": {},
   "source": [
    "#### UKIDSS Apparent Magnitudes"
   ]
  },
  {
   "cell_type": "code",
   "execution_count": 33,
   "metadata": {},
   "outputs": [
    {
     "data": {
      "image/png": "[encoded data removed]",
      "text/plain": [
       "<Figure size 1440x216 with 4 Axes>"
      ]
     },
     "metadata": {},
     "output_type": "display_data"
    }
   ],
   "source": [
    "ukidss_cols = [\n",
    "    'JName',\n",
    "    'ra_xmatch',\n",
    "    'dec_xmatch',\n",
    "    'yAperMag3',\n",
    "    'j_1AperMag3',\n",
    "    'hAperMag3',\n",
    "    'kAperMag3',\n",
    "    'yAperMag3Err',\n",
    "    'j_1AperMag3Err',\n",
    "    'hAperMag3Err',\n",
    "    'kAperMag3Err',\n",
    "    'sourceID',\n",
    "    'mode',\n",
    "    'epoch',\n",
    "    'mergedClass',\n",
    "    'angDist',\n",
    "    'SDSS_ID'\n",
    "]\n",
    "\n",
    "\n",
    "apparent_mag_bands = [\n",
    "    'yAperMag3',\n",
    "    'j_1AperMag3',\n",
    "    'hAperMag3',\n",
    "    'kAperMag3',\n",
    "]\n",
    "\n",
    "fig, axes = plt.subplots(ncols=len(apparent_mag_bands), figsize=(20, 3))\n",
    "for axes_n, mag in enumerate(apparent_mag_bands):\n",
    "    axes[axes_n].hist(remove_bad_values(data[mag]), bins=50)\n",
    "    axes[axes_n].set_xlabel(mag)\n",
    "axes[0].set_ylabel('Galaxies')\n",
    "fig.tight_layout()"
   ]
  },
  {
   "cell_type": "markdown",
   "metadata": {},
   "source": [
    "\"Y=20.2, J=19.6, H=18.8, K=18.2\" is indeed the deepest that UKIDSS has any objects.\n",
    "\n",
    "The data release papers claim this is the limit for a 5 sigma detection in 2 arcsec aperture. But surely galaxies only get more common at fainter depths - as seen with SDSS. Why the gradual tail-off?\n",
    "\n",
    "The answer might be that the SDSS spectroscopy cut is brighter than the UKIDSS depth limit, causing SDSS to have a sharp cut-off and UKIDSS to have a gradual decline (as faint galaxies become missed by SDSS, even though they are imaged by UKIDSS).\n",
    "\n",
    "If so, and we plotted UKIDSS *without* cross-matching, we would expect to see a continual increase to the limiting depth and then a sharp cut-off. \n",
    "\n",
    "**TODO: I should check this.**\n"
   ]
  },
  {
   "cell_type": "markdown",
   "metadata": {},
   "source": [
    "#### UKIDSS Absolute Magnitudes\n",
    "\n",
    "Here, it actually makes sense to use cosmology to convert apparent magnitudes to (approximate i.e. without k-correction) absolute magnitues"
   ]
  },
  {
   "cell_type": "code",
   "execution_count": 34,
   "metadata": {},
   "outputs": [],
   "source": [
    "ukidss_abs_mag_bands = [\n",
    "    'Y_MAG_ABSOLUTE',\n",
    "    'J_MAG_ABSOLUTE',\n",
    "    'H_MAG_ABSOLUTE',\n",
    "    'K_MAG_ABSOLUTE'\n",
    "]\n",
    "\n",
    "# Note: these are not k-corrected\n",
    "data['Y_MAG_ABSOLUTE'] = data['yAperMag3'] - data['DISTANCE_MODULUS']\n",
    "data['J_MAG_ABSOLUTE'] = data['j_1AperMag3'] - data['DISTANCE_MODULUS']\n",
    "data['H_MAG_ABSOLUTE'] = data['hAperMag3'] - data['DISTANCE_MODULUS']\n",
    "data['K_MAG_ABSOLUTE'] = data['kAperMag3'] - data['DISTANCE_MODULUS']"
   ]
  },
  {
   "cell_type": "code",
   "execution_count": 35,
   "metadata": {},
   "outputs": [
    {
     "data": {
      "image/png": "[encoded data removed]",
      "text/plain": [
       "<Figure size 1440x216 with 4 Axes>"
      ]
     },
     "metadata": {},
     "output_type": "display_data"
    }
   ],
   "source": [
    "fig, axes = plt.subplots(ncols=len(ukidss_abs_mag_bands), figsize=(20, 3))\n",
    "for axes_n, mag in enumerate(ukidss_abs_mag_bands):\n",
    "    axes[axes_n].hist(remove_bad_values(data[mag]), bins=100)\n",
    "    axes[axes_n].set_xlabel(mag)\n",
    "    axes[axes_n].set_xlim([-25, -14])\n",
    "axes[0].set_ylabel('Galaxies')\n",
    "fig.tight_layout()"
   ]
  },
  {
   "cell_type": "markdown",
   "metadata": {},
   "source": [
    "#### Derived Mass (from NSA)\n",
    "\n",
    "These are derived through the spectra without OSSY re-processing - presumably from the originals or from MPA-JHU.\n",
    "\n",
    "**TODO: I should look up exactly where this comes from**"
   ]
  },
  {
   "cell_type": "code",
   "execution_count": 36,
   "metadata": {},
   "outputs": [
    {
     "name": "stderr",
     "output_type": "stream",
     "text": [
      "/data/miniconda3/envs/find_agn/lib/python3.6/site-packages/ipykernel_launcher.py:1: RuntimeWarning: divide by zero encountered in log\n",
      "  \"\"\"Entry point for launching an IPython kernel.\n"
     ]
    },
    {
     "data": {
      "text/plain": [
       "<Figure size 432x288 with 0 Axes>"
      ]
     },
     "metadata": {},
     "output_type": "display_data"
    },
    {
     "data": {
      "image/png": "[encoded data removed]",
      "text/plain": [
       "<Figure size 288x216 with 1 Axes>"
      ]
     },
     "metadata": {},
     "output_type": "display_data"
    }
   ],
   "source": [
    "log_mass = np.log(remove_bad_values(data['ELPETRO_MASS']))\n",
    "log_mass = log_mass[(log_mass > 17) & (log_mass < 26)]  # remove crazy tails\n",
    "\n",
    "plt.clf()\n",
    "fig, axes = plt.subplots(ncols=1, figsize=(4, 3))\n",
    "axes.hist(log_mass, bins=n_bins)\n",
    "axes.set_xlabel('log mass (SDSS)')\n",
    "# axes[0].set_ylabel('Galaxies')\n",
    "fig.tight_layout()"
   ]
  },
  {
   "cell_type": "markdown",
   "metadata": {},
   "source": [
    "#### Color-Magnitude Diagram"
   ]
  },
  {
   "cell_type": "code",
   "execution_count": 37,
   "metadata": {},
   "outputs": [
    {
     "name": "stderr",
     "output_type": "stream",
     "text": [
      "/data/miniconda3/envs/find_agn/lib/python3.6/site-packages/ipykernel_launcher.py:4: RuntimeWarning: invalid value encountered in subtract\n",
      "  after removing the cwd from sys.path.\n"
     ]
    }
   ],
   "source": [
    "# NSA columns with 7 values are for FNugriz values\n",
    "g_mag = - np.array(data['ELPETRO_ABSMAG'])[:, 3]\n",
    "r_mag = - np.array(data['ELPETRO_ABSMAG'])[:, 4]\n",
    "g_r_color = pd.Series(g_mag - r_mag)\n",
    "\n",
    "color_mag_df = pd.DataFrame(data={'g_r_color': g_r_color, 'g_mag': g_mag})\n",
    "color_mag_df = color_mag_df.dropna(how='any')\n",
    "color_mag_df = color_mag_df[(color_mag_df['g_mag'] > 16) & (color_mag_df['g_mag'] < 22)]\n",
    "color_mag_df = color_mag_df[(color_mag_df['g_r_color'] > -1.) & (color_mag_df['g_r_color'] < 0.)]"
   ]
  },
  {
   "cell_type": "code",
   "execution_count": 38,
   "metadata": {},
   "outputs": [
    {
     "data": {
      "image/png": "[encoded data removed]",
      "text/plain": [
       "<Figure size 432x288 with 1 Axes>"
      ]
     },
     "metadata": {},
     "output_type": "display_data"
    }
   ],
   "source": [
    "plt.hist2d(color_mag_df['g_r_color'], color_mag_df['g_mag'], bins=300)\n",
    "plt.xlabel('G - R color')\n",
    "plt.ylabel('G magnitude')\n",
    "plt.title('Color-magnitude diagram')\n",
    "plt.tight_layout()"
   ]
  },
  {
   "cell_type": "markdown",
   "metadata": {},
   "source": [
    "#### OSSY Sanity Check: H-Alpha Lines"
   ]
  },
  {
   "cell_type": "code",
   "execution_count": 39,
   "metadata": {},
   "outputs": [
    {
     "name": "stdout",
     "output_type": "stream",
     "text": [
      "0 of 180318 galaxies have bad/missing h-alpha OSSY values\n",
      "7007 of 180318 galaxies have no h-alpha line\n"
     ]
    },
    {
     "data": {
      "image/png": "[encoded data removed]",
      "text/plain": [
       "<Figure size 432x288 with 1 Axes>"
      ]
     },
     "metadata": {},
     "output_type": "display_data"
    }
   ],
   "source": [
    "h_alpha_raw = pd.Series(data['HA_6562'])\n",
    "h_alpha = remove_bad_values(h_alpha_raw)\n",
    "print('{} of {} galaxies have bad/missing h-alpha OSSY values'.format(len(h_alpha) - len(h_alpha_raw), len(h_alpha_raw)))\n",
    "print('{} of {} galaxies have no h-alpha line'.format(np.sum(h_alpha == 0), len(h_alpha)))\n",
    "_ = plt.hist(np.log(h_alpha[h_alpha > 0]), bins=50)\n",
    "plt.xlabel('log OSSY flux (log $10^{-17} erg s^{-1} A^{-1}$)')\n",
    "plt.ylabel('Galaxies')\n",
    "plt.tight_layout()"
   ]
  },
  {
   "cell_type": "code",
   "execution_count": 40,
   "metadata": {},
   "outputs": [],
   "source": [
    "wise_cols = ['AllWISE', 'RAJ2000', 'DEJ2000', 'eeMaj', 'eeMin', 'eePA', 'W1mag', 'W2mag', 'W3mag', 'W4mag', 'Jmag', 'Hmag', 'Kmag', 'e_W1mag', 'e_W2mag', 'e_W3mag', 'e_W4mag', 'e_Jmag', 'e_Hmag', 'e_Kmag', 'ID', 'ccf', 'ex', 'var', 'qph', 'pmRA', 'e_pmRA', 'pmDE', 'e_pmDE', 'd2M', 'angDist_wisex']"
   ]
  },
  {
   "cell_type": "code",
   "execution_count": 41,
   "metadata": {},
   "outputs": [
    {
     "data": {
      "image/png": "[encoded data removed]",
      "text/plain": [
       "<Figure size 1440x216 with 4 Axes>"
      ]
     },
     "metadata": {},
     "output_type": "display_data"
    }
   ],
   "source": [
    "wise_apparent_mag_bands = [\n",
    "    'W1mag',\n",
    "    'W2mag',\n",
    "    'W3mag',\n",
    "    'W4mag',\n",
    "]\n",
    "\n",
    "fig, axes = plt.subplots(ncols=len(wise_apparent_mag_bands), figsize=(20, 3))\n",
    "for axes_n, mag in enumerate(wise_apparent_mag_bands):\n",
    "    axes[axes_n].hist(remove_bad_values(data[mag]), bins=50)\n",
    "    axes[axes_n].set_xlabel(mag)\n",
    "axes[0].set_ylabel('Galaxies')\n",
    "fig.tight_layout()"
   ]
  },
  {
   "cell_type": "code",
   "execution_count": 42,
   "metadata": {},
   "outputs": [],
   "source": [
    "wise_abs_mag_bands = [\n",
    "    'W1_MAG_ABSOLUTE',\n",
    "    'W2_MAG_ABSOLUTE',\n",
    "    'W3_MAG_ABSOLUTE',\n",
    "    'W4_MAG_ABSOLUTE'\n",
    "]\n",
    "\n",
    "\n",
    "# Note: these are not k-corrected\n",
    "data['W1_MAG_ABSOLUTE'] = data['W1mag'] - data['DISTANCE_MODULUS']\n",
    "data['W2_MAG_ABSOLUTE'] = data['W2mag'] - data['DISTANCE_MODULUS']\n",
    "data['W3_MAG_ABSOLUTE'] = data['W3mag'] - data['DISTANCE_MODULUS']\n",
    "data['W4_MAG_ABSOLUTE'] = data['W4mag'] - data['DISTANCE_MODULUS']"
   ]
  },
  {
   "cell_type": "code",
   "execution_count": 43,
   "metadata": {},
   "outputs": [
    {
     "data": {
      "image/png": "[encoded data removed]",
      "text/plain": [
       "<Figure size 1440x216 with 4 Axes>"
      ]
     },
     "metadata": {},
     "output_type": "display_data"
    }
   ],
   "source": [
    "fig, axes = plt.subplots(ncols=len(wise_abs_mag_bands), figsize=(20, 3))\n",
    "for axes_n, mag in enumerate(wise_abs_mag_bands):\n",
    "    axes[axes_n].hist(remove_bad_values(data[mag]), bins=100)\n",
    "    axes[axes_n].set_xlabel(mag)\n",
    "    axes[axes_n].set_xlim([-33, -15])\n",
    "axes[0].set_ylabel('Galaxies')\n",
    "fig.tight_layout()"
   ]
  },
  {
   "cell_type": "markdown",
   "metadata": {},
   "source": [
    "There are some REALLY bright W4 sources, if my crossmatching and cosmology is correct! I'm a little skeptical of the cross-match, but unsure how to check."
   ]
  },
  {
   "cell_type": "markdown",
   "metadata": {},
   "source": [
    "### SDSS Herschel Catalog\n",
    "\n",
    "Ellison, S. L., Teimoorinia, H., Rosario, D. J., & Trevor Mendel, J. (2016). The infrared luminosities of ~332 000 SDSS galaxies predicted from artificial neural networks and the Herschel Stripe 82 survey. Monthly Notices of the Royal Astronomical Society, 455(1), 370–385. https://doi.org/10.1093/mnras/stv2275\n",
    "    \n"
   ]
  },
  {
   "cell_type": "markdown",
   "metadata": {},
   "source": [
    "> we repeat the training procedure 25 times and select the best 20 trained networks...The output of the best 20 trained networks show small differences due to the different initializations... for those galaxies in the SDSS sample that have very different [properties to Herschel-observed galaxies] the scatter will be very large...We adopt the mean LIR value of the 20 best trained networks, and assign the associated ‘error’ (σANN) as the scatter amongst the network outputs\n",
    "\n"
   ]
  },
  {
   "cell_type": "code",
   "execution_count": 44,
   "metadata": {},
   "outputs": [],
   "source": [
    "fir_loc = 'catalogs/ellison_inferred_fir/LIR_select.out'\n",
    "\n",
    "# schema from Table 2\n",
    "columns = ['sdss_objid', 'ra', 'dec', 'z', 'log_lir', 'std_dev']\n",
    "fir = pd.read_csv(fir_loc, header=None, names=columns, sep=' ')\n"
   ]
  },
  {
   "cell_type": "code",
   "execution_count": 45,
   "metadata": {},
   "outputs": [
    {
     "name": "stdout",
     "output_type": "stream",
     "text": [
      "331926\n"
     ]
    },
    {
     "data": {
      "text/html": [
       "<div>\n",
       "<style scoped>\n",
       "    .dataframe tbody tr th:only-of-type {\n",
       "        vertical-align: middle;\n",
       "    }\n",
       "\n",
       "    .dataframe tbody tr th {\n",
       "        vertical-align: top;\n",
       "    }\n",
       "\n",
       "    .dataframe thead th {\n",
       "        text-align: right;\n",
       "    }\n",
       "</style>\n",
       "<table border=\"1\" class=\"dataframe\">\n",
       "  <thead>\n",
       "    <tr style=\"text-align: right;\">\n",
       "      <th></th>\n",
       "      <th>sdss_objid</th>\n",
       "      <th>ra</th>\n",
       "      <th>dec</th>\n",
       "      <th>z</th>\n",
       "      <th>log_lir</th>\n",
       "      <th>std_dev</th>\n",
       "    </tr>\n",
       "  </thead>\n",
       "  <tbody>\n",
       "    <tr>\n",
       "      <th>0</th>\n",
       "      <td>587722953304310243</td>\n",
       "      <td>237.26196</td>\n",
       "      <td>0.25983</td>\n",
       "      <td>0.03464</td>\n",
       "      <td>43.34</td>\n",
       "      <td>0.07</td>\n",
       "    </tr>\n",
       "    <tr>\n",
       "      <th>1</th>\n",
       "      <td>587722953304179097</td>\n",
       "      <td>236.88773</td>\n",
       "      <td>0.39001</td>\n",
       "      <td>0.11340</td>\n",
       "      <td>44.22</td>\n",
       "      <td>0.05</td>\n",
       "    </tr>\n",
       "    <tr>\n",
       "      <th>2</th>\n",
       "      <td>587722953304179083</td>\n",
       "      <td>236.88157</td>\n",
       "      <td>0.34449</td>\n",
       "      <td>0.03292</td>\n",
       "      <td>42.86</td>\n",
       "      <td>0.12</td>\n",
       "    </tr>\n",
       "    <tr>\n",
       "      <th>3</th>\n",
       "      <td>587722953304113519</td>\n",
       "      <td>236.77592</td>\n",
       "      <td>0.34773</td>\n",
       "      <td>0.03334</td>\n",
       "      <td>43.15</td>\n",
       "      <td>0.09</td>\n",
       "    </tr>\n",
       "    <tr>\n",
       "      <th>4</th>\n",
       "      <td>587722953303917041</td>\n",
       "      <td>236.36319</td>\n",
       "      <td>0.21511</td>\n",
       "      <td>0.10203</td>\n",
       "      <td>44.00</td>\n",
       "      <td>0.08</td>\n",
       "    </tr>\n",
       "  </tbody>\n",
       "</table>\n",
       "</div>"
      ],
      "text/plain": [
       "           sdss_objid         ra      dec        z  log_lir  std_dev\n",
       "0  587722953304310243  237.26196  0.25983  0.03464    43.34     0.07\n",
       "1  587722953304179097  236.88773  0.39001  0.11340    44.22     0.05\n",
       "2  587722953304179083  236.88157  0.34449  0.03292    42.86     0.12\n",
       "3  587722953304113519  236.77592  0.34773  0.03334    43.15     0.09\n",
       "4  587722953303917041  236.36319  0.21511  0.10203    44.00     0.08"
      ]
     },
     "execution_count": 45,
     "metadata": {},
     "output_type": "execute_result"
    }
   ],
   "source": [
    "print(len(fir))\n",
    "fir.head()"
   ]
  },
  {
   "cell_type": "code",
   "execution_count": 46,
   "metadata": {},
   "outputs": [
    {
     "data": {
      "image/png": "[encoded data removed]",
      "text/plain": [
       "<Figure size 432x288 with 1 Axes>"
      ]
     },
     "metadata": {},
     "output_type": "display_data"
    }
   ],
   "source": [
    "fir['z'].hist(bins=50)\n",
    "plt.axvline(0.15, c='r', linestyle='--')\n",
    "_ = plt.xlabel('z')\n",
    "_ = plt.ylabel('Galaxies')"
   ]
  },
  {
   "cell_type": "code",
   "execution_count": 76,
   "metadata": {},
   "outputs": [],
   "source": [
    "# check there are no duplicates\n",
    "assert not np.sum(fir.duplicated())\n",
    "assert not np.sum(fir.duplicated(subset=['sdss_objid']))\n",
    "assert not np.sum(fir.duplicated(subset=['ra', 'dec']))"
   ]
  },
  {
   "cell_type": "markdown",
   "metadata": {},
   "source": [
    "#### Cross-match into the core sample, but keep rows with missing data"
   ]
  },
  {
   "cell_type": "code",
   "execution_count": 53,
   "metadata": {},
   "outputs": [],
   "source": [
    "data['ra'] = data['RA_1']\n",
    "data['dec'] = data['DEC_1']"
   ]
  },
  {
   "cell_type": "code",
   "execution_count": 56,
   "metadata": {},
   "outputs": [],
   "source": [
    "fir_data = Table.from_pandas(fir)"
   ]
  },
  {
   "cell_type": "code",
   "execution_count": 64,
   "metadata": {},
   "outputs": [],
   "source": [
    "matched, unmatched = matching_utils.match_galaxies_to_catalog_table(\n",
    "    fir_data, \n",
    "    data, \n",
    "    join_type='right',  # keep catalog rows even if they have no galaxy match\n",
    "    matching_radius = 5 * units.arcsec, \n",
    "    galaxy_suffix='_fir')"
   ]
  },
  {
   "cell_type": "code",
   "execution_count": 66,
   "metadata": {},
   "outputs": [
    {
     "ename": "AssertionError",
     "evalue": "",
     "output_type": "error",
     "traceback": [
      "\u001b[0;31m---------------------------------------------------------------------------\u001b[0m",
      "\u001b[0;31mAssertionError\u001b[0m                            Traceback (most recent call last)",
      "\u001b[0;32m<ipython-input-66-eb676031b24e>\u001b[0m in \u001b[0;36m<module>\u001b[0;34m()\u001b[0m\n\u001b[0;32m----> 1\u001b[0;31m \u001b[0;32massert\u001b[0m \u001b[0mlen\u001b[0m\u001b[0;34m(\u001b[0m\u001b[0mmatched\u001b[0m\u001b[0;34m)\u001b[0m \u001b[0;34m==\u001b[0m \u001b[0mlen\u001b[0m\u001b[0;34m(\u001b[0m\u001b[0mdata\u001b[0m\u001b[0;34m)\u001b[0m\u001b[0;34m\u001b[0m\u001b[0m\n\u001b[0m",
      "\u001b[0;31mAssertionError\u001b[0m: "
     ]
    }
   ],
   "source": [
    "assert len(matched) == len(data)"
   ]
  },
  {
   "cell_type": "code",
   "execution_count": 78,
   "metadata": {},
   "outputs": [
    {
     "name": "stdout",
     "output_type": "stream",
     "text": [
      "180318\n",
      "180338\n"
     ]
    }
   ],
   "source": [
    "print(len(data))\n",
    "print(len(matched))"
   ]
  },
  {
   "cell_type": "code",
   "execution_count": 79,
   "metadata": {},
   "outputs": [
    {
     "data": {
      "text/plain": [
       "['sdss_objid',\n",
       " 'ra_fir',\n",
       " 'dec_fir',\n",
       " 'z',\n",
       " 'log_lir',\n",
       " 'std_dev',\n",
       " 'best_match',\n",
       " 'sky_separation',\n",
       " 'IAUNAME',\n",
       " 'SUBDIR',\n",
       " 'RA_1',\n",
       " 'DEC_1',\n",
       " 'ISDSS',\n",
       " 'INED',\n",
       " 'ISIXDF',\n",
       " 'IALFALFA',\n",
       " 'IZCAT',\n",
       " 'ITWODF',\n",
       " 'MAG',\n",
       " 'Z',\n",
       " 'ZSRC',\n",
       " 'SIZE',\n",
       " 'RUN',\n",
       " 'CAMCOL',\n",
       " 'FIELD',\n",
       " 'RERUN',\n",
       " 'XPOS',\n",
       " 'YPOS',\n",
       " 'NSAID',\n",
       " 'ZDIST',\n",
       " 'SERSIC_NMGY',\n",
       " 'SERSIC_NMGY_IVAR',\n",
       " 'SERSIC_OK',\n",
       " 'SERSIC_RNMGY',\n",
       " 'SERSIC_ABSMAG',\n",
       " 'SERSIC_AMIVAR',\n",
       " 'EXTINCTION',\n",
       " 'SERSIC_KCORRECT',\n",
       " 'SERSIC_KCOEFF',\n",
       " 'SERSIC_MTOL',\n",
       " 'SERSIC_B300',\n",
       " 'SERSIC_B1000',\n",
       " 'SERSIC_METS',\n",
       " 'SERSIC_MASS',\n",
       " 'XCEN',\n",
       " 'YCEN',\n",
       " 'NPROF',\n",
       " 'PROFMEAN',\n",
       " 'PROFMEAN_IVAR',\n",
       " 'QSTOKES',\n",
       " 'USTOKES',\n",
       " 'BASTOKES',\n",
       " 'PHISTOKES',\n",
       " 'PETRO_FLUX',\n",
       " 'PETRO_FLUX_IVAR',\n",
       " 'FIBER_FLUX',\n",
       " 'FIBER_FLUX_IVAR',\n",
       " 'PETRO_BA50',\n",
       " 'PETRO_PHI50',\n",
       " 'PETRO_BA90',\n",
       " 'PETRO_PHI90',\n",
       " 'SERSIC_FLUX',\n",
       " 'SERSIC_FLUX_IVAR',\n",
       " 'SERSIC_N',\n",
       " 'SERSIC_BA',\n",
       " 'SERSIC_PHI',\n",
       " 'ASYMMETRY',\n",
       " 'CLUMPY',\n",
       " 'DFLAGS',\n",
       " 'AID',\n",
       " 'PID',\n",
       " 'DVERSION',\n",
       " 'PROFTHETA',\n",
       " 'PETRO_THETA',\n",
       " 'PETRO_TH50',\n",
       " 'PETRO_TH90',\n",
       " 'SERSIC_TH50',\n",
       " 'PLATE_1',\n",
       " 'FIBERID_1',\n",
       " 'MJD_1',\n",
       " 'RACAT',\n",
       " 'DECCAT',\n",
       " 'ZSDSSLINE',\n",
       " 'SURVEY',\n",
       " 'PROGRAMNAME',\n",
       " 'PLATEQUALITY',\n",
       " 'TILE',\n",
       " 'PLUG_RA',\n",
       " 'PLUG_DEC',\n",
       " 'ELPETRO_BA',\n",
       " 'ELPETRO_PHI',\n",
       " 'ELPETRO_FLUX_R',\n",
       " 'ELPETRO_FLUX_IVAR_R',\n",
       " 'ELPETRO_THETA_R',\n",
       " 'ELPETRO_TH50_R',\n",
       " 'ELPETRO_TH90_R',\n",
       " 'ELPETRO_THETA',\n",
       " 'ELPETRO_FLUX',\n",
       " 'ELPETRO_FLUX_IVAR',\n",
       " 'ELPETRO_TH50',\n",
       " 'ELPETRO_TH90',\n",
       " 'ELPETRO_APCORR_R',\n",
       " 'ELPETRO_APCORR',\n",
       " 'ELPETRO_APCORR_SELF',\n",
       " 'ELPETRO_NMGY',\n",
       " 'ELPETRO_NMGY_IVAR',\n",
       " 'ELPETRO_OK',\n",
       " 'ELPETRO_RNMGY',\n",
       " 'ELPETRO_ABSMAG',\n",
       " 'ELPETRO_AMIVAR',\n",
       " 'ELPETRO_KCORRECT',\n",
       " 'ELPETRO_KCOEFF',\n",
       " 'ELPETRO_MASS',\n",
       " 'ELPETRO_MTOL',\n",
       " 'ELPETRO_B300',\n",
       " 'ELPETRO_B1000',\n",
       " 'ELPETRO_METS',\n",
       " 'IN_DR7_LSS',\n",
       " 'JName',\n",
       " 'ra_xmatch',\n",
       " 'dec_xmatch',\n",
       " 'yAperMag3',\n",
       " 'j_1AperMag3',\n",
       " 'hAperMag3',\n",
       " 'kAperMag3',\n",
       " 'yAperMag3Err',\n",
       " 'j_1AperMag3Err',\n",
       " 'hAperMag3Err',\n",
       " 'kAperMag3Err',\n",
       " 'sourceID',\n",
       " 'mode',\n",
       " 'epoch',\n",
       " 'mergedClass',\n",
       " 'angDist',\n",
       " 'SDSS_ID',\n",
       " 'VEL_BALMER',\n",
       " 'VEL_BALMER_E',\n",
       " 'VEL_FORBIDDEN',\n",
       " 'VEL_FORBIDDEN_E',\n",
       " 'SIG_BALMER',\n",
       " 'SIG_BALMER_E',\n",
       " 'SIG_FORBIDDEN',\n",
       " 'SIG_FORBIDDEN_E',\n",
       " 'EBV_STAR',\n",
       " 'EBV_GAS',\n",
       " 'E_EBV_STAR',\n",
       " 'E_EBV_GAS',\n",
       " 'VEL_STARS',\n",
       " 'VEL_STARS_E',\n",
       " 'SIGMA_STARS',\n",
       " 'SIGMA_STARS_E',\n",
       " 'HEII_3203',\n",
       " 'NEV_3345',\n",
       " 'NEV_3425',\n",
       " 'OII_3726',\n",
       " 'OII_3728',\n",
       " 'NEIII_3868',\n",
       " 'NEIII_3967',\n",
       " 'H5_3889',\n",
       " 'HE_3970',\n",
       " 'HD_4101',\n",
       " 'HG_4340',\n",
       " 'OIII_4363',\n",
       " 'HEII_4685',\n",
       " 'ARIV_4711',\n",
       " 'ARIV_4740',\n",
       " 'HB_4861',\n",
       " 'OIII_4958',\n",
       " 'OIII_5006',\n",
       " 'NI_5197',\n",
       " 'NI_5200',\n",
       " 'HEI_5875',\n",
       " 'OI_6300',\n",
       " 'OI_6363',\n",
       " 'NII_6547',\n",
       " 'HA_6562',\n",
       " 'NII_6583',\n",
       " 'SII_6716',\n",
       " 'SII_6730',\n",
       " 'ARIII_7135',\n",
       " 'HEII_3203_ERROR',\n",
       " 'NEV_3345_ERROR',\n",
       " 'NEV_3425_ERROR',\n",
       " 'OII_3726_ERROR',\n",
       " 'OII_3728_ERROR',\n",
       " 'NEIII_3868_ERROR',\n",
       " 'NEIII_3967_ERROR',\n",
       " 'H5_3889_ERROR',\n",
       " 'HE_3970_ERROR',\n",
       " 'HD_4101_ERROR',\n",
       " 'HG_4340_ERROR',\n",
       " 'OIII_4363_ERROR',\n",
       " 'HEII_4685_ERROR',\n",
       " 'ARIV_4711_ERROR',\n",
       " 'ARIV_4740_ERROR',\n",
       " 'HB_4861_ERROR',\n",
       " 'OIII_4958_ERROR',\n",
       " 'OIII_5006_ERROR',\n",
       " 'NI_5197_ERROR',\n",
       " 'NI_5200_ERROR',\n",
       " 'HEI_5875_ERROR',\n",
       " 'OI_6300_ERROR',\n",
       " 'OI_6363_ERROR',\n",
       " 'NII_6547_ERROR',\n",
       " 'HA_6562_ERROR',\n",
       " 'NII_6583_ERROR',\n",
       " 'SII_6716_ERROR',\n",
       " 'SII_6730_ERROR',\n",
       " 'ARIII_7135_ERROR',\n",
       " 'AON_HEII_3203',\n",
       " 'AON_NEV_3345',\n",
       " 'AON_NEV_3425',\n",
       " 'AON_OII_3726',\n",
       " 'AON_OII_3728',\n",
       " 'AON_NEIII_3868',\n",
       " 'AON_NEIII_3967',\n",
       " 'AON_H5_3889',\n",
       " 'AON_HE_3970',\n",
       " 'AON_HD_4101',\n",
       " 'AON_HG_4340',\n",
       " 'AON_OIII_4363',\n",
       " 'AON_HEII_4685',\n",
       " 'AON_ARIV_4711',\n",
       " 'AON_ARIV_4740',\n",
       " 'AON_HB_4861',\n",
       " 'AON_OIII_4958',\n",
       " 'AON_OIII_5006',\n",
       " 'AON_NI_5197',\n",
       " 'AON_NI_5200',\n",
       " 'AON_HEI_5875',\n",
       " 'AON_OI_6300',\n",
       " 'AON_OI_6363',\n",
       " 'AON_NII_6547',\n",
       " 'AON_HA_6562',\n",
       " 'AON_NII_6583',\n",
       " 'AON_SII_6716',\n",
       " 'AON_SII_6730',\n",
       " 'AON_ARIII_7135',\n",
       " 'EW_HEII_3203',\n",
       " 'EW_NEV_3345',\n",
       " 'EW_NEV_3425',\n",
       " 'EW_OII_3726',\n",
       " 'EW_OII_3728',\n",
       " 'EW_NEIII_3868',\n",
       " 'EW_NEIII_3967',\n",
       " 'EW_H5_3889',\n",
       " 'EW_HE_3970',\n",
       " 'EW_HD_4101',\n",
       " 'EW_HG_4340',\n",
       " 'EW_OIII_4363',\n",
       " 'EW_HEII_4685',\n",
       " 'EW_ARIV_4711',\n",
       " 'EW_ARIV_4740',\n",
       " 'EW_HB_4861',\n",
       " 'EW_OIII_4958',\n",
       " 'EW_OIII_5006',\n",
       " 'EW_NI_5197',\n",
       " 'EW_NI_5200',\n",
       " 'EW_HEI_5875',\n",
       " 'EW_OI_6300',\n",
       " 'EW_OI_6363',\n",
       " 'EW_NII_6547',\n",
       " 'EW_HA_6562',\n",
       " 'EW_NII_6583',\n",
       " 'EW_SII_6716',\n",
       " 'EW_SII_6730',\n",
       " 'EW_ARIII_7135',\n",
       " 'FLAG_HEII_3203',\n",
       " 'FLAG_NEV_3345',\n",
       " 'FLAG_NEV_3425',\n",
       " 'FLAG_OII_3726',\n",
       " 'FLAG_OII_3728',\n",
       " 'FLAG_NEIII_3868',\n",
       " 'FLAG_NEIII_3967',\n",
       " 'FLAG_H5_3889',\n",
       " 'FLAG_HE_3970',\n",
       " 'FLAG_HD_4101',\n",
       " 'FLAG_HG_4340',\n",
       " 'FLAG_OIII_4363',\n",
       " 'FLAG_HEII_4685',\n",
       " 'FLAG_ARIV_4711',\n",
       " 'FLAG_ARIV_4740',\n",
       " 'FLAG_HB_4861',\n",
       " 'FLAG_OIII_4958',\n",
       " 'FLAG_OIII_5006',\n",
       " 'FLAG_NI_5197',\n",
       " 'FLAG_NI_5200',\n",
       " 'FLAG_HEI_5875',\n",
       " 'FLAG_OI_6300',\n",
       " 'FLAG_OI_6363',\n",
       " 'FLAG_NII_6547',\n",
       " 'FLAG_HA_6562',\n",
       " 'FLAG_NII_6583',\n",
       " 'FLAG_SII_6716',\n",
       " 'FLAG_SII_6730',\n",
       " 'FLAG_ARIII_7135',\n",
       " 'RN_SN',\n",
       " 'S_SN',\n",
       " 'NSIGMA',\n",
       " 'NSIGMA_OII_3726_3729',\n",
       " 'NSIGMA_HB_4861',\n",
       " 'NSIGMA_OIII_5007',\n",
       " 'NSIGMA_OI_6300',\n",
       " 'NSIGMA_OI_6363',\n",
       " 'NSIGMA_HA_NII_6547_6583',\n",
       " 'NSIGMA_SII_6716_6730',\n",
       " 'RA_2',\n",
       " 'DEC_2',\n",
       " 'REDSHIFT',\n",
       " 'PLATE_2',\n",
       " 'MJD_2',\n",
       " 'FIBERID_2',\n",
       " 'Separation',\n",
       " 'AllWISE',\n",
       " 'RAJ2000',\n",
       " 'DEJ2000',\n",
       " 'eeMaj',\n",
       " 'eeMin',\n",
       " 'eePA',\n",
       " 'W1mag',\n",
       " 'W2mag',\n",
       " 'W3mag',\n",
       " 'W4mag',\n",
       " 'Jmag',\n",
       " 'Hmag',\n",
       " 'Kmag',\n",
       " 'e_W1mag',\n",
       " 'e_W2mag',\n",
       " 'e_W3mag',\n",
       " 'e_W4mag',\n",
       " 'e_Jmag',\n",
       " 'e_Hmag',\n",
       " 'e_Kmag',\n",
       " 'ID',\n",
       " 'ccf',\n",
       " 'ex',\n",
       " 'var',\n",
       " 'qph',\n",
       " 'pmRA',\n",
       " 'e_pmRA',\n",
       " 'pmDE',\n",
       " 'e_pmDE',\n",
       " 'd2M',\n",
       " 'angDist_wisex',\n",
       " 'F_MAG_ABSOLUTE',\n",
       " 'N_MAG_ABSOLUTE',\n",
       " 'U_MAG_ABSOLUTE',\n",
       " 'G_MAG_ABSOLUTE',\n",
       " 'R_MAG_ABSOLUTE',\n",
       " 'I_MAG_ABSOLUTE',\n",
       " 'Z_MAG_ABSOLUTE',\n",
       " 'DISTANCE_MODULUS',\n",
       " 'DISTANCE_MODULUS_LIST',\n",
       " 'ELPETRO_APPARENT_MAG',\n",
       " 'Y_MAG_ABSOLUTE',\n",
       " 'J_MAG_ABSOLUTE',\n",
       " 'H_MAG_ABSOLUTE',\n",
       " 'K_MAG_ABSOLUTE',\n",
       " 'W1_MAG_ABSOLUTE',\n",
       " 'W2_MAG_ABSOLUTE',\n",
       " 'W3_MAG_ABSOLUTE',\n",
       " 'W4_MAG_ABSOLUTE',\n",
       " 'ra',\n",
       " 'dec']"
      ]
     },
     "execution_count": 79,
     "metadata": {},
     "output_type": "execute_result"
    }
   ],
   "source": [
    "sdss"
   ]
  },
  {
   "cell_type": "code",
   "execution_count": 103,
   "metadata": {},
   "outputs": [],
   "source": [
    "def check_id_fields_are_unique(data):\n",
    "    for id_col in ['sdss_objid', 'sourceID', 'SDSS_ID', 'IAUNAME']:\n",
    "        counts = Counter(list(filter(lambda x: x > 0, matched[id_col])))  # count all obj ids\n",
    "        try:\n",
    "            assert counts.most_common(1)[0][1] == 1  # most common id occurs only once\n",
    "        except AssertionError:\n",
    "            print(id_col)\n",
    "            print(counts.most_common(10))\n",
    "            return counts"
   ]
  },
  {
   "cell_type": "code",
   "execution_count": 106,
   "metadata": {},
   "outputs": [
    {
     "name": "stdout",
     "output_type": "stream",
     "text": [
      "sourceID\n",
      "[(433867090881, 2), (433866778994, 2), (433866480816, 2), (433850185607, 2), (433844941187, 2), (433848979960, 2), (433841308721, 2), (433848265656, 2), (433867982589, 2), (433829842203, 2)]\n"
     ]
    }
   ],
   "source": [
    "bad_counts = check_id_fields_are_unique(data)"
   ]
  },
  {
   "cell_type": "code",
   "execution_count": 108,
   "metadata": {},
   "outputs": [
    {
     "data": {
      "text/plain": [
       "[433867090881,\n",
       " 433866778994,\n",
       " 433866480816,\n",
       " 433850185607,\n",
       " 433844941187,\n",
       " 433848979960,\n",
       " 433841308721,\n",
       " 433848265656,\n",
       " 433867982589,\n",
       " 433829842203,\n",
       " 433842895193,\n",
       " 433801324034,\n",
       " 433819896232,\n",
       " 433795602491,\n",
       " 433812281474,\n",
       " 433814342701,\n",
       " 433809472664,\n",
       " 433807130626,\n",
       " 433793085638,\n",
       " 433799447474]"
      ]
     },
     "execution_count": 108,
     "metadata": {},
     "output_type": "execute_result"
    }
   ],
   "source": [
    "duplicate_source_id_tuples = filter(lambda x: x[1] > 1, counts.most_common(50))\n",
    "duplicate_source_ids = [pair[0] for pair in duplicate_source_id_tuples]"
   ]
  },
  {
   "cell_type": "code",
   "execution_count": 110,
   "metadata": {},
   "outputs": [
    {
     "data": {
      "text/html": [
       "<i>Table masked=True length=1</i>\n",
       "<table id=\"table5845932184\" class=\"table-striped table-bordered table-condensed\">\n",
       "<thead><tr><th>IAUNAME</th><th>SUBDIR</th><th>RA_1</th><th>DEC_1</th><th>ISDSS</th><th>INED</th><th>ISIXDF</th><th>IALFALFA</th><th>IZCAT</th><th>ITWODF</th><th>MAG</th><th>Z</th><th>ZSRC</th><th>SIZE</th><th>RUN</th><th>CAMCOL</th><th>FIELD</th><th>RERUN</th><th>XPOS</th><th>YPOS</th><th>NSAID</th><th>ZDIST</th><th>SERSIC_NMGY [7]</th><th>SERSIC_NMGY_IVAR [7]</th><th>SERSIC_OK</th><th>SERSIC_RNMGY [7]</th><th>SERSIC_ABSMAG [7]</th><th>SERSIC_AMIVAR [7]</th><th>EXTINCTION [7]</th><th>SERSIC_KCORRECT [7]</th><th>SERSIC_KCOEFF [5]</th><th>SERSIC_MTOL [7]</th><th>SERSIC_B300</th><th>SERSIC_B1000</th><th>SERSIC_METS</th><th>SERSIC_MASS</th><th>XCEN</th><th>YCEN</th><th>NPROF [7]</th><th>PROFMEAN [15,7]</th><th>PROFMEAN_IVAR [15,7]</th><th>QSTOKES [15,7]</th><th>USTOKES [15,7]</th><th>BASTOKES [15,7]</th><th>PHISTOKES [15,7]</th><th>PETRO_FLUX [7]</th><th>PETRO_FLUX_IVAR [7]</th><th>FIBER_FLUX [7]</th><th>FIBER_FLUX_IVAR [7]</th><th>PETRO_BA50</th><th>PETRO_PHI50</th><th>PETRO_BA90</th><th>PETRO_PHI90</th><th>SERSIC_FLUX [7]</th><th>SERSIC_FLUX_IVAR [7]</th><th>SERSIC_N</th><th>SERSIC_BA</th><th>SERSIC_PHI</th><th>ASYMMETRY [7]</th><th>CLUMPY [7]</th><th>DFLAGS [7]</th><th>AID</th><th>PID</th><th>DVERSION</th><th>PROFTHETA [15]</th><th>PETRO_THETA</th><th>PETRO_TH50</th><th>PETRO_TH90</th><th>SERSIC_TH50</th><th>PLATE_1</th><th>FIBERID_1</th><th>MJD_1</th><th>RACAT</th><th>DECCAT</th><th>ZSDSSLINE</th><th>SURVEY</th><th>PROGRAMNAME</th><th>PLATEQUALITY</th><th>TILE</th><th>PLUG_RA</th><th>PLUG_DEC</th><th>ELPETRO_BA</th><th>ELPETRO_PHI</th><th>ELPETRO_FLUX_R</th><th>ELPETRO_FLUX_IVAR_R</th><th>ELPETRO_THETA_R</th><th>ELPETRO_TH50_R</th><th>ELPETRO_TH90_R</th><th>ELPETRO_THETA</th><th>ELPETRO_FLUX [7]</th><th>ELPETRO_FLUX_IVAR [7]</th><th>ELPETRO_TH50 [7]</th><th>ELPETRO_TH90 [7]</th><th>ELPETRO_APCORR_R</th><th>ELPETRO_APCORR [7]</th><th>ELPETRO_APCORR_SELF [7]</th><th>ELPETRO_NMGY [7]</th><th>ELPETRO_NMGY_IVAR [7]</th><th>ELPETRO_OK</th><th>ELPETRO_RNMGY [7]</th><th>ELPETRO_ABSMAG [7]</th><th>ELPETRO_AMIVAR [7]</th><th>ELPETRO_KCORRECT [7]</th><th>ELPETRO_KCOEFF [5]</th><th>ELPETRO_MASS</th><th>ELPETRO_MTOL [7]</th><th>ELPETRO_B300</th><th>ELPETRO_B1000</th><th>ELPETRO_METS</th><th>IN_DR7_LSS</th><th>JName</th><th>ra_xmatch</th><th>dec_xmatch</th><th>yAperMag3</th><th>j_1AperMag3</th><th>hAperMag3</th><th>kAperMag3</th><th>yAperMag3Err</th><th>j_1AperMag3Err</th><th>hAperMag3Err</th><th>kAperMag3Err</th><th>sourceID</th><th>mode</th><th>epoch</th><th>mergedClass</th><th>angDist</th><th>SDSS_ID</th><th>VEL_BALMER</th><th>VEL_BALMER_E</th><th>VEL_FORBIDDEN</th><th>VEL_FORBIDDEN_E</th><th>SIG_BALMER</th><th>SIG_BALMER_E</th><th>SIG_FORBIDDEN</th><th>SIG_FORBIDDEN_E</th><th>EBV_STAR</th><th>EBV_GAS</th><th>E_EBV_STAR</th><th>E_EBV_GAS</th><th>VEL_STARS</th><th>VEL_STARS_E</th><th>SIGMA_STARS</th><th>SIGMA_STARS_E</th><th>HEII_3203</th><th>NEV_3345</th><th>NEV_3425</th><th>OII_3726</th><th>OII_3728</th><th>NEIII_3868</th><th>NEIII_3967</th><th>H5_3889</th><th>HE_3970</th><th>HD_4101</th><th>HG_4340</th><th>OIII_4363</th><th>HEII_4685</th><th>ARIV_4711</th><th>ARIV_4740</th><th>HB_4861</th><th>OIII_4958</th><th>OIII_5006</th><th>NI_5197</th><th>NI_5200</th><th>HEI_5875</th><th>OI_6300</th><th>OI_6363</th><th>NII_6547</th><th>HA_6562</th><th>NII_6583</th><th>SII_6716</th><th>SII_6730</th><th>ARIII_7135</th><th>HEII_3203_ERROR</th><th>NEV_3345_ERROR</th><th>NEV_3425_ERROR</th><th>OII_3726_ERROR</th><th>OII_3728_ERROR</th><th>NEIII_3868_ERROR</th><th>NEIII_3967_ERROR</th><th>H5_3889_ERROR</th><th>HE_3970_ERROR</th><th>HD_4101_ERROR</th><th>HG_4340_ERROR</th><th>OIII_4363_ERROR</th><th>HEII_4685_ERROR</th><th>ARIV_4711_ERROR</th><th>ARIV_4740_ERROR</th><th>HB_4861_ERROR</th><th>OIII_4958_ERROR</th><th>OIII_5006_ERROR</th><th>NI_5197_ERROR</th><th>NI_5200_ERROR</th><th>HEI_5875_ERROR</th><th>OI_6300_ERROR</th><th>OI_6363_ERROR</th><th>NII_6547_ERROR</th><th>HA_6562_ERROR</th><th>NII_6583_ERROR</th><th>SII_6716_ERROR</th><th>SII_6730_ERROR</th><th>ARIII_7135_ERROR</th><th>AON_HEII_3203</th><th>AON_NEV_3345</th><th>AON_NEV_3425</th><th>AON_OII_3726</th><th>AON_OII_3728</th><th>AON_NEIII_3868</th><th>AON_NEIII_3967</th><th>AON_H5_3889</th><th>AON_HE_3970</th><th>AON_HD_4101</th><th>AON_HG_4340</th><th>AON_OIII_4363</th><th>AON_HEII_4685</th><th>AON_ARIV_4711</th><th>AON_ARIV_4740</th><th>AON_HB_4861</th><th>AON_OIII_4958</th><th>AON_OIII_5006</th><th>AON_NI_5197</th><th>AON_NI_5200</th><th>AON_HEI_5875</th><th>AON_OI_6300</th><th>AON_OI_6363</th><th>AON_NII_6547</th><th>AON_HA_6562</th><th>AON_NII_6583</th><th>AON_SII_6716</th><th>AON_SII_6730</th><th>AON_ARIII_7135</th><th>EW_HEII_3203</th><th>EW_NEV_3345</th><th>EW_NEV_3425</th><th>EW_OII_3726</th><th>EW_OII_3728</th><th>EW_NEIII_3868</th><th>EW_NEIII_3967</th><th>EW_H5_3889</th><th>EW_HE_3970</th><th>EW_HD_4101</th><th>EW_HG_4340</th><th>EW_OIII_4363</th><th>EW_HEII_4685</th><th>EW_ARIV_4711</th><th>EW_ARIV_4740</th><th>EW_HB_4861</th><th>EW_OIII_4958</th><th>EW_OIII_5006</th><th>EW_NI_5197</th><th>EW_NI_5200</th><th>EW_HEI_5875</th><th>EW_OI_6300</th><th>EW_OI_6363</th><th>EW_NII_6547</th><th>EW_HA_6562</th><th>EW_NII_6583</th><th>EW_SII_6716</th><th>EW_SII_6730</th><th>EW_ARIII_7135</th><th>FLAG_HEII_3203</th><th>FLAG_NEV_3345</th><th>FLAG_NEV_3425</th><th>FLAG_OII_3726</th><th>FLAG_OII_3728</th><th>FLAG_NEIII_3868</th><th>FLAG_NEIII_3967</th><th>FLAG_H5_3889</th><th>FLAG_HE_3970</th><th>FLAG_HD_4101</th><th>FLAG_HG_4340</th><th>FLAG_OIII_4363</th><th>FLAG_HEII_4685</th><th>FLAG_ARIV_4711</th><th>FLAG_ARIV_4740</th><th>FLAG_HB_4861</th><th>FLAG_OIII_4958</th><th>FLAG_OIII_5006</th><th>FLAG_NI_5197</th><th>FLAG_NI_5200</th><th>FLAG_HEI_5875</th><th>FLAG_OI_6300</th><th>FLAG_OI_6363</th><th>FLAG_NII_6547</th><th>FLAG_HA_6562</th><th>FLAG_NII_6583</th><th>FLAG_SII_6716</th><th>FLAG_SII_6730</th><th>FLAG_ARIII_7135</th><th>RN_SN</th><th>S_SN</th><th>NSIGMA</th><th>NSIGMA_OII_3726_3729</th><th>NSIGMA_HB_4861</th><th>NSIGMA_OIII_5007</th><th>NSIGMA_OI_6300</th><th>NSIGMA_OI_6363</th><th>NSIGMA_HA_NII_6547_6583</th><th>NSIGMA_SII_6716_6730</th><th>RA_2</th><th>DEC_2</th><th>REDSHIFT</th><th>PLATE_2</th><th>MJD_2</th><th>FIBERID_2</th><th>Separation</th><th>AllWISE</th><th>RAJ2000</th><th>DEJ2000</th><th>eeMaj</th><th>eeMin</th><th>eePA</th><th>W1mag</th><th>W2mag</th><th>W3mag</th><th>W4mag</th><th>Jmag</th><th>Hmag</th><th>Kmag</th><th>e_W1mag</th><th>e_W2mag</th><th>e_W3mag</th><th>e_W4mag</th><th>e_Jmag</th><th>e_Hmag</th><th>e_Kmag</th><th>ID</th><th>ccf</th><th>ex</th><th>var</th><th>qph</th><th>pmRA</th><th>e_pmRA</th><th>pmDE</th><th>e_pmDE</th><th>d2M</th><th>angDist_wisex</th><th>F_MAG_ABSOLUTE</th><th>N_MAG_ABSOLUTE</th><th>U_MAG_ABSOLUTE</th><th>G_MAG_ABSOLUTE</th><th>R_MAG_ABSOLUTE</th><th>I_MAG_ABSOLUTE</th><th>Z_MAG_ABSOLUTE</th><th>DISTANCE_MODULUS</th><th>DISTANCE_MODULUS_LIST [7]</th><th>ELPETRO_APPARENT_MAG [7]</th><th>Y_MAG_ABSOLUTE</th><th>J_MAG_ABSOLUTE</th><th>H_MAG_ABSOLUTE</th><th>K_MAG_ABSOLUTE</th><th>W1_MAG_ABSOLUTE</th><th>W2_MAG_ABSOLUTE</th><th>W3_MAG_ABSOLUTE</th><th>W4_MAG_ABSOLUTE</th><th>ra</th><th>dec</th><th>best_match</th></tr></thead>\n",
       "<thead><tr><th></th><th></th><th></th><th></th><th></th><th></th><th></th><th></th><th></th><th></th><th></th><th></th><th></th><th></th><th></th><th></th><th></th><th></th><th></th><th></th><th></th><th></th><th></th><th></th><th></th><th></th><th></th><th></th><th></th><th></th><th></th><th></th><th></th><th></th><th></th><th></th><th></th><th></th><th></th><th></th><th></th><th></th><th></th><th></th><th></th><th></th><th></th><th></th><th></th><th></th><th></th><th></th><th></th><th></th><th></th><th></th><th></th><th></th><th></th><th></th><th></th><th></th><th></th><th></th><th></th><th></th><th></th><th></th><th></th><th></th><th></th><th></th><th></th><th></th><th></th><th></th><th></th><th></th><th></th><th></th><th></th><th></th><th></th><th></th><th></th><th></th><th></th><th></th><th></th><th></th><th></th><th></th><th></th><th></th><th></th><th></th><th></th><th></th><th></th><th></th><th></th><th></th><th></th><th></th><th></th><th></th><th></th><th></th><th></th><th></th><th></th><th>deg</th><th>deg</th><th>mag</th><th>mag</th><th>mag</th><th>mag</th><th>mag</th><th>mag</th><th>mag</th><th>mag</th><th></th><th></th><th></th><th></th><th>arcsec</th><th></th><th></th><th></th><th></th><th></th><th></th><th></th><th></th><th></th><th></th><th></th><th></th><th></th><th></th><th></th><th></th><th></th><th></th><th></th><th></th><th></th><th></th><th></th><th></th><th></th><th></th><th></th><th></th><th></th><th></th><th></th><th></th><th></th><th></th><th></th><th></th><th></th><th></th><th></th><th></th><th></th><th></th><th></th><th></th><th></th><th></th><th></th><th></th><th></th><th></th><th></th><th></th><th></th><th></th><th></th><th></th><th></th><th></th><th></th><th></th><th></th><th></th><th></th><th></th><th></th><th></th><th></th><th></th><th></th><th></th><th></th><th></th><th></th><th></th><th></th><th></th><th></th><th></th><th></th><th></th><th></th><th></th><th></th><th></th><th></th><th></th><th></th><th></th><th></th><th></th><th></th><th></th><th></th><th></th><th></th><th></th><th></th><th></th><th></th><th></th><th></th><th></th><th></th><th></th><th></th><th></th><th></th><th></th><th></th><th></th><th></th><th></th><th></th><th></th><th></th><th></th><th></th><th></th><th></th><th></th><th></th><th></th><th></th><th></th><th></th><th></th><th></th><th></th><th></th><th></th><th></th><th></th><th></th><th></th><th></th><th></th><th></th><th></th><th></th><th></th><th></th><th></th><th></th><th></th><th></th><th></th><th></th><th></th><th></th><th></th><th></th><th></th><th></th><th></th><th></th><th></th><th></th><th></th><th></th><th></th><th></th><th></th><th></th><th></th><th></th><th></th><th></th><th></th><th></th><th></th><th></th><th></th><th></th><th></th><th></th><th></th><th></th><th></th><th>arcsec</th><th></th><th>deg</th><th>deg</th><th>arcsec</th><th>arcsec</th><th>deg</th><th>mag</th><th>mag</th><th>mag</th><th>mag</th><th>mag</th><th>mag</th><th>mag</th><th>mag</th><th>mag</th><th>mag</th><th>mag</th><th>mag</th><th>mag</th><th>mag</th><th></th><th></th><th></th><th></th><th></th><th></th><th></th><th></th><th></th><th></th><th>arcsec</th><th></th><th></th><th></th><th></th><th></th><th></th><th></th><th>mag</th><th></th><th></th><th>mag</th><th>mag</th><th>mag</th><th>mag</th><th>mag</th><th>mag</th><th>mag</th><th>mag</th><th></th><th></th><th></th></tr></thead>\n",
       "<thead><tr><th>bytes19</th><th>bytes27</th><th>float64</th><th>float64</th><th>int32</th><th>int32</th><th>int32</th><th>int32</th><th>int32</th><th>int32</th><th>float32</th><th>float32</th><th>bytes7</th><th>float32</th><th>int16</th><th>uint8</th><th>int16</th><th>bytes3</th><th>float32</th><th>float32</th><th>int32</th><th>float32</th><th>float32</th><th>float32</th><th>int16</th><th>float32</th><th>float32</th><th>float32</th><th>float32</th><th>float32</th><th>float32</th><th>float32</th><th>float32</th><th>float32</th><th>float32</th><th>float32</th><th>float64</th><th>float64</th><th>uint8</th><th>float32</th><th>float32</th><th>float32</th><th>float32</th><th>float32</th><th>float32</th><th>float32</th><th>float32</th><th>float32</th><th>float32</th><th>float32</th><th>float32</th><th>float32</th><th>float32</th><th>float32</th><th>float32</th><th>float32</th><th>float32</th><th>float32</th><th>float32</th><th>float32</th><th>int32</th><th>int32</th><th>int32</th><th>bytes8</th><th>float32</th><th>float32</th><th>float32</th><th>float32</th><th>float32</th><th>int32</th><th>int16</th><th>int32</th><th>float64</th><th>float64</th><th>float32</th><th>bytes6</th><th>str13</th><th>bytes8</th><th>int32</th><th>float64</th><th>float64</th><th>float32</th><th>float32</th><th>float32</th><th>float32</th><th>float32</th><th>float32</th><th>float32</th><th>float32</th><th>float32</th><th>float32</th><th>float32</th><th>float32</th><th>float32</th><th>float32</th><th>float32</th><th>float32</th><th>float32</th><th>int16</th><th>float32</th><th>float32</th><th>float32</th><th>float32</th><th>float32</th><th>float32</th><th>float32</th><th>float32</th><th>float32</th><th>float32</th><th>int16</th><th>bytes19</th><th>float64</th><th>float64</th><th>float32</th><th>float32</th><th>float32</th><th>float32</th><th>float32</th><th>float32</th><th>float32</th><th>float32</th><th>int64</th><th>uint8</th><th>float32</th><th>uint8</th><th>float64</th><th>bytes18</th><th>float64</th><th>float64</th><th>float64</th><th>float64</th><th>float64</th><th>float64</th><th>float64</th><th>float64</th><th>float64</th><th>float64</th><th>float64</th><th>float64</th><th>float64</th><th>float64</th><th>float64</th><th>float64</th><th>float64</th><th>float64</th><th>float64</th><th>float64</th><th>float64</th><th>float64</th><th>float64</th><th>float64</th><th>float64</th><th>float64</th><th>float64</th><th>float64</th><th>float64</th><th>float64</th><th>float64</th><th>float64</th><th>float64</th><th>float64</th><th>float64</th><th>float64</th><th>float64</th><th>float64</th><th>float64</th><th>float64</th><th>float64</th><th>float64</th><th>float64</th><th>float64</th><th>float64</th><th>float64</th><th>float64</th><th>float64</th><th>float64</th><th>float64</th><th>float64</th><th>float64</th><th>float64</th><th>float64</th><th>float64</th><th>float64</th><th>float64</th><th>float64</th><th>float64</th><th>float64</th><th>float64</th><th>float64</th><th>float64</th><th>float64</th><th>float64</th><th>float64</th><th>float64</th><th>float64</th><th>float64</th><th>float64</th><th>float64</th><th>float64</th><th>float64</th><th>float64</th><th>float64</th><th>float64</th><th>float64</th><th>float64</th><th>float64</th><th>float64</th><th>float64</th><th>float64</th><th>float64</th><th>float64</th><th>float64</th><th>float64</th><th>float64</th><th>float64</th><th>float64</th><th>float64</th><th>float64</th><th>float64</th><th>float64</th><th>float64</th><th>float64</th><th>float64</th><th>float64</th><th>float64</th><th>float64</th><th>float64</th><th>float64</th><th>float64</th><th>float64</th><th>float64</th><th>float64</th><th>float64</th><th>float64</th><th>float64</th><th>float64</th><th>float64</th><th>float64</th><th>float64</th><th>float64</th><th>float64</th><th>float64</th><th>float64</th><th>float64</th><th>float64</th><th>float64</th><th>float64</th><th>float64</th><th>float64</th><th>float64</th><th>float64</th><th>float64</th><th>float64</th><th>float64</th><th>float64</th><th>float64</th><th>float64</th><th>float64</th><th>float64</th><th>int16</th><th>int16</th><th>int16</th><th>int16</th><th>int16</th><th>int16</th><th>int16</th><th>int16</th><th>int16</th><th>int16</th><th>int16</th><th>int16</th><th>int16</th><th>int16</th><th>int16</th><th>int16</th><th>int16</th><th>int16</th><th>int16</th><th>int16</th><th>int16</th><th>int16</th><th>int16</th><th>int16</th><th>int16</th><th>int16</th><th>int16</th><th>int16</th><th>int16</th><th>float64</th><th>float64</th><th>float64</th><th>float64</th><th>float64</th><th>float64</th><th>float64</th><th>float64</th><th>float64</th><th>float64</th><th>float64</th><th>float64</th><th>float64</th><th>bytes4</th><th>bytes5</th><th>bytes3</th><th>float64</th><th>bytes19</th><th>float64</th><th>float64</th><th>float32</th><th>float32</th><th>float32</th><th>float32</th><th>float32</th><th>float32</th><th>float32</th><th>float32</th><th>float32</th><th>float32</th><th>float32</th><th>float32</th><th>float32</th><th>float32</th><th>float32</th><th>float32</th><th>float32</th><th>int64</th><th>bytes4</th><th>bytes1</th><th>bytes4</th><th>bytes4</th><th>int32</th><th>int32</th><th>int32</th><th>int32</th><th>float32</th><th>float64</th><th>float32</th><th>float32</th><th>float32</th><th>float32</th><th>float32</th><th>float32</th><th>float32</th><th>float64</th><th>float64</th><th>float64</th><th>float64</th><th>float64</th><th>float64</th><th>float64</th><th>float64</th><th>float64</th><th>float64</th><th>float64</th><th>float64</th><th>float64</th><th>int64</th></tr></thead>\n",
       "<tr><td>J124527.23+033147.6</td><td>12h/p02/J124527.23+033147.6</td><td>191.3627834253751</td><td>3.530503471797608</td><td>72441</td><td>-1</td><td>-1</td><td>-1</td><td>-1</td><td>-1</td><td>18.350246</td><td>0.13442358</td><td>sdss</td><td>0.028204054</td><td>6121</td><td>4</td><td>186</td><td>301</td><td>1042.1198</td><td>519.39233</td><td>69953</td><td>0.13391246</td><td>7.209104 .. 867.05084</td><td>1.2772703 .. 0.0014293452</td><td>1</td><td>6.959051 .. 879.7955</td><td>-18.169815 .. -23.165833</td><td>56.31146 .. 911.54395</td><td>0.2722309 .. 0.048568092</td><td>0.30209398 .. 0.09770169</td><td>5.1937477e-05 .. 2.6275554e-06</td><td>0.0001657006 .. 0.8589028</td><td>0.015620113</td><td>0.41243693</td><td>0.037855525</td><td>102427960000.0</td><td>133.67506408691406</td><td>132.93495178222656</td><td>8 .. 11</td><td>0.12632006 .. 0.0</td><td>468.8558 .. 0.0</td><td>-0.031738855 .. 0.053857487</td><td>0.0022166134 .. 0.09341697</td><td>0.9383299 .. 0.80533075</td><td>88.0025 .. 30.017677</td><td>3.0915892 .. 417.00302</td><td>6.5149255 .. 0.0061695552</td><td>0.32110846 .. 110.92845</td><td>152.29059 .. 0.25944722</td><td>0.7571231</td><td>141.34052</td><td>0.58561546</td><td>139.67654</td><td>5.610337 .. 860.2354</td><td>2.3177848 .. 0.008084622</td><td>6.0</td><td>0.5720155</td><td>143.21335</td><td>0.13271588 .. 0.14633512</td><td>0.103179425 .. 0.13704005</td><td>0 .. 0</td><td>0</td><td>0</td><td>v2_1_14</td><td>0.22341923 .. 258.39</td><td>5.471516</td><td>2.858805</td><td>8.258253</td><td>9.0974865</td><td>847</td><td>250</td><td>52426</td><td>191.36346397387894</td><td>3.529905627353343</td><td>0.0</td><td>sdss</td><td>legacy</td><td>good</td><td>618</td><td>191.36275</td><td>3.53049</td><td>0.58561546</td><td>139.67654</td><td>189.59108</td><td>0.5138309</td><td>6.366957</td><td>3.2928166</td><td>7.759401</td><td>6.366957</td><td>3.1775005 .. 392.6909</td><td>6.3047504 .. 0.0078050424</td><td>4.9265 .. 3.426185</td><td>10.583934 .. 9.242508</td><td>1.003124</td><td>1.0885952 .. 0.9938471</td><td>1.109084 .. 0.9961998</td><td>4.082987 .. 395.80206</td><td>3.5147433 .. 0.0040037525</td><td>1</td><td>4.0167856 .. 392.86932</td><td>-17.552233 .. -22.298538</td><td>49.705097 .. 532.0772</td><td>0.30177006 .. 0.081824884</td><td>2.1897938e-05 .. 1.4958109e-06</td><td>41394586000.0</td><td>0.00011605131 .. 0.78877556</td><td>0.022273563</td><td>0.44949383</td><td>0.038362738</td><td>1</td><td>J124527.08+033149.8</td><td>191.362841</td><td>3.530524</td><td>16.61</td><td>15.952</td><td>15.175</td><td>14.525</td><td>0.01</td><td>0.008</td><td>0.01</td><td>0.01</td><td>433844941187</td><td>1</td><td>2009.858</td><td>1</td><td>0.219328</td><td>587726033864097886</td><td>37896.44140625</td><td>1.2668999433517456</td><td>37899.83203125</td><td>1.851199984550476</td><td>109.23380279541016</td><td>1.1102999448776245</td><td>116.41259765625</td><td>1.7338000535964966</td><td>0.2671999931335449</td><td>0.30809998512268066</td><td>0.010099999606609344</td><td>0.023800000548362732</td><td>37861.26953125</td><td>10.365699768066406</td><td>133.9521026611328</td><td>12.762800216674805</td><td>-9999.0</td><td>-9999.0</td><td>248.48699951171875</td><td>2243.294677734375</td><td>1447.6754150390625</td><td>208.46389770507812</td><td>78.45349884033203</td><td>204.3076934814453</td><td>309.2225036621094</td><td>502.48651123046875</td><td>905.5802001953125</td><td>0.0</td><td>54.26959991455078</td><td>68.10150146484375</td><td>47.21500015258789</td><td>1932.6405029296875</td><td>217.72950744628906</td><td>622.0844116210938</td><td>48.27859878540039</td><td>13.513699531555176</td><td>106.56849670410156</td><td>207.53489685058594</td><td>69.10910034179688</td><td>926.1182250976562</td><td>5521.830078125</td><td>2723.876953125</td><td>1047.5936279296875</td><td>792.087890625</td><td>29.65760040283203</td><td>-9999.0</td><td>-9999.0</td><td>191.2178955078125</td><td>442.6382141113281</td><td>308.7308044433594</td><td>90.5416030883789</td><td>64.63809967041016</td><td>23.315200805664062</td><td>35.287899017333984</td><td>57.34280014038086</td><td>103.34300231933594</td><td>-9999.0</td><td>52.147098541259766</td><td>43.43109893798828</td><td>46.42610168457031</td><td>220.54910278320312</td><td>33.00040054321289</td><td>94.28690338134766</td><td>80.64299774169922</td><td>65.8667984008789</td><td>28.676799774169922</td><td>31.193599700927734</td><td>10.387499809265137</td><td>102.96150207519531</td><td>630.1403198242188</td><td>302.8279113769531</td><td>105.97460174560547</td><td>88.7177963256836</td><td>2.1482999324798584</td><td>-9999.0</td><td>-9999.0</td><td>1.5580999851226807</td><td>16.087499618530273</td><td>10.393799781799316</td><td>1.586300015449524</td><td>0.6209999918937683</td><td>1.646399974822998</td><td>2.5734000205993652</td><td>4.39870023727417</td><td>8.640700340270996</td><td>0.0</td><td>0.5521000027656555</td><td>0.698199987411499</td><td>0.48840001225471497</td><td>21.765600204467773</td><td>2.400899887084961</td><td>6.952400207519531</td><td>0.5680999755859375</td><td>0.1590999960899353</td><td>1.469599962234497</td><td>3.0692999362945557</td><td>1.035599946975708</td><td>14.390600204467773</td><td>90.36859893798828</td><td>42.606998443603516</td><td>16.785600662231445</td><td>12.723699569702148</td><td>0.5084999799728394</td><td>-9999.0</td><td>-9999.0</td><td>1.0777000188827515</td><td>10.408499717712402</td><td>6.566800117492676</td><td>0.8791000247001648</td><td>0.31150001287460327</td><td>0.8517000079154968</td><td>1.2386000156402588</td><td>1.904099941253662</td><td>3.8635001182556152</td><td>0.0</td><td>0.24560000002384186</td><td>0.30300000309944153</td><td>0.20730000734329224</td><td>9.233200073242188</td><td>1.0425000190734863</td><td>3.1867001056671143</td><td>0.27630001306533813</td><td>0.07739999890327454</td><td>0.7161999940872192</td><td>1.6100000143051147</td><td>0.5313000082969666</td><td>7.590400218963623</td><td>45.961700439453125</td><td>24.22599983215332</td><td>9.220100402832031</td><td>7.025000095367432</td><td>0.30329999327659607</td><td>0</td><td>0</td><td>0</td><td>0</td><td>0</td><td>0</td><td>0</td><td>0</td><td>0</td><td>0</td><td>0</td><td>0</td><td>0</td><td>0</td><td>0</td><td>0</td><td>0</td><td>0</td><td>0</td><td>0</td><td>0</td><td>0</td><td>0</td><td>0</td><td>0</td><td>0</td><td>0</td><td>0</td><td>0</td><td>1.0425</td><td>17.2959</td><td>1.3989</td><td>-0.5109</td><td>-0.2475</td><td>0.4057</td><td>0.067</td><td>-0.8092</td><td>2.184</td><td>0.8362</td><td>191.36275387</td><td>3.5304879</td><td>0.134379997849464</td><td>847</td><td>52426</td><td>250</td><td>0.12008515574142532</td><td>J124527.08+033149.9</td><td>191.3628589</td><td>3.5305545</td><td>0.0945</td><td>0.0602</td><td>141.5</td><td>13.67</td><td>13.296</td><td>9.348</td><td>6.639</td><td>15.599</td><td>15.08</td><td>14.373</td><td>0.047</td><td>0.055</td><td>0.068</td><td>0.154</td><td>0.094</td><td>0.106</td><td>0.102</td><td>1921103001351053199</td><td>0000</td><td>0</td><td>nnnn</td><td>AAAB</td><td>229</td><td>60</td><td>-39</td><td>65</td><td>0.053</td><td>0.127153</td><td>-17.552233</td><td>-18.58838</td><td>-19.955608</td><td>-21.064594</td><td>-21.657309</td><td>-21.970938</td><td>-22.298538</td><td>39.030623930777125</td><td>39.030623930777125 .. 39.030623930777125</td><td>21.478391188467555 .. 16.732085722769312</td><td>-22.420623320425562</td><td>-23.078624266470484</td><td>-23.85562374004226</td><td>-24.50562431224685</td><td>-25.36062385448318</td><td>-25.734624403799586</td><td>-29.68262435802322</td><td>-32.39162399181228</td><td>191.3627834253751</td><td>3.530503471797608</td><td>42180</td></tr>\n",
       "</table>"
      ],
      "text/plain": [
       "<Table masked=True length=1>\n",
       "      IAUNAME                  SUBDIR           ...        dec        best_match\n",
       "                                                ...                             \n",
       "      bytes19                 bytes27           ...      float64        int64   \n",
       "------------------- --------------------------- ... ----------------- ----------\n",
       "J124527.23+033147.6 12h/p02/J124527.23+033147.6 ... 3.530503471797608      42180"
      ]
     },
     "execution_count": 110,
     "metadata": {},
     "output_type": "execute_result"
    }
   ],
   "source": [
    "duplicate_rows = data[data['sourceID'] == duplicate_source_ids[4]]\n",
    "duplicate_rows"
   ]
  },
  {
   "cell_type": "code",
   "execution_count": 105,
   "metadata": {},
   "outputs": [
    {
     "name": "stdout",
     "output_type": "stream",
     "text": [
      "sourceID\n",
      "[(433867090881, 2), (433866778994, 2), (433866480816, 2), (433850185607, 2), (433844941187, 2), (433848979960, 2), (433841308721, 2), (433848265656, 2), (433867982589, 2), (433829842203, 2)]\n"
     ]
    }
   ],
   "source": [
    "check_id_fields_are_unique(matched)"
   ]
  },
  {
   "cell_type": "code",
   "execution_count": 96,
   "metadata": {},
   "outputs": [],
   "source": []
  },
  {
   "cell_type": "markdown",
   "metadata": {},
   "source": [
    "### Save any newly-derived data"
   ]
  },
  {
   "cell_type": "code",
   "execution_count": 111,
   "metadata": {},
   "outputs": [],
   "source": [
    "matched.write(data_loc.rstrip('.fits') + '_derived.fits', overwrite=True)"
   ]
  },
  {
   "cell_type": "code",
   "execution_count": null,
   "metadata": {},
   "outputs": [],
   "source": []
  }
 ],
 "metadata": {
  "kernelspec": {
   "display_name": "Python 3",
   "language": "python",
   "name": "python3"
  }
 },
 "nbformat": 4,
 "nbformat_minor": 2
}
