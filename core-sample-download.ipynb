{
 "cells": [
  {
   "cell_type": "code",
   "execution_count": 4,
   "metadata": {},
   "outputs": [
    {
     "name": "stdout",
     "output_type": "stream",
     "text": [
      "The autoreload extension is already loaded. To reload it, use:\n",
      "  %reload_ext autoreload\n"
     ]
    }
   ],
   "source": [
    "%load_ext autoreload\n",
    "%autoreload 2\n",
    "%matplotlib inline"
   ]
  },
  {
   "cell_type": "code",
   "execution_count": 5,
   "metadata": {},
   "outputs": [],
   "source": [
    "import os\n",
    "\n",
    "from astropy.io import fits\n",
    "from astropy.table import Table, join\n",
    "import pandas as pd\n",
    "import numpy as np\n",
    "\n",
    "import matplotlib.pyplot as plt\n",
    "import seaborn as sns\n",
    "sns.set_context('notebook')"
   ]
  },
  {
   "cell_type": "markdown",
   "metadata": {},
   "source": [
    "# Download Core Galaxy Sample\n",
    "\n",
    "This notebook:\n",
    "\n",
    "- records the data download process for UKIDSS and SDSS\n",
    "- plots the overall galaxy sample features"
   ]
  },
  {
   "cell_type": "markdown",
   "metadata": {},
   "source": [
    "## Download Approach"
   ]
  },
  {
   "cell_type": "markdown",
   "metadata": {},
   "source": [
    "Neither SDSS nor UKIDSS has a complete copy of the other on their servers. Therefore, I need to use remote access to BOTH services and then perform a join.\n",
    "\n",
    "\n",
    "I tried downloading UKIDSS and SDSS via the CDS X-Match service available from cdsxmatch.u-strasbg.fr/xmatch. The latest available catalogs on X-Match via Vizier were UKIDSS-DR9 LAS+GCS+DXS and SDSS DR12. However, the download fell over above a handful of rows.\n"
   ]
  },
  {
   "cell_type": "markdown",
   "metadata": {},
   "source": [
    "**Current approach:**\n",
    "1. Load the NSA into Topcat from FITS (with useful columns only?)\n",
    "2. Get UKIDSS cross-matched (5 arcsecs) with NSA via Topcat remote Vizier crossmatch (X button)\n",
    "3. Download OSSY subtables via the Wordpress release website and join into one master table\n",
    "4. Locally match (matchsticks button) NSA/UKIDSS and OSSY_joined (5 arcsecs)\n",
    "\n",
    "The UKIDSS table used was `UKIDSS-DR9 LAS` on Vizier, available from [here](http://vizier.u-strasbg.fr/viz-bin/VizieR-3?-source=II/319/las9) with a schema."
   ]
  },
  {
   "cell_type": "markdown",
   "metadata": {},
   "source": [
    "### 1. Load NSA into Topcat"
   ]
  },
  {
   "cell_type": "code",
   "execution_count": null,
   "metadata": {},
   "outputs": [],
   "source": []
  },
  {
   "cell_type": "markdown",
   "metadata": {},
   "source": [
    "### 2. Get UKIDSS cross-matched with NSA"
   ]
  },
  {
   "cell_type": "code",
   "execution_count": null,
   "metadata": {},
   "outputs": [],
   "source": []
  },
  {
   "cell_type": "markdown",
   "metadata": {},
   "source": [
    "### 3. Download OSSY Subtables"
   ]
  },
  {
   "cell_type": "code",
   "execution_count": null,
   "metadata": {},
   "outputs": [],
   "source": [
    "ossy_dir = 'catalogs/ossy/raw'\n",
    "### TODO use command line to download OSSY catalogs"
   ]
  },
  {
   "cell_type": "code",
   "execution_count": null,
   "metadata": {},
   "outputs": [],
   "source": [
    "emission_flux = Table.read(os.path.join(ossy_dir, 'OSSY_emission_flux_errors.fits'))\n",
    "emission_ew = Table.read(os.path.join(ossy_dir, 'OSSY_emission_aon_ew_sky.fits'))\n",
    "continuum_qa = Table.read(os.path.join(ossy_dir, 'OSSY_quality_assessment_continuum.fits'))\n",
    "emission_qa = Table.read(os.path.join(ossy_dir, 'OSSY_quality_assessment_emission.fits'))\n",
    "ossy_sdss = Table.read(os.path.join(ossy_dir, 'OSSY_SDSS_parameters.fits'))\n",
    "assert len(ossy) == len(emission_flux) == len(emission_ew) == len(continuum_qa) == len(emission_qa) == len(ossy_sdss)"
   ]
  },
  {
   "cell_type": "code",
   "execution_count": null,
   "metadata": {},
   "outputs": [],
   "source": [
    "joined_dir = 'catalogs/ossy/joined'\n",
    "if not os.path.isdir(joined_dir):\n",
    "    os.mkdir(joined_dir)\n",
    "# ossy.to_csv(os.path.join(joined_dir, 'ossy_joined.csv'), index=False)  # takes a minute, large csv\n",
    "ossy.write(os.path.join(joined_dir, 'ossy_joined.fits'), overwrite=True)"
   ]
  },
  {
   "cell_type": "markdown",
   "metadata": {},
   "source": [
    "### 4. Use TOPCAT to join OSSY to the rest."
   ]
  },
  {
   "cell_type": "code",
   "execution_count": null,
   "metadata": {},
   "outputs": [],
   "source": []
  },
  {
   "cell_type": "markdown",
   "metadata": {},
   "source": [
    "Save to `catalogs/nsa_v1_0_1_ossy_ukidss_dr9_las.fits`"
   ]
  },
  {
   "cell_type": "markdown",
   "metadata": {},
   "source": [
    "### 5. Remote cross-match into WISE"
   ]
  },
  {
   "cell_type": "markdown",
   "metadata": {},
   "source": [
    " <img src=\"figures/allwise_crossmatch.png\" alt=\"allwise crossmatch\" height=\"400\" width=\"300\"> "
   ]
  },
  {
   "cell_type": "markdown",
   "metadata": {},
   "source": [
    "Save to `catalogs/nsa_v1_0_1_ossy_ukidss_dr9_las_allwise.fits`"
   ]
  },
  {
   "cell_type": "code",
   "execution_count": 6,
   "metadata": {},
   "outputs": [],
   "source": [
    "wise_cols = ['AllWISE', 'RAJ2000', 'DEJ2000', 'eeMaj', 'eeMin', 'eePA', 'W1mag', 'W2mag', 'W3mag', 'W4mag', 'Jmag', 'Hmag', 'Kmag', 'e_W1mag', 'e_W2mag', 'e_W3mag', 'e_W4mag', 'e_Jmag', 'e_Hmag', 'e_Kmag', 'ID', 'ccf', 'ex', 'var', 'qph', 'pmRA', 'e_pmRA', 'pmDE', 'e_pmDE', 'd2M', 'angDist_wisex']"
   ]
  },
  {
   "cell_type": "code",
   "execution_count": null,
   "metadata": {},
   "outputs": [],
   "source": []
  }
 ],
 "metadata": {
  "kernelspec": {
   "display_name": "Python 3",
   "language": "python",
   "name": "python3"
  },
  "language_info": {
   "codemirror_mode": {
    "name": "ipython",
    "version": 3
   },
   "file_extension": ".py",
   "mimetype": "text/x-python",
   "name": "python",
   "nbconvert_exporter": "python",
   "pygments_lexer": "ipython3",
   "version": "3.6.6"
  }
 },
 "nbformat": 4,
 "nbformat_minor": 2
}
