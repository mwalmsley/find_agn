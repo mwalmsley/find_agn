{
 "cells": [
  {
   "cell_type": "markdown",
   "metadata": {},
   "source": [
    "## Access the Downloaded Data"
   ]
  },
  {
   "cell_type": "code",
   "execution_count": 1,
   "metadata": {},
   "outputs": [],
   "source": [
    "%load_ext autoreload\n",
    "%autoreload 2\n",
    "%matplotlib inline"
   ]
  },
  {
   "cell_type": "code",
   "execution_count": 2,
   "metadata": {},
   "outputs": [
    {
     "ename": "ModuleNotFoundError",
     "evalue": "No module named 'shared_notebook_utils'",
     "output_type": "error",
     "traceback": [
      "\u001b[0;31m---------------------------------------------------------------------------\u001b[0m",
      "\u001b[0;31mModuleNotFoundError\u001b[0m                       Traceback (most recent call last)",
      "\u001b[0;32m<ipython-input-2-e687f2829f63>\u001b[0m in \u001b[0;36m<module>\u001b[0;34m()\u001b[0m\n\u001b[1;32m     13\u001b[0m \u001b[0;32mfrom\u001b[0m \u001b[0mshared_astro_utils\u001b[0m \u001b[0;32mimport\u001b[0m \u001b[0mmatching_utils\u001b[0m  \u001b[0;31m# personal PyPI package\u001b[0m\u001b[0;34m\u001b[0m\u001b[0m\n\u001b[1;32m     14\u001b[0m \u001b[0;34m\u001b[0m\u001b[0m\n\u001b[0;32m---> 15\u001b[0;31m \u001b[0;32mimport\u001b[0m \u001b[0mshared_notebook_utils\u001b[0m  \u001b[0;31m# local script, may move to PyPI\u001b[0m\u001b[0;34m\u001b[0m\u001b[0m\n\u001b[0m",
      "\u001b[0;31mModuleNotFoundError\u001b[0m: No module named 'shared_notebook_utils'"
     ]
    }
   ],
   "source": [
    "from collections import Counter\n",
    "\n",
    "import pandas as pd\n",
    "import numpy as np\n",
    "import matplotlib.pyplot as plt\n",
    "import seaborn as sns\n",
    "sns.set_context('notebook')\n",
    "\n",
    "from astropy.table import Table\n",
    "from astropy.cosmology import WMAP9 as cosmo\n",
    "from astropy import units\n",
    "\n",
    "from shared_astro_utils import matching_utils  # personal PyPI package\n",
    "\n",
    "import shared_notebook_utils  # local script, may move to PyPI"
   ]
  },
  {
   "cell_type": "code",
   "execution_count": null,
   "metadata": {},
   "outputs": [],
   "source": [
    "def remove_bad_values(x):\n",
    "    return x[(~np.isnan(x)) & (np.isfinite(x))]"
   ]
  },
  {
   "cell_type": "code",
   "execution_count": null,
   "metadata": {},
   "outputs": [],
   "source": [
    "data_loc = 'catalogs/nsa_v1_0_1_ossy_ukidss_dr9_las_allwise.fits'"
   ]
  },
  {
   "cell_type": "markdown",
   "metadata": {},
   "source": [
    "Including AllWISE at 5 arcseconds, we have 182128 rows. This is down only a few hundred from 182956."
   ]
  },
  {
   "cell_type": "code",
   "execution_count": null,
   "metadata": {},
   "outputs": [],
   "source": [
    "data = Table.read(data_loc)"
   ]
  },
  {
   "cell_type": "code",
   "execution_count": null,
   "metadata": {},
   "outputs": [],
   "source": [
    "pd.Series(data['PROGRAMNAME']).value_counts()"
   ]
  },
  {
   "cell_type": "code",
   "execution_count": null,
   "metadata": {},
   "outputs": [],
   "source": [
    "data['PROGRAMNAME'] = list(map(lambda x: x.strip(), data['PROGRAMNAME']))\n",
    "data = data[data['PROGRAMNAME'] == 'legacy']"
   ]
  },
  {
   "cell_type": "code",
   "execution_count": null,
   "metadata": {},
   "outputs": [],
   "source": [
    "assert len(data) == 180318"
   ]
  },
  {
   "cell_type": "markdown",
   "metadata": {},
   "source": [
    "#### Redshifts (from NSA)"
   ]
  },
  {
   "cell_type": "code",
   "execution_count": null,
   "metadata": {},
   "outputs": [],
   "source": [
    "n_bins = 50"
   ]
  },
  {
   "cell_type": "code",
   "execution_count": null,
   "metadata": {},
   "outputs": [],
   "source": [
    "plt.hist(data['Z'], bins=n_bins)\n",
    "plt.xlabel('z')\n",
    "plt.ylabel('Galaxy Count')"
   ]
  },
  {
   "cell_type": "markdown",
   "metadata": {},
   "source": [
    "We might expect a peak from the balance between completeness and volume probed. This does seem kinda sharp nonetheless."
   ]
  },
  {
   "cell_type": "markdown",
   "metadata": {},
   "source": [
    "## SDSS Photometry"
   ]
  },
  {
   "cell_type": "markdown",
   "metadata": {},
   "source": [
    "#### Absolute Magnitudes"
   ]
  },
  {
   "cell_type": "code",
   "execution_count": null,
   "metadata": {},
   "outputs": [],
   "source": [
    "ordered_sdss_bands = ['F', 'N', 'U', 'G', 'R', 'I', 'Z']\n",
    "sdss_mags = list(map(lambda x: x + '_MAG_ABSOLUTE', ordered_sdss_bands))\n",
    "\n",
    "for n, abs_mag_name in enumerate(sdss_mags):\n",
    "    data[abs_mag_name] = data['ELPETRO_ABSMAG'][:, n]\n"
   ]
  },
  {
   "cell_type": "code",
   "execution_count": null,
   "metadata": {},
   "outputs": [],
   "source": [
    "fig, axes = plt.subplots(ncols=2, figsize=(8, 3))\n",
    "\n",
    "g_band_mags = np.array(data['G_MAG_ABSOLUTE'])\n",
    "g_band_mags = remove_bad_values(g_band_mags)\n",
    "g_band_mags = g_band_mags[(g_band_mags < -14) & (g_band_mags > -23)]  # remove crazy tails\n",
    "\n",
    "r_band_mags = np.array(data['R_MAG_ABSOLUTE'])\n",
    "r_band_mags = remove_bad_values(r_band_mags)\n",
    "r_band_mags = r_band_mags[(r_band_mags < -14) & (r_band_mags > -23)]  # remove crazy tails\n",
    "\n",
    "axes[0].set_ylabel('Galaxies')\n",
    "\n",
    "axes[0].hist(g_band_mags, bins=n_bins)\n",
    "axes[0].set_xlabel('SDSS g absolute mag')\n",
    "\n",
    "\n",
    "axes[1].hist(r_band_mags, bins=n_bins)\n",
    "axes[1].set_xlabel('SDSS r absolute mag')\n",
    "\n",
    "fig.tight_layout()"
   ]
  },
  {
   "cell_type": "markdown",
   "metadata": {},
   "source": [
    "#### Apparent Magnitudes (from NSA)\n",
    "\n",
    "This is currently estimated from the NSA estimated absolute magnitudes - but this is obviously backwards. It would be better to get these direct from SDSS observations - they are surely recorded somewhere.\n",
    "\n",
    "Chris says the apparent magnitudes can be grabbed from a hidden casjobs table called 'galaxies'. I should go get these instead of working 'backwards' with cosmology."
   ]
  },
  {
   "cell_type": "code",
   "execution_count": null,
   "metadata": {},
   "outputs": [],
   "source": [
    "data['DISTANCE_MODULUS'] = cosmo.distmod(data['Z'])\n",
    "data['DISTANCE_MODULUS_LIST'] = np.array(list(map(lambda x: [x for n in range(7)], data['DISTANCE_MODULUS'])))\n",
    "data['ELPETRO_APPARENT_MAG'] = data['ELPETRO_ABSMAG'] + data['DISTANCE_MODULUS_LIST']"
   ]
  },
  {
   "cell_type": "code",
   "execution_count": null,
   "metadata": {},
   "outputs": [],
   "source": [
    "fig, axes = plt.subplots(ncols=2, figsize=(8, 3))\n",
    "\n",
    "g_band_mags = np.array(data['ELPETRO_APPARENT_MAG'])[:, 3] # g is NSA 4th value: FNugriz\n",
    "g_band_mags = remove_bad_values(g_band_mags)\n",
    "g_band_mags = g_band_mags[(g_band_mags > 14) & (g_band_mags < 20)]  # remove crazy tails\n",
    "\n",
    "r_band_mags = np.array(data['ELPETRO_APPARENT_MAG'])[:, 4] # r is NSA 5th value: FNugriz\n",
    "r_band_mags = remove_bad_values(r_band_mags)\n",
    "r_band_mags = r_band_mags[(r_band_mags > 14) & (r_band_mags < 20)]  # remove crazy tails\n",
    "\n",
    "axes[0].set_ylabel('Galaxies')\n",
    "\n",
    "axes[0].hist(g_band_mags, bins=n_bins)\n",
    "axes[0].set_xlabel('SDSS g apparent mag')\n",
    "\n",
    "\n",
    "axes[1].hist(r_band_mags, bins=n_bins)\n",
    "axes[1].set_xlabel('SDSS r apparent mag')\n",
    "axes[1].axvline(17.77, c='r')\n",
    "\n",
    "fig.tight_layout()"
   ]
  },
  {
   "cell_type": "markdown",
   "metadata": {},
   "source": [
    "The sudden drop is (we think) due to the SDSS selection cut. It's slightly deeper than r = 17.77 because leftover fibres were used to image fainter galaxies (according to Chris). The simplest thing to do would be to artifically impose the r = 17.77 cut. It would be better to include the fainter galaxies, but I'm not sure where to look for the selection function.\n",
    "\n",
    "I still need to see how this matches up to GZ morphology selections. If the fainter ones would be excluded anyway, it's not useful."
   ]
  },
  {
   "cell_type": "markdown",
   "metadata": {},
   "source": [
    "#### SDSS Flux"
   ]
  },
  {
   "cell_type": "markdown",
   "metadata": {},
   "source": [
    "#### Which flux values to use?"
   ]
  },
  {
   "cell_type": "markdown",
   "metadata": {},
   "source": [
    "The NSA v1_0_1 (schema [here](https://data.sdss.org/datamodel/files/ATLAS_DATA/ATLAS_MAJOR_VERSION/nsa.html)) contains various flux measurements with unclear descriptions.\n",
    "\n",
    "\n",
    "**Flux are quotes as raw (_FLUX), extinction-corrected (_NMGY), and extinction + kcorrected (_RNMGY)**\n",
    "\n",
    "> SERSIC_FLUX: \tTwo-dimensional, single-component Sersic fit flux in GALEX/SDSS FNugriz\n",
    "\n",
    "This is the apparent (I think) measured flux.\n",
    "\n",
    "> SERSIC_NMGY: Galactic-extinction corrected AB flux in GALEX/SDSS FNugriz used for K-correction (from SERSIC_FLUX)\n",
    "\n",
    "This is the apparent AB (but AB is a mag system??) flux, corrected for galactic extinction.\n",
    "\n",
    "> SERSIC_RNMGY: Reconstructed AB nanomaggies in GALEX/SDSS FNugriz from K-correction fit, for Sersic fluxes\n",
    "\n",
    "This is the above flux, shifted between bands according to a small k-correction. This is clearer from the IDL documentation for the [k-correction routine used](http://cosmo.nyu.edu/mb144/kcorrect/kcorrect_help.html#K_RECONSTRUCT_MAGGIES).\n",
    "\n",
    "\n",
    "**The same values are available with an elliptical aperture, rather than a sersic fit**\n",
    "\n",
    "> ELPETRO_FLUX: Elliptical SDSS-style Petrosian flux in GALEX/SDSS FNugriz (using r-band aperture) \n",
    "\n",
    "> ELPETRO_NMGY: Galactic-extinction corrected AB flux in GALEX/SDSS FNugriz used for K-correction (from PETRO_FLUX) \n",
    "\n",
    "*(This is probably a typo - I think it would be from ELPETRO_FLUX)*\n",
    "\n",
    "> ELPETRO_RNMGY: Reconstructed AB nanomaggies in GALEX/SDSS FNugriz from K-correction fit, for elliptical petrosian fluxes\n",
    "\n",
    "**A few other fluxes are available, but only in raw form**\n",
    "\n",
    "> PETRO_FLUX: Azimuthally-averaged SDSS-style Petrosian flux in FNugriz (GALEX-SDSS photometric systems) \n",
    "\n",
    "> FIBER_FLUX: \tFlux in 3-arcsec diameter aperture (not apodized) in FNugriz \n"
   ]
  },
  {
   "cell_type": "markdown",
   "metadata": {},
   "source": [
    "The [online docs](https://www.sdss.org/dr13/algorithms/magnitudes/) suggest petrosian (elliptical) flux for my usecase.\n",
    "\n",
    "> Galaxies bright enough to be included in our spectroscopic sample have relatively high signal-to-noise ratio measurements of their Petrosian magnitudes. Since these magnitudes are model-independent and yield a large fraction of the total flux, roughly constant with redshift, petroMag is the measurement of choice for such objects.\n",
    "\n",
    "I will use ELPETRO_RNMGY and hope that the k-correction is still better with than without for AGN SEDs."
   ]
  },
  {
   "cell_type": "code",
   "execution_count": null,
   "metadata": {},
   "outputs": [],
   "source": [
    "# repeat unpacking for apparent flux\n",
    "sdss_apparent_fluxes = list(map(lambda x: x + '_FLUX_APPARENT', ordered_sdss_bands))\n",
    "\n",
    "for n, abs_flux_name in enumerate(sdss_apparent_fluxes):\n",
    "    data[abs_flux_name] = data['ELPETRO_RNMGY'][:, n] / (3.631e-6) * units.Jy # convert nanomaggie apparent flux to Jy"
   ]
  },
  {
   "cell_type": "code",
   "execution_count": null,
   "metadata": {
    "scrolled": false
   },
   "outputs": [],
   "source": [
    "data[[band + '_FLUX_APPARENT' for band in ordered_sdss_bands]][:5]"
   ]
  },
  {
   "cell_type": "markdown",
   "metadata": {},
   "source": [
    "There's no such thing as 'absolute flux'. I would have thought you could use luminosity - flux in the complete sphere - calculated from the distance. But I don't see papers doing this?\n",
    "\n",
    "Instead, let's make up 'absolute flux' in analogy with absolute magnitude - the flux at a reference distance of 10pc. This is convenient because we already have absolute magnitudes, so we can use a standard mag->flux calculation to convert to 'absolute' flux."
   ]
  },
  {
   "cell_type": "code",
   "execution_count": null,
   "metadata": {},
   "outputs": [],
   "source": [
    "for band in ordered_sdss_bands:  # SDSS uses (almost) an AB system. TODO: correct for zero point misalignment\n",
    "    data[band + '_FLUX_ABSOLUTE'] = shared_notebook_utils.ab_mag_to_flux(data[band + '_MAG_ABSOLUTE'])"
   ]
  },
  {
   "cell_type": "code",
   "execution_count": null,
   "metadata": {},
   "outputs": [],
   "source": [
    "fig, ax = plt.subplots()\n",
    "bins=50\n",
    "pd.Series(np.log10(data['U_FLUX_APPARENT'])).hist(ax=ax, bins=bins, alpha=0.5, log=True)\n",
    "pd.Series(np.log10(data['U_FLUX_ABSOLUTE'])).hist(ax=ax, bins=bins, alpha=0.5, log=True)\n",
    "ax.legend(['Apparent U Flux Density', 'Absolute U Flux Density'])\n",
    "ax.set_xlabel('Log Flux (Jy)')\n",
    "ax.set_ylabel('Galaxies')"
   ]
  },
  {
   "cell_type": "markdown",
   "metadata": {},
   "source": [
    "#### UKIDSS Apparent Magnitudes"
   ]
  },
  {
   "cell_type": "code",
   "execution_count": null,
   "metadata": {},
   "outputs": [],
   "source": [
    "ukidss_cols = [\n",
    "    'JName',\n",
    "    'ra_xmatch',\n",
    "    'dec_xmatch',\n",
    "    'yAperMag3',\n",
    "    'j_1AperMag3',\n",
    "    'hAperMag3',\n",
    "    'kAperMag3',\n",
    "    'yAperMag3Err',\n",
    "    'j_1AperMag3Err',\n",
    "    'hAperMag3Err',\n",
    "    'kAperMag3Err',\n",
    "    'sourceID',\n",
    "    'mode',\n",
    "    'epoch',\n",
    "    'mergedClass',\n",
    "    'angDist',\n",
    "    'SDSS_ID'\n",
    "]\n",
    "\n",
    "\n",
    "apparent_mag_bands = [\n",
    "    'yAperMag3',\n",
    "    'j_1AperMag3',\n",
    "    'hAperMag3',\n",
    "    'kAperMag3',\n",
    "]\n",
    "\n",
    "fig, axes = plt.subplots(ncols=len(apparent_mag_bands), figsize=(20, 3))\n",
    "for axes_n, mag in enumerate(apparent_mag_bands):\n",
    "    axes[axes_n].hist(remove_bad_values(data[mag]), bins=50)\n",
    "    axes[axes_n].set_xlabel(mag)\n",
    "axes[0].set_ylabel('Galaxies')\n",
    "fig.tight_layout()"
   ]
  },
  {
   "cell_type": "markdown",
   "metadata": {},
   "source": [
    "\"Y=20.2, J=19.6, H=18.8, K=18.2\" is indeed the deepest that UKIDSS has any objects.\n",
    "\n",
    "The data release papers claim this is the limit for a 5 sigma detection in 2 arcsec aperture. But surely galaxies only get more common at fainter depths - as seen with SDSS. Why the gradual tail-off?\n",
    "\n",
    "The answer might be that the SDSS spectroscopy cut is brighter than the UKIDSS depth limit, causing SDSS to have a sharp cut-off and UKIDSS to have a gradual decline (as faint galaxies become missed by SDSS, even though they are imaged by UKIDSS).\n",
    "\n",
    "If so, and we plotted UKIDSS *without* cross-matching, we would expect to see a continual increase to the limiting depth and then a sharp cut-off. \n",
    "\n",
    "**TODO: I should check this.**\n"
   ]
  },
  {
   "cell_type": "markdown",
   "metadata": {},
   "source": [
    "#### UKIDSS Absolute Magnitudes\n",
    "\n",
    "Here, it actually makes sense to use cosmology to convert apparent magnitudes to (approximate i.e. without k-correction) absolute magnitues"
   ]
  },
  {
   "cell_type": "code",
   "execution_count": null,
   "metadata": {},
   "outputs": [],
   "source": [
    "# Note: these are not k-corrected\n",
    "data['Y_MAG_ABSOLUTE'] = data['yAperMag3'] - data['DISTANCE_MODULUS']\n",
    "data['J_MAG_ABSOLUTE'] = data['j_1AperMag3'] - data['DISTANCE_MODULUS']\n",
    "data['H_MAG_ABSOLUTE'] = data['hAperMag3'] - data['DISTANCE_MODULUS']\n",
    "data['K_MAG_ABSOLUTE'] = data['kAperMag3'] - data['DISTANCE_MODULUS']"
   ]
  },
  {
   "cell_type": "code",
   "execution_count": null,
   "metadata": {},
   "outputs": [],
   "source": [
    "ukidss_ordered_bands = ['Y', 'J', 'H', 'K']\n",
    "\n",
    "fig, axes = plt.subplots(ncols=len(ukidss_ordered_bands), figsize=(20, 3))\n",
    "for axes_n, band in enumerate(ukidss_ordered_bands):\n",
    "    target_column = band + '_MAG_ABSOLUTE'\n",
    "    axes[axes_n].hist(remove_bad_values(data[target_column]), bins=100)\n",
    "    axes[axes_n].set_xlabel(target_column)\n",
    "    axes[axes_n].set_xlim([-25, -14])\n",
    "axes[0].set_ylabel('Galaxies')\n",
    "fig.tight_layout()"
   ]
  },
  {
   "cell_type": "markdown",
   "metadata": {},
   "source": [
    "#### UKIDSS Flux\n"
   ]
  },
  {
   "cell_type": "code",
   "execution_count": null,
   "metadata": {},
   "outputs": [],
   "source": [
    "# UKIDSS is also on the AB magnitude system, so we can apply the same conversion as for SDSS\n",
    "for band in ukidss_ordered_bands:\n",
    "    data[band + '_FLUX_ABSOLUTE'] = ab_mag_to_flux(data[band + '_MAG_ABSOLUTE'])"
   ]
  },
  {
   "cell_type": "code",
   "execution_count": null,
   "metadata": {},
   "outputs": [],
   "source": [
    "bins=50\n",
    "pd.Series(np.log10(data['Y_FLUX_ABSOLUTE'])).hist(bins=bins, alpha=0.5, log=True)"
   ]
  },
  {
   "cell_type": "code",
   "execution_count": null,
   "metadata": {},
   "outputs": [],
   "source": [
    "np.log10(data['Y_FLUX_ABSOLUTE']) < 4"
   ]
  },
  {
   "cell_type": "code",
   "execution_count": null,
   "metadata": {},
   "outputs": [],
   "source": [
    "y_flux = pd.Series(data['Y_FLUX_ABSOLUTE'])\n",
    "y_flux[np.log10(y_flux) < 4][:20]"
   ]
  },
  {
   "cell_type": "code",
   "execution_count": null,
   "metadata": {},
   "outputs": [],
   "source": [
    "# would get 3316 if mag is 0\n",
    "y_mag = pd.Series(data['Y_MAG_ABSOLUTE'])\n",
    "y_mag[y_mag > -10]"
   ]
  },
  {
   "cell_type": "markdown",
   "metadata": {},
   "source": [
    "#### Derived Mass (from NSA)\n",
    "\n",
    "These are derived through the spectra without OSSY re-processing - presumably from the originals or from MPA-JHU.\n",
    "\n",
    "**TODO: I should look up exactly where this comes from**"
   ]
  },
  {
   "cell_type": "code",
   "execution_count": null,
   "metadata": {},
   "outputs": [],
   "source": [
    "log_mass = np.log(remove_bad_values(data['ELPETRO_MASS']))\n",
    "log_mass = log_mass[(log_mass > 17) & (log_mass < 26)]  # remove crazy tails\n",
    "\n",
    "plt.clf()\n",
    "fig, axes = plt.subplots(ncols=1, figsize=(4, 3))\n",
    "axes.hist(log_mass, bins=n_bins)\n",
    "axes.set_xlabel('log mass (SDSS)')\n",
    "# axes[0].set_ylabel('Galaxies')\n",
    "fig.tight_layout()"
   ]
  },
  {
   "cell_type": "markdown",
   "metadata": {},
   "source": [
    "#### Color-Magnitude Diagram"
   ]
  },
  {
   "cell_type": "code",
   "execution_count": null,
   "metadata": {},
   "outputs": [],
   "source": [
    "# NSA columns with 7 values are for FNugriz values\n",
    "g_mag = - np.array(data['ELPETRO_ABSMAG'])[:, 3]\n",
    "r_mag = - np.array(data['ELPETRO_ABSMAG'])[:, 4]\n",
    "g_r_color = pd.Series(g_mag - r_mag)\n",
    "\n",
    "color_mag_df = pd.DataFrame(data={'g_r_color': g_r_color, 'g_mag': g_mag})\n",
    "color_mag_df = color_mag_df.dropna(how='any')\n",
    "color_mag_df = color_mag_df[(color_mag_df['g_mag'] > 16) & (color_mag_df['g_mag'] < 22)]\n",
    "color_mag_df = color_mag_df[(color_mag_df['g_r_color'] > -1.) & (color_mag_df['g_r_color'] < 0.)]"
   ]
  },
  {
   "cell_type": "code",
   "execution_count": null,
   "metadata": {},
   "outputs": [],
   "source": [
    "plt.hist2d(color_mag_df['g_r_color'], color_mag_df['g_mag'], bins=300)\n",
    "plt.xlabel('G - R color')\n",
    "plt.ylabel('G magnitude')\n",
    "plt.title('Color-magnitude diagram')\n",
    "plt.tight_layout()"
   ]
  },
  {
   "cell_type": "markdown",
   "metadata": {},
   "source": [
    "#### OSSY Sanity Check: H-Alpha Lines"
   ]
  },
  {
   "cell_type": "code",
   "execution_count": null,
   "metadata": {},
   "outputs": [],
   "source": [
    "h_alpha_raw = pd.Series(data['HA_6562'])\n",
    "h_alpha = remove_bad_values(h_alpha_raw)\n",
    "print('{} of {} galaxies have bad/missing h-alpha OSSY values'.format(len(h_alpha) - len(h_alpha_raw), len(h_alpha_raw)))\n",
    "print('{} of {} galaxies have no h-alpha line'.format(np.sum(h_alpha == 0), len(h_alpha)))\n",
    "_ = plt.hist(np.log(h_alpha[h_alpha > 0]), bins=50)\n",
    "plt.xlabel('log OSSY flux (log $10^{-17} erg s^{-1} A^{-1}$)')\n",
    "plt.ylabel('Galaxies')\n",
    "plt.tight_layout()"
   ]
  },
  {
   "cell_type": "markdown",
   "metadata": {},
   "source": [
    "## WISE"
   ]
  },
  {
   "cell_type": "code",
   "execution_count": null,
   "metadata": {},
   "outputs": [],
   "source": [
    "wise_cols = ['AllWISE', 'RAJ2000', 'DEJ2000', 'eeMaj', 'eeMin', 'eePA', 'W1mag', 'W2mag', 'W3mag', 'W4mag', 'Jmag', 'Hmag', 'Kmag', 'e_W1mag', 'e_W2mag', 'e_W3mag', 'e_W4mag', 'e_Jmag', 'e_Hmag', 'e_Kmag', 'ID', 'ccf', 'ex', 'var', 'qph', 'pmRA', 'e_pmRA', 'pmDE', 'e_pmDE', 'd2M', 'angDist_wisex']"
   ]
  },
  {
   "cell_type": "code",
   "execution_count": null,
   "metadata": {},
   "outputs": [],
   "source": [
    "wise_apparent_mag_bands = [\n",
    "    'W1mag',\n",
    "    'W2mag',\n",
    "    'W3mag',\n",
    "    'W4mag',\n",
    "]\n",
    "\n",
    "fig, axes = plt.subplots(ncols=len(wise_apparent_mag_bands), figsize=(20, 3))\n",
    "for axes_n, mag in enumerate(wise_apparent_mag_bands):\n",
    "    axes[axes_n].hist(remove_bad_values(data[mag]), bins=50)\n",
    "    axes[axes_n].set_xlabel(mag)\n",
    "axes[0].set_ylabel('Galaxies')\n",
    "fig.tight_layout()"
   ]
  },
  {
   "cell_type": "code",
   "execution_count": null,
   "metadata": {},
   "outputs": [],
   "source": [
    "wise_abs_mag_bands = [\n",
    "    'W1_MAG_ABSOLUTE',\n",
    "    'W2_MAG_ABSOLUTE',\n",
    "    'W3_MAG_ABSOLUTE',\n",
    "    'W4_MAG_ABSOLUTE'\n",
    "]\n",
    "\n",
    "\n",
    "# Note: these are not k-corrected\n",
    "data['W1_MAG_ABSOLUTE'] = data['W1mag'] - data['DISTANCE_MODULUS']\n",
    "data['W2_MAG_ABSOLUTE'] = data['W2mag'] - data['DISTANCE_MODULUS']\n",
    "data['W3_MAG_ABSOLUTE'] = data['W3mag'] - data['DISTANCE_MODULUS']\n",
    "data['W4_MAG_ABSOLUTE'] = data['W4mag'] - data['DISTANCE_MODULUS']"
   ]
  },
  {
   "cell_type": "code",
   "execution_count": null,
   "metadata": {},
   "outputs": [],
   "source": [
    "fig, axes = plt.subplots(ncols=len(wise_abs_mag_bands), figsize=(20, 3))\n",
    "for axes_n, mag in enumerate(wise_abs_mag_bands):\n",
    "    axes[axes_n].hist(remove_bad_values(data[mag]), bins=100)\n",
    "    axes[axes_n].set_xlabel(mag)\n",
    "    axes[axes_n].set_xlim([-33, -15])\n",
    "axes[0].set_ylabel('Galaxies')\n",
    "fig.tight_layout()"
   ]
  },
  {
   "cell_type": "markdown",
   "metadata": {},
   "source": [
    "There are some REALLY bright W4 sources, if my crossmatching and cosmology is correct! I'm a little skeptical of the cross-match, but unsure how to check."
   ]
  },
  {
   "cell_type": "markdown",
   "metadata": {},
   "source": [
    "#### Add WISE flux\n",
    "\n",
    "For now, I won't do the WISE color correction for steep sources. It looks like a couple of hours work."
   ]
  },
  {
   "cell_type": "code",
   "execution_count": null,
   "metadata": {},
   "outputs": [],
   "source": [
    "for band in ['W1', 'W2', 'W3', 'W4']:\n",
    "    data[band + '_FLUX_ABSOLUTE'] = shared_notebook_utils.wise_mag_to_flux(data[band + '_MAG_ABSOLUTE'], band)\n",
    "    data[band + '_FLUX_ABSOLUTE'].unit = units.Jy  # update column units"
   ]
  },
  {
   "cell_type": "code",
   "execution_count": null,
   "metadata": {},
   "outputs": [],
   "source": [
    "data[[band + '_FLUX_ABSOLUTE' for band in ['W1', 'W2', 'W3', 'W4']]][:5]"
   ]
  },
  {
   "cell_type": "markdown",
   "metadata": {},
   "source": [
    "### SDSS Herschel Catalog\n",
    "\n",
    "Ellison, S. L., Teimoorinia, H., Rosario, D. J., & Trevor Mendel, J. (2016). The infrared luminosities of ~332 000 SDSS galaxies predicted from artificial neural networks and the Herschel Stripe 82 survey. Monthly Notices of the Royal Astronomical Society, 455(1), 370–385. https://doi.org/10.1093/mnras/stv2275\n",
    "    \n"
   ]
  },
  {
   "cell_type": "markdown",
   "metadata": {},
   "source": [
    "> we repeat the training procedure 25 times and select the best 20 trained networks...The output of the best 20 trained networks show small differences due to the different initializations... for those galaxies in the SDSS sample that have very different [properties to Herschel-observed galaxies] the scatter will be very large...We adopt the mean $L_{IR}$ value of the 20 best trained networks, and assign the associated ‘error’ (σANN) as the scatter amongst the network outputs\n",
    "\n"
   ]
  },
  {
   "cell_type": "code",
   "execution_count": null,
   "metadata": {},
   "outputs": [],
   "source": [
    "fir_loc = 'catalogs/ellison_inferred_fir/LIR_select.out'\n",
    "\n",
    "# schema from Table 2\n",
    "columns = ['sdss_objid', 'ra', 'dec', 'z', 'log_lir', 'std_dev']\n",
    "fir = pd.read_csv(fir_loc, header=None, names=columns, sep=' ')\n"
   ]
  },
  {
   "cell_type": "code",
   "execution_count": null,
   "metadata": {},
   "outputs": [],
   "source": [
    "print(len(fir))\n",
    "fir.head()"
   ]
  },
  {
   "cell_type": "code",
   "execution_count": null,
   "metadata": {},
   "outputs": [],
   "source": [
    "fir['z'].hist(bins=50)\n",
    "plt.axvline(0.15, c='r', linestyle='--')\n",
    "_ = plt.xlabel('z')\n",
    "_ = plt.ylabel('Galaxies')"
   ]
  },
  {
   "cell_type": "code",
   "execution_count": null,
   "metadata": {},
   "outputs": [],
   "source": [
    "# check there are no duplicates\n",
    "assert not np.sum(fir.duplicated())\n",
    "assert not np.sum(fir.duplicated(subset=['sdss_objid']))\n",
    "assert not np.sum(fir.duplicated(subset=['ra', 'dec']))"
   ]
  },
  {
   "cell_type": "markdown",
   "metadata": {},
   "source": [
    "#### Cross-match into the core sample, but keep rows with missing data"
   ]
  },
  {
   "cell_type": "code",
   "execution_count": null,
   "metadata": {},
   "outputs": [],
   "source": [
    "data['ra'] = data['RA_1']\n",
    "data['dec'] = data['DEC_1']"
   ]
  },
  {
   "cell_type": "code",
   "execution_count": null,
   "metadata": {},
   "outputs": [],
   "source": [
    "fir_data = Table.from_pandas(fir)"
   ]
  },
  {
   "cell_type": "code",
   "execution_count": null,
   "metadata": {},
   "outputs": [],
   "source": [
    "fir_data[:5]"
   ]
  },
  {
   "cell_type": "code",
   "execution_count": null,
   "metadata": {},
   "outputs": [],
   "source": [
    "data[:5]"
   ]
  },
  {
   "cell_type": "code",
   "execution_count": null,
   "metadata": {},
   "outputs": [],
   "source": [
    "test_columns = list(set(data.colnames) - set([x + '_FLUX_ABSOLUTE' for x in ukidss_ordered_bands]))"
   ]
  },
  {
   "cell_type": "code",
   "execution_count": null,
   "metadata": {},
   "outputs": [],
   "source": [
    "matched, unmatched = matching_utils.match_galaxies_to_catalog_table(\n",
    "    fir_data, \n",
    "    data[data.colnames], \n",
    "    join_type='right',  # keep catalog rows even if they have no galaxy match\n",
    "    matching_radius = 5 * units.arcsec, \n",
    "    galaxy_suffix='_fir')"
   ]
  },
  {
   "cell_type": "code",
   "execution_count": null,
   "metadata": {},
   "outputs": [],
   "source": []
  },
  {
   "cell_type": "code",
   "execution_count": null,
   "metadata": {},
   "outputs": [],
   "source": [
    "assert len(matched) == len(data)"
   ]
  },
  {
   "cell_type": "code",
   "execution_count": null,
   "metadata": {},
   "outputs": [],
   "source": [
    "print(len(data))\n",
    "print(len(matched))"
   ]
  },
  {
   "cell_type": "code",
   "execution_count": null,
   "metadata": {},
   "outputs": [],
   "source": [
    "sdss"
   ]
  },
  {
   "cell_type": "code",
   "execution_count": null,
   "metadata": {},
   "outputs": [],
   "source": [
    "def check_id_fields_are_unique(data):\n",
    "    for id_col in ['sdss_objid', 'sourceID', 'SDSS_ID', 'IAUNAME']:\n",
    "        counts = Counter(list(filter(lambda x: x > 0, matched[id_col])))  # count all obj ids\n",
    "        try:\n",
    "            assert counts.most_common(1)[0][1] == 1  # most common id occurs only once\n",
    "        except AssertionError:\n",
    "            print(id_col)\n",
    "            print(counts.most_common(10))\n",
    "            return counts"
   ]
  },
  {
   "cell_type": "code",
   "execution_count": null,
   "metadata": {},
   "outputs": [],
   "source": [
    "bad_counts = check_id_fields_are_unique(data)"
   ]
  },
  {
   "cell_type": "code",
   "execution_count": null,
   "metadata": {},
   "outputs": [],
   "source": [
    "duplicate_source_id_tuples = filter(lambda x: x[1] > 1, counts.most_common(50))\n",
    "duplicate_source_ids = [pair[0] for pair in duplicate_source_id_tuples]"
   ]
  },
  {
   "cell_type": "code",
   "execution_count": null,
   "metadata": {},
   "outputs": [],
   "source": [
    "duplicate_rows = data[data['sourceID'] == duplicate_source_ids[4]]\n",
    "duplicate_rows"
   ]
  },
  {
   "cell_type": "code",
   "execution_count": null,
   "metadata": {},
   "outputs": [],
   "source": [
    "check_id_fields_are_unique(matched)"
   ]
  },
  {
   "cell_type": "code",
   "execution_count": null,
   "metadata": {},
   "outputs": [],
   "source": []
  },
  {
   "cell_type": "markdown",
   "metadata": {},
   "source": [
    "### Save any newly-derived data"
   ]
  },
  {
   "cell_type": "code",
   "execution_count": null,
   "metadata": {},
   "outputs": [],
   "source": [
    "# matched.write(data_loc.rstrip('.fits') + '_derived.fits', overwrite=True)"
   ]
  },
  {
   "cell_type": "code",
   "execution_count": null,
   "metadata": {},
   "outputs": [],
   "source": [
    "assert False   # stop execution here"
   ]
  },
  {
   "cell_type": "code",
   "execution_count": null,
   "metadata": {},
   "outputs": [],
   "source": []
  },
  {
   "cell_type": "markdown",
   "metadata": {},
   "source": [
    "### Deprecated"
   ]
  },
  {
   "cell_type": "code",
   "execution_count": null,
   "metadata": {},
   "outputs": [],
   "source": []
  },
  {
   "cell_type": "markdown",
   "metadata": {},
   "source": [
    "#### Extract and convert to Janksy"
   ]
  },
  {
   "cell_type": "markdown",
   "metadata": {},
   "source": [
    "\n",
    "From [here](http://www.sdss3.org/dr8/algorithms/magnitudes.php#nmgy): \n",
    "\n",
    "> A \"maggy\" is the flux f of the source relative to the standard source f0 (which defines the zeropoint of the magnitude scale). Therefore, a \"nanomaggy\" is $10^{-9}$ times a maggy. \n",
    "\n",
    "> The standard source for each SDSS band is close to but not exactly the AB source (3631 Jy), meaning that a nanomaggy is approximately 3.631×10-6 Jy"
   ]
  },
  {
   "cell_type": "markdown",
   "metadata": {},
   "source": [
    "Let's use cosmology distance estimates to convert to luminosity. See [here](https://ned.ipac.caltech.edu/level5/Hogg/Hogg7.html)"
   ]
  },
  {
   "cell_type": "code",
   "execution_count": null,
   "metadata": {},
   "outputs": [],
   "source": [
    "data['luminosity_distance'] = cosmo.luminosity_distance(data['Z'])  "
   ]
  },
  {
   "cell_type": "code",
   "execution_count": null,
   "metadata": {},
   "outputs": [],
   "source": [
    "pd.Series(data['luminosity_distance']).hist()"
   ]
  },
  {
   "cell_type": "markdown",
   "metadata": {},
   "source": [
    "Luminosity distance is distance as far as solid angle subtended is concerned. See [here](https://en.wikipedia.org/wiki/Distance_measures_(cosmology))"
   ]
  },
  {
   "cell_type": "code",
   "execution_count": null,
   "metadata": {},
   "outputs": [],
   "source": [
    "from astropy.cosmology import z_at_value"
   ]
  },
  {
   "cell_type": "code",
   "execution_count": null,
   "metadata": {},
   "outputs": [],
   "source": [
    "# reference_z = z_at_value(cosmo.luminosity_distance, 10 * units.pc)  # z of 10 pc\n",
    "# reference_lum_distance = cosmo.luminosity_distance(reference_z)  \n",
    "# reference_lum_distance  # okay, it's essentially the same...but at least I know how to do this now\n",
    "\n",
    "reference_lum_distance = 10 * units.pc\n",
    "for band in ordered_sdss_bands:\n",
    "    data[band + '_FLUX_ABSOLUTE'] = np.power(data['luminosity_distance'] / 10 * reference_lum_distance, 2) * data[band + '_FLUX_APPARENT']"
   ]
  },
  {
   "cell_type": "code",
   "execution_count": null,
   "metadata": {},
   "outputs": [],
   "source": []
  },
  {
   "cell_type": "markdown",
   "metadata": {},
   "source": [
    "\n",
    "From [here](http://www.sdss3.org/dr8/algorithms/magnitudes.php#nmgy): \n",
    "\n",
    "> Magnitudes within the SDSS are expressed as inverse hyperbolic sine (or \"asinh\") magnitudes, described in detail by Lupton, Gunn & Szalay (1999). They are sometimes referred to informally as luptitudes. The transformation from linear flux measurements to asinh magnitudes is designed to be virtually identical to the standard astronomical magnitude at high signal-to-noise ratio, but to behave reasonably at low signal-to-noise ratio\n",
    "\n",
    "$$ m = \\frac{-2.5}{\\ln(10)} * [asinh(\\frac{f/f_0}{2b}) + \\ln(b)] $$\n",
    "\n"
   ]
  },
  {
   "cell_type": "markdown",
   "metadata": {},
   "source": [
    "From [here](https://www.sdss.org/dr13/algorithms/fluxcal/#counts2mag): \n",
    "    \n",
    "> Assuming you know the correction from SDSS zeropoints to AB zeropoints (see above), you can turn the AB magnitudes into a flux density using the AB zeropoint flux density. The AB system is defined such that every filter has a zero-point flux density of 3631 Jy (1 Jy = 1 Jansky = 10-26 W Hz-1 m-2 = 10-23 erg s-1 Hz-1 cm-2).\n",
    "    \n",
    "> To obtain a flux density from SDSS data, you need to work out f/f0 (e.g. from the asinh magnitudes in the photoObj files by using the inverse of the relations given on the magnitudes page). \n",
    "\n",
    "I think this is $$ \\frac{f}{f_0} = asinh^{-1} (-m \\frac{ln(10)}{2.5} - ln(b)) * 2b$$"
   ]
  },
  {
   "cell_type": "code",
   "execution_count": null,
   "metadata": {},
   "outputs": [],
   "source": [
    "sdss_flux_calibration = pd.DataFrame(data=[\n",
    "    {\n",
    "        'filter': 'u',\n",
    "        'b': 1.4e-10,\n",
    "        'zero_magnitude': 24.63\n",
    "    },\n",
    "    \n",
    "    {\n",
    "        'filter': 'g',\n",
    "        'b': 0.9e-10,\n",
    "        'zero_magnitude': 25.11\n",
    "    },\n",
    "    \n",
    "    {\n",
    "        'filter': 'r',\n",
    "        'b': 1.2e-10,\n",
    "        'zero_magnitude': 24.8\n",
    "    },\n",
    "    \n",
    "    {\n",
    "        'filter': 'i',\n",
    "        'b': 1.8e-10,\n",
    "        'zero_magnitude': 24.36\n",
    "    },\n",
    "    \n",
    "    {\n",
    "        'filter': 'z',\n",
    "        'b': 7.4e-10,\n",
    "        'zero_magnitude': 22.83\n",
    "    },\n",
    "    \n",
    "]).set_index('filter')\n",
    "# see http://horus.roe.ac.uk:8080/UKIDSSphotometry/magnitudes.html\n",
    "sdss_flux_calibration['f0'] = 10 ** (0.4 * sdss_flux_calibration['zero_magnitude'] )"
   ]
  },
  {
   "cell_type": "code",
   "execution_count": null,
   "metadata": {},
   "outputs": [],
   "source": [
    "sdss_flux_calibration"
   ]
  },
  {
   "cell_type": "code",
   "execution_count": null,
   "metadata": {},
   "outputs": [],
   "source": [
    "def f_over_f0(m, b):\n",
    "    arcsinh_arg = (-m * np.log(10) / 2.5) - np.log(b)\n",
    "    print(arcsinh_arg)\n",
    "    return np.arcsinh(arcsinh_arg) * 2 * b  # dimensionless. b is tiny, hence output is tiny"
   ]
  },
  {
   "cell_type": "markdown",
   "metadata": {},
   "source": [
    ">This number is then the also the object’s flux density, expressed as fraction of the AB zeropoint flux density. \n",
    "\n",
    "> The AB system is defined such that every filter has a zero-point flux density of 3631 Jy \n",
    "\n",
    "> Therefore, the conversion to flux density is\n",
    "\n",
    "$$S[Jy] = 3631 * \\frac{f}{f_0} $$"
   ]
  },
  {
   "cell_type": "code",
   "execution_count": null,
   "metadata": {},
   "outputs": [],
   "source": [
    "def S(f_ratio):  # slightly weirdly, this does not depend on f0\n",
    "    return 3631 * f_ratio"
   ]
  },
  {
   "cell_type": "markdown",
   "metadata": {},
   "source": [
    "> Then you need to apply the correction for the zeropoint offset between the SDSS system and the AB system. See the description of SDSS to AB conversion above."
   ]
  },
  {
   "cell_type": "markdown",
   "metadata": {},
   "source": [
    "The 'above' part is actually describing a *magnitude* correction, not the zero-point offset. Let's leave this for now - it's never more than 0.04 mag."
   ]
  },
  {
   "cell_type": "code",
   "execution_count": null,
   "metadata": {},
   "outputs": [],
   "source": [
    "f_f0 = f_over_f0(data['U_MAG_ABSOLUTE'][:10], sdss_flux_calibration.loc['u']['b'])\n",
    "print(f_f0)\n",
    "data['U_FLUX_ABSOLUTE_DIRECT'][:10] = S(f_f0)"
   ]
  },
  {
   "cell_type": "code",
   "execution_count": null,
   "metadata": {
    "scrolled": true
   },
   "outputs": [],
   "source": [
    "fig, axes = plt.subplots(2)\n",
    "bins=50\n",
    "pd.Series(np.log10(data['U_FLUX_ABSOLUTE'])).hist(ax=axes[0], bins=bins, alpha=0.5, log=True)\n",
    "pd.Series(np.log10(data['U_FLUX_ABSOLUTE_DIRECT'])).hist(ax=axes[1], bins=bins, alpha=0.5, log=True)"
   ]
  },
  {
   "cell_type": "code",
   "execution_count": null,
   "metadata": {},
   "outputs": [],
   "source": []
  },
  {
   "cell_type": "code",
   "execution_count": null,
   "metadata": {},
   "outputs": [],
   "source": []
  },
  {
   "cell_type": "code",
   "execution_count": null,
   "metadata": {},
   "outputs": [],
   "source": []
  },
  {
   "cell_type": "markdown",
   "metadata": {},
   "source": [
    "\n",
    "See [here](http://horus.roe.ac.uk:8080/UKIDSSphotometry/magnitudes.html). UKIDSS uses the SDSS system, but with an added twist for b.\n",
    "\n",
    "$$ b = \\beta * \\frac{\\sigma_{sky}}{f_0} $$ "
   ]
  },
  {
   "cell_type": "markdown",
   "metadata": {},
   "source": [
    "> The default value β = 1.042"
   ]
  },
  {
   "cell_type": "code",
   "execution_count": null,
   "metadata": {},
   "outputs": [],
   "source": [
    "beta = 1.042  # approx. 1"
   ]
  },
  {
   "cell_type": "code",
   "execution_count": null,
   "metadata": {},
   "outputs": [],
   "source": [
    "las_sky_noise_f0_ratio = {\n",
    "    'Y': 3e-10,\n",
    "    'J': 0.9e-10,\n",
    "    'H': 5.2e-10,\n",
    "    'K': 1.1e-9,\n",
    "}  "
   ]
  },
  {
   "cell_type": "code",
   "execution_count": null,
   "metadata": {},
   "outputs": [],
   "source": [
    "band = 'Y' # for now\n",
    "\n",
    "b = beta * las_sky_noise_f0_ratio[band]  # b will be fairly similar to the SDSS band b-values\n",
    "data['Y_FLUX_ABSOLUTE_DIRECT'] = S(f_over_f0(data['Y_MAG_ABSOLUTE'], b))"
   ]
  },
  {
   "cell_type": "code",
   "execution_count": null,
   "metadata": {},
   "outputs": [],
   "source": [
    "pd.Series(np.log10(data['Y_FLUX_ABSOLUTE_DIRECT'])).hist(bins=bins, log=True)"
   ]
  },
  {
   "cell_type": "code",
   "execution_count": null,
   "metadata": {},
   "outputs": [],
   "source": [
    "\n",
    "reference_lum_distance = 10 * units.pc\n",
    "for band in ordered_sdss_bands:\n",
    "    data[band + '_FLUX_ABSOLUTE'] = np.power(data['luminosity_distance'] / 10 * reference_lum_distance, 2) * data[band + '_FLUX_APPARENT']"
   ]
  },
  {
   "cell_type": "code",
   "execution_count": null,
   "metadata": {},
   "outputs": [],
   "source": []
  },
  {
   "cell_type": "code",
   "execution_count": null,
   "metadata": {},
   "outputs": [],
   "source": []
  }
 ],
 "metadata": {
  "kernelspec": {
   "display_name": "Python 3",
   "language": "python",
   "name": "python3"
  },
  "language_info": {
   "codemirror_mode": {
    "name": "ipython",
    "version": 3
   },
   "file_extension": ".py",
   "mimetype": "text/x-python",
   "name": "python",
   "nbconvert_exporter": "python",
   "pygments_lexer": "ipython3",
   "version": "3.6.6"
  }
 },
 "nbformat": 4,
 "nbformat_minor": 2
}
