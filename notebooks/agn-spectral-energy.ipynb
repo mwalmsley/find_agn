{
 "cells": [
  {
   "cell_type": "markdown",
   "metadata": {},
   "source": [
    "### Spectral Energy Distributions"
   ]
  },
  {
   "cell_type": "code",
   "execution_count": 27,
   "metadata": {},
   "outputs": [
    {
     "name": "stdout",
     "output_type": "stream",
     "text": [
      "The autoreload extension is already loaded. To reload it, use:\n",
      "  %reload_ext autoreload\n"
     ]
    }
   ],
   "source": [
    "%load_ext autoreload\n",
    "%autoreload 2\n",
    "%matplotlib inline"
   ]
  },
  {
   "cell_type": "code",
   "execution_count": 28,
   "metadata": {},
   "outputs": [],
   "source": [
    "import os\n",
    "\n",
    "import pandas as pd\n",
    "import numpy as np\n",
    "import matplotlib.pyplot as plt\n",
    "import seaborn as sns\n",
    "sns.set_context('notebook')\n",
    "sns.set()\n",
    "from scipy import optimize\n",
    "from astropy.cosmology import WMAP9 as cosmo\n",
    "\n",
    "from astropy import units"
   ]
  },
  {
   "cell_type": "code",
   "execution_count": 29,
   "metadata": {},
   "outputs": [],
   "source": [
    "import sys\n",
    "sys.path.append('..')  # repo root directory\n",
    "sys.path.append('../easyGalaxy')  # easyGalaxy directly for package import\n",
    "from find_agn import notebook_utils, fit_agn_sed, ezgal_wrapper, star_formation, spectral_fitting"
   ]
  },
  {
   "cell_type": "code",
   "execution_count": 30,
   "metadata": {},
   "outputs": [],
   "source": [
    "DATA_DIR = '/Volumes/alpha/repos/find_agn'\n",
    "MODEL_DIR = '/Users/mikewalmsley/repos/find_agn/population_models'\n",
    "SAVED_TEMPLATE_DIR = '/Users/mikewalmsley/repos/find_agn/saved_templates'"
   ]
  },
  {
   "cell_type": "markdown",
   "metadata": {},
   "source": [
    "### Get star formation models for EZGAL"
   ]
  },
  {
   "cell_type": "code",
   "execution_count": 31,
   "metadata": {},
   "outputs": [],
   "source": [
    "new_model_download = False\n",
    "if new_model_download:\n",
    "    !wget -r http://www.baryons.org/ezgal/models/index.html\n",
    "    # OR for single models:\n",
    "    # !wget http://www.baryons.org/ezgal/models/$target_model -O $target_loc"
   ]
  },
  {
   "cell_type": "markdown",
   "metadata": {},
   "source": [
    "### Load BPT data so far"
   ]
  },
  {
   "cell_type": "code",
   "execution_count": 34,
   "metadata": {},
   "outputs": [],
   "source": [
    "bpt_df = pd.read_csv(DATA_DIR + '/bpt_df.csv')"
   ]
  },
  {
   "cell_type": "markdown",
   "metadata": {},
   "source": [
    "The goal is to make a probabilistic estimate the AGN and host SEDs, assuming that most galaxies are truly composite.\n",
    "\n",
    "If the models are simple, or can be made simple, I can fit them to photometry directly.\n",
    "\n",
    "If not, I might need to use a template catalog."
   ]
  },
  {
   "cell_type": "code",
   "execution_count": 35,
   "metadata": {},
   "outputs": [],
   "source": [
    "seyferts = bpt_df[bpt_df['seyfert']]\n",
    "starforming = bpt_df[bpt_df['starforming']]"
   ]
  },
  {
   "cell_type": "code",
   "execution_count": null,
   "metadata": {},
   "outputs": [],
   "source": []
  },
  {
   "cell_type": "markdown",
   "metadata": {},
   "source": [
    "###  What SED do we observe?"
   ]
  },
  {
   "cell_type": "code",
   "execution_count": 36,
   "metadata": {},
   "outputs": [
    {
     "data": {
      "image/png": "[encoded data removed]",
      "text/plain": [
       "<matplotlib.figure.Figure at 0x12343e400>"
      ]
     },
     "metadata": {},
     "output_type": "display_data"
    }
   ],
   "source": [
    "fig, (ax0, ax1) = plt.subplots(ncols=2, figsize=(12, 4), sharex=True, sharey=True)\n",
    "for n in range(5):\n",
    "    starforming_data = notebook_utils.get_spectral_energy(starforming.iloc[n])\n",
    "    notebook_utils.plot_spectral_energy(starforming_data, ax0)\n",
    "    \n",
    "    seyfert_data = notebook_utils.get_spectral_energy(seyferts.iloc[n])\n",
    "    notebook_utils.plot_spectral_energy(seyfert_data, ax1)\n",
    "                         \n",
    "notebook_utils.add_band_labels(starforming_data, ax0)\n",
    "notebook_utils.add_band_labels(seyfert_data, ax1)\n",
    "ax0.set_title('Starforming')\n",
    "ax1.set_title('Seyfert')\n",
    "fig.tight_layout()"
   ]
  },
  {
   "cell_type": "markdown",
   "metadata": {},
   "source": [
    "TODO crucially important to add error bars\n",
    "\n",
    "TODO can ultimately use the optical spectra, not just photometry"
   ]
  },
  {
   "cell_type": "markdown",
   "metadata": {},
   "source": [
    "### What contribution do AGN make to the SED?"
   ]
  },
  {
   "cell_type": "markdown",
   "metadata": {},
   "source": [
    "![agn sed](figures/agn_sed_schematic.png)"
   ]
  },
  {
   "cell_type": "markdown",
   "metadata": {},
   "source": [
    "I'm probing the tail of the accretion disk (optical) and the dusty torus (MIR), overlapping in NIR\n",
    "\n",
    "Figure in Annual Review, adapted from Harrison, C. M. (2016). Introduction (pp. 1–35). https://doi.org/10.1007/978-3-319-28454-5_1\n",
    "\n",
    "> it should be noted that the relative contribution of these components can vary dramatically for different types of AGN\n",
    "\n",
    ">  high-accretion rate AGN that emit most of their energy radiatively (sometimes called “radiatively efficient”, “radiative mode” or, when referring to radio galaxies, “high excitation”; see review in Heckman and Best 2014) and that are radio quiet.4 This thesis does not focus on radiatively-inefficient AGN (sometimes called “low excitation”, “radio mode” or “jet mode”) that emit the majority of their energy mechanically through radio jets \n",
    "\n",
    "With BPT, I am selecting radiative mode AGN.\n",
    "\n",
    "From Best and Heckman 2014 Review:\n",
    "\n",
    "> {Two AGN types. The first is powered by] efficient conversion of the potential energy of the gas accreted by the SMBH...radiative-mode AGNs. The second category consists of objects that produce relatively little radiation and whose primary energetic output takes the form of the bulk kinetic energy transported in two-sided collimated outflows (jets).\n",
    "\n",
    "> The ionizing radiation from the disk and corona heats and photoionizes a population of dense gas clouds located on scales of light-days to light-years from the SMBH leading to the production of UV-, optical-, and near-IR-permitted emission lines [Ed: BPT is NOT looking for these lines]\n",
    "\n",
    "> On larger scales, the SMBH and accretion disk are surrounded by a region of dusty molecular gas...Its inner radius is set by the sublimation temperature of the most refractory dust grains and is hence larger in more luminous AGNs. In this region some of the incident UV/visible photons from the accretion disk and the soft X-rays from the corona are absorbed by the dust, and this absorbed energy emerges as thermal IR emission...As ionizing radiation escapes along the polar axis of the obscuring structure, it photoionizes gas on circumnuclear scales (a few hundred to a few thousand parsecs). This more quiescent and lower-density population of clouds produces UV-, optical-, and IR-forbidden and -permitted emission lines, Doppler-broadened by several hundred kilometers per second, and is hence called the narrow-line region (NLR).\n",
    "\n",
    "> When observing an AGN from a sight line nearer the equatorial plane of the obscuring structure, this central region is hidden and these are called Type 2 (or obscured) AGNs"
   ]
  },
  {
   "cell_type": "markdown",
   "metadata": {},
   "source": [
    "This paper has recently done, properly, what I'm hoping to do with SED decomposition: Zhuang, M.-Y., Ho, L. C., & Shangguan, J. (2018). The Infrared Emission and Opening Angle of the Torus in Quasars. Retrieved from http://arxiv.org/abs/1806.03783. They're interested in careful modelling to investigate the torus.\n",
    "\n",
    "> the bulk of\n",
    "the mid-IR emission of AGNs actually arises from a polar-extended component, which dominates the energy output in that band, while the near-IR emission still emanates from a classical, small-scale disk-like compo- nent. This discovery radically alters the traditional view of a single torus structure\n",
    "\n",
    "> We apply these newly developed models to investigate\n",
    "the physical properties of the torus...We use our recently developed Bayesian Markov Chain Monte Carlo (MCMC) method to decompose the SEDs into their main constituent components, paying special em- phasis on evaluating the performance of the latest spec- tral templates for the AGN torus\n",
    "\n",
    "Much of the work that they've done is based on:  Shangguan, J., Ho, L. C., & Xie, Y. (2018). On the Gas Content and Efficiency of AGN Feedback in Low-redshift Quasars. The Astrophysical Journal, 854(2), 158. https://doi.org/10.3847/1538-4357/aaa9be\n",
    "\n",
    "> With a newly developed Bayesian Markov Chain Monte Carlo fitting method, we decompose various overlapping contributions to the integrated spectral energy distribution, including starlight, warm dust from the torus, and cooler dust on galaxy scales. \n",
    "\n",
    "Both papers use pretty much the same models for the various AGN and host components..."
   ]
  },
  {
   "cell_type": "markdown",
   "metadata": {},
   "source": [
    "**CLUMPY**\n",
    "\n",
    "> For the dust torus emission, we incorporate the templates generated by the radiative transfer model CLUMPY (Nenkova et al. 2008a, 2008b).\n",
    "\n",
    "[CLUMPY](https://www.clumpy.org/) provides an extensive library of templates for dusty torus emission. \n",
    "\n",
    "> The CLUMPY model has seven free parameters: the optical depth of the individual cloud τV, the power-law index q of the cloud radial distribution, the ratio Y of outer and inner radii of the dust torus,14 the average number of clouds on the equatorial ray N0, the standard deviation σ of the Gaussian distribution of the number of clouds in the polar direction, the observer’s viewing angle i from the torus axis, and the luminosity L normalization factor. \n",
    "\n",
    "**BB**\n",
    "\n",
    "Shangguan and others add a hot blackbody to the MIR to get a good fit - see Shangguan equation 1.\n",
    "\n",
    "**EzGal**\n",
    "\n",
    "> The stellar emission is represented by a simple stellar population model from **Bruzual & Charlot (2003, hereafter BC03)** with a Chabrier (2003) stellar IMF. We use the Python package **EzGal (Mancone & Gonzalez 2012)** to generate the template spectra. \n",
    "\n",
    "**DL07**\n",
    "\n",
    "> The galactic dust emission is described by the widely used\n",
    "DL07 model. The model is based on the dust composition and size distribution observed in the Milky Way (MW)...DL07 [provide](https://www.astro.princeton.edu/~draine/dust/irem.html) the precalculated pq U,\n",
    "n ()() 0 PAH min and pν?(qPAH, Umin, Umax, α) as model\n",
    "templates.\n",
    "\n",
    "> By studying the SEDs of normal star-forming galaxies, Draine et al. (2007) found that, for all situations, we can fix α?=?2 and Umax?=?106. We adopt this simplification\n",
    "\n",
    "I do not include a radio synchrotron component."
   ]
  },
  {
   "cell_type": "markdown",
   "metadata": {},
   "source": [
    "The templates provide the forward model: given some parameters, what SED (components) do I get. With templates, this step is completely deterministic - they're simply a grid of pre-calculated values."
   ]
  },
  {
   "cell_type": "code",
   "execution_count": 37,
   "metadata": {},
   "outputs": [],
   "source": [
    "sample_galaxy = bpt_df.iloc[0]"
   ]
  },
  {
   "cell_type": "code",
   "execution_count": 39,
   "metadata": {},
   "outputs": [],
   "source": [
    "ref_exponential = star_formation.ExponentialHistory(tau=1.)"
   ]
  },
  {
   "cell_type": "code",
   "execution_count": 42,
   "metadata": {},
   "outputs": [
    {
     "name": "stdout",
     "output_type": "stream",
     "text": [
      "/Users/mikewalmsley/repos/find_agn/population_models/bc03_ssp_z_0.02_salp.model\n",
      "/Users/mikewalmsley/repos/find_agn/population_models/bc03_ssp_z_0.02_salp.model\n"
     ]
    },
    {
     "name": "stderr",
     "output_type": "stream",
     "text": [
      "divide by zero encountered in true_divide\n",
      "divide by zero encountered in true_divide\n",
      "invalid value encountered in add\n",
      "divide by zero encountered in log10\n"
     ]
    }
   ],
   "source": [
    "target_model = '{}_{}_z_{}_{}.model'.format('bc03', 'ssp', '0.02', 'salp')\n",
    "model_download_loc = os.path.join(MODEL_DIR, target_model)\n",
    "print(model_download_loc)\n",
    "model = ezgal_wrapper.get_model(model_download_loc, ref_exponential.history, formation_z=1.5)\n",
    "formation_z = 3.0\n",
    "# current_z = sample_galaxy['z'] TODO add\n",
    "current_z = 0.05\n",
    "mass = sample_galaxy['ELPETRO_MASS']\n",
    "fake_galaxy = ezgal_wrapper.get_fake_galaxy(model, formation_z, current_z, mass)"
   ]
  },
  {
   "cell_type": "code",
   "execution_count": null,
   "metadata": {},
   "outputs": [],
   "source": []
  },
  {
   "cell_type": "code",
   "execution_count": null,
   "metadata": {},
   "outputs": [],
   "source": [
    "model_continuum = ezgal_wrapper.get_normalised_model_continuum(model, fake_galaxy)\n",
    "discrete_sed = notebook_utils.get_spectral_energy(fake_galaxy)"
   ]
  },
  {
   "cell_type": "code",
   "execution_count": null,
   "metadata": {},
   "outputs": [],
   "source": [
    "def plot_template(discrete_sed, continuum):\n",
    "\n",
    "    fig, ax = plt.subplots(figsize=(8, 4), sharex=True, sharey=True)\n",
    "\n",
    "    ax.plot(np.log10(continuum['frequency']),  np.log10(continuum['energy_density']), 'r', alpha=0.3)  # shifted way down for some reason\n",
    "    notebook_utils.plot_spectral_energy(discrete_sed, ax=ax)\n",
    "\n",
    "    ax.legend(['Fake SED', 'Fake Observed Flux'])\n",
    "    notebook_utils.add_band_labels(discrete_sed, ax=ax, y=17)\n",
    "    fig.tight_layout()"
   ]
  },
  {
   "cell_type": "code",
   "execution_count": null,
   "metadata": {},
   "outputs": [],
   "source": [
    "plot_template(discrete_sed, model_continuum)"
   ]
  },
  {
   "cell_type": "code",
   "execution_count": null,
   "metadata": {},
   "outputs": [],
   "source": [
    "real_data = notebook_utils.get_spectral_energy(seyferts.iloc[0])\n",
    "\n",
    "fig, ax = plt.subplots()\n",
    "notebook_utils.plot_spectral_energy(real_data, ax)\n",
    "notebook_utils.plot_spectral_energy(discrete_sed, ax)\n",
    "ax.legend(['Real', 'Fake'])"
   ]
  },
  {
   "cell_type": "code",
   "execution_count": null,
   "metadata": {},
   "outputs": [],
   "source": [
    "# data to fit\n",
    "# sed = notebook_utils.get_spectral_energy(starforming.iloc[0])\n",
    "sed = notebook_utils.get_spectral_energy(seyferts.iloc[3])\n",
    "\n",
    "freq = np.log10(sed['frequency'])\n",
    "energy = np.log10(sed['energy']) - 20\n",
    "\n",
    "best_fit = fit_agn_sed.fit_agn_model_to_spectral_data(freq, energy)"
   ]
  },
  {
   "cell_type": "code",
   "execution_count": null,
   "metadata": {},
   "outputs": [],
   "source": [
    "# data to fit\n",
    "# sed = notebook_utils.get_spectral_energy(starforming.iloc[0])\n",
    "sed = notebook_utils.get_spectral_energy(seyferts.iloc[3])\n",
    "\n",
    "log_freq = np.log10(sed['frequency'])\n",
    "log_energy = np.log10(sed['energy']) - 20\n",
    "\n",
    "_ = fit_agn_sed.fit_host_model_to_spectral_data(log_freq, log_energy)"
   ]
  },
  {
   "cell_type": "code",
   "execution_count": null,
   "metadata": {},
   "outputs": [],
   "source": [
    "# data to fit\n",
    "# sed = notebook_utils.get_spectral_energy(starforming.iloc[0])\n",
    "sed = notebook_utils.get_spectral_energy(seyferts.iloc[3])\n",
    "\n",
    "log_freq = np.log10(sed['frequency'])\n",
    "log_energy = np.log10(sed['energy']) - 20  # keep the energy numbers reasonable\n",
    "\n",
    "_ = fit_agn_sed.fit_composite_model_to_spectral_data(log_freq, log_energy)"
   ]
  },
  {
   "cell_type": "markdown",
   "metadata": {},
   "source": [
    "\n",
    "Mullaney, J. R., Alexander, D. M., Goulding, A. D., & Hickox, R. C. (2011). Defining the intrinsic AGN infrared spectral energy distribution and measuring its contribution to the infrared output of composite galaxies. Monthly Notices of the Royal Astronomical Society, 414(2), 1082–1110. https://doi.org/10.1111/j.1365-2966.2011.18448.x\n",
    "\n",
    "> Looked at 11 moderate luminosity $L_{2−10 keV} ∼ 10^{42}–10^{44} erg s^{−1} $ AGN with minimal IR host contamination\n",
    "\n",
    "> Between 6–100 µm...the average infrared SED of typical AGNs is best described as a broken power law at ?40µm that falls steeply at ?40 µm (i.e. at far-infrared wavelengths).\n",
    "\n",
    "> to identify a sample of galaxies whose infrared out-\n",
    "put is dominated by a moderate-luminosity AGN, we cross-match the Swift-BAT samplewith the archive of low-resolution spectra ob- tained by the infrared spectrograph (hereafter IRS) on board Spitzer...we quantify the con- tribution of the host galaxy to theseMIRspectra using the equivalent\n",
    "widths of the 11.25-µm PAH feature\n",
    "\n",
    "Sadly, this requires IR spectroscopy - which is not available to me?\n",
    "\n",
    "> strongly AGN dominated systems have EW PAHλ11.25 < 0.03µm, corresponding to a <10 per cent host-galaxy contribution at 19 µm(see\n",
    "\n",
    "> infrared spectra...dominated by a featureless AGN continuum\n",
    "                                                                                                                               \n",
    "                                                                                                                               > ∼6–20 µm. At these wavelengths, all the 25 AGN- dominated SEDs show clear evidence of a continuous, underlying\n",
    "power-law continuum that is thought to be produced by multiple dust components spanning a range of temperatures (e.g. Buchanan et al. 2006). The spectral indices of the underlying AGN power-law continua\n",
    "span the range 0.7 ≤ α1 ≤ 2.7 (mean, α1 = 1.6)\n",
    "\n",
    ">In at least 20 of the 25 AGN-dominated MIR spectra there is a definite break in the power-law continuum at 15–20 µm; the\n",
    "mean break position is at ∼19 µm. In previous studies this has been attributed to a dominatingwarm (i.e.∼170 K) dust component that is heated by the AGN...where we see a break in the continuum power law, the AGN SED longward of λBrk has a lower spectral\n",
    "index (i.e. power-law index, 0 ≤ α2 ≤ 1.5, mean = 0.7"
   ]
  },
  {
   "cell_type": "markdown",
   "metadata": {},
   "source": [
    "I should put the AGN models aside for now and just like at how much star formation can be going on.\n",
    "\n",
    "I should review the Ellison 2016 paper that gets Lir from Ellison NN and aim to replicate the plot of star formation (from Lir) vs num galaxies hist, for different AGN selection - but in my case, for plausible AGN LOIII as well. Slider!\n",
    "\n",
    "I should use an EZGAL BC03 or derivative model (M is wrong), with an old (>5Gyr) population and a current burst. BPT measures current SF, remember.\n",
    "\n",
    "\n",
    "I need a link between L[OIII] and star formation. There are empirical scaling relations for star formation -> L[OIIII], and there might also be extractable lines from the SED models.\n",
    "\n",
    "For later, it might be really interesting to look at independent SF probes. Look at ALFAFA - radio survey of HI in many sloan galaxies."
   ]
  },
  {
   "cell_type": "markdown",
   "metadata": {},
   "source": [
    "### EZGAL models of old population + new bursty population"
   ]
  },
  {
   "cell_type": "code",
   "execution_count": null,
   "metadata": {},
   "outputs": [],
   "source": [
    "sample_galaxy = starforming.iloc[0]"
   ]
  },
  {
   "cell_type": "code",
   "execution_count": null,
   "metadata": {},
   "outputs": [],
   "source": [
    "modelset = 'bc03'\n",
    "sfh = 'ssp'  # only to find model, will be overidden\n",
    "metallicity = '0.05'\n",
    "imf = 'salp'\n",
    "\n",
    "model_loc = os.path.join(MODEL_DIR, '{}_{}_z_{}_{}.model'.format(modelset, sfh, metallicity, imf))\n",
    "\n",
    "# reference_model_loc = 'models/ezgal_models/bc03_ssp_z_0.05_salp.model'  # ssp will be overridden"
   ]
  },
  {
   "cell_type": "markdown",
   "metadata": {},
   "source": [
    "Define an arbitrary star formation history: See [here](http://www.baryons.org/ezgal/manual/modifying_models.html)"
   ]
  },
  {
   "cell_type": "code",
   "execution_count": 45,
   "metadata": {},
   "outputs": [],
   "source": [
    "# To minimise saved model grid dimensions, \n",
    "# make all galaxies the same age: 8 Gyr from formation\n",
    "current_galaxy_age = 8 * units.Gyr\n",
    "current_z = 0.05  # defined to be here, very small error introduced\n",
    "formation_z = notebook_utils.formation_redshift_for_fixed_age(current_z, current_galaxy_age)"
   ]
  },
  {
   "cell_type": "code",
   "execution_count": 47,
   "metadata": {},
   "outputs": [],
   "source": [
    "first_duration = 1.  # Gyr\n",
    "second_duration = .5  # Gyr\n",
    "dual_burst = star_formation.DualBurstHistory(\n",
    "        current_z=current_z,\n",
    "        formation_z=formation_z, \n",
    "        first_duration=first_duration, \n",
    "        second_duration=second_duration)"
   ]
  },
  {
   "cell_type": "markdown",
   "metadata": {},
   "source": [
    "#### Calculate model and save outputs (galaxy, continuum) in lookup table"
   ]
  },
  {
   "cell_type": "code",
   "execution_count": null,
   "metadata": {},
   "outputs": [],
   "source": [
    "See scripts"
   ]
  },
  {
   "cell_type": "markdown",
   "metadata": {},
   "source": [
    "#### Load galaxy, continuum from lookup table"
   ]
  },
  {
   "cell_type": "code",
   "execution_count": null,
   "metadata": {},
   "outputs": [],
   "source": [
    "See scripts"
   ]
  },
  {
   "cell_type": "markdown",
   "metadata": {},
   "source": [
    "#### Visualise to confirm"
   ]
  },
  {
   "cell_type": "code",
   "execution_count": null,
   "metadata": {},
   "outputs": [],
   "source": [
    "See scripts"
   ]
  },
  {
   "cell_type": "code",
   "execution_count": null,
   "metadata": {},
   "outputs": [],
   "source": []
  },
  {
   "cell_type": "code",
   "execution_count": null,
   "metadata": {},
   "outputs": [],
   "source": []
  },
  {
   "cell_type": "code",
   "execution_count": null,
   "metadata": {},
   "outputs": [],
   "source": [
    "continuum = ezgal_wrapper.get_normalised_model_continuum(model, galaxy, observed=True)\n",
    "rest_continuum = ezgal_wrapper.get_normalised_model_continuum(model, galaxy, observed=False)"
   ]
  },
  {
   "cell_type": "code",
   "execution_count": null,
   "metadata": {},
   "outputs": [],
   "source": [
    "spectra = pd.DataFrame(data=rest_continuum)\n",
    "spectra['wavelength'] = spectra['wavelength'] * 1e10\n",
    "spectra['log_wavelength'] = np.log10(spectra['wavelength'])\n",
    "spectra['log_energy'] = np.log10(spectra['energy_density'])\n"
   ]
  },
  {
   "cell_type": "code",
   "execution_count": null,
   "metadata": {},
   "outputs": [],
   "source": [
    "plt.loglog(spectra['wavelength'], spectra['energy_density'])\n",
    "plt.ylabel('Energy Density (Jy)')\n",
    "plt.xlabel('Wavelength (A)')\n",
    "for line in np.array([4861, 5006, 6562, 6583]):\n",
    "    plt.axvline(line, color='r', linestyle='--')"
   ]
  },
  {
   "cell_type": "code",
   "execution_count": null,
   "metadata": {},
   "outputs": [],
   "source": [
    "optical_spectra = spectra[\n",
    "    (spectra['wavelength'] > 4000) &\n",
    "    (spectra['wavelength'] < 7000)\n",
    "]\n",
    "plt.loglog(optical_spectra['wavelength'] * 1e10, optical_spectra['energy_density'])\n",
    "plt.ylabel('Energy (Jy)')\n",
    "plt.xlabel('Wavelength (A)')\n",
    "for line in np.array([4861, 5006, 6562, 6583]) * 1e10:\n",
    "    plt.axvline(line, color='r', linestyle='--')"
   ]
  },
  {
   "cell_type": "code",
   "execution_count": null,
   "metadata": {},
   "outputs": [],
   "source": [
    "plt.plot(optical_spectra['wavelength'] * 1e10, optical_spectra['energy_density'])"
   ]
  },
  {
   "cell_type": "code",
   "execution_count": null,
   "metadata": {},
   "outputs": [],
   "source": [
    "continuum['energy_density']"
   ]
  },
  {
   "cell_type": "code",
   "execution_count": null,
   "metadata": {},
   "outputs": [],
   "source": [
    "plt.loglog(continuum['wavelength'] * 1e10, continuum['energy_density'])\n",
    "plt.ylabel('Energy (erg s^-1)')\n",
    "plt.xlabel('Wavelength (A)')\n",
    "for line in [4861, 5006, 6562, 6583]:\n",
    "    plt.axvline(line, color='r', linestyle='--')"
   ]
  },
  {
   "cell_type": "code",
   "execution_count": null,
   "metadata": {},
   "outputs": [],
   "source": [
    "plot_width = 20\n",
    "\n",
    "lO3_spectra = spectra[  # 5006\n",
    "    (spectra['wavelength'] > 5006 - plot_width) &\n",
    "    (spectra['wavelength'] < 5006 + plot_width)]\n",
    "\n",
    "hb_spectra = spectra[  # 4861\n",
    "    (spectra['wavelength'] > 4861 - plot_width) &\n",
    "    (spectra['wavelength'] < 4861 + plot_width)]\n",
    "\n",
    "n2_spectra = spectra[  # 6583\n",
    "    (spectra['wavelength'] > 6583 - plot_width) &\n",
    "    (spectra['wavelength'] < 6583 + plot_width)]\n",
    "\n",
    "ha_spectra = spectra[  # 6562\n",
    "    (spectra['wavelength'] > 6562 - plot_width) &\n",
    "    (spectra['wavelength'] < 6562 + plot_width)]"
   ]
  },
  {
   "cell_type": "code",
   "execution_count": null,
   "metadata": {},
   "outputs": [],
   "source": [
    "plot_width = 20"
   ]
  },
  {
   "cell_type": "code",
   "execution_count": null,
   "metadata": {},
   "outputs": [],
   "source": [
    "plt.plot(n2_spectra['wavelength'], n2_spectra['log_energy'])\n",
    "plt.axvline(6583, color='r', linestyle='--')"
   ]
  },
  {
   "cell_type": "code",
   "execution_count": null,
   "metadata": {},
   "outputs": [],
   "source": [
    "plt.plot(hb_spectra['wavelength'], hb_spectra['log_energy'])\n",
    "plt.axvline(4861, color='r', linestyle='--')"
   ]
  },
  {
   "cell_type": "code",
   "execution_count": null,
   "metadata": {},
   "outputs": [],
   "source": [
    "plt.plot(lO3_spectra['log_wavelength'], lO3_spectra['log_energy'])\n",
    "plt.axvline(np.log10(5006), color='r', linestyle='--')"
   ]
  },
  {
   "cell_type": "markdown",
   "metadata": {},
   "source": [
    "### Fit model to real SED to derive max and min star formation"
   ]
  },
  {
   "cell_type": "code",
   "execution_count": null,
   "metadata": {},
   "outputs": [],
   "source": [
    "# optical_spectra.to_csv('optical_spectra.csv', index=False)"
   ]
  },
  {
   "cell_type": "code",
   "execution_count": null,
   "metadata": {},
   "outputs": [],
   "source": [
    "# 2.91 seconds to fit\n",
    "optical_lines = spectral_fitting.find_emission_lines(optical_spectra)"
   ]
  },
  {
   "cell_type": "code",
   "execution_count": null,
   "metadata": {},
   "outputs": [],
   "source": [
    "optical_lines"
   ]
  },
  {
   "cell_type": "code",
   "execution_count": null,
   "metadata": {},
   "outputs": [],
   "source": [
    "# zero out null detections (below some threshold?)\n",
    "# combine H_alpha\n",
    "# convert to dict"
   ]
  },
  {
   "cell_type": "code",
   "execution_count": null,
   "metadata": {},
   "outputs": [],
   "source": []
  },
  {
   "cell_type": "code",
   "execution_count": null,
   "metadata": {},
   "outputs": [],
   "source": []
  },
  {
   "cell_type": "markdown",
   "metadata": {},
   "source": [
    "### Visualise on BPT diagram"
   ]
  },
  {
   "cell_type": "code",
   "execution_count": 48,
   "metadata": {},
   "outputs": [
    {
     "data": {
      "text/html": [
       "<div>\n",
       "<style scoped>\n",
       "    .dataframe tbody tr th:only-of-type {\n",
       "        vertical-align: middle;\n",
       "    }\n",
       "\n",
       "    .dataframe tbody tr th {\n",
       "        vertical-align: top;\n",
       "    }\n",
       "\n",
       "    .dataframe thead th {\n",
       "        text-align: right;\n",
       "    }\n",
       "</style>\n",
       "<table border=\"1\" class=\"dataframe\">\n",
       "  <thead>\n",
       "    <tr style=\"text-align: right;\">\n",
       "      <th></th>\n",
       "      <th>HA_6562</th>\n",
       "      <th>HB_4861</th>\n",
       "      <th>NII_6583</th>\n",
       "      <th>OIII_5006</th>\n",
       "      <th>OI_6300</th>\n",
       "      <th>SII_6716</th>\n",
       "      <th>redshift</th>\n",
       "      <th>metallicity</th>\n",
       "      <th>log_OIII_HB</th>\n",
       "      <th>log_NII_HA</th>\n",
       "      <th>log_SII_HA</th>\n",
       "      <th>log_OI_HA</th>\n",
       "    </tr>\n",
       "  </thead>\n",
       "  <tbody>\n",
       "    <tr>\n",
       "      <th>0</th>\n",
       "      <td>13724.560977</td>\n",
       "      <td>569.496887</td>\n",
       "      <td>5.736132</td>\n",
       "      <td>67.532780</td>\n",
       "      <td>29.182747</td>\n",
       "      <td>23.795831</td>\n",
       "      <td>0.05</td>\n",
       "      <td>0.008</td>\n",
       "      <td>-0.925977</td>\n",
       "      <td>-3.378879</td>\n",
       "      <td>-2.760998</td>\n",
       "      <td>-2.672372</td>\n",
       "    </tr>\n",
       "    <tr>\n",
       "      <th>1</th>\n",
       "      <td>649.219390</td>\n",
       "      <td>717.674147</td>\n",
       "      <td>40.263762</td>\n",
       "      <td>123.911764</td>\n",
       "      <td>47.865262</td>\n",
       "      <td>50.109396</td>\n",
       "      <td>0.50</td>\n",
       "      <td>0.008</td>\n",
       "      <td>-0.762815</td>\n",
       "      <td>-1.207477</td>\n",
       "      <td>-1.112472</td>\n",
       "      <td>-1.132371</td>\n",
       "    </tr>\n",
       "    <tr>\n",
       "      <th>2</th>\n",
       "      <td>1271.455227</td>\n",
       "      <td>1803.245150</td>\n",
       "      <td>121.439809</td>\n",
       "      <td>169.554211</td>\n",
       "      <td>66.842284</td>\n",
       "      <td>50.469465</td>\n",
       "      <td>1.00</td>\n",
       "      <td>0.008</td>\n",
       "      <td>-1.026746</td>\n",
       "      <td>-1.019940</td>\n",
       "      <td>-1.401272</td>\n",
       "      <td>-1.279250</td>\n",
       "    </tr>\n",
       "    <tr>\n",
       "      <th>3</th>\n",
       "      <td>13724.560977</td>\n",
       "      <td>569.496887</td>\n",
       "      <td>5.736132</td>\n",
       "      <td>67.532780</td>\n",
       "      <td>29.182747</td>\n",
       "      <td>23.795831</td>\n",
       "      <td>0.05</td>\n",
       "      <td>0.020</td>\n",
       "      <td>-0.925977</td>\n",
       "      <td>-3.378879</td>\n",
       "      <td>-2.760998</td>\n",
       "      <td>-2.672372</td>\n",
       "    </tr>\n",
       "    <tr>\n",
       "      <th>4</th>\n",
       "      <td>649.219390</td>\n",
       "      <td>717.674147</td>\n",
       "      <td>40.263762</td>\n",
       "      <td>123.911764</td>\n",
       "      <td>47.865262</td>\n",
       "      <td>50.109396</td>\n",
       "      <td>0.50</td>\n",
       "      <td>0.020</td>\n",
       "      <td>-0.762815</td>\n",
       "      <td>-1.207477</td>\n",
       "      <td>-1.112472</td>\n",
       "      <td>-1.132371</td>\n",
       "    </tr>\n",
       "  </tbody>\n",
       "</table>\n",
       "</div>"
      ],
      "text/plain": [
       "        HA_6562      HB_4861    NII_6583   OIII_5006    OI_6300   SII_6716  \\\n",
       "0  13724.560977   569.496887    5.736132   67.532780  29.182747  23.795831   \n",
       "1    649.219390   717.674147   40.263762  123.911764  47.865262  50.109396   \n",
       "2   1271.455227  1803.245150  121.439809  169.554211  66.842284  50.469465   \n",
       "3  13724.560977   569.496887    5.736132   67.532780  29.182747  23.795831   \n",
       "4    649.219390   717.674147   40.263762  123.911764  47.865262  50.109396   \n",
       "\n",
       "   redshift  metallicity  log_OIII_HB  log_NII_HA  log_SII_HA  log_OI_HA  \n",
       "0      0.05        0.008    -0.925977   -3.378879   -2.760998  -2.672372  \n",
       "1      0.50        0.008    -0.762815   -1.207477   -1.112472  -1.132371  \n",
       "2      1.00        0.008    -1.026746   -1.019940   -1.401272  -1.279250  \n",
       "3      0.05        0.020    -0.925977   -3.378879   -2.760998  -2.672372  \n",
       "4      0.50        0.020    -0.762815   -1.207477   -1.112472  -1.132371  "
      ]
     },
     "execution_count": 48,
     "metadata": {},
     "output_type": "execute_result"
    }
   ],
   "source": [
    "df = pd.read_csv('../temp/bpt_lines.csv')\n",
    "df.head()"
   ]
  },
  {
   "cell_type": "code",
   "execution_count": 49,
   "metadata": {},
   "outputs": [
    {
     "data": {
      "text/plain": [
       "<seaborn.axisgrid.FacetGrid at 0x123179828>"
      ]
     },
     "execution_count": 49,
     "metadata": {},
     "output_type": "execute_result"
    },
    {
     "data": {
      "image/png": "[encoded data removed]",
      "text/plain": [
       "<matplotlib.figure.Figure at 0x123179be0>"
      ]
     },
     "metadata": {},
     "output_type": "display_data"
    }
   ],
   "source": [
    "sns.set()\n",
    "sns.lmplot(data=df, y='log_OIII_HB', x='log_NII_HA', hue='redshift', fit_reg=False)"
   ]
  },
  {
   "cell_type": "code",
   "execution_count": 59,
   "metadata": {},
   "outputs": [
    {
     "data": {
      "text/plain": [
       "<seaborn.axisgrid.FacetGrid at 0x126892c50>"
      ]
     },
     "execution_count": 59,
     "metadata": {},
     "output_type": "execute_result"
    },
    {
     "data": {
      "image/png": "[encoded data removed]",
      "text/plain": [
       "<matplotlib.figure.Figure at 0x126884f98>"
      ]
     },
     "metadata": {},
     "output_type": "display_data"
    }
   ],
   "source": [
    "sns.lmplot(data=df, y='log_OIII_HB', x='log_NII_HA', hue='metallicity', fit_reg=False)"
   ]
  },
  {
   "cell_type": "code",
   "execution_count": null,
   "metadata": {},
   "outputs": [],
   "source": [
    "_ = plt.hist2d(bpt_df['log_NII_HA'], bpt_df['log_OIII_HB'], bins=300)\n",
    "# TODO refactor out pretty bpt visualisations from previous notebook"
   ]
  },
  {
   "cell_type": "code",
   "execution_count": null,
   "metadata": {},
   "outputs": [],
   "source": []
  },
  {
   "cell_type": "markdown",
   "metadata": {},
   "source": [
    "### Check fitting quality: fit an OSSY galaxy spectra"
   ]
  },
  {
   "cell_type": "code",
   "execution_count": null,
   "metadata": {},
   "outputs": [],
   "source": []
  },
  {
   "cell_type": "markdown",
   "metadata": {},
   "source": [
    "### Convert max and min star formation to L[OIII]/Ha, either empirically or (ideally) direct from model"
   ]
  },
  {
   "cell_type": "code",
   "execution_count": null,
   "metadata": {},
   "outputs": [],
   "source": []
  },
  {
   "cell_type": "code",
   "execution_count": null,
   "metadata": {},
   "outputs": [],
   "source": [
    "### Star Formation Estimates"
   ]
  },
  {
   "cell_type": "code",
   "execution_count": null,
   "metadata": {},
   "outputs": [],
   "source": [
    "assert False  # stop here by default"
   ]
  },
  {
   "cell_type": "markdown",
   "metadata": {},
   "source": [
    "#### SDSS Star Formation Rates\n",
    "\n",
    "> The techniques used to determine total SFRs for SDSS galaxies are described in detail by Brinchmann et al. (2004) and Salim et al. (2007), but we review the salient details here. The fibre spectra are fit with models from Charlot & Longhetti (2001), which combine stellar continuum templates with emission lines simulated by the CLOUDY software (Ferland et al. 1998). The models are run over large grids of input parameters, including dust attenuation, metallicity and SFR...Although the models fit the entire SDSS spectrum, the derived SFRs are dominated by the strength of the Balmer emission lines. \n",
    "\n",
    "> Brinchmann et al. (2004) note that **contributions to emission lines from processes not related to star formation will lead to erroneous SFRs. Such processes include ** shocks, planetary nebulae and **AGN**. Brinchmann et al. (2004) therefore **identify galaxies with either a minor (‘composite’) or dominant AGN contribution using...the diagnostic diagrams of Kewley et al. (2001) and Kauffmann et al. (2003). For both the composite and AGN galaxies, the SFR is determined from the correlation between D4000 and specific SFR (SSFR), as measured in the star-forming population**. \n",
    "\n",
    "> Errors on SFRs derived from D4000 are computed by convolving the likelihood distribution of a given galaxy’s D4000 with that of the relation between SSFR and D4000 in star-forming galaxies.\n",
    "\n",
    "> For all galaxy classes, the ‘fibre’ SFRs are converted to total SFRs by assessing the photometry outside of the aperture. [Ed: this is hopefully explained in more detail in Brinchmann]"
   ]
  },
  {
   "cell_type": "markdown",
   "metadata": {},
   "source": [
    "#### NN Star Formation Rates\n",
    "\n",
    "Ellison aims to estimate the **total** IR (6 - 1000 um) luminosity based on (among other features) Herschel FIR, WISE NIR, total stellar mass, fibre stellar mass, D4000, and the **BPT emission lines**.\n",
    "\n",
    "The ground truth comes from fitting any available photometry to galaxy templates, and then integrating over those templates to get total $L_{IR}$\n",
    "\n",
    "> The mid-IR and FIR photometry of galaxies from WISE and each of the FIR surveys described above, respectively, were fit with the galaxy spectral energy distribution (SED) templates of Dale &Helou (2002)\n",
    "\n",
    "> integrating the best-fitting templates over rest frame 8– 1000 µm.\n",
    "\n",
    "This is not quite ideal for me - I already have NIR and MIR from UKIDSS and WISE. \n",
    "\n",
    "Given an inferred $L_{IR}$:\n",
    "> We adopt the conversion between LIR and SFR from Kennicutt (1998), with an adjustment for a Chabrier initial mass function (IMF):\n",
    ">\n",
    "> log $L_{IR}$ = log SFR + 43.591\n",
    "\n",
    "> The SFRs\n",
    "inferred from the ANN LIR predictions are in excellent agreement with SDSS spectroscopic SFRs for star-forming galaxies. However, for the AGN with LIR predictions, the SDSS SFR is apparently underestimated by up to an order of magnitude, even when the uncertainty threshold has been imposed. It is demonstrated that this apparent underestimate is due to larger uncertainties in the SDSS SFRs forAGNgalaxies, which are based on D4000, and the detection\n",
    "threshold in the training set. The LIR predictions provided here can therefore be used to obtain more accurate SFR measurements in AGN, or in weak emission galaxies where there exist large uncer- tainties in the SDSS derived values"
   ]
  },
  {
   "cell_type": "code",
   "execution_count": null,
   "metadata": {},
   "outputs": [],
   "source": [
    "def ellison_log_sfr(log_lir):\n",
    "    return log_lir - 43.591"
   ]
  },
  {
   "cell_type": "code",
   "execution_count": null,
   "metadata": {},
   "outputs": [],
   "source": [
    "bpt_df['log_sfr'] = ellison_log_sfr(bpt_df['log_lir'])"
   ]
  },
  {
   "cell_type": "code",
   "execution_count": null,
   "metadata": {},
   "outputs": [],
   "source": [
    "# size=600\n",
    "# show_bpt_colors(bpt_df, 'log_sfr').options(height=size, width=size) * hv.Text(-1, -1, 'Log SFR')"
   ]
  },
  {
   "cell_type": "markdown",
   "metadata": {},
   "source": [
    "There is a strong mass-metallicity relation which probably explains why this is such a horizontal trend. This is itself quite interesting - heirarchical model can't explain because stars can't know which galaxies they end up in ahead of time! Could be a really interesting probe for something."
   ]
  },
  {
   "cell_type": "code",
   "execution_count": null,
   "metadata": {},
   "outputs": [],
   "source": [
    "# size=600\n",
    "# show_bpt_colors(bpt_df, 'std_dev').options(height=size, width=size) * hv.Text(-1, -1, 'FIR L Ensemble Std Dev')"
   ]
  },
  {
   "cell_type": "markdown",
   "metadata": {},
   "source": [
    "Chris:\n",
    "    - Use an accessible color pallette, AAS has a link on their website\n",
    "    - Don't add in GZ until we've settled (or at least made a good start on) a model and cuts. Human brains are sensitive.\n",
    "    - Type 1 and X-ray are for bright AGN, which is not what we want\n",
    "    - Use the NN Herschel catalog\n",
    "    \n",
    "Our unique selling point is looking at LOW luminosity AGN. This is suprisingly unusual. \n",
    "\n",
    "If at all possible, find some star formation indicators that are independent of AGN activity. Use this to put a 'max/plausible star formation contribution to OIII' limit (Kewley style) for each galaxy, and therefore a min/plausible AGN contribution.\n",
    "\n",
    "Use WISE color to put an upper limit on AGN luminosity for galaxies with low OIII, low star formation. Since star formation is low and OIII is low, we can't have an AGN with more than X luminosity.\n",
    "\n",
    "Use a probability distribution for each classification and hope for the best.\n",
    "\n",
    "Don't try to do star formation inference 'properly' or extract more derived data than already done by others - these are thesis-scale projects. **Keep the models simple and understandable and do a good job of tracking the errors and statistics**\n",
    "\n",
    "To share this notebook, use [binder](https://mybinder.readthedocs.io/en/latest/introduction.html#what-technology-does-binder-use)"
   ]
  },
  {
   "cell_type": "code",
   "execution_count": null,
   "metadata": {},
   "outputs": [],
   "source": [
    "fig, (ax0, ax1, ax2) = plt.subplots(nrows=3, figsize=(8, 6), sharex=True, sharey=True)\n",
    "bpt_df[bpt_df['galaxy_type'] == 'seyfert']['log_sfr'].hist(bins=50, ax=ax0, density=True)\n",
    "bpt_df[bpt_df['galaxy_type'] == 'starforming']['log_sfr'].hist(bins=50, ax=ax1, density=True)\n",
    "bpt_df[bpt_df['WISE_AGN']]['log_sfr'].hist(bins=20, ax=ax2, density=True)"
   ]
  },
  {
   "cell_type": "code",
   "execution_count": null,
   "metadata": {},
   "outputs": [],
   "source": [
    "sns.kdeplot(data=bpt_df[bpt_df['galaxy_type'] == 'seyfert']['log_sfr'].dropna(), label='BPT Seyfert')\n",
    "sns.kdeplot(data=bpt_df[bpt_df['galaxy_type'] == 'starforming']['log_sfr'].dropna(), label='BPT Starforming')\n",
    "sns.kdeplot(data=bpt_df[bpt_df['WISE_AGN']]['log_sfr'].dropna(), label='WISE W1-W2 > 0.8')"
   ]
  },
  {
   "cell_type": "code",
   "execution_count": null,
   "metadata": {},
   "outputs": [],
   "source": [
    "# from compare_agn_with_bar_fraction\n",
    "def match_distributions_between_catalogs(catalog_to_match, catalog_to_sample, value_col, limits, bw_tuple):\n",
    "    catalog_to_match_kde = gaussian_kde(catalog_to_match[value_col], bw_method=bw_tuple[0])  # 0.15\n",
    "    fig, ax = plt.subplots(1, figsize=(8, 3))\n",
    "    sample_points = np.arange(limits[0], limits[1], 0.001)\n",
    "    \n",
    "    ax.plot(sample_points, catalog_to_match_kde.evaluate(sample_points))  # check it's working\n",
    "    ax.set_xlim([limits[0], limits[1]])\n",
    "\n",
    "    catalog_to_sample_kde = gaussian_kde(catalog_to_sample[value_col], bw_method=bw_tuple[1])  # it's important to fit the apparent distribution - normalise\n",
    "    ax.plot(sample_points, catalog_to_sample_kde.evaluate(sample_points))  # check it's working\n",
    "    \n",
    "    ax.legend(['catalog to match', 'catalog to sample'])\n",
    "    \n",
    "    catalog_to_sample['resample_p'] = catalog_to_match_kde.evaluate(catalog_to_sample[value_col]) / catalog_to_sample_kde.evaluate(catalog_to_sample[value_col])\n",
    "    catalog_to_sample['resample_p'] = catalog_to_sample['resample_p'] / catalog_to_sample['resample_p'].mean()\n",
    "    catalog_sampled = catalog_to_sample.sample(len(catalog_to_match), replace=True, weights=catalog_to_sample['resample_p'])\n",
    "    \n",
    "    return catalog_sampled"
   ]
  },
  {
   "cell_type": "code",
   "execution_count": null,
   "metadata": {},
   "outputs": [],
   "source": [
    "bpt_df['log_mass'] = np.log10(bpt_df['ELPETRO_MASS'])"
   ]
  },
  {
   "cell_type": "code",
   "execution_count": null,
   "metadata": {},
   "outputs": [],
   "source": [
    "bpt_df = bpt_df.replace([np.inf, -np.inf], np.nan)\n",
    "bpt_df = bpt_df.dropna(how='any', subset=['ELPETRO_MASS', 'log_sfr', 'log_mass', 'z']) "
   ]
  },
  {
   "cell_type": "code",
   "execution_count": null,
   "metadata": {},
   "outputs": [],
   "source": [
    "starforming = bpt_df[bpt_df['galaxy_type'] == 'starforming']\n",
    "seyfert = bpt_df[bpt_df['galaxy_type'] == 'seyfert']"
   ]
  },
  {
   "cell_type": "code",
   "execution_count": null,
   "metadata": {},
   "outputs": [],
   "source": [
    "from scipy.stats import gaussian_kde"
   ]
  },
  {
   "cell_type": "code",
   "execution_count": null,
   "metadata": {},
   "outputs": [],
   "source": [
    "catalog_mass_sampled = match_distributions_between_catalogs(seyfert, starforming, 'log_mass', (8, 12), (.2, .2))"
   ]
  },
  {
   "cell_type": "code",
   "execution_count": null,
   "metadata": {},
   "outputs": [],
   "source": [
    "catalog_sampled = match_distributions_between_catalogs(seyfert, catalog_mass_sampled, 'z', (0, 0.15), (.2, .05))"
   ]
  },
  {
   "cell_type": "code",
   "execution_count": null,
   "metadata": {},
   "outputs": [],
   "source": [
    "def visualise_match_quality(catalog_to_match, catalog_to_sample, sample, names, bw_mass, bw_colour, bw_redshift):\n",
    "    fig, axes = plt.subplots(3, 1, figsize=(8, 9))\n",
    "    lerg_mass_ax = sns.kdeplot(data=catalog_to_match['log_mass'], shade=True, bw=bw_mass, ax=axes[0], legend=False)\n",
    "    ax = sns.kdeplot(data=catalog_to_sample['log_mass'], shade=True, bw=bw_mass, ax=axes[0], legend=False)\n",
    "    ax = sns.kdeplot(data=sample['log_mass'], shade=True, bw=0.15, ax=axes[0], legend=False)\n",
    "    lerg_mass_ax.set_title('mass')\n",
    "    lerg_mass_ax.legend(names)\n",
    "\n",
    "#     ax = sns.kdeplot(data=catalog_to_match['g-r'], shade=True, bw=bw_colour, ax=axes[1], legend=False)\n",
    "#     ax = sns.kdeplot(data=catalog_to_sample['g-r'], shade=True, bw=bw_colour, ax=axes[1], legend=False)\n",
    "#     ax = sns.kdeplot(data=sample['g-r'], shade=True, bw=bw_colour, ax=axes[1], legend=False)\n",
    "#     ax.legend(names)\n",
    "#     ax.set_title('colour')\n",
    "\n",
    "    ax = sns.kdeplot(data=catalog_to_match['z'], shade=True, bw=bw_redshift, ax=axes[2], legend=False)\n",
    "    ax = sns.kdeplot(data=catalog_to_sample['z'], shade=True, bw=bw_redshift, ax=axes[2], legend=False)\n",
    "    ax = sns.kdeplot(data=sample['z'], shade=True, bw=bw_redshift, ax=axes[2], legend=False)\n",
    "    ax.legend(names)\n",
    "    ax.set_title('redshift')\n",
    "    \n",
    "    fig.tight_layout()"
   ]
  },
  {
   "cell_type": "code",
   "execution_count": null,
   "metadata": {
    "scrolled": false
   },
   "outputs": [],
   "source": [
    "names = ['starforming', 'seyfert', 'starforming matched']\n",
    "visualise_match_quality(starforming, seyfert, catalog_sampled, names, .2, .2, .01)"
   ]
  },
  {
   "cell_type": "code",
   "execution_count": null,
   "metadata": {},
   "outputs": [],
   "source": [
    "starforming_matched_to_seyfert = catalog_sampled\n"
   ]
  },
  {
   "cell_type": "code",
   "execution_count": null,
   "metadata": {},
   "outputs": [],
   "source": [
    "sns.set_context('poster')\n",
    "fig, (ax0, ax1) = plt.subplots(nrows=2, figsize=(12, 8), sharex=True, sharey=True)"
   ]
  },
  {
   "cell_type": "code",
   "execution_count": null,
   "metadata": {},
   "outputs": [],
   "source": [
    "sns.kdeplot(data=seyfert['log_sfr'], label='BPT Seyfert', ax=ax0)\n",
    "sns.kdeplot(data=starforming_matched_to_seyfert['log_sfr'], label='Starforming like Seyfert', ax=ax0)"
   ]
  },
  {
   "cell_type": "code",
   "execution_count": null,
   "metadata": {},
   "outputs": [],
   "source": [
    "wise = bpt_df[bpt_df['WISE_AGN']]"
   ]
  },
  {
   "cell_type": "code",
   "execution_count": null,
   "metadata": {},
   "outputs": [],
   "source": [
    "sf_mass_sampled_to_wise = match_distributions_between_catalogs(wise, starforming, 'log_mass', (8, 12), (.3, .1))"
   ]
  },
  {
   "cell_type": "code",
   "execution_count": null,
   "metadata": {},
   "outputs": [],
   "source": [
    "sf_sampled_to_wise = match_distributions_between_catalogs(wise, sf_mass_sampled_to_wise, 'z', (0, 0.15), (.4, .1))"
   ]
  },
  {
   "cell_type": "code",
   "execution_count": null,
   "metadata": {},
   "outputs": [],
   "source": [
    "names = ['starforming', 'wise', 'starforming matched']\n",
    "visualise_match_quality(starforming, wise, sf_sampled_to_wise, names, .2, .2, .015)"
   ]
  },
  {
   "cell_type": "code",
   "execution_count": null,
   "metadata": {},
   "outputs": [],
   "source": [
    "sns.kdeplot(data=wise['log_sfr'].dropna(), label='WISE W1-W2 > 0.8', ax=ax1)\n",
    "sns.kdeplot(data=sf_sampled_to_wise['log_sfr'], label='Starforming like WISE', ax=ax1)"
   ]
  },
  {
   "cell_type": "code",
   "execution_count": null,
   "metadata": {},
   "outputs": [],
   "source": [
    "\n",
    "ax0.set_ylabel('Galaxy PDF')\n",
    "ax1.set_xlabel('Log SFR (NN FIR estimate)')\n",
    "fig.tight_layout()\n",
    "fig.savefig('bpt_wise_star_formation_comparison.png')"
   ]
  },
  {
   "cell_type": "code",
   "execution_count": null,
   "metadata": {},
   "outputs": [],
   "source": [
    "fig.show()"
   ]
  },
  {
   "cell_type": "code",
   "execution_count": null,
   "metadata": {},
   "outputs": [],
   "source": []
  },
  {
   "cell_type": "markdown",
   "metadata": {},
   "source": [
    "### Deprecated"
   ]
  },
  {
   "cell_type": "code",
   "execution_count": null,
   "metadata": {},
   "outputs": [],
   "source": [
    "assert False"
   ]
  },
  {
   "cell_type": "code",
   "execution_count": null,
   "metadata": {},
   "outputs": [],
   "source": [
    "from scipy.interpolate import interp1d\n",
    "from scipy.signal import savgol_filter"
   ]
  },
  {
   "cell_type": "code",
   "execution_count": null,
   "metadata": {},
   "outputs": [],
   "source": [
    "baseline = savgol_filter(np.log10(optical_spectra['energy_density']), 101, 1)\n",
    "plt.plot(np.log10(optical_spectra['wavelength']), baseline)"
   ]
  }
 ],
 "metadata": {
  "kernelspec": {
   "display_name": "Python 3",
   "language": "python",
   "name": "python3"
  },
  "language_info": {
   "codemirror_mode": {
    "name": "ipython",
    "version": 3
   },
   "file_extension": ".py",
   "mimetype": "text/x-python",
   "name": "python",
   "nbconvert_exporter": "python",
   "pygments_lexer": "ipython3",
   "version": "3.6.4"
  }
 },
 "nbformat": 4,
 "nbformat_minor": 2
}
