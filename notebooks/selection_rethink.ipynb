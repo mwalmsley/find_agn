{
 "cells": [
  {
   "cell_type": "markdown",
   "metadata": {},
   "source": []
  },
  {
   "cell_type": "markdown",
   "metadata": {},
   "source": [
    "### MAPPINGS and Dopita\n",
    "\n",
    "Dopita, M. A., Sutherland, R. S., Nicholls, D. C., Kewley, L. J., & Vogt, F. P. A. (2013). New strong-line abundance diagnostics for H II regions: Effects of κ-distributed electron energies and new atomic data. Astrophysical Journal, Supplement Series, 208(1), 10. https://doi.org/10.1088/0067-0049/208/1/10"
   ]
  },
  {
   "cell_type": "markdown",
   "metadata": {},
   "source": [
    "Dopita (2013) runs MAPPINGS 4 with \"the 3 parameters that control the BPT strong emission lines\":\n",
    "\n",
    "1. Solar abundance Z_sol, where 1 z_sol is equivalent to 12 + log(O/H) = 8.69\n",
    "2. Ionization q\n",
    "3. k, the free parameter of the k-distribution. The k-distribution is an alternative to the Maxwell-Boltzmann equation used for plasma electron collisions. It has a 'hot tail'. \n",
    "\n",
    "The 'stellar model atmosphere', presumably the ionising stellar radiation, is taken from Starburst99.\n",
    "\n",
    "The resulting emission line model grid is published e.g. [here](http://iopscience.iop.org/0067-0049/208/1/10/suppdata/apjs481187t4_mrt.txt). I can load it up and visualise on a BPT diagram. \n",
    "\n",
    "However - it's normalised to Hb flux = 1. by row, and therefore in practice it's useless!"
   ]
  },
  {
   "cell_type": "markdown",
   "metadata": {},
   "source": [
    "Dopita, of course does have this data, and uses it very helpfully. The paper shows how the BPT diagram cuts come directly from the ionization and metallicity parameters, and fit empirical data. k is found to be not very important - use k = 20.\n",
    "\n",
    " <img src=\"/Users/mikewalmsley/repos/find_agn/figures/dopita_bpt_investigation.png\"> \n",
    " \n",
    " They go through this procedure for MANY possible diagnostic plots and looking at how well the emission line 2D surface is distinctly different from the AGN sequence. **This is the part that I want to improve**.\n",
    " \n",
    "Adding another dimension has been tried by Vogt and Dopita (Vogt, F. P. A., Dopita, M. A., Kewley, L. J., Sutherland, R. S., Scharwächter, J., Basurah, H. M., … Amer, M. A. (2014) https://doi.org/10.1088/0004-637X/793/2/127): \n",
    "\n",
    "> There is a priori no reason to restrict line ratio diagrams to two dimensions (2D) other than the evident practicality of visualization. Here, we exploit recent software developments to explore the potential of 3D line ratio diagrams. The basic concept is as follows. As a starting point we use the 2D diagnostics from Dopita et al. (2013) which cleanly separate the ionization parameter, q, and the oxygen abundance, 12 + log (O/H). We then couple them with an additional line ratio, chosen specifically to help differentiate H ii-like objects from AGNs\n",
    "\n",
    "But I think we must be able to systematize this into N dimensions - it's a perfect well-posed problem."
   ]
  },
  {
   "cell_type": "markdown",
   "metadata": {},
   "source": [
    "### 3D Diagnostics and Vogt\n",
    "\n",
    "Vogt, F. P. A., Dopita, M. A., Kewley, L. J., Sutherland, R. S., Scharwächter, J., Basurah, H. M., … Amer, M. A. (2014). Galaxy emission line classification using three-dimensional line ratio diagrams. Astrophysical Journal, 793(2), 127. https://doi.org/10.1088/0004-637X/793/2/127\n",
    "\n",
    "Building on Dopita (2013), Vogt notes the three categories of diagnostic ratio (i.e. diagnostic diagram axis):\n",
    "1. Abundance-sensitive ratios (z)\n",
    "2. q-sensitive ratios\n",
    "3. Radiation-hardness-sensitive ratios (E)\n",
    "\n",
    "Hence, they describe the possible 3D diagrams as ZQE diagrams.\n",
    "\n",
    "Each 3D diagram can be plotted in 2D with given a theta, phi. Ideally, you can pick a theta, phi where the variation in one dimension is minimal, and the 2D diagram keeps most of the variation.\n",
    "\n",
    "> For some of the grids, the intrinsic\n",
    "curvature in the third dimension is small, such that it is possible\n",
    "to find a specific point of view from which the grid collapses\n",
    "onto itself, with a thickness ?0.3 dex. \n",
    "\n",
    "> By identifying these specific viewpoints, we effectively identify new (composite) 2D\n",
    "(φ; θ) diagrams—which rely\n",
    "line ratio diagrams—the ZEx1x2x3\n",
    "on the combination of three different line ratios, and in which\n",
    "H ii-like objects are degenerate and constrained to a small region\n",
    "in the diagram.\n",
    "\n",
    "\n",
    "It turns out that the q variation is easiest to 'line up' with theta, phi, such that it is very narrow/small on the remaining axis.\n",
    "\n",
    "> we have visually and inter- actively inspected all 24 ZQE diagrams and selected a sub- sample of 13 in which the starburst sequence and the AGN sequence are best separated\n",
    "\n",
    "> The x axes ofthese ZE diagrams\n",
    "can be associated with a metallicity (Z) direction. By contrast,\n",
    "most of the differentiation between starburst-like and AGN-like objects is achieved in the y direction, which can therefore\n",
    "be seen as the excitation or E direction, which is the basis of our chosen nomenclature\n",
    "\n",
    "They recognise that you *could* try to find the best theta, phi automatically. However, when you're only looking to collapse the starburst branch, you need to have a sense 'by eye' of which galaxies those are. \n",
    "\n",
    "> the data set contains both H ii-like and AGN-like objects, but in the present case one is only interested in collapsing the starburst branch onto itself, not the entire cloud of data points. If it is possible to identify and **track the location of the starburst branch “by eye,”** it is significantly more complex to do so analytically and **without any prior knowledge of the classification of the different objects**. \n",
    "\n",
    "To create a decision boundary for each 3D diagram:\n",
    "1. Choose 5-7 points on the 3D diagram (by eye) to separate the AGN/starforming galaxies\n",
    "2. Fit 3rd order polynomial between the points by least-squares (works badly in regions well outside)\n",
    "\n",
    "Galaxies are classified unknown if **any** of the 13 ZE diagrams are inconsistent.\n",
    "\n",
    "One of the final 3D plots can be viewed interactively [here](http://iopscience.iop.org/article/10.1088/0004-637X/793/2/127/data) - it's cool!\n",
    "\n"
   ]
  },
  {
   "cell_type": "markdown",
   "metadata": {},
   "source": [
    "They have a fun idea:\n",
    "    \n",
    "> a spaxel-based\n",
    "analysis relying on ongoing or upcoming IFU surveys such as\n",
    "Califa (S´anchez et al. 2012), SAMI (Croom et al. 2012), or\n",
    "MANGA could better differentiate between the core and the\n",
    "outskirts of galaxies and possibly reduce the inherent confusion\n",
    "at the interface between star-formation-dominated and AGN-dominated objects (Maragkoudakis et al. 2014; Davies et al.\n",
    "2014)."
   ]
  },
  {
   "cell_type": "markdown",
   "metadata": {},
   "source": [
    "The best quote of the month (emphasis mine):\n",
    "\n",
    "> the spatial structure of the cloud of points of SDSS galaxies resembles that of a **nudibranch**. H ii-like objects are located on, or close to, the photoionization model grid and can be associated **with the sea slug’s body**. This sequence is clearly separated from the AGN sequence, which extends away from the H ii region model grid (and **which can be regarded as the “feelers” of the nudibranch**). \n",
    "\n",
    "Perfect presentation material!"
   ]
  },
  {
   "cell_type": "markdown",
   "metadata": {},
   "source": [
    "### Mappings and Levesque\n",
    "\n",
    "Levesque, E. M., Kewley, L. J., & Larson, K. L. (2009). Theoretical Modeling of Star-Forming Galaxies I. Emission Line Diagnostic Grids for Local and Low-Metallicity Galaxies. https://doi.org/10.1088/0004-6256/139/2/712\n",
    "\n",
    "Levesque uses Starburst99 and Mappings 3 to make emission lines, and compares these to observed SDSS etc emission lines. \n",
    "\n",
    "The stellar population settings are described in significant detail (better than Dopita 2013).  \n",
    "> The far-ultraviolet (FUV) ionizing spectra produced by Starburst99 are primarily influenced by age and metallicity.\n",
    "\n",
    "The grids are supposedly available from [here](https://www.emlevesque.com/model-grids/) but the links are old. I've sent an email, and can ask Chris to follow up (via Twitter?) if needed."
   ]
  },
  {
   "cell_type": "code",
   "execution_count": null,
   "metadata": {},
   "outputs": [],
   "source": []
  },
  {
   "cell_type": "markdown",
   "metadata": {},
   "source": [
    "### OXAF and NebulaBayes"
   ]
  },
  {
   "cell_type": "markdown",
   "metadata": {},
   "source": [
    "Both by Adam Thomas"
   ]
  },
  {
   "cell_type": "markdown",
   "metadata": {},
   "source": [
    "#### OXAF"
   ]
  },
  {
   "cell_type": "markdown",
   "metadata": {},
   "source": [
    "`OXAF` is a useful little python script that has predefined functions for a simple AGN continuum SED.\n",
    "\n",
    "It's a simplified version of a previous SED, `OPTXAGNF`.\n",
    "\n",
    "> The OXAF spectra reproduce the OPTXAGNF models with\n",
    "sufficient accuracy for photoionization modeling of optical diagnostic emission lines. The differences between OXAF and OPTXAGNF are smaller than the uncertainties due to...\n",
    "\n",
    "Unlike the typical SED of BBB, cold gas, stellar emission and accretion disk, oxaf has reparametrized to 3 variables that directly control the final curve.\n",
    "\n",
    "This is designed to be used with Mappings to find AGN emission lines. The `OXAF` paper describes how it's used:\n",
    "\n",
    "(Thomas, A. D., Groves, B. A., Sutherland, R. S., Dopita, M. A., Jin, C., & Kewley, L. J. (2016) https://doi.org/10.3847/1538-4357/833/2/266)\n",
    "\n",
    "> A grid of mappings photoionization models was used to explore the effect of the oxaf parameters on emission-line ratios on the standard optical diagnostic diagrams. The grid was run over a range of photoionization model parameters and a range of all three oxaf parameters. The results are shown in Figure 5 for the dusty, plane-parallel mappings models configured with metallicity of Z = 1.5 ${Z}_{\\odot }$, ionization parameter of $U(H)={10}^{-3}$, and constant pressure of $P/k={10}^{7}$ K cm−3. \n",
    "\n",
    "![oxaf bpt](/Users/mikewalmsley/repos/find_agn/figures/oxaf_agn_impact.png)"
   ]
  },
  {
   "cell_type": "markdown",
   "metadata": {},
   "source": [
    " <img src=\"/Users/mikewalmsley/repos/find_agn/figures/oxaf_agn_impact.png\"> "
   ]
  },
  {
   "cell_type": "markdown",
   "metadata": {},
   "source": [
    "(Figure should show moving a point around on BPT diagrams according to the OXAF model parameters and the MAPPING parameters)"
   ]
  },
  {
   "cell_type": "markdown",
   "metadata": {},
   "source": [
    "#### NebulaBayes"
   ]
  },
  {
   "cell_type": "markdown",
   "metadata": {},
   "source": [
    "NebulaBayes does the reverse of Dopita 2013: given the Starburst or AGN/OXAF model -> MAPPINGS surface, and some real emission line observations, where's the most reasonable surface coordinates e.g. ionisation parameter?"
   ]
  },
  {
   "cell_type": "markdown",
   "metadata": {},
   "source": [
    "NebulaBayes is on [GitHub](https://github.com/ADThomas-astro/NebulaBayes) and is well-documented with tests."
   ]
  },
  {
   "cell_type": "code",
   "execution_count": null,
   "metadata": {},
   "outputs": [],
   "source": []
  },
  {
   "cell_type": "markdown",
   "metadata": {},
   "source": [
    "### Mappings"
   ]
  },
  {
   "cell_type": "markdown",
   "metadata": {},
   "source": [
    "Mappings 5.1 latest version\n",
    "\n",
    "Website http://www.mso.anu.edu.au/~ralph/ without anything\n",
    "\n",
    "BitBucket https://bitbucket.org/RalphSutherland/mappings with source, install instructions, description of directory structure and what the key files are\n",
    "\n",
    "Currently written in Fortran, originally by Dopita in 1976 (!!!!!)"
   ]
  },
  {
   "cell_type": "markdown",
   "metadata": {},
   "source": [
    "I've made a Dockerfile that installs the package\n",
    "On Mappings 5.1 is run, (./m51) it runs happily enough until the below error on setup. Great start.\n",
    "\n",
    "The latest description comes from Sutherland, R. S., & Dopita, M. A. (2017) https://doi.org/10.3847/1538-4365/aa6541:\n",
    "\n",
    "> This much-improved MAPPINGS V code1 will be discussed in detail in a forthcoming paper (Sutherland & Dopita 2017), which provides new cooling function computations for optically thin plasmas.\n",
    "\n",
    "I'll get in touch with Ralph and (other person)"
   ]
  },
  {
   "cell_type": "code",
   "execution_count": null,
   "metadata": {},
   "outputs": [],
   "source": [
    " Logarithmic by number H =  0.000 :\n",
    "    H    0.000      He  -1.070      C   -3.570      N   -4.170\n",
    "    O   -3.310      Ne  -4.070      Na  -5.760      Mg  -4.400\n",
    "    Al  -5.550      Si  -4.490      S   -4.880      Cl  -6.500\n",
    "    Ar  -5.600      Ca  -5.660      Fe  -4.500      Ni  -5.780\n",
    " Logarithmic by number H = 12.000 :\n",
    "    H   12.000      He  10.930      C    8.430      N    7.830\n",
    "    O    8.690      Ne   7.930      Na   6.240      Mg   7.600\n",
    "    Al   6.450      Si   7.510      S    7.120      Cl   5.500\n",
    "    Ar   6.400      Ca   6.340      Fe   7.500      Ni   6.220\n",
    " ==================================================================\n",
    "  [ Metallicity (Zgas):  1.0000    xSolar,    ni/nh:  1.0862     ]\n",
    "  [ mu_neu:  1.2584       mu_ion: 0.60364      mu_h:  1.3668     ]\n",
    "  [ Mass Fractions  X: 0.73743     Y: 0.24925     Z: 1.33237E-02 ]\n",
    "\n",
    "\n",
    " Change abundances (y/N) : At line 215 of file workcode/changes.f (unit = 5, file = 'stdin')\n",
    "Fortran runtime error: End of file\n",
    "\n",
    "Error termination. Backtrace:\n",
    "#0  0x7f715db7a2da in ???\n",
    "#1  0x7f715db7aec5 in ???\n",
    "#2  0x7f715db7b68d in ???\n",
    "#3  0x7f715dcf1a23 in ???\n",
    "#4  0x7f715dcf200a in ???\n",
    "#5  0x7f715dceebef in ???\n",
    "#6  0x7f715dcf351c in ???\n",
    "#7  0x7f715dcf44ac in ???\n",
    "#8  0x55bb23e8a117 in ???\n",
    "#9  0x55bb23d15b55 in ???\n",
    "#10  0x55bb23d1555e in ???\n",
    "#11  0x7f715df5fb96 in ???\n",
    "#12  0x55bb23d155a9 in ???\n",
    "#13  0xffffffffffffffff in ???"
   ]
  },
  {
   "cell_type": "markdown",
   "metadata": {},
   "source": [
    "The offending line is:"
   ]
  },
  {
   "cell_type": "code",
   "execution_count": null,
   "metadata": {},
   "outputs": [],
   "source": [
    "format(/' Change abundances (y/N) : ',$)\n",
    "c\n",
    "read (*,70) ilgg"
   ]
  },
  {
   "cell_type": "markdown",
   "metadata": {},
   "source": [
    "The final (and presumambly stable) version of the previous package is available (without description) from [here](https://miocene.anu.edu.au/mappings/miv.html). I'll try installing that instead."
   ]
  },
  {
   "cell_type": "markdown",
   "metadata": {},
   "source": [
    "Links to older versions are redirected to the homepages of the associated institutions e.g. http://www.ifa.hawaii.edu/?kewley/Mappings# or go nowhere e.g. http://www.brentgroves.net/mapiii.html"
   ]
  },
  {
   "cell_type": "code",
   "execution_count": null,
   "metadata": {},
   "outputs": [],
   "source": []
  },
  {
   "cell_type": "markdown",
   "metadata": {},
   "source": [
    "### AGNfitter"
   ]
  },
  {
   "cell_type": "markdown",
   "metadata": {},
   "source": [
    "AGNfitter takes photometric measurements and does a careful Bayesian fit of the classic four-component AGN model (including BC03 star formation which is either constant or exponentially decaying over various timescales).\n",
    "\n",
    "This is aimed at a wide range of spectral measurements e.g. COSMOS, and presumably at AGN-dominated galaxies. This is probably not so useful for me - but I'll make a note."
   ]
  },
  {
   "cell_type": "markdown",
   "metadata": {},
   "source": [
    "Available on GitHub [here](https://github.com/GabrielaCR/AGNfitter)\n",
    "\n",
    "Allegedly, and potentially very usefully, it includes the model grids for starforming and AGN. However, I don't see them on the repo! I'll try to get the code running and investigate. I may need to email."
   ]
  },
  {
   "cell_type": "code",
   "execution_count": null,
   "metadata": {},
   "outputs": [],
   "source": []
  },
  {
   "cell_type": "code",
   "execution_count": null,
   "metadata": {},
   "outputs": [],
   "source": []
  },
  {
   "cell_type": "markdown",
   "metadata": {},
   "source": [
    "### QSFit\n",
    "Calderone, G., Nicastro, L., Ghisellini, G., Dotti, M., Sbarrato, T., Shankar, F., & Colpi, M. (2017). QSFit: automatic analysis of optical AGN spectra. Monthly Notices of the Royal Astronomical Society, 472(4), 4051–4080. https://doi.org/10.1093/mnras/stx2239"
   ]
  },
  {
   "cell_type": "markdown",
   "metadata": {},
   "source": [
    "> The software provides luminosity estimates for the AGN continuum, the Balmer continuum, both optical and ultravi- olet iron blended complex, host galaxy and emission lines, as well as width, velocity offset and equivalent width of 20 emission lines.\n",
    "\n",
    "In itself, this is not useful to me - I'm not trying to reduce any spectra, I have OSSY. But, the appendix does describe how to download SDSS spectra for reference:\n",
    "\n",
    "> In order to use QSFIT to perform spectral analysis, you should first download all the necessary spectra. In its current implementation (version 1.2), QSFIT supports only SDSS-DR10 FITS files of sources with z < 2. You can find these files using the ‘Object explorer’ facility on the SDSS-DR10 website, at the address: http://skyserver.sdss.org/dr10/en/tools/explore/obj.aspx Alternatively you may download a FITS file using a URL similar to the following:\n",
    "http://dr10.sdss3.org/sas/dr10/sdss/spectro/redux/26/spectra/ 0752/spec-0752-52251-0323.fits \n",
    "\n",
    "> The numbers to be changed are:\n",
    "(i) the spectroscopic plate number (0752 in the example above.\n",
    "Note that: this number appears twice in the URL); (ii) the MJD of observation (52251 in the example above); (iii) the spectroscopic fibre number (0323 in the example above).\n",
    "The numbers for a specific object may be found in the SDSS-DR10 website or in the QSFIT catalogue (columns PLATE, MJD and FIBER)."
   ]
  },
  {
   "cell_type": "code",
   "execution_count": null,
   "metadata": {},
   "outputs": [],
   "source": []
  }
 ],
 "metadata": {
  "kernelspec": {
   "display_name": "Python 3",
   "language": "python",
   "name": "python3"
  },
  "language_info": {
   "codemirror_mode": {
    "name": "ipython",
    "version": 3
   },
   "file_extension": ".py",
   "mimetype": "text/x-python",
   "name": "python",
   "nbconvert_exporter": "python",
   "pygments_lexer": "ipython3",
   "version": "3.6.4"
  }
 },
 "nbformat": 4,
 "nbformat_minor": 2
}
